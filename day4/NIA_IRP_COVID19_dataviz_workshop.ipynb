{
 "cells": [
  {
   "cell_type": "markdown",
   "metadata": {
    "slideshow": {
     "slide_type": "slide"
    }
   },
   "source": [
    "# Interactive COVID-19 data visualizations using Python & Bokeh\n",
    "\n",
    "### Chris Coletta\n",
    "### Friday, January 29, 2021"
   ]
  },
  {
   "cell_type": "markdown",
   "metadata": {
    "slideshow": {
     "slide_type": "slide"
    }
   },
   "source": [
    "# Goals"
   ]
  },
  {
   "cell_type": "markdown",
   "metadata": {
    "slideshow": {
     "slide_type": "fragment"
    }
   },
   "source": [
    "* Reproduce many figures from the [New York Times U.S. tracking page](https://www.nytimes.com/interactive/2020/us/coronavirus-us-cases.html) and other sources\n",
    "    * \"Epidemic curve\": Cumulative cases and deaths plotted by day\n",
    "    * \"[Chloropleth Map](https://en.wikipedia.org/wiki/Choropleth_map)\": New cases and deaths plotted by state"
   ]
  },
  {
   "cell_type": "markdown",
   "metadata": {
    "slideshow": {
     "slide_type": "fragment"
    }
   },
   "source": [
    "* Answer some important questions:\n",
    "    * Maryland: What is the county-by-county situation?\n",
    "    * US: Is the increase in cases coming from an increase in testing, or from actual virus spread?"
   ]
  },
  {
   "cell_type": "markdown",
   "metadata": {
    "slideshow": {
     "slide_type": "slide"
    }
   },
   "source": [
    "# Analysis Strategy\n",
    "\n",
    "* Use one or more of the widely available APIs that provide COVID-19 data\n",
    "* Download them programmatically so figures are up to date every time you run this notebook"
   ]
  },
  {
   "cell_type": "markdown",
   "metadata": {
    "slideshow": {
     "slide_type": "slide"
    }
   },
   "source": [
    "## NIA IRP Data Viz workshop"
   ]
  },
  {
   "cell_type": "markdown",
   "metadata": {
    "slideshow": {
     "slide_type": "-"
    }
   },
   "source": [
    "* Close all anaconda windows\n",
    "* Open up anaconda prompt\n",
    "* Run the first few cells to make sure you have everything installed\n",
    "    * ```!pip install pandas-bokeh```\n",
    "    * ```!pip install geopandas```\n",
    "        * Requires GDAL (On Mac: ```brew install gdal```)\n",
    "* RAISE YOUR HAND IN ZOOM IF YOU HAVE DONE ALL OF THE ABOVE\n",
    "* The notebook we will use today is in the Zoom chat box\n",
    "* Two options for running:\n",
    "    * Download and run locally.\n",
    "    * OR run this notebook in Google CoLab"
   ]
  },
  {
   "cell_type": "markdown",
   "metadata": {
    "slideshow": {
     "slide_type": "slide"
    }
   },
   "source": [
    "* Workshop participants are expected to run the code along with me\n",
    "* Select ```Kernel->Restart & Clear Output``` to start\n",
    "* Have my presentation side-by-side with your Jupyter Notebook open\n",
    "* Unmute yourself if you have questions"
   ]
  },
  {
   "cell_type": "markdown",
   "metadata": {
    "slideshow": {
     "slide_type": "skip"
    }
   },
   "source": [
    "* Can also use Jupyterlab, but you must run additional command and restart JupyterLab\n",
    "    * ```jupyter labextension install @jupyter-widgets/jupyterlab-manager```\n",
    "    * ```jupyter labextension install @bokeh/jupyter_bokeh```"
   ]
  },
  {
   "cell_type": "markdown",
   "metadata": {
    "slideshow": {
     "slide_type": "slide"
    }
   },
   "source": [
    "# What we won't cover"
   ]
  },
  {
   "cell_type": "markdown",
   "metadata": {
    "slideshow": {
     "slide_type": "fragment"
    }
   },
   "source": [
    "* Effective reproduction number\n",
    "    * [rt.live](https://rt.live) - state-by-state COVID-19 transmission rate $R_t$ modelling from the makers of Instagram"
   ]
  },
  {
   "cell_type": "markdown",
   "metadata": {
    "slideshow": {
     "slide_type": "fragment"
    }
   },
   "source": [
    "* More sophisticated epidemic modelling in general\n",
    "    * Please refer to John Holmes' [brilliant talk](https://videocast.nih.gov/watch=37909) AI in the Age of COVID-19: Computational Tools for a Pandemic) from yesterday: \"AI in the Age of COVID-19: Computational Tools for a Pandemic\""
   ]
  },
  {
   "cell_type": "markdown",
   "metadata": {
    "slideshow": {
     "slide_type": "fragment"
    }
   },
   "source": [
    "* Information retrieval from corpus of published and pre-published scientific manuscripts adressing coronavirus"
   ]
  },
  {
   "cell_type": "markdown",
   "metadata": {
    "slideshow": {
     "slide_type": "slide"
    }
   },
   "source": [
    "# Available Data Sources"
   ]
  },
  {
   "cell_type": "markdown",
   "metadata": {
    "slideshow": {
     "slide_type": "subslide"
    }
   },
   "source": [
    "* [NYTimes COVID-19 data on GitHub](https://github.com/nytimes/covid-19-data)\n",
    "    * Cases and deaths by US County\n",
    "    * Excess deaths by time series data country"
   ]
  },
  {
   "cell_type": "markdown",
   "metadata": {
    "slideshow": {
     "slide_type": "subslide"
    }
   },
   "source": [
    "* [The COVID Tracking Project](https://covidtracking.com) at The Atlantic\n",
    "    * Data broken down by race and other demographic factors/social determinants"
   ]
  },
  {
   "cell_type": "markdown",
   "metadata": {
    "slideshow": {
     "slide_type": "subslide"
    }
   },
   "source": [
    "* [CSSEGISandData COVID-19 data on GitHub](https://github.com/CSSEGISandData/COVID-19)\n",
    "    * COVID-19 Data Repository by the Center for Systems Science and Engineering (CSSE) at Johns Hopkins University\n",
    "    * Includes normalized case, testing, and mortality rate per 100k"
   ]
  },
  {
   "cell_type": "markdown",
   "metadata": {
    "slideshow": {
     "slide_type": "subslide"
    }
   },
   "source": [
    "* [Humanitarian Data Exchange](https://data.humdata.org/dataset/total-covid-19-tests-performed-by-country)\n",
    "    * UN website\n",
    "    * COVID *testing* data by country"
   ]
  },
  {
   "cell_type": "markdown",
   "metadata": {
    "slideshow": {
     "slide_type": "slide"
    }
   },
   "source": [
    "# Load the necessary libraries\n",
    "\n",
    "* We use the [Pandas](https://pandas.pydata.org/) DataFrame as a container for the data, and also to load the data from internet URLs\n",
    "* We use [pandas-bokeh](https://github.com/PatrikHlobil/Pandas-Bokeh) to create the interactive plots.\n",
    "* We use [GeoPandas](https://geopandas.org/) to make the maps\n",
    "* Optional: we use [requests](https://requests.readthedocs.io/en/master/) to download state and county shapes from the US census website"
   ]
  },
  {
   "cell_type": "code",
   "execution_count": 1,
   "metadata": {
    "slideshow": {
     "slide_type": "subslide"
    }
   },
   "outputs": [],
   "source": [
    "import pandas as pd\n",
    "\n",
    "pd.set_option( 'display.max_rows', 100 )\n",
    "\n",
    "pd.set_option( 'display.max_columns', 100 )"
   ]
  },
  {
   "cell_type": "code",
   "execution_count": 2,
   "metadata": {
    "slideshow": {
     "slide_type": "subslide"
    }
   },
   "outputs": [
    {
     "name": "stdout",
     "output_type": "stream",
     "text": [
      "Requirement already satisfied: pandas_bokeh in /usr/local/lib/python3.9/site-packages (0.5.3)\r\n",
      "Requirement already satisfied: pandas>=0.22.0 in /usr/local/lib/python3.9/site-packages (from pandas_bokeh) (1.2.0)\r\n",
      "Requirement already satisfied: bokeh>=2.0 in /usr/local/lib/python3.9/site-packages (from pandas_bokeh) (2.2.3)\r\n",
      "Requirement already satisfied: typing-extensions>=3.7.4 in /usr/local/lib/python3.9/site-packages (from bokeh>=2.0->pandas_bokeh) (3.7.4.3)\r\n",
      "Requirement already satisfied: PyYAML>=3.10 in /usr/local/lib/python3.9/site-packages (from bokeh>=2.0->pandas_bokeh) (5.3.1)\r\n",
      "Requirement already satisfied: packaging>=16.8 in /usr/local/lib/python3.9/site-packages (from bokeh>=2.0->pandas_bokeh) (20.8)\r\n",
      "Requirement already satisfied: Jinja2>=2.7 in /usr/local/lib/python3.9/site-packages (from bokeh>=2.0->pandas_bokeh) (2.11.2)\r\n",
      "Requirement already satisfied: python-dateutil>=2.1 in /usr/local/lib/python3.9/site-packages (from bokeh>=2.0->pandas_bokeh) (2.8.1)\r\n",
      "Requirement already satisfied: tornado>=5.1 in /usr/local/lib/python3.9/site-packages (from bokeh>=2.0->pandas_bokeh) (6.1)\r\n",
      "Requirement already satisfied: pillow>=7.1.0 in /usr/local/lib/python3.9/site-packages (from bokeh>=2.0->pandas_bokeh) (8.1.0)\r\n",
      "Requirement already satisfied: numpy>=1.11.3 in /usr/local/lib/python3.9/site-packages (from bokeh>=2.0->pandas_bokeh) (1.19.5)\r\n",
      "Requirement already satisfied: MarkupSafe>=0.23 in /usr/local/lib/python3.9/site-packages (from Jinja2>=2.7->bokeh>=2.0->pandas_bokeh) (1.1.1)\r\n",
      "Requirement already satisfied: pyparsing>=2.0.2 in /usr/local/lib/python3.9/site-packages (from packaging>=16.8->bokeh>=2.0->pandas_bokeh) (2.4.7)\r\n",
      "Requirement already satisfied: pytz>=2017.3 in /usr/local/lib/python3.9/site-packages (from pandas>=0.22.0->pandas_bokeh) (2020.5)\r\n",
      "Requirement already satisfied: six>=1.5 in /usr/local/lib/python3.9/site-packages (from python-dateutil>=2.1->bokeh>=2.0->pandas_bokeh) (1.15.0)\r\n"
     ]
    }
   ],
   "source": [
    "!pip install pandas_bokeh"
   ]
  },
  {
   "cell_type": "code",
   "execution_count": 3,
   "metadata": {
    "slideshow": {
     "slide_type": "subslide"
    }
   },
   "outputs": [],
   "source": [
    "import pandas_bokeh\n",
    "\n",
    "#from bokeh.layouts import column, row\n",
    "#from bokeh.models import CustomJS, Slider, Dropdown\n",
    "#from bokeh.plotting import ColumnDataSource, figure, show\n",
    "#from bokeh.io import output_notebook, output_file"
   ]
  },
  {
   "cell_type": "code",
   "execution_count": 4,
   "metadata": {
    "slideshow": {
     "slide_type": "-"
    }
   },
   "outputs": [
    {
     "data": {
      "text/html": [
       "\n",
       "    <div class=\"bk-root\">\n",
       "        <a href=\"https://bokeh.org\" target=\"_blank\" class=\"bk-logo bk-logo-small bk-logo-notebook\"></a>\n",
       "        <span id=\"1001\">Loading BokehJS ...</span>\n",
       "    </div>"
      ]
     },
     "metadata": {},
     "output_type": "display_data"
    },
    {
     "data": {
      "application/javascript": [
       "\n",
       "(function(root) {\n",
       "  function now() {\n",
       "    return new Date();\n",
       "  }\n",
       "\n",
       "  var force = true;\n",
       "\n",
       "  if (typeof root._bokeh_onload_callbacks === \"undefined\" || force === true) {\n",
       "    root._bokeh_onload_callbacks = [];\n",
       "    root._bokeh_is_loading = undefined;\n",
       "  }\n",
       "\n",
       "  var JS_MIME_TYPE = 'application/javascript';\n",
       "  var HTML_MIME_TYPE = 'text/html';\n",
       "  var EXEC_MIME_TYPE = 'application/vnd.bokehjs_exec.v0+json';\n",
       "  var CLASS_NAME = 'output_bokeh rendered_html';\n",
       "\n",
       "  /**\n",
       "   * Render data to the DOM node\n",
       "   */\n",
       "  function render(props, node) {\n",
       "    var script = document.createElement(\"script\");\n",
       "    node.appendChild(script);\n",
       "  }\n",
       "\n",
       "  /**\n",
       "   * Handle when an output is cleared or removed\n",
       "   */\n",
       "  function handleClearOutput(event, handle) {\n",
       "    var cell = handle.cell;\n",
       "\n",
       "    var id = cell.output_area._bokeh_element_id;\n",
       "    var server_id = cell.output_area._bokeh_server_id;\n",
       "    // Clean up Bokeh references\n",
       "    if (id != null && id in Bokeh.index) {\n",
       "      Bokeh.index[id].model.document.clear();\n",
       "      delete Bokeh.index[id];\n",
       "    }\n",
       "\n",
       "    if (server_id !== undefined) {\n",
       "      // Clean up Bokeh references\n",
       "      var cmd = \"from bokeh.io.state import curstate; print(curstate().uuid_to_server['\" + server_id + \"'].get_sessions()[0].document.roots[0]._id)\";\n",
       "      cell.notebook.kernel.execute(cmd, {\n",
       "        iopub: {\n",
       "          output: function(msg) {\n",
       "            var id = msg.content.text.trim();\n",
       "            if (id in Bokeh.index) {\n",
       "              Bokeh.index[id].model.document.clear();\n",
       "              delete Bokeh.index[id];\n",
       "            }\n",
       "          }\n",
       "        }\n",
       "      });\n",
       "      // Destroy server and session\n",
       "      var cmd = \"import bokeh.io.notebook as ion; ion.destroy_server('\" + server_id + \"')\";\n",
       "      cell.notebook.kernel.execute(cmd);\n",
       "    }\n",
       "  }\n",
       "\n",
       "  /**\n",
       "   * Handle when a new output is added\n",
       "   */\n",
       "  function handleAddOutput(event, handle) {\n",
       "    var output_area = handle.output_area;\n",
       "    var output = handle.output;\n",
       "\n",
       "    // limit handleAddOutput to display_data with EXEC_MIME_TYPE content only\n",
       "    if ((output.output_type != \"display_data\") || (!output.data.hasOwnProperty(EXEC_MIME_TYPE))) {\n",
       "      return\n",
       "    }\n",
       "\n",
       "    var toinsert = output_area.element.find(\".\" + CLASS_NAME.split(' ')[0]);\n",
       "\n",
       "    if (output.metadata[EXEC_MIME_TYPE][\"id\"] !== undefined) {\n",
       "      toinsert[toinsert.length - 1].firstChild.textContent = output.data[JS_MIME_TYPE];\n",
       "      // store reference to embed id on output_area\n",
       "      output_area._bokeh_element_id = output.metadata[EXEC_MIME_TYPE][\"id\"];\n",
       "    }\n",
       "    if (output.metadata[EXEC_MIME_TYPE][\"server_id\"] !== undefined) {\n",
       "      var bk_div = document.createElement(\"div\");\n",
       "      bk_div.innerHTML = output.data[HTML_MIME_TYPE];\n",
       "      var script_attrs = bk_div.children[0].attributes;\n",
       "      for (var i = 0; i < script_attrs.length; i++) {\n",
       "        toinsert[toinsert.length - 1].firstChild.setAttribute(script_attrs[i].name, script_attrs[i].value);\n",
       "        toinsert[toinsert.length - 1].firstChild.textContent = bk_div.children[0].textContent\n",
       "      }\n",
       "      // store reference to server id on output_area\n",
       "      output_area._bokeh_server_id = output.metadata[EXEC_MIME_TYPE][\"server_id\"];\n",
       "    }\n",
       "  }\n",
       "\n",
       "  function register_renderer(events, OutputArea) {\n",
       "\n",
       "    function append_mime(data, metadata, element) {\n",
       "      // create a DOM node to render to\n",
       "      var toinsert = this.create_output_subarea(\n",
       "        metadata,\n",
       "        CLASS_NAME,\n",
       "        EXEC_MIME_TYPE\n",
       "      );\n",
       "      this.keyboard_manager.register_events(toinsert);\n",
       "      // Render to node\n",
       "      var props = {data: data, metadata: metadata[EXEC_MIME_TYPE]};\n",
       "      render(props, toinsert[toinsert.length - 1]);\n",
       "      element.append(toinsert);\n",
       "      return toinsert\n",
       "    }\n",
       "\n",
       "    /* Handle when an output is cleared or removed */\n",
       "    events.on('clear_output.CodeCell', handleClearOutput);\n",
       "    events.on('delete.Cell', handleClearOutput);\n",
       "\n",
       "    /* Handle when a new output is added */\n",
       "    events.on('output_added.OutputArea', handleAddOutput);\n",
       "\n",
       "    /**\n",
       "     * Register the mime type and append_mime function with output_area\n",
       "     */\n",
       "    OutputArea.prototype.register_mime_type(EXEC_MIME_TYPE, append_mime, {\n",
       "      /* Is output safe? */\n",
       "      safe: true,\n",
       "      /* Index of renderer in `output_area.display_order` */\n",
       "      index: 0\n",
       "    });\n",
       "  }\n",
       "\n",
       "  // register the mime type if in Jupyter Notebook environment and previously unregistered\n",
       "  if (root.Jupyter !== undefined) {\n",
       "    var events = require('base/js/events');\n",
       "    var OutputArea = require('notebook/js/outputarea').OutputArea;\n",
       "\n",
       "    if (OutputArea.prototype.mime_types().indexOf(EXEC_MIME_TYPE) == -1) {\n",
       "      register_renderer(events, OutputArea);\n",
       "    }\n",
       "  }\n",
       "\n",
       "  \n",
       "  if (typeof (root._bokeh_timeout) === \"undefined\" || force === true) {\n",
       "    root._bokeh_timeout = Date.now() + 5000;\n",
       "    root._bokeh_failed_load = false;\n",
       "  }\n",
       "\n",
       "  var NB_LOAD_WARNING = {'data': {'text/html':\n",
       "     \"<div style='background-color: #fdd'>\\n\"+\n",
       "     \"<p>\\n\"+\n",
       "     \"BokehJS does not appear to have successfully loaded. If loading BokehJS from CDN, this \\n\"+\n",
       "     \"may be due to a slow or bad network connection. Possible fixes:\\n\"+\n",
       "     \"</p>\\n\"+\n",
       "     \"<ul>\\n\"+\n",
       "     \"<li>re-rerun `output_notebook()` to attempt to load from CDN again, or</li>\\n\"+\n",
       "     \"<li>use INLINE resources instead, as so:</li>\\n\"+\n",
       "     \"</ul>\\n\"+\n",
       "     \"<code>\\n\"+\n",
       "     \"from bokeh.resources import INLINE\\n\"+\n",
       "     \"output_notebook(resources=INLINE)\\n\"+\n",
       "     \"</code>\\n\"+\n",
       "     \"</div>\"}};\n",
       "\n",
       "  function display_loaded() {\n",
       "    var el = document.getElementById(\"1001\");\n",
       "    if (el != null) {\n",
       "      el.textContent = \"BokehJS is loading...\";\n",
       "    }\n",
       "    if (root.Bokeh !== undefined) {\n",
       "      if (el != null) {\n",
       "        el.textContent = \"BokehJS \" + root.Bokeh.version + \" successfully loaded.\";\n",
       "      }\n",
       "    } else if (Date.now() < root._bokeh_timeout) {\n",
       "      setTimeout(display_loaded, 100)\n",
       "    }\n",
       "  }\n",
       "\n",
       "\n",
       "  function run_callbacks() {\n",
       "    try {\n",
       "      root._bokeh_onload_callbacks.forEach(function(callback) {\n",
       "        if (callback != null)\n",
       "          callback();\n",
       "      });\n",
       "    } finally {\n",
       "      delete root._bokeh_onload_callbacks\n",
       "    }\n",
       "    console.debug(\"Bokeh: all callbacks have finished\");\n",
       "  }\n",
       "\n",
       "  function load_libs(css_urls, js_urls, callback) {\n",
       "    if (css_urls == null) css_urls = [];\n",
       "    if (js_urls == null) js_urls = [];\n",
       "\n",
       "    root._bokeh_onload_callbacks.push(callback);\n",
       "    if (root._bokeh_is_loading > 0) {\n",
       "      console.debug(\"Bokeh: BokehJS is being loaded, scheduling callback at\", now());\n",
       "      return null;\n",
       "    }\n",
       "    if (js_urls == null || js_urls.length === 0) {\n",
       "      run_callbacks();\n",
       "      return null;\n",
       "    }\n",
       "    console.debug(\"Bokeh: BokehJS not loaded, scheduling load and callback at\", now());\n",
       "    root._bokeh_is_loading = css_urls.length + js_urls.length;\n",
       "\n",
       "    function on_load() {\n",
       "      root._bokeh_is_loading--;\n",
       "      if (root._bokeh_is_loading === 0) {\n",
       "        console.debug(\"Bokeh: all BokehJS libraries/stylesheets loaded\");\n",
       "        run_callbacks()\n",
       "      }\n",
       "    }\n",
       "\n",
       "    function on_error() {\n",
       "      console.error(\"failed to load \" + url);\n",
       "    }\n",
       "\n",
       "    for (var i = 0; i < css_urls.length; i++) {\n",
       "      var url = css_urls[i];\n",
       "      const element = document.createElement(\"link\");\n",
       "      element.onload = on_load;\n",
       "      element.onerror = on_error;\n",
       "      element.rel = \"stylesheet\";\n",
       "      element.type = \"text/css\";\n",
       "      element.href = url;\n",
       "      console.debug(\"Bokeh: injecting link tag for BokehJS stylesheet: \", url);\n",
       "      document.body.appendChild(element);\n",
       "    }\n",
       "\n",
       "    const hashes = {\"https://cdn.bokeh.org/bokeh/release/bokeh-2.2.3.min.js\": \"T2yuo9Oe71Cz/I4X9Ac5+gpEa5a8PpJCDlqKYO0CfAuEszu1JrXLl8YugMqYe3sM\", \"https://cdn.bokeh.org/bokeh/release/bokeh-widgets-2.2.3.min.js\": \"98GDGJ0kOMCUMUePhksaQ/GYgB3+NH9h996V88sh3aOiUNX3N+fLXAtry6xctSZ6\", \"https://cdn.bokeh.org/bokeh/release/bokeh-tables-2.2.3.min.js\": \"89bArO+nlbP3sgakeHjCo1JYxYR5wufVgA3IbUvDY+K7w4zyxJqssu7wVnfeKCq8\"};\n",
       "\n",
       "    for (var i = 0; i < js_urls.length; i++) {\n",
       "      var url = js_urls[i];\n",
       "      var element = document.createElement('script');\n",
       "      element.onload = on_load;\n",
       "      element.onerror = on_error;\n",
       "      element.async = false;\n",
       "      element.src = url;\n",
       "      if (url in hashes) {\n",
       "        element.crossOrigin = \"anonymous\";\n",
       "        element.integrity = \"sha384-\" + hashes[url];\n",
       "      }\n",
       "      console.debug(\"Bokeh: injecting script tag for BokehJS library: \", url);\n",
       "      document.head.appendChild(element);\n",
       "    }\n",
       "  };\n",
       "\n",
       "  function inject_raw_css(css) {\n",
       "    const element = document.createElement(\"style\");\n",
       "    element.appendChild(document.createTextNode(css));\n",
       "    document.body.appendChild(element);\n",
       "  }\n",
       "\n",
       "  \n",
       "  var js_urls = [\"https://cdn.bokeh.org/bokeh/release/bokeh-2.2.3.min.js\", \"https://cdn.bokeh.org/bokeh/release/bokeh-widgets-2.2.3.min.js\", \"https://cdn.bokeh.org/bokeh/release/bokeh-tables-2.2.3.min.js\"];\n",
       "  var css_urls = [];\n",
       "  \n",
       "\n",
       "  var inline_js = [\n",
       "    function(Bokeh) {\n",
       "      Bokeh.set_log_level(\"info\");\n",
       "    },\n",
       "    function(Bokeh) {\n",
       "    \n",
       "    \n",
       "    }\n",
       "  ];\n",
       "\n",
       "  function run_inline_js() {\n",
       "    \n",
       "    if (root.Bokeh !== undefined || force === true) {\n",
       "      \n",
       "    for (var i = 0; i < inline_js.length; i++) {\n",
       "      inline_js[i].call(root, root.Bokeh);\n",
       "    }\n",
       "    if (force === true) {\n",
       "        display_loaded();\n",
       "      }} else if (Date.now() < root._bokeh_timeout) {\n",
       "      setTimeout(run_inline_js, 100);\n",
       "    } else if (!root._bokeh_failed_load) {\n",
       "      console.log(\"Bokeh: BokehJS failed to load within specified timeout.\");\n",
       "      root._bokeh_failed_load = true;\n",
       "    } else if (force !== true) {\n",
       "      var cell = $(document.getElementById(\"1001\")).parents('.cell').data().cell;\n",
       "      cell.output_area.append_execute_result(NB_LOAD_WARNING)\n",
       "    }\n",
       "\n",
       "  }\n",
       "\n",
       "  if (root._bokeh_is_loading === 0) {\n",
       "    console.debug(\"Bokeh: BokehJS loaded, going straight to plotting\");\n",
       "    run_inline_js();\n",
       "  } else {\n",
       "    load_libs(css_urls, js_urls, function() {\n",
       "      console.debug(\"Bokeh: BokehJS plotting callback run at\", now());\n",
       "      run_inline_js();\n",
       "    });\n",
       "  }\n",
       "}(window));"
      ],
      "application/vnd.bokehjs_load.v0+json": "\n(function(root) {\n  function now() {\n    return new Date();\n  }\n\n  var force = true;\n\n  if (typeof root._bokeh_onload_callbacks === \"undefined\" || force === true) {\n    root._bokeh_onload_callbacks = [];\n    root._bokeh_is_loading = undefined;\n  }\n\n  \n\n  \n  if (typeof (root._bokeh_timeout) === \"undefined\" || force === true) {\n    root._bokeh_timeout = Date.now() + 5000;\n    root._bokeh_failed_load = false;\n  }\n\n  var NB_LOAD_WARNING = {'data': {'text/html':\n     \"<div style='background-color: #fdd'>\\n\"+\n     \"<p>\\n\"+\n     \"BokehJS does not appear to have successfully loaded. If loading BokehJS from CDN, this \\n\"+\n     \"may be due to a slow or bad network connection. Possible fixes:\\n\"+\n     \"</p>\\n\"+\n     \"<ul>\\n\"+\n     \"<li>re-rerun `output_notebook()` to attempt to load from CDN again, or</li>\\n\"+\n     \"<li>use INLINE resources instead, as so:</li>\\n\"+\n     \"</ul>\\n\"+\n     \"<code>\\n\"+\n     \"from bokeh.resources import INLINE\\n\"+\n     \"output_notebook(resources=INLINE)\\n\"+\n     \"</code>\\n\"+\n     \"</div>\"}};\n\n  function display_loaded() {\n    var el = document.getElementById(\"1001\");\n    if (el != null) {\n      el.textContent = \"BokehJS is loading...\";\n    }\n    if (root.Bokeh !== undefined) {\n      if (el != null) {\n        el.textContent = \"BokehJS \" + root.Bokeh.version + \" successfully loaded.\";\n      }\n    } else if (Date.now() < root._bokeh_timeout) {\n      setTimeout(display_loaded, 100)\n    }\n  }\n\n\n  function run_callbacks() {\n    try {\n      root._bokeh_onload_callbacks.forEach(function(callback) {\n        if (callback != null)\n          callback();\n      });\n    } finally {\n      delete root._bokeh_onload_callbacks\n    }\n    console.debug(\"Bokeh: all callbacks have finished\");\n  }\n\n  function load_libs(css_urls, js_urls, callback) {\n    if (css_urls == null) css_urls = [];\n    if (js_urls == null) js_urls = [];\n\n    root._bokeh_onload_callbacks.push(callback);\n    if (root._bokeh_is_loading > 0) {\n      console.debug(\"Bokeh: BokehJS is being loaded, scheduling callback at\", now());\n      return null;\n    }\n    if (js_urls == null || js_urls.length === 0) {\n      run_callbacks();\n      return null;\n    }\n    console.debug(\"Bokeh: BokehJS not loaded, scheduling load and callback at\", now());\n    root._bokeh_is_loading = css_urls.length + js_urls.length;\n\n    function on_load() {\n      root._bokeh_is_loading--;\n      if (root._bokeh_is_loading === 0) {\n        console.debug(\"Bokeh: all BokehJS libraries/stylesheets loaded\");\n        run_callbacks()\n      }\n    }\n\n    function on_error() {\n      console.error(\"failed to load \" + url);\n    }\n\n    for (var i = 0; i < css_urls.length; i++) {\n      var url = css_urls[i];\n      const element = document.createElement(\"link\");\n      element.onload = on_load;\n      element.onerror = on_error;\n      element.rel = \"stylesheet\";\n      element.type = \"text/css\";\n      element.href = url;\n      console.debug(\"Bokeh: injecting link tag for BokehJS stylesheet: \", url);\n      document.body.appendChild(element);\n    }\n\n    const hashes = {\"https://cdn.bokeh.org/bokeh/release/bokeh-2.2.3.min.js\": \"T2yuo9Oe71Cz/I4X9Ac5+gpEa5a8PpJCDlqKYO0CfAuEszu1JrXLl8YugMqYe3sM\", \"https://cdn.bokeh.org/bokeh/release/bokeh-widgets-2.2.3.min.js\": \"98GDGJ0kOMCUMUePhksaQ/GYgB3+NH9h996V88sh3aOiUNX3N+fLXAtry6xctSZ6\", \"https://cdn.bokeh.org/bokeh/release/bokeh-tables-2.2.3.min.js\": \"89bArO+nlbP3sgakeHjCo1JYxYR5wufVgA3IbUvDY+K7w4zyxJqssu7wVnfeKCq8\"};\n\n    for (var i = 0; i < js_urls.length; i++) {\n      var url = js_urls[i];\n      var element = document.createElement('script');\n      element.onload = on_load;\n      element.onerror = on_error;\n      element.async = false;\n      element.src = url;\n      if (url in hashes) {\n        element.crossOrigin = \"anonymous\";\n        element.integrity = \"sha384-\" + hashes[url];\n      }\n      console.debug(\"Bokeh: injecting script tag for BokehJS library: \", url);\n      document.head.appendChild(element);\n    }\n  };\n\n  function inject_raw_css(css) {\n    const element = document.createElement(\"style\");\n    element.appendChild(document.createTextNode(css));\n    document.body.appendChild(element);\n  }\n\n  \n  var js_urls = [\"https://cdn.bokeh.org/bokeh/release/bokeh-2.2.3.min.js\", \"https://cdn.bokeh.org/bokeh/release/bokeh-widgets-2.2.3.min.js\", \"https://cdn.bokeh.org/bokeh/release/bokeh-tables-2.2.3.min.js\"];\n  var css_urls = [];\n  \n\n  var inline_js = [\n    function(Bokeh) {\n      Bokeh.set_log_level(\"info\");\n    },\n    function(Bokeh) {\n    \n    \n    }\n  ];\n\n  function run_inline_js() {\n    \n    if (root.Bokeh !== undefined || force === true) {\n      \n    for (var i = 0; i < inline_js.length; i++) {\n      inline_js[i].call(root, root.Bokeh);\n    }\n    if (force === true) {\n        display_loaded();\n      }} else if (Date.now() < root._bokeh_timeout) {\n      setTimeout(run_inline_js, 100);\n    } else if (!root._bokeh_failed_load) {\n      console.log(\"Bokeh: BokehJS failed to load within specified timeout.\");\n      root._bokeh_failed_load = true;\n    } else if (force !== true) {\n      var cell = $(document.getElementById(\"1001\")).parents('.cell').data().cell;\n      cell.output_area.append_execute_result(NB_LOAD_WARNING)\n    }\n\n  }\n\n  if (root._bokeh_is_loading === 0) {\n    console.debug(\"Bokeh: BokehJS loaded, going straight to plotting\");\n    run_inline_js();\n  } else {\n    load_libs(css_urls, js_urls, function() {\n      console.debug(\"Bokeh: BokehJS plotting callback run at\", now());\n      run_inline_js();\n    });\n  }\n}(window));"
     },
     "metadata": {},
     "output_type": "display_data"
    }
   ],
   "source": [
    "pandas_bokeh.output_notebook()"
   ]
  },
  {
   "cell_type": "code",
   "execution_count": null,
   "metadata": {
    "slideshow": {
     "slide_type": "subslide"
    }
   },
   "outputs": [],
   "source": [
    "!pip install geopandas"
   ]
  },
  {
   "cell_type": "code",
   "execution_count": null,
   "metadata": {
    "slideshow": {
     "slide_type": "subslide"
    }
   },
   "outputs": [],
   "source": [
    "import geopandas as gpd"
   ]
  },
  {
   "cell_type": "code",
   "execution_count": null,
   "metadata": {
    "slideshow": {
     "slide_type": "-"
    }
   },
   "outputs": [],
   "source": [
    "import requests"
   ]
  },
  {
   "cell_type": "code",
   "execution_count": 5,
   "metadata": {
    "slideshow": {
     "slide_type": "-"
    }
   },
   "outputs": [],
   "source": [
    "import numpy as np"
   ]
  },
  {
   "cell_type": "markdown",
   "metadata": {
    "slideshow": {
     "slide_type": "slide"
    }
   },
   "source": [
    "# Part 1: US Epidemic curves\n",
    "\n",
    "* Rate of transmission is the slope of the epidemic curve\n",
    "* Examples\n",
    "    * [New York Times](https://www.nytimes.com/interactive/2020/us/coronavirus-us-cases.html) -  U.S. tracking page\n",
    "    * [AP news](https://apnews.com/32cb14de009bfff91bc76a967323c621) - COVID-19 tracker with state pulldown\n",
    "    * [Visual Capitalist](https://www.visualcapitalist.com/infection-trajectory-flattening-the-covid19-curve/) - Flattening the Curve by Country"
   ]
  },
  {
   "cell_type": "markdown",
   "metadata": {
    "slideshow": {
     "slide_type": "slide"
    }
   },
   "source": [
    "# Download state-wide COVID time series"
   ]
  },
  {
   "cell_type": "code",
   "execution_count": 6,
   "metadata": {
    "slideshow": {
     "slide_type": "-"
    }
   },
   "outputs": [],
   "source": [
    "state_url = \"https://covidtracking.com/api/v1/states/daily.csv\""
   ]
  },
  {
   "cell_type": "code",
   "execution_count": 7,
   "metadata": {
    "slideshow": {
     "slide_type": "-"
    }
   },
   "outputs": [],
   "source": [
    "state_data = pd.read_csv( state_url )"
   ]
  },
  {
   "cell_type": "code",
   "execution_count": 8,
   "metadata": {
    "slideshow": {
     "slide_type": "-"
    }
   },
   "outputs": [
    {
     "data": {
      "text/plain": [
       "pandas.core.frame.DataFrame"
      ]
     },
     "execution_count": 8,
     "metadata": {},
     "output_type": "execute_result"
    }
   ],
   "source": [
    "type( state_data )"
   ]
  },
  {
   "cell_type": "markdown",
   "metadata": {
    "slideshow": {
     "slide_type": "slide"
    }
   },
   "source": [
    "## Quick Review of PANDAS DataFrame capabilities\n",
    "\n",
    "* Use period and tab key to get pop up list of methods and attributes\n",
    "* Can always read the manual for each function by using the question mark"
   ]
  },
  {
   "cell_type": "code",
   "execution_count": null,
   "metadata": {
    "slideshow": {
     "slide_type": "-"
    }
   },
   "outputs": [],
   "source": [
    "state_data."
   ]
  },
  {
   "cell_type": "code",
   "execution_count": 9,
   "metadata": {
    "slideshow": {
     "slide_type": "-"
    }
   },
   "outputs": [
    {
     "data": {
      "text/plain": [
       "(18642, 55)"
      ]
     },
     "execution_count": 9,
     "metadata": {},
     "output_type": "execute_result"
    }
   ],
   "source": [
    "state_data.shape"
   ]
  },
  {
   "cell_type": "code",
   "execution_count": 10,
   "metadata": {
    "scrolled": true,
    "slideshow": {
     "slide_type": "subslide"
    }
   },
   "outputs": [
    {
     "name": "stdout",
     "output_type": "stream",
     "text": [
      "<class 'pandas.core.frame.DataFrame'>\n",
      "RangeIndex: 18642 entries, 0 to 18641\n",
      "Data columns (total 55 columns):\n",
      " #   Column                       Non-Null Count  Dtype  \n",
      "---  ------                       --------------  -----  \n",
      " 0   date                         18642 non-null  int64  \n",
      " 1   state                        18642 non-null  object \n",
      " 2   positive                     18456 non-null  float64\n",
      " 3   probableCases                8032 non-null   float64\n",
      " 4   negative                     14849 non-null  float64\n",
      " 5   pending                      1949 non-null   float64\n",
      " 6   totalTestResultsSource       18642 non-null  object \n",
      " 7   totalTestResults             18540 non-null  float64\n",
      " 8   hospitalizedCurrently        15324 non-null  float64\n",
      " 9   hospitalizedCumulative       11447 non-null  float64\n",
      " 10  inIcuCurrently               9938 non-null   float64\n",
      " 11  inIcuCumulative              3336 non-null   float64\n",
      " 12  onVentilatorCurrently        7906 non-null   float64\n",
      " 13  onVentilatorCumulative       1141 non-null   float64\n",
      " 14  recovered                    13332 non-null  float64\n",
      " 15  dataQualityGrade             17323 non-null  object \n",
      " 16  lastUpdateEt                 18074 non-null  object \n",
      " 17  dateModified                 18074 non-null  object \n",
      " 18  checkTimeEt                  18074 non-null  object \n",
      " 19  death                        17774 non-null  float64\n",
      " 20  hospitalized                 11447 non-null  float64\n",
      " 21  dateChecked                  18074 non-null  object \n",
      " 22  totalTestsViral              12428 non-null  float64\n",
      " 23  positiveTestsViral           7122 non-null   float64\n",
      " 24  negativeTestsViral           4253 non-null   float64\n",
      " 25  positiveCasesViral           13271 non-null  float64\n",
      " 26  deathConfirmed               8324 non-null   float64\n",
      " 27  deathProbable                6547 non-null   float64\n",
      " 28  totalTestEncountersViral     4367 non-null   float64\n",
      " 29  totalTestsPeopleViral        8202 non-null   float64\n",
      " 30  totalTestsAntibody           4162 non-null   float64\n",
      " 31  positiveTestsAntibody        3188 non-null   float64\n",
      " 32  negativeTestsAntibody        1313 non-null   float64\n",
      " 33  totalTestsPeopleAntibody     1629 non-null   float64\n",
      " 34  positiveTestsPeopleAntibody  942 non-null    float64\n",
      " 35  negativeTestsPeopleAntibody  858 non-null    float64\n",
      " 36  totalTestsPeopleAntigen      809 non-null    float64\n",
      " 37  positiveTestsPeopleAntigen   606 non-null    float64\n",
      " 38  totalTestsAntigen            2640 non-null   float64\n",
      " 39  positiveTestsAntigen         1658 non-null   float64\n",
      " 40  fips                         18642 non-null  int64  \n",
      " 41  positiveIncrease             18642 non-null  int64  \n",
      " 42  negativeIncrease             18642 non-null  int64  \n",
      " 43  total                        18642 non-null  int64  \n",
      " 44  totalTestResultsIncrease     18642 non-null  int64  \n",
      " 45  posNeg                       18642 non-null  int64  \n",
      " 46  deathIncrease                18642 non-null  int64  \n",
      " 47  hospitalizedIncrease         18642 non-null  int64  \n",
      " 48  hash                         18642 non-null  object \n",
      " 49  commercialScore              18642 non-null  int64  \n",
      " 50  negativeRegularScore         18642 non-null  int64  \n",
      " 51  negativeScore                18642 non-null  int64  \n",
      " 52  positiveScore                18642 non-null  int64  \n",
      " 53  score                        18642 non-null  int64  \n",
      " 54  grade                        0 non-null      float64\n",
      "dtypes: float64(33), int64(14), object(8)\n",
      "memory usage: 7.8+ MB\n"
     ]
    }
   ],
   "source": [
    "state_data.info()"
   ]
  },
  {
   "cell_type": "code",
   "execution_count": 11,
   "metadata": {
    "slideshow": {
     "slide_type": "subslide"
    }
   },
   "outputs": [
    {
     "data": {
      "text/html": [
       "<div>\n",
       "<style scoped>\n",
       "    .dataframe tbody tr th:only-of-type {\n",
       "        vertical-align: middle;\n",
       "    }\n",
       "\n",
       "    .dataframe tbody tr th {\n",
       "        vertical-align: top;\n",
       "    }\n",
       "\n",
       "    .dataframe thead th {\n",
       "        text-align: right;\n",
       "    }\n",
       "</style>\n",
       "<table border=\"1\" class=\"dataframe\">\n",
       "  <thead>\n",
       "    <tr style=\"text-align: right;\">\n",
       "      <th></th>\n",
       "      <th>date</th>\n",
       "      <th>state</th>\n",
       "      <th>positive</th>\n",
       "      <th>probableCases</th>\n",
       "      <th>negative</th>\n",
       "      <th>pending</th>\n",
       "      <th>totalTestResultsSource</th>\n",
       "      <th>totalTestResults</th>\n",
       "      <th>hospitalizedCurrently</th>\n",
       "      <th>hospitalizedCumulative</th>\n",
       "      <th>inIcuCurrently</th>\n",
       "      <th>inIcuCumulative</th>\n",
       "      <th>onVentilatorCurrently</th>\n",
       "      <th>onVentilatorCumulative</th>\n",
       "      <th>recovered</th>\n",
       "      <th>dataQualityGrade</th>\n",
       "      <th>lastUpdateEt</th>\n",
       "      <th>dateModified</th>\n",
       "      <th>checkTimeEt</th>\n",
       "      <th>death</th>\n",
       "      <th>hospitalized</th>\n",
       "      <th>dateChecked</th>\n",
       "      <th>totalTestsViral</th>\n",
       "      <th>positiveTestsViral</th>\n",
       "      <th>negativeTestsViral</th>\n",
       "      <th>positiveCasesViral</th>\n",
       "      <th>deathConfirmed</th>\n",
       "      <th>deathProbable</th>\n",
       "      <th>totalTestEncountersViral</th>\n",
       "      <th>totalTestsPeopleViral</th>\n",
       "      <th>totalTestsAntibody</th>\n",
       "      <th>positiveTestsAntibody</th>\n",
       "      <th>negativeTestsAntibody</th>\n",
       "      <th>totalTestsPeopleAntibody</th>\n",
       "      <th>positiveTestsPeopleAntibody</th>\n",
       "      <th>negativeTestsPeopleAntibody</th>\n",
       "      <th>totalTestsPeopleAntigen</th>\n",
       "      <th>positiveTestsPeopleAntigen</th>\n",
       "      <th>totalTestsAntigen</th>\n",
       "      <th>positiveTestsAntigen</th>\n",
       "      <th>fips</th>\n",
       "      <th>positiveIncrease</th>\n",
       "      <th>negativeIncrease</th>\n",
       "      <th>total</th>\n",
       "      <th>totalTestResultsIncrease</th>\n",
       "      <th>posNeg</th>\n",
       "      <th>deathIncrease</th>\n",
       "      <th>hospitalizedIncrease</th>\n",
       "      <th>hash</th>\n",
       "      <th>commercialScore</th>\n",
       "      <th>negativeRegularScore</th>\n",
       "      <th>negativeScore</th>\n",
       "      <th>positiveScore</th>\n",
       "      <th>score</th>\n",
       "      <th>grade</th>\n",
       "    </tr>\n",
       "  </thead>\n",
       "  <tbody>\n",
       "    <tr>\n",
       "      <th>0</th>\n",
       "      <td>20210128</td>\n",
       "      <td>AK</td>\n",
       "      <td>52150.0</td>\n",
       "      <td>NaN</td>\n",
       "      <td>NaN</td>\n",
       "      <td>NaN</td>\n",
       "      <td>totalTestsViral</td>\n",
       "      <td>1479849.0</td>\n",
       "      <td>42.0</td>\n",
       "      <td>1201.0</td>\n",
       "      <td>NaN</td>\n",
       "      <td>NaN</td>\n",
       "      <td>5.0</td>\n",
       "      <td>NaN</td>\n",
       "      <td>NaN</td>\n",
       "      <td>A</td>\n",
       "      <td>1/28/2021 03:59</td>\n",
       "      <td>2021-01-28T03:59:00Z</td>\n",
       "      <td>01/27 22:59</td>\n",
       "      <td>262.0</td>\n",
       "      <td>1201.0</td>\n",
       "      <td>2021-01-28T03:59:00Z</td>\n",
       "      <td>1479849.0</td>\n",
       "      <td>62705.0</td>\n",
       "      <td>1415473.0</td>\n",
       "      <td>NaN</td>\n",
       "      <td>NaN</td>\n",
       "      <td>NaN</td>\n",
       "      <td>NaN</td>\n",
       "      <td>NaN</td>\n",
       "      <td>NaN</td>\n",
       "      <td>NaN</td>\n",
       "      <td>NaN</td>\n",
       "      <td>NaN</td>\n",
       "      <td>NaN</td>\n",
       "      <td>NaN</td>\n",
       "      <td>NaN</td>\n",
       "      <td>NaN</td>\n",
       "      <td>NaN</td>\n",
       "      <td>NaN</td>\n",
       "      <td>2</td>\n",
       "      <td>199</td>\n",
       "      <td>0</td>\n",
       "      <td>52150</td>\n",
       "      <td>12449</td>\n",
       "      <td>52150</td>\n",
       "      <td>1</td>\n",
       "      <td>1</td>\n",
       "      <td>6932258339f816d5d92e6907200e546fb5342eb3</td>\n",
       "      <td>0</td>\n",
       "      <td>0</td>\n",
       "      <td>0</td>\n",
       "      <td>0</td>\n",
       "      <td>0</td>\n",
       "      <td>NaN</td>\n",
       "    </tr>\n",
       "    <tr>\n",
       "      <th>1</th>\n",
       "      <td>20210128</td>\n",
       "      <td>AL</td>\n",
       "      <td>452734.0</td>\n",
       "      <td>95263.0</td>\n",
       "      <td>1759171.0</td>\n",
       "      <td>NaN</td>\n",
       "      <td>totalTestsPeopleViral</td>\n",
       "      <td>2116642.0</td>\n",
       "      <td>2052.0</td>\n",
       "      <td>41483.0</td>\n",
       "      <td>NaN</td>\n",
       "      <td>2533.0</td>\n",
       "      <td>NaN</td>\n",
       "      <td>1449.0</td>\n",
       "      <td>242143.0</td>\n",
       "      <td>A</td>\n",
       "      <td>1/28/2021 11:00</td>\n",
       "      <td>2021-01-28T11:00:00Z</td>\n",
       "      <td>01/28 06:00</td>\n",
       "      <td>7340.0</td>\n",
       "      <td>41483.0</td>\n",
       "      <td>2021-01-28T11:00:00Z</td>\n",
       "      <td>NaN</td>\n",
       "      <td>NaN</td>\n",
       "      <td>NaN</td>\n",
       "      <td>357471.0</td>\n",
       "      <td>5928.0</td>\n",
       "      <td>1412.0</td>\n",
       "      <td>NaN</td>\n",
       "      <td>2116642.0</td>\n",
       "      <td>NaN</td>\n",
       "      <td>NaN</td>\n",
       "      <td>NaN</td>\n",
       "      <td>103530.0</td>\n",
       "      <td>NaN</td>\n",
       "      <td>NaN</td>\n",
       "      <td>NaN</td>\n",
       "      <td>NaN</td>\n",
       "      <td>NaN</td>\n",
       "      <td>NaN</td>\n",
       "      <td>1</td>\n",
       "      <td>3648</td>\n",
       "      <td>8103</td>\n",
       "      <td>2211905</td>\n",
       "      <td>10607</td>\n",
       "      <td>2211905</td>\n",
       "      <td>168</td>\n",
       "      <td>0</td>\n",
       "      <td>29405d617beb57f1ee9b5f00a86aac1008f78acd</td>\n",
       "      <td>0</td>\n",
       "      <td>0</td>\n",
       "      <td>0</td>\n",
       "      <td>0</td>\n",
       "      <td>0</td>\n",
       "      <td>NaN</td>\n",
       "    </tr>\n",
       "    <tr>\n",
       "      <th>2</th>\n",
       "      <td>20210128</td>\n",
       "      <td>AR</td>\n",
       "      <td>290856.0</td>\n",
       "      <td>58518.0</td>\n",
       "      <td>2161833.0</td>\n",
       "      <td>NaN</td>\n",
       "      <td>totalTestsViral</td>\n",
       "      <td>2394171.0</td>\n",
       "      <td>996.0</td>\n",
       "      <td>13505.0</td>\n",
       "      <td>307.0</td>\n",
       "      <td>NaN</td>\n",
       "      <td>143.0</td>\n",
       "      <td>1414.0</td>\n",
       "      <td>268495.0</td>\n",
       "      <td>A+</td>\n",
       "      <td>1/28/2021 00:00</td>\n",
       "      <td>2021-01-28T00:00:00Z</td>\n",
       "      <td>01/27 19:00</td>\n",
       "      <td>4784.0</td>\n",
       "      <td>13505.0</td>\n",
       "      <td>2021-01-28T00:00:00Z</td>\n",
       "      <td>2394171.0</td>\n",
       "      <td>NaN</td>\n",
       "      <td>2161833.0</td>\n",
       "      <td>232338.0</td>\n",
       "      <td>3864.0</td>\n",
       "      <td>920.0</td>\n",
       "      <td>NaN</td>\n",
       "      <td>NaN</td>\n",
       "      <td>NaN</td>\n",
       "      <td>NaN</td>\n",
       "      <td>NaN</td>\n",
       "      <td>NaN</td>\n",
       "      <td>NaN</td>\n",
       "      <td>NaN</td>\n",
       "      <td>354207.0</td>\n",
       "      <td>68660.0</td>\n",
       "      <td>NaN</td>\n",
       "      <td>NaN</td>\n",
       "      <td>5</td>\n",
       "      <td>1892</td>\n",
       "      <td>12762</td>\n",
       "      <td>2452689</td>\n",
       "      <td>14233</td>\n",
       "      <td>2452689</td>\n",
       "      <td>42</td>\n",
       "      <td>58</td>\n",
       "      <td>7f491ba52aea5b93016e6ca41059b491f11fc5bf</td>\n",
       "      <td>0</td>\n",
       "      <td>0</td>\n",
       "      <td>0</td>\n",
       "      <td>0</td>\n",
       "      <td>0</td>\n",
       "      <td>NaN</td>\n",
       "    </tr>\n",
       "    <tr>\n",
       "      <th>3</th>\n",
       "      <td>20210128</td>\n",
       "      <td>AS</td>\n",
       "      <td>0.0</td>\n",
       "      <td>NaN</td>\n",
       "      <td>2140.0</td>\n",
       "      <td>NaN</td>\n",
       "      <td>totalTestsViral</td>\n",
       "      <td>2140.0</td>\n",
       "      <td>NaN</td>\n",
       "      <td>NaN</td>\n",
       "      <td>NaN</td>\n",
       "      <td>NaN</td>\n",
       "      <td>NaN</td>\n",
       "      <td>NaN</td>\n",
       "      <td>NaN</td>\n",
       "      <td>NaN</td>\n",
       "      <td>12/1/2020 00:00</td>\n",
       "      <td>2020-12-01T00:00:00Z</td>\n",
       "      <td>11/30 19:00</td>\n",
       "      <td>0.0</td>\n",
       "      <td>NaN</td>\n",
       "      <td>2020-12-01T00:00:00Z</td>\n",
       "      <td>2140.0</td>\n",
       "      <td>NaN</td>\n",
       "      <td>NaN</td>\n",
       "      <td>0.0</td>\n",
       "      <td>NaN</td>\n",
       "      <td>NaN</td>\n",
       "      <td>NaN</td>\n",
       "      <td>NaN</td>\n",
       "      <td>NaN</td>\n",
       "      <td>NaN</td>\n",
       "      <td>NaN</td>\n",
       "      <td>NaN</td>\n",
       "      <td>NaN</td>\n",
       "      <td>NaN</td>\n",
       "      <td>NaN</td>\n",
       "      <td>NaN</td>\n",
       "      <td>NaN</td>\n",
       "      <td>NaN</td>\n",
       "      <td>60</td>\n",
       "      <td>0</td>\n",
       "      <td>0</td>\n",
       "      <td>2140</td>\n",
       "      <td>0</td>\n",
       "      <td>2140</td>\n",
       "      <td>0</td>\n",
       "      <td>0</td>\n",
       "      <td>0138eb6fe94624353fb7066d0113058280086d56</td>\n",
       "      <td>0</td>\n",
       "      <td>0</td>\n",
       "      <td>0</td>\n",
       "      <td>0</td>\n",
       "      <td>0</td>\n",
       "      <td>NaN</td>\n",
       "    </tr>\n",
       "    <tr>\n",
       "      <th>4</th>\n",
       "      <td>20210128</td>\n",
       "      <td>AZ</td>\n",
       "      <td>743232.0</td>\n",
       "      <td>46684.0</td>\n",
       "      <td>2712847.0</td>\n",
       "      <td>NaN</td>\n",
       "      <td>totalTestsViral</td>\n",
       "      <td>6549568.0</td>\n",
       "      <td>4087.0</td>\n",
       "      <td>51349.0</td>\n",
       "      <td>1023.0</td>\n",
       "      <td>NaN</td>\n",
       "      <td>692.0</td>\n",
       "      <td>NaN</td>\n",
       "      <td>101104.0</td>\n",
       "      <td>A+</td>\n",
       "      <td>1/28/2021 00:00</td>\n",
       "      <td>2021-01-28T00:00:00Z</td>\n",
       "      <td>01/27 19:00</td>\n",
       "      <td>12819.0</td>\n",
       "      <td>51349.0</td>\n",
       "      <td>2021-01-28T00:00:00Z</td>\n",
       "      <td>6549568.0</td>\n",
       "      <td>NaN</td>\n",
       "      <td>NaN</td>\n",
       "      <td>696548.0</td>\n",
       "      <td>11440.0</td>\n",
       "      <td>1379.0</td>\n",
       "      <td>NaN</td>\n",
       "      <td>3409395.0</td>\n",
       "      <td>415234.0</td>\n",
       "      <td>NaN</td>\n",
       "      <td>NaN</td>\n",
       "      <td>NaN</td>\n",
       "      <td>NaN</td>\n",
       "      <td>NaN</td>\n",
       "      <td>NaN</td>\n",
       "      <td>NaN</td>\n",
       "      <td>NaN</td>\n",
       "      <td>NaN</td>\n",
       "      <td>4</td>\n",
       "      <td>4671</td>\n",
       "      <td>10704</td>\n",
       "      <td>3456079</td>\n",
       "      <td>45161</td>\n",
       "      <td>3456079</td>\n",
       "      <td>176</td>\n",
       "      <td>312</td>\n",
       "      <td>ef4f84f80eb115d6b32a4c6136a6ed1f4a5cf71f</td>\n",
       "      <td>0</td>\n",
       "      <td>0</td>\n",
       "      <td>0</td>\n",
       "      <td>0</td>\n",
       "      <td>0</td>\n",
       "      <td>NaN</td>\n",
       "    </tr>\n",
       "  </tbody>\n",
       "</table>\n",
       "</div>"
      ],
      "text/plain": [
       "       date state  positive  probableCases   negative  pending  \\\n",
       "0  20210128    AK   52150.0            NaN        NaN      NaN   \n",
       "1  20210128    AL  452734.0        95263.0  1759171.0      NaN   \n",
       "2  20210128    AR  290856.0        58518.0  2161833.0      NaN   \n",
       "3  20210128    AS       0.0            NaN     2140.0      NaN   \n",
       "4  20210128    AZ  743232.0        46684.0  2712847.0      NaN   \n",
       "\n",
       "  totalTestResultsSource  totalTestResults  hospitalizedCurrently  \\\n",
       "0        totalTestsViral         1479849.0                   42.0   \n",
       "1  totalTestsPeopleViral         2116642.0                 2052.0   \n",
       "2        totalTestsViral         2394171.0                  996.0   \n",
       "3        totalTestsViral            2140.0                    NaN   \n",
       "4        totalTestsViral         6549568.0                 4087.0   \n",
       "\n",
       "   hospitalizedCumulative  inIcuCurrently  inIcuCumulative  \\\n",
       "0                  1201.0             NaN              NaN   \n",
       "1                 41483.0             NaN           2533.0   \n",
       "2                 13505.0           307.0              NaN   \n",
       "3                     NaN             NaN              NaN   \n",
       "4                 51349.0          1023.0              NaN   \n",
       "\n",
       "   onVentilatorCurrently  onVentilatorCumulative  recovered dataQualityGrade  \\\n",
       "0                    5.0                     NaN        NaN                A   \n",
       "1                    NaN                  1449.0   242143.0                A   \n",
       "2                  143.0                  1414.0   268495.0               A+   \n",
       "3                    NaN                     NaN        NaN              NaN   \n",
       "4                  692.0                     NaN   101104.0               A+   \n",
       "\n",
       "      lastUpdateEt          dateModified  checkTimeEt    death  hospitalized  \\\n",
       "0  1/28/2021 03:59  2021-01-28T03:59:00Z  01/27 22:59    262.0        1201.0   \n",
       "1  1/28/2021 11:00  2021-01-28T11:00:00Z  01/28 06:00   7340.0       41483.0   \n",
       "2  1/28/2021 00:00  2021-01-28T00:00:00Z  01/27 19:00   4784.0       13505.0   \n",
       "3  12/1/2020 00:00  2020-12-01T00:00:00Z  11/30 19:00      0.0           NaN   \n",
       "4  1/28/2021 00:00  2021-01-28T00:00:00Z  01/27 19:00  12819.0       51349.0   \n",
       "\n",
       "            dateChecked  totalTestsViral  positiveTestsViral  \\\n",
       "0  2021-01-28T03:59:00Z        1479849.0             62705.0   \n",
       "1  2021-01-28T11:00:00Z              NaN                 NaN   \n",
       "2  2021-01-28T00:00:00Z        2394171.0                 NaN   \n",
       "3  2020-12-01T00:00:00Z           2140.0                 NaN   \n",
       "4  2021-01-28T00:00:00Z        6549568.0                 NaN   \n",
       "\n",
       "   negativeTestsViral  positiveCasesViral  deathConfirmed  deathProbable  \\\n",
       "0           1415473.0                 NaN             NaN            NaN   \n",
       "1                 NaN            357471.0          5928.0         1412.0   \n",
       "2           2161833.0            232338.0          3864.0          920.0   \n",
       "3                 NaN                 0.0             NaN            NaN   \n",
       "4                 NaN            696548.0         11440.0         1379.0   \n",
       "\n",
       "   totalTestEncountersViral  totalTestsPeopleViral  totalTestsAntibody  \\\n",
       "0                       NaN                    NaN                 NaN   \n",
       "1                       NaN              2116642.0                 NaN   \n",
       "2                       NaN                    NaN                 NaN   \n",
       "3                       NaN                    NaN                 NaN   \n",
       "4                       NaN              3409395.0            415234.0   \n",
       "\n",
       "   positiveTestsAntibody  negativeTestsAntibody  totalTestsPeopleAntibody  \\\n",
       "0                    NaN                    NaN                       NaN   \n",
       "1                    NaN                    NaN                  103530.0   \n",
       "2                    NaN                    NaN                       NaN   \n",
       "3                    NaN                    NaN                       NaN   \n",
       "4                    NaN                    NaN                       NaN   \n",
       "\n",
       "   positiveTestsPeopleAntibody  negativeTestsPeopleAntibody  \\\n",
       "0                          NaN                          NaN   \n",
       "1                          NaN                          NaN   \n",
       "2                          NaN                          NaN   \n",
       "3                          NaN                          NaN   \n",
       "4                          NaN                          NaN   \n",
       "\n",
       "   totalTestsPeopleAntigen  positiveTestsPeopleAntigen  totalTestsAntigen  \\\n",
       "0                      NaN                         NaN                NaN   \n",
       "1                      NaN                         NaN                NaN   \n",
       "2                 354207.0                     68660.0                NaN   \n",
       "3                      NaN                         NaN                NaN   \n",
       "4                      NaN                         NaN                NaN   \n",
       "\n",
       "   positiveTestsAntigen  fips  positiveIncrease  negativeIncrease    total  \\\n",
       "0                   NaN     2               199                 0    52150   \n",
       "1                   NaN     1              3648              8103  2211905   \n",
       "2                   NaN     5              1892             12762  2452689   \n",
       "3                   NaN    60                 0                 0     2140   \n",
       "4                   NaN     4              4671             10704  3456079   \n",
       "\n",
       "   totalTestResultsIncrease   posNeg  deathIncrease  hospitalizedIncrease  \\\n",
       "0                     12449    52150              1                     1   \n",
       "1                     10607  2211905            168                     0   \n",
       "2                     14233  2452689             42                    58   \n",
       "3                         0     2140              0                     0   \n",
       "4                     45161  3456079            176                   312   \n",
       "\n",
       "                                       hash  commercialScore  \\\n",
       "0  6932258339f816d5d92e6907200e546fb5342eb3                0   \n",
       "1  29405d617beb57f1ee9b5f00a86aac1008f78acd                0   \n",
       "2  7f491ba52aea5b93016e6ca41059b491f11fc5bf                0   \n",
       "3  0138eb6fe94624353fb7066d0113058280086d56                0   \n",
       "4  ef4f84f80eb115d6b32a4c6136a6ed1f4a5cf71f                0   \n",
       "\n",
       "   negativeRegularScore  negativeScore  positiveScore  score  grade  \n",
       "0                     0              0              0      0    NaN  \n",
       "1                     0              0              0      0    NaN  \n",
       "2                     0              0              0      0    NaN  \n",
       "3                     0              0              0      0    NaN  \n",
       "4                     0              0              0      0    NaN  "
      ]
     },
     "execution_count": 11,
     "metadata": {},
     "output_type": "execute_result"
    }
   ],
   "source": [
    "state_data.head()"
   ]
  },
  {
   "cell_type": "code",
   "execution_count": 12,
   "metadata": {
    "slideshow": {
     "slide_type": "subslide"
    }
   },
   "outputs": [
    {
     "data": {
      "text/html": [
       "<div>\n",
       "<style scoped>\n",
       "    .dataframe tbody tr th:only-of-type {\n",
       "        vertical-align: middle;\n",
       "    }\n",
       "\n",
       "    .dataframe tbody tr th {\n",
       "        vertical-align: top;\n",
       "    }\n",
       "\n",
       "    .dataframe thead th {\n",
       "        text-align: right;\n",
       "    }\n",
       "</style>\n",
       "<table border=\"1\" class=\"dataframe\">\n",
       "  <thead>\n",
       "    <tr style=\"text-align: right;\">\n",
       "      <th></th>\n",
       "      <th>date</th>\n",
       "      <th>state</th>\n",
       "      <th>positive</th>\n",
       "      <th>probableCases</th>\n",
       "      <th>negative</th>\n",
       "      <th>pending</th>\n",
       "      <th>totalTestResultsSource</th>\n",
       "      <th>totalTestResults</th>\n",
       "      <th>hospitalizedCurrently</th>\n",
       "      <th>hospitalizedCumulative</th>\n",
       "      <th>inIcuCurrently</th>\n",
       "      <th>inIcuCumulative</th>\n",
       "      <th>onVentilatorCurrently</th>\n",
       "      <th>onVentilatorCumulative</th>\n",
       "      <th>recovered</th>\n",
       "      <th>dataQualityGrade</th>\n",
       "      <th>lastUpdateEt</th>\n",
       "      <th>dateModified</th>\n",
       "      <th>checkTimeEt</th>\n",
       "      <th>death</th>\n",
       "      <th>hospitalized</th>\n",
       "      <th>dateChecked</th>\n",
       "      <th>totalTestsViral</th>\n",
       "      <th>positiveTestsViral</th>\n",
       "      <th>negativeTestsViral</th>\n",
       "      <th>positiveCasesViral</th>\n",
       "      <th>deathConfirmed</th>\n",
       "      <th>deathProbable</th>\n",
       "      <th>totalTestEncountersViral</th>\n",
       "      <th>totalTestsPeopleViral</th>\n",
       "      <th>totalTestsAntibody</th>\n",
       "      <th>positiveTestsAntibody</th>\n",
       "      <th>negativeTestsAntibody</th>\n",
       "      <th>totalTestsPeopleAntibody</th>\n",
       "      <th>positiveTestsPeopleAntibody</th>\n",
       "      <th>negativeTestsPeopleAntibody</th>\n",
       "      <th>totalTestsPeopleAntigen</th>\n",
       "      <th>positiveTestsPeopleAntigen</th>\n",
       "      <th>totalTestsAntigen</th>\n",
       "      <th>positiveTestsAntigen</th>\n",
       "      <th>fips</th>\n",
       "      <th>positiveIncrease</th>\n",
       "      <th>negativeIncrease</th>\n",
       "      <th>total</th>\n",
       "      <th>totalTestResultsIncrease</th>\n",
       "      <th>posNeg</th>\n",
       "      <th>deathIncrease</th>\n",
       "      <th>hospitalizedIncrease</th>\n",
       "      <th>hash</th>\n",
       "      <th>commercialScore</th>\n",
       "      <th>negativeRegularScore</th>\n",
       "      <th>negativeScore</th>\n",
       "      <th>positiveScore</th>\n",
       "      <th>score</th>\n",
       "      <th>grade</th>\n",
       "    </tr>\n",
       "  </thead>\n",
       "  <tbody>\n",
       "    <tr>\n",
       "      <th>18632</th>\n",
       "      <td>20200122</td>\n",
       "      <td>WA</td>\n",
       "      <td>2.0</td>\n",
       "      <td>NaN</td>\n",
       "      <td>NaN</td>\n",
       "      <td>NaN</td>\n",
       "      <td>totalTestEncountersViral</td>\n",
       "      <td>0.0</td>\n",
       "      <td>NaN</td>\n",
       "      <td>NaN</td>\n",
       "      <td>NaN</td>\n",
       "      <td>NaN</td>\n",
       "      <td>NaN</td>\n",
       "      <td>NaN</td>\n",
       "      <td>NaN</td>\n",
       "      <td>NaN</td>\n",
       "      <td>NaN</td>\n",
       "      <td>NaN</td>\n",
       "      <td>NaN</td>\n",
       "      <td>NaN</td>\n",
       "      <td>NaN</td>\n",
       "      <td>NaN</td>\n",
       "      <td>NaN</td>\n",
       "      <td>NaN</td>\n",
       "      <td>NaN</td>\n",
       "      <td>2.0</td>\n",
       "      <td>NaN</td>\n",
       "      <td>NaN</td>\n",
       "      <td>0.0</td>\n",
       "      <td>NaN</td>\n",
       "      <td>NaN</td>\n",
       "      <td>NaN</td>\n",
       "      <td>NaN</td>\n",
       "      <td>NaN</td>\n",
       "      <td>NaN</td>\n",
       "      <td>NaN</td>\n",
       "      <td>NaN</td>\n",
       "      <td>NaN</td>\n",
       "      <td>NaN</td>\n",
       "      <td>NaN</td>\n",
       "      <td>53</td>\n",
       "      <td>0</td>\n",
       "      <td>0</td>\n",
       "      <td>2</td>\n",
       "      <td>0</td>\n",
       "      <td>2</td>\n",
       "      <td>0</td>\n",
       "      <td>0</td>\n",
       "      <td>1c59843d8491d0424238185b5466a7c70b3d829b</td>\n",
       "      <td>0</td>\n",
       "      <td>0</td>\n",
       "      <td>0</td>\n",
       "      <td>0</td>\n",
       "      <td>0</td>\n",
       "      <td>NaN</td>\n",
       "    </tr>\n",
       "    <tr>\n",
       "      <th>18633</th>\n",
       "      <td>20200121</td>\n",
       "      <td>WA</td>\n",
       "      <td>2.0</td>\n",
       "      <td>NaN</td>\n",
       "      <td>NaN</td>\n",
       "      <td>NaN</td>\n",
       "      <td>totalTestEncountersViral</td>\n",
       "      <td>NaN</td>\n",
       "      <td>NaN</td>\n",
       "      <td>NaN</td>\n",
       "      <td>NaN</td>\n",
       "      <td>NaN</td>\n",
       "      <td>NaN</td>\n",
       "      <td>NaN</td>\n",
       "      <td>NaN</td>\n",
       "      <td>NaN</td>\n",
       "      <td>NaN</td>\n",
       "      <td>NaN</td>\n",
       "      <td>NaN</td>\n",
       "      <td>NaN</td>\n",
       "      <td>NaN</td>\n",
       "      <td>NaN</td>\n",
       "      <td>NaN</td>\n",
       "      <td>NaN</td>\n",
       "      <td>NaN</td>\n",
       "      <td>2.0</td>\n",
       "      <td>NaN</td>\n",
       "      <td>NaN</td>\n",
       "      <td>NaN</td>\n",
       "      <td>NaN</td>\n",
       "      <td>NaN</td>\n",
       "      <td>NaN</td>\n",
       "      <td>NaN</td>\n",
       "      <td>NaN</td>\n",
       "      <td>NaN</td>\n",
       "      <td>NaN</td>\n",
       "      <td>NaN</td>\n",
       "      <td>NaN</td>\n",
       "      <td>NaN</td>\n",
       "      <td>NaN</td>\n",
       "      <td>53</td>\n",
       "      <td>1</td>\n",
       "      <td>0</td>\n",
       "      <td>2</td>\n",
       "      <td>0</td>\n",
       "      <td>2</td>\n",
       "      <td>0</td>\n",
       "      <td>0</td>\n",
       "      <td>bc80b5a0a1604d12220439ae023c84dfe8486945</td>\n",
       "      <td>0</td>\n",
       "      <td>0</td>\n",
       "      <td>0</td>\n",
       "      <td>0</td>\n",
       "      <td>0</td>\n",
       "      <td>NaN</td>\n",
       "    </tr>\n",
       "    <tr>\n",
       "      <th>18634</th>\n",
       "      <td>20200120</td>\n",
       "      <td>WA</td>\n",
       "      <td>1.0</td>\n",
       "      <td>NaN</td>\n",
       "      <td>NaN</td>\n",
       "      <td>NaN</td>\n",
       "      <td>totalTestEncountersViral</td>\n",
       "      <td>NaN</td>\n",
       "      <td>NaN</td>\n",
       "      <td>NaN</td>\n",
       "      <td>NaN</td>\n",
       "      <td>NaN</td>\n",
       "      <td>NaN</td>\n",
       "      <td>NaN</td>\n",
       "      <td>NaN</td>\n",
       "      <td>NaN</td>\n",
       "      <td>NaN</td>\n",
       "      <td>NaN</td>\n",
       "      <td>NaN</td>\n",
       "      <td>NaN</td>\n",
       "      <td>NaN</td>\n",
       "      <td>NaN</td>\n",
       "      <td>NaN</td>\n",
       "      <td>NaN</td>\n",
       "      <td>NaN</td>\n",
       "      <td>1.0</td>\n",
       "      <td>NaN</td>\n",
       "      <td>NaN</td>\n",
       "      <td>NaN</td>\n",
       "      <td>NaN</td>\n",
       "      <td>NaN</td>\n",
       "      <td>NaN</td>\n",
       "      <td>NaN</td>\n",
       "      <td>NaN</td>\n",
       "      <td>NaN</td>\n",
       "      <td>NaN</td>\n",
       "      <td>NaN</td>\n",
       "      <td>NaN</td>\n",
       "      <td>NaN</td>\n",
       "      <td>NaN</td>\n",
       "      <td>53</td>\n",
       "      <td>0</td>\n",
       "      <td>0</td>\n",
       "      <td>1</td>\n",
       "      <td>0</td>\n",
       "      <td>1</td>\n",
       "      <td>0</td>\n",
       "      <td>0</td>\n",
       "      <td>527045c87fb9bfea340434654ed88b2dabd96a7e</td>\n",
       "      <td>0</td>\n",
       "      <td>0</td>\n",
       "      <td>0</td>\n",
       "      <td>0</td>\n",
       "      <td>0</td>\n",
       "      <td>NaN</td>\n",
       "    </tr>\n",
       "    <tr>\n",
       "      <th>18635</th>\n",
       "      <td>20200119</td>\n",
       "      <td>WA</td>\n",
       "      <td>1.0</td>\n",
       "      <td>NaN</td>\n",
       "      <td>NaN</td>\n",
       "      <td>NaN</td>\n",
       "      <td>totalTestEncountersViral</td>\n",
       "      <td>NaN</td>\n",
       "      <td>NaN</td>\n",
       "      <td>NaN</td>\n",
       "      <td>NaN</td>\n",
       "      <td>NaN</td>\n",
       "      <td>NaN</td>\n",
       "      <td>NaN</td>\n",
       "      <td>NaN</td>\n",
       "      <td>NaN</td>\n",
       "      <td>NaN</td>\n",
       "      <td>NaN</td>\n",
       "      <td>NaN</td>\n",
       "      <td>NaN</td>\n",
       "      <td>NaN</td>\n",
       "      <td>NaN</td>\n",
       "      <td>NaN</td>\n",
       "      <td>NaN</td>\n",
       "      <td>NaN</td>\n",
       "      <td>1.0</td>\n",
       "      <td>NaN</td>\n",
       "      <td>NaN</td>\n",
       "      <td>NaN</td>\n",
       "      <td>NaN</td>\n",
       "      <td>NaN</td>\n",
       "      <td>NaN</td>\n",
       "      <td>NaN</td>\n",
       "      <td>NaN</td>\n",
       "      <td>NaN</td>\n",
       "      <td>NaN</td>\n",
       "      <td>NaN</td>\n",
       "      <td>NaN</td>\n",
       "      <td>NaN</td>\n",
       "      <td>NaN</td>\n",
       "      <td>53</td>\n",
       "      <td>1</td>\n",
       "      <td>0</td>\n",
       "      <td>1</td>\n",
       "      <td>0</td>\n",
       "      <td>1</td>\n",
       "      <td>0</td>\n",
       "      <td>0</td>\n",
       "      <td>b4bb523b5dfabd6570a6659cc884168b7a7a7411</td>\n",
       "      <td>0</td>\n",
       "      <td>0</td>\n",
       "      <td>0</td>\n",
       "      <td>0</td>\n",
       "      <td>0</td>\n",
       "      <td>NaN</td>\n",
       "    </tr>\n",
       "    <tr>\n",
       "      <th>18636</th>\n",
       "      <td>20200118</td>\n",
       "      <td>WA</td>\n",
       "      <td>0.0</td>\n",
       "      <td>NaN</td>\n",
       "      <td>NaN</td>\n",
       "      <td>NaN</td>\n",
       "      <td>totalTestEncountersViral</td>\n",
       "      <td>NaN</td>\n",
       "      <td>NaN</td>\n",
       "      <td>NaN</td>\n",
       "      <td>NaN</td>\n",
       "      <td>NaN</td>\n",
       "      <td>NaN</td>\n",
       "      <td>NaN</td>\n",
       "      <td>NaN</td>\n",
       "      <td>NaN</td>\n",
       "      <td>NaN</td>\n",
       "      <td>NaN</td>\n",
       "      <td>NaN</td>\n",
       "      <td>NaN</td>\n",
       "      <td>NaN</td>\n",
       "      <td>NaN</td>\n",
       "      <td>NaN</td>\n",
       "      <td>NaN</td>\n",
       "      <td>NaN</td>\n",
       "      <td>0.0</td>\n",
       "      <td>NaN</td>\n",
       "      <td>NaN</td>\n",
       "      <td>NaN</td>\n",
       "      <td>NaN</td>\n",
       "      <td>NaN</td>\n",
       "      <td>NaN</td>\n",
       "      <td>NaN</td>\n",
       "      <td>NaN</td>\n",
       "      <td>NaN</td>\n",
       "      <td>NaN</td>\n",
       "      <td>NaN</td>\n",
       "      <td>NaN</td>\n",
       "      <td>NaN</td>\n",
       "      <td>NaN</td>\n",
       "      <td>53</td>\n",
       "      <td>0</td>\n",
       "      <td>0</td>\n",
       "      <td>0</td>\n",
       "      <td>0</td>\n",
       "      <td>0</td>\n",
       "      <td>0</td>\n",
       "      <td>0</td>\n",
       "      <td>852b2c808c5c506316af0e6f3dbb0a1f6131ede5</td>\n",
       "      <td>0</td>\n",
       "      <td>0</td>\n",
       "      <td>0</td>\n",
       "      <td>0</td>\n",
       "      <td>0</td>\n",
       "      <td>NaN</td>\n",
       "    </tr>\n",
       "    <tr>\n",
       "      <th>18637</th>\n",
       "      <td>20200117</td>\n",
       "      <td>WA</td>\n",
       "      <td>0.0</td>\n",
       "      <td>NaN</td>\n",
       "      <td>NaN</td>\n",
       "      <td>NaN</td>\n",
       "      <td>totalTestEncountersViral</td>\n",
       "      <td>NaN</td>\n",
       "      <td>NaN</td>\n",
       "      <td>NaN</td>\n",
       "      <td>NaN</td>\n",
       "      <td>NaN</td>\n",
       "      <td>NaN</td>\n",
       "      <td>NaN</td>\n",
       "      <td>NaN</td>\n",
       "      <td>NaN</td>\n",
       "      <td>NaN</td>\n",
       "      <td>NaN</td>\n",
       "      <td>NaN</td>\n",
       "      <td>NaN</td>\n",
       "      <td>NaN</td>\n",
       "      <td>NaN</td>\n",
       "      <td>NaN</td>\n",
       "      <td>NaN</td>\n",
       "      <td>NaN</td>\n",
       "      <td>0.0</td>\n",
       "      <td>NaN</td>\n",
       "      <td>NaN</td>\n",
       "      <td>NaN</td>\n",
       "      <td>NaN</td>\n",
       "      <td>NaN</td>\n",
       "      <td>NaN</td>\n",
       "      <td>NaN</td>\n",
       "      <td>NaN</td>\n",
       "      <td>NaN</td>\n",
       "      <td>NaN</td>\n",
       "      <td>NaN</td>\n",
       "      <td>NaN</td>\n",
       "      <td>NaN</td>\n",
       "      <td>NaN</td>\n",
       "      <td>53</td>\n",
       "      <td>0</td>\n",
       "      <td>0</td>\n",
       "      <td>0</td>\n",
       "      <td>0</td>\n",
       "      <td>0</td>\n",
       "      <td>0</td>\n",
       "      <td>0</td>\n",
       "      <td>effcc7b17054638471dec2f2a9cdbd3229d92042</td>\n",
       "      <td>0</td>\n",
       "      <td>0</td>\n",
       "      <td>0</td>\n",
       "      <td>0</td>\n",
       "      <td>0</td>\n",
       "      <td>NaN</td>\n",
       "    </tr>\n",
       "    <tr>\n",
       "      <th>18638</th>\n",
       "      <td>20200116</td>\n",
       "      <td>WA</td>\n",
       "      <td>0.0</td>\n",
       "      <td>NaN</td>\n",
       "      <td>NaN</td>\n",
       "      <td>NaN</td>\n",
       "      <td>totalTestEncountersViral</td>\n",
       "      <td>NaN</td>\n",
       "      <td>NaN</td>\n",
       "      <td>NaN</td>\n",
       "      <td>NaN</td>\n",
       "      <td>NaN</td>\n",
       "      <td>NaN</td>\n",
       "      <td>NaN</td>\n",
       "      <td>NaN</td>\n",
       "      <td>NaN</td>\n",
       "      <td>NaN</td>\n",
       "      <td>NaN</td>\n",
       "      <td>NaN</td>\n",
       "      <td>NaN</td>\n",
       "      <td>NaN</td>\n",
       "      <td>NaN</td>\n",
       "      <td>NaN</td>\n",
       "      <td>NaN</td>\n",
       "      <td>NaN</td>\n",
       "      <td>0.0</td>\n",
       "      <td>NaN</td>\n",
       "      <td>NaN</td>\n",
       "      <td>NaN</td>\n",
       "      <td>NaN</td>\n",
       "      <td>NaN</td>\n",
       "      <td>NaN</td>\n",
       "      <td>NaN</td>\n",
       "      <td>NaN</td>\n",
       "      <td>NaN</td>\n",
       "      <td>NaN</td>\n",
       "      <td>NaN</td>\n",
       "      <td>NaN</td>\n",
       "      <td>NaN</td>\n",
       "      <td>NaN</td>\n",
       "      <td>53</td>\n",
       "      <td>0</td>\n",
       "      <td>0</td>\n",
       "      <td>0</td>\n",
       "      <td>0</td>\n",
       "      <td>0</td>\n",
       "      <td>0</td>\n",
       "      <td>0</td>\n",
       "      <td>d9453d58f00994cff1f81639e95e532d1dd10138</td>\n",
       "      <td>0</td>\n",
       "      <td>0</td>\n",
       "      <td>0</td>\n",
       "      <td>0</td>\n",
       "      <td>0</td>\n",
       "      <td>NaN</td>\n",
       "    </tr>\n",
       "    <tr>\n",
       "      <th>18639</th>\n",
       "      <td>20200115</td>\n",
       "      <td>WA</td>\n",
       "      <td>0.0</td>\n",
       "      <td>NaN</td>\n",
       "      <td>NaN</td>\n",
       "      <td>NaN</td>\n",
       "      <td>totalTestEncountersViral</td>\n",
       "      <td>NaN</td>\n",
       "      <td>NaN</td>\n",
       "      <td>NaN</td>\n",
       "      <td>NaN</td>\n",
       "      <td>NaN</td>\n",
       "      <td>NaN</td>\n",
       "      <td>NaN</td>\n",
       "      <td>NaN</td>\n",
       "      <td>NaN</td>\n",
       "      <td>NaN</td>\n",
       "      <td>NaN</td>\n",
       "      <td>NaN</td>\n",
       "      <td>NaN</td>\n",
       "      <td>NaN</td>\n",
       "      <td>NaN</td>\n",
       "      <td>NaN</td>\n",
       "      <td>NaN</td>\n",
       "      <td>NaN</td>\n",
       "      <td>0.0</td>\n",
       "      <td>NaN</td>\n",
       "      <td>NaN</td>\n",
       "      <td>NaN</td>\n",
       "      <td>NaN</td>\n",
       "      <td>NaN</td>\n",
       "      <td>NaN</td>\n",
       "      <td>NaN</td>\n",
       "      <td>NaN</td>\n",
       "      <td>NaN</td>\n",
       "      <td>NaN</td>\n",
       "      <td>NaN</td>\n",
       "      <td>NaN</td>\n",
       "      <td>NaN</td>\n",
       "      <td>NaN</td>\n",
       "      <td>53</td>\n",
       "      <td>0</td>\n",
       "      <td>0</td>\n",
       "      <td>0</td>\n",
       "      <td>0</td>\n",
       "      <td>0</td>\n",
       "      <td>0</td>\n",
       "      <td>0</td>\n",
       "      <td>bd1eef4afdffd883e37be1d3f321dc3b0e75f591</td>\n",
       "      <td>0</td>\n",
       "      <td>0</td>\n",
       "      <td>0</td>\n",
       "      <td>0</td>\n",
       "      <td>0</td>\n",
       "      <td>NaN</td>\n",
       "    </tr>\n",
       "    <tr>\n",
       "      <th>18640</th>\n",
       "      <td>20200114</td>\n",
       "      <td>WA</td>\n",
       "      <td>0.0</td>\n",
       "      <td>NaN</td>\n",
       "      <td>NaN</td>\n",
       "      <td>NaN</td>\n",
       "      <td>totalTestEncountersViral</td>\n",
       "      <td>NaN</td>\n",
       "      <td>NaN</td>\n",
       "      <td>NaN</td>\n",
       "      <td>NaN</td>\n",
       "      <td>NaN</td>\n",
       "      <td>NaN</td>\n",
       "      <td>NaN</td>\n",
       "      <td>NaN</td>\n",
       "      <td>NaN</td>\n",
       "      <td>NaN</td>\n",
       "      <td>NaN</td>\n",
       "      <td>NaN</td>\n",
       "      <td>NaN</td>\n",
       "      <td>NaN</td>\n",
       "      <td>NaN</td>\n",
       "      <td>NaN</td>\n",
       "      <td>NaN</td>\n",
       "      <td>NaN</td>\n",
       "      <td>0.0</td>\n",
       "      <td>NaN</td>\n",
       "      <td>NaN</td>\n",
       "      <td>NaN</td>\n",
       "      <td>NaN</td>\n",
       "      <td>NaN</td>\n",
       "      <td>NaN</td>\n",
       "      <td>NaN</td>\n",
       "      <td>NaN</td>\n",
       "      <td>NaN</td>\n",
       "      <td>NaN</td>\n",
       "      <td>NaN</td>\n",
       "      <td>NaN</td>\n",
       "      <td>NaN</td>\n",
       "      <td>NaN</td>\n",
       "      <td>53</td>\n",
       "      <td>0</td>\n",
       "      <td>0</td>\n",
       "      <td>0</td>\n",
       "      <td>0</td>\n",
       "      <td>0</td>\n",
       "      <td>0</td>\n",
       "      <td>0</td>\n",
       "      <td>84aeea9c6a284b151fdb42a863db3c0aadb651bf</td>\n",
       "      <td>0</td>\n",
       "      <td>0</td>\n",
       "      <td>0</td>\n",
       "      <td>0</td>\n",
       "      <td>0</td>\n",
       "      <td>NaN</td>\n",
       "    </tr>\n",
       "    <tr>\n",
       "      <th>18641</th>\n",
       "      <td>20200113</td>\n",
       "      <td>WA</td>\n",
       "      <td>NaN</td>\n",
       "      <td>NaN</td>\n",
       "      <td>NaN</td>\n",
       "      <td>NaN</td>\n",
       "      <td>totalTestEncountersViral</td>\n",
       "      <td>NaN</td>\n",
       "      <td>NaN</td>\n",
       "      <td>NaN</td>\n",
       "      <td>NaN</td>\n",
       "      <td>NaN</td>\n",
       "      <td>NaN</td>\n",
       "      <td>NaN</td>\n",
       "      <td>NaN</td>\n",
       "      <td>NaN</td>\n",
       "      <td>NaN</td>\n",
       "      <td>NaN</td>\n",
       "      <td>NaN</td>\n",
       "      <td>NaN</td>\n",
       "      <td>NaN</td>\n",
       "      <td>NaN</td>\n",
       "      <td>NaN</td>\n",
       "      <td>NaN</td>\n",
       "      <td>NaN</td>\n",
       "      <td>NaN</td>\n",
       "      <td>NaN</td>\n",
       "      <td>NaN</td>\n",
       "      <td>NaN</td>\n",
       "      <td>NaN</td>\n",
       "      <td>NaN</td>\n",
       "      <td>NaN</td>\n",
       "      <td>NaN</td>\n",
       "      <td>NaN</td>\n",
       "      <td>NaN</td>\n",
       "      <td>NaN</td>\n",
       "      <td>NaN</td>\n",
       "      <td>NaN</td>\n",
       "      <td>NaN</td>\n",
       "      <td>NaN</td>\n",
       "      <td>53</td>\n",
       "      <td>0</td>\n",
       "      <td>0</td>\n",
       "      <td>0</td>\n",
       "      <td>0</td>\n",
       "      <td>0</td>\n",
       "      <td>0</td>\n",
       "      <td>0</td>\n",
       "      <td>4b278ad9e69da1c2a818f761c25f10c4bb6bf2a7</td>\n",
       "      <td>0</td>\n",
       "      <td>0</td>\n",
       "      <td>0</td>\n",
       "      <td>0</td>\n",
       "      <td>0</td>\n",
       "      <td>NaN</td>\n",
       "    </tr>\n",
       "  </tbody>\n",
       "</table>\n",
       "</div>"
      ],
      "text/plain": [
       "           date state  positive  probableCases  negative  pending  \\\n",
       "18632  20200122    WA       2.0            NaN       NaN      NaN   \n",
       "18633  20200121    WA       2.0            NaN       NaN      NaN   \n",
       "18634  20200120    WA       1.0            NaN       NaN      NaN   \n",
       "18635  20200119    WA       1.0            NaN       NaN      NaN   \n",
       "18636  20200118    WA       0.0            NaN       NaN      NaN   \n",
       "18637  20200117    WA       0.0            NaN       NaN      NaN   \n",
       "18638  20200116    WA       0.0            NaN       NaN      NaN   \n",
       "18639  20200115    WA       0.0            NaN       NaN      NaN   \n",
       "18640  20200114    WA       0.0            NaN       NaN      NaN   \n",
       "18641  20200113    WA       NaN            NaN       NaN      NaN   \n",
       "\n",
       "         totalTestResultsSource  totalTestResults  hospitalizedCurrently  \\\n",
       "18632  totalTestEncountersViral               0.0                    NaN   \n",
       "18633  totalTestEncountersViral               NaN                    NaN   \n",
       "18634  totalTestEncountersViral               NaN                    NaN   \n",
       "18635  totalTestEncountersViral               NaN                    NaN   \n",
       "18636  totalTestEncountersViral               NaN                    NaN   \n",
       "18637  totalTestEncountersViral               NaN                    NaN   \n",
       "18638  totalTestEncountersViral               NaN                    NaN   \n",
       "18639  totalTestEncountersViral               NaN                    NaN   \n",
       "18640  totalTestEncountersViral               NaN                    NaN   \n",
       "18641  totalTestEncountersViral               NaN                    NaN   \n",
       "\n",
       "       hospitalizedCumulative  inIcuCurrently  inIcuCumulative  \\\n",
       "18632                     NaN             NaN              NaN   \n",
       "18633                     NaN             NaN              NaN   \n",
       "18634                     NaN             NaN              NaN   \n",
       "18635                     NaN             NaN              NaN   \n",
       "18636                     NaN             NaN              NaN   \n",
       "18637                     NaN             NaN              NaN   \n",
       "18638                     NaN             NaN              NaN   \n",
       "18639                     NaN             NaN              NaN   \n",
       "18640                     NaN             NaN              NaN   \n",
       "18641                     NaN             NaN              NaN   \n",
       "\n",
       "       onVentilatorCurrently  onVentilatorCumulative  recovered  \\\n",
       "18632                    NaN                     NaN        NaN   \n",
       "18633                    NaN                     NaN        NaN   \n",
       "18634                    NaN                     NaN        NaN   \n",
       "18635                    NaN                     NaN        NaN   \n",
       "18636                    NaN                     NaN        NaN   \n",
       "18637                    NaN                     NaN        NaN   \n",
       "18638                    NaN                     NaN        NaN   \n",
       "18639                    NaN                     NaN        NaN   \n",
       "18640                    NaN                     NaN        NaN   \n",
       "18641                    NaN                     NaN        NaN   \n",
       "\n",
       "      dataQualityGrade lastUpdateEt dateModified checkTimeEt  death  \\\n",
       "18632              NaN          NaN          NaN         NaN    NaN   \n",
       "18633              NaN          NaN          NaN         NaN    NaN   \n",
       "18634              NaN          NaN          NaN         NaN    NaN   \n",
       "18635              NaN          NaN          NaN         NaN    NaN   \n",
       "18636              NaN          NaN          NaN         NaN    NaN   \n",
       "18637              NaN          NaN          NaN         NaN    NaN   \n",
       "18638              NaN          NaN          NaN         NaN    NaN   \n",
       "18639              NaN          NaN          NaN         NaN    NaN   \n",
       "18640              NaN          NaN          NaN         NaN    NaN   \n",
       "18641              NaN          NaN          NaN         NaN    NaN   \n",
       "\n",
       "       hospitalized dateChecked  totalTestsViral  positiveTestsViral  \\\n",
       "18632           NaN         NaN              NaN                 NaN   \n",
       "18633           NaN         NaN              NaN                 NaN   \n",
       "18634           NaN         NaN              NaN                 NaN   \n",
       "18635           NaN         NaN              NaN                 NaN   \n",
       "18636           NaN         NaN              NaN                 NaN   \n",
       "18637           NaN         NaN              NaN                 NaN   \n",
       "18638           NaN         NaN              NaN                 NaN   \n",
       "18639           NaN         NaN              NaN                 NaN   \n",
       "18640           NaN         NaN              NaN                 NaN   \n",
       "18641           NaN         NaN              NaN                 NaN   \n",
       "\n",
       "       negativeTestsViral  positiveCasesViral  deathConfirmed  deathProbable  \\\n",
       "18632                 NaN                 2.0             NaN            NaN   \n",
       "18633                 NaN                 2.0             NaN            NaN   \n",
       "18634                 NaN                 1.0             NaN            NaN   \n",
       "18635                 NaN                 1.0             NaN            NaN   \n",
       "18636                 NaN                 0.0             NaN            NaN   \n",
       "18637                 NaN                 0.0             NaN            NaN   \n",
       "18638                 NaN                 0.0             NaN            NaN   \n",
       "18639                 NaN                 0.0             NaN            NaN   \n",
       "18640                 NaN                 0.0             NaN            NaN   \n",
       "18641                 NaN                 NaN             NaN            NaN   \n",
       "\n",
       "       totalTestEncountersViral  totalTestsPeopleViral  totalTestsAntibody  \\\n",
       "18632                       0.0                    NaN                 NaN   \n",
       "18633                       NaN                    NaN                 NaN   \n",
       "18634                       NaN                    NaN                 NaN   \n",
       "18635                       NaN                    NaN                 NaN   \n",
       "18636                       NaN                    NaN                 NaN   \n",
       "18637                       NaN                    NaN                 NaN   \n",
       "18638                       NaN                    NaN                 NaN   \n",
       "18639                       NaN                    NaN                 NaN   \n",
       "18640                       NaN                    NaN                 NaN   \n",
       "18641                       NaN                    NaN                 NaN   \n",
       "\n",
       "       positiveTestsAntibody  negativeTestsAntibody  totalTestsPeopleAntibody  \\\n",
       "18632                    NaN                    NaN                       NaN   \n",
       "18633                    NaN                    NaN                       NaN   \n",
       "18634                    NaN                    NaN                       NaN   \n",
       "18635                    NaN                    NaN                       NaN   \n",
       "18636                    NaN                    NaN                       NaN   \n",
       "18637                    NaN                    NaN                       NaN   \n",
       "18638                    NaN                    NaN                       NaN   \n",
       "18639                    NaN                    NaN                       NaN   \n",
       "18640                    NaN                    NaN                       NaN   \n",
       "18641                    NaN                    NaN                       NaN   \n",
       "\n",
       "       positiveTestsPeopleAntibody  negativeTestsPeopleAntibody  \\\n",
       "18632                          NaN                          NaN   \n",
       "18633                          NaN                          NaN   \n",
       "18634                          NaN                          NaN   \n",
       "18635                          NaN                          NaN   \n",
       "18636                          NaN                          NaN   \n",
       "18637                          NaN                          NaN   \n",
       "18638                          NaN                          NaN   \n",
       "18639                          NaN                          NaN   \n",
       "18640                          NaN                          NaN   \n",
       "18641                          NaN                          NaN   \n",
       "\n",
       "       totalTestsPeopleAntigen  positiveTestsPeopleAntigen  totalTestsAntigen  \\\n",
       "18632                      NaN                         NaN                NaN   \n",
       "18633                      NaN                         NaN                NaN   \n",
       "18634                      NaN                         NaN                NaN   \n",
       "18635                      NaN                         NaN                NaN   \n",
       "18636                      NaN                         NaN                NaN   \n",
       "18637                      NaN                         NaN                NaN   \n",
       "18638                      NaN                         NaN                NaN   \n",
       "18639                      NaN                         NaN                NaN   \n",
       "18640                      NaN                         NaN                NaN   \n",
       "18641                      NaN                         NaN                NaN   \n",
       "\n",
       "       positiveTestsAntigen  fips  positiveIncrease  negativeIncrease  total  \\\n",
       "18632                   NaN    53                 0                 0      2   \n",
       "18633                   NaN    53                 1                 0      2   \n",
       "18634                   NaN    53                 0                 0      1   \n",
       "18635                   NaN    53                 1                 0      1   \n",
       "18636                   NaN    53                 0                 0      0   \n",
       "18637                   NaN    53                 0                 0      0   \n",
       "18638                   NaN    53                 0                 0      0   \n",
       "18639                   NaN    53                 0                 0      0   \n",
       "18640                   NaN    53                 0                 0      0   \n",
       "18641                   NaN    53                 0                 0      0   \n",
       "\n",
       "       totalTestResultsIncrease  posNeg  deathIncrease  hospitalizedIncrease  \\\n",
       "18632                         0       2              0                     0   \n",
       "18633                         0       2              0                     0   \n",
       "18634                         0       1              0                     0   \n",
       "18635                         0       1              0                     0   \n",
       "18636                         0       0              0                     0   \n",
       "18637                         0       0              0                     0   \n",
       "18638                         0       0              0                     0   \n",
       "18639                         0       0              0                     0   \n",
       "18640                         0       0              0                     0   \n",
       "18641                         0       0              0                     0   \n",
       "\n",
       "                                           hash  commercialScore  \\\n",
       "18632  1c59843d8491d0424238185b5466a7c70b3d829b                0   \n",
       "18633  bc80b5a0a1604d12220439ae023c84dfe8486945                0   \n",
       "18634  527045c87fb9bfea340434654ed88b2dabd96a7e                0   \n",
       "18635  b4bb523b5dfabd6570a6659cc884168b7a7a7411                0   \n",
       "18636  852b2c808c5c506316af0e6f3dbb0a1f6131ede5                0   \n",
       "18637  effcc7b17054638471dec2f2a9cdbd3229d92042                0   \n",
       "18638  d9453d58f00994cff1f81639e95e532d1dd10138                0   \n",
       "18639  bd1eef4afdffd883e37be1d3f321dc3b0e75f591                0   \n",
       "18640  84aeea9c6a284b151fdb42a863db3c0aadb651bf                0   \n",
       "18641  4b278ad9e69da1c2a818f761c25f10c4bb6bf2a7                0   \n",
       "\n",
       "       negativeRegularScore  negativeScore  positiveScore  score  grade  \n",
       "18632                     0              0              0      0    NaN  \n",
       "18633                     0              0              0      0    NaN  \n",
       "18634                     0              0              0      0    NaN  \n",
       "18635                     0              0              0      0    NaN  \n",
       "18636                     0              0              0      0    NaN  \n",
       "18637                     0              0              0      0    NaN  \n",
       "18638                     0              0              0      0    NaN  \n",
       "18639                     0              0              0      0    NaN  \n",
       "18640                     0              0              0      0    NaN  \n",
       "18641                     0              0              0      0    NaN  "
      ]
     },
     "execution_count": 12,
     "metadata": {},
     "output_type": "execute_result"
    }
   ],
   "source": [
    "state_data.tail(10)"
   ]
  },
  {
   "cell_type": "markdown",
   "metadata": {
    "slideshow": {
     "slide_type": "subslide"
    }
   },
   "source": [
    "### Optional: use ```to_csv()```method to save downloaded data to a csv"
   ]
  },
  {
   "cell_type": "code",
   "execution_count": 13,
   "metadata": {
    "slideshow": {
     "slide_type": "-"
    }
   },
   "outputs": [],
   "source": [
    "state_data.to_csv( 'state_data.csv' )"
   ]
  },
  {
   "cell_type": "markdown",
   "metadata": {
    "slideshow": {
     "slide_type": "subslide"
    }
   },
   "source": [
    "### Select one column\n",
    "\n",
    "Enclose the column label string in brackets ```[]```"
   ]
  },
  {
   "cell_type": "code",
   "execution_count": 14,
   "metadata": {
    "slideshow": {
     "slide_type": "-"
    }
   },
   "outputs": [
    {
     "data": {
      "text/plain": [
       "0        AK\n",
       "1        AL\n",
       "2        AR\n",
       "3        AS\n",
       "4        AZ\n",
       "         ..\n",
       "18637    WA\n",
       "18638    WA\n",
       "18639    WA\n",
       "18640    WA\n",
       "18641    WA\n",
       "Name: state, Length: 18642, dtype: object"
      ]
     },
     "execution_count": 14,
     "metadata": {},
     "output_type": "execute_result"
    }
   ],
   "source": [
    "state_data[ 'state' ]"
   ]
  },
  {
   "cell_type": "markdown",
   "metadata": {
    "slideshow": {
     "slide_type": "subslide"
    }
   },
   "source": [
    "### Select one or more rows\n",
    "\n",
    "Enclose the selection criteria in brackets ```[]```"
   ]
  },
  {
   "cell_type": "code",
   "execution_count": 15,
   "metadata": {},
   "outputs": [
    {
     "data": {
      "text/plain": [
       "18642"
      ]
     },
     "execution_count": 15,
     "metadata": {},
     "output_type": "execute_result"
    }
   ],
   "source": [
    "len( state_data )"
   ]
  },
  {
   "cell_type": "code",
   "execution_count": 16,
   "metadata": {
    "scrolled": true
   },
   "outputs": [
    {
     "data": {
      "text/plain": [
       "WA    382\n",
       "MA    373\n",
       "VA    368\n",
       "FL    366\n",
       "NJ    354\n",
       "NE    349\n",
       "IN    337\n",
       "WY    334\n",
       "MI    334\n",
       "RI    334\n",
       "NY    333\n",
       "TX    332\n",
       "WI    332\n",
       "VT    332\n",
       "IL    331\n",
       "AZ    331\n",
       "NC    331\n",
       "GA    331\n",
       "HI    331\n",
       "CA    331\n",
       "OR    331\n",
       "SC    331\n",
       "CO    331\n",
       "NH    331\n",
       "DC    330\n",
       "NV    330\n",
       "MD    330\n",
       "OH    330\n",
       "NM    330\n",
       "TN    330\n",
       "KY    329\n",
       "AK    329\n",
       "IA    329\n",
       "DE    329\n",
       "AR    329\n",
       "PA    329\n",
       "WV    329\n",
       "MN    329\n",
       "KS    329\n",
       "AL    328\n",
       "ME    328\n",
       "ND    328\n",
       "UT    328\n",
       "SD    328\n",
       "ID    328\n",
       "LA    328\n",
       "MO    328\n",
       "OK    328\n",
       "CT    328\n",
       "MS    328\n",
       "MT    328\n",
       "MP    319\n",
       "PR    319\n",
       "GU    319\n",
       "AS    319\n",
       "VI    319\n",
       "Name: state, dtype: int64"
      ]
     },
     "execution_count": 16,
     "metadata": {},
     "output_type": "execute_result"
    }
   ],
   "source": [
    "state_data['state'].value_counts()"
   ]
  },
  {
   "cell_type": "code",
   "execution_count": 18,
   "metadata": {},
   "outputs": [],
   "source": [
    "maryland_rows = state_data[ 'state' ] == 'MD'"
   ]
  },
  {
   "cell_type": "code",
   "execution_count": 20,
   "metadata": {},
   "outputs": [
    {
     "data": {
      "text/plain": [
       "False    18312\n",
       "True       330\n",
       "Name: state, dtype: int64"
      ]
     },
     "execution_count": 20,
     "metadata": {},
     "output_type": "execute_result"
    }
   ],
   "source": [
    "maryland_rows.value_counts()"
   ]
  },
  {
   "cell_type": "code",
   "execution_count": 21,
   "metadata": {
    "slideshow": {
     "slide_type": "-"
    }
   },
   "outputs": [
    {
     "data": {
      "text/html": [
       "<div>\n",
       "<style scoped>\n",
       "    .dataframe tbody tr th:only-of-type {\n",
       "        vertical-align: middle;\n",
       "    }\n",
       "\n",
       "    .dataframe tbody tr th {\n",
       "        vertical-align: top;\n",
       "    }\n",
       "\n",
       "    .dataframe thead th {\n",
       "        text-align: right;\n",
       "    }\n",
       "</style>\n",
       "<table border=\"1\" class=\"dataframe\">\n",
       "  <thead>\n",
       "    <tr style=\"text-align: right;\">\n",
       "      <th></th>\n",
       "      <th>date</th>\n",
       "      <th>state</th>\n",
       "      <th>positive</th>\n",
       "      <th>probableCases</th>\n",
       "      <th>negative</th>\n",
       "      <th>pending</th>\n",
       "      <th>totalTestResultsSource</th>\n",
       "      <th>totalTestResults</th>\n",
       "      <th>hospitalizedCurrently</th>\n",
       "      <th>hospitalizedCumulative</th>\n",
       "      <th>inIcuCurrently</th>\n",
       "      <th>inIcuCumulative</th>\n",
       "      <th>onVentilatorCurrently</th>\n",
       "      <th>onVentilatorCumulative</th>\n",
       "      <th>recovered</th>\n",
       "      <th>dataQualityGrade</th>\n",
       "      <th>lastUpdateEt</th>\n",
       "      <th>dateModified</th>\n",
       "      <th>checkTimeEt</th>\n",
       "      <th>death</th>\n",
       "      <th>hospitalized</th>\n",
       "      <th>dateChecked</th>\n",
       "      <th>totalTestsViral</th>\n",
       "      <th>positiveTestsViral</th>\n",
       "      <th>negativeTestsViral</th>\n",
       "      <th>positiveCasesViral</th>\n",
       "      <th>deathConfirmed</th>\n",
       "      <th>deathProbable</th>\n",
       "      <th>totalTestEncountersViral</th>\n",
       "      <th>totalTestsPeopleViral</th>\n",
       "      <th>totalTestsAntibody</th>\n",
       "      <th>positiveTestsAntibody</th>\n",
       "      <th>negativeTestsAntibody</th>\n",
       "      <th>totalTestsPeopleAntibody</th>\n",
       "      <th>positiveTestsPeopleAntibody</th>\n",
       "      <th>negativeTestsPeopleAntibody</th>\n",
       "      <th>totalTestsPeopleAntigen</th>\n",
       "      <th>positiveTestsPeopleAntigen</th>\n",
       "      <th>totalTestsAntigen</th>\n",
       "      <th>positiveTestsAntigen</th>\n",
       "      <th>fips</th>\n",
       "      <th>positiveIncrease</th>\n",
       "      <th>negativeIncrease</th>\n",
       "      <th>total</th>\n",
       "      <th>totalTestResultsIncrease</th>\n",
       "      <th>posNeg</th>\n",
       "      <th>deathIncrease</th>\n",
       "      <th>hospitalizedIncrease</th>\n",
       "      <th>hash</th>\n",
       "      <th>commercialScore</th>\n",
       "      <th>negativeRegularScore</th>\n",
       "      <th>negativeScore</th>\n",
       "      <th>positiveScore</th>\n",
       "      <th>score</th>\n",
       "      <th>grade</th>\n",
       "    </tr>\n",
       "  </thead>\n",
       "  <tbody>\n",
       "    <tr>\n",
       "      <th>22</th>\n",
       "      <td>20210128</td>\n",
       "      <td>MD</td>\n",
       "      <td>348749.0</td>\n",
       "      <td>NaN</td>\n",
       "      <td>2810526.0</td>\n",
       "      <td>NaN</td>\n",
       "      <td>totalTestsViral</td>\n",
       "      <td>6865525.0</td>\n",
       "      <td>1636.0</td>\n",
       "      <td>31614.0</td>\n",
       "      <td>376.0</td>\n",
       "      <td>NaN</td>\n",
       "      <td>NaN</td>\n",
       "      <td>NaN</td>\n",
       "      <td>9482.0</td>\n",
       "      <td>A</td>\n",
       "      <td>1/28/2021 10:00</td>\n",
       "      <td>2021-01-28T10:00:00Z</td>\n",
       "      <td>01/28 05:00</td>\n",
       "      <td>7037.0</td>\n",
       "      <td>31614.0</td>\n",
       "      <td>2021-01-28T10:00:00Z</td>\n",
       "      <td>6865525.0</td>\n",
       "      <td>424593.0</td>\n",
       "      <td>NaN</td>\n",
       "      <td>348749.0</td>\n",
       "      <td>6861.0</td>\n",
       "      <td>176.0</td>\n",
       "      <td>NaN</td>\n",
       "      <td>3159275.0</td>\n",
       "      <td>NaN</td>\n",
       "      <td>NaN</td>\n",
       "      <td>NaN</td>\n",
       "      <td>186392.0</td>\n",
       "      <td>23333.0</td>\n",
       "      <td>163059.0</td>\n",
       "      <td>NaN</td>\n",
       "      <td>NaN</td>\n",
       "      <td>NaN</td>\n",
       "      <td>NaN</td>\n",
       "      <td>24</td>\n",
       "      <td>2190</td>\n",
       "      <td>8555</td>\n",
       "      <td>3159275</td>\n",
       "      <td>46476</td>\n",
       "      <td>3159275</td>\n",
       "      <td>41</td>\n",
       "      <td>146</td>\n",
       "      <td>56c272f234cd160cd29afd1c11b467637bfb5906</td>\n",
       "      <td>0</td>\n",
       "      <td>0</td>\n",
       "      <td>0</td>\n",
       "      <td>0</td>\n",
       "      <td>0</td>\n",
       "      <td>NaN</td>\n",
       "    </tr>\n",
       "    <tr>\n",
       "      <th>78</th>\n",
       "      <td>20210127</td>\n",
       "      <td>MD</td>\n",
       "      <td>346559.0</td>\n",
       "      <td>NaN</td>\n",
       "      <td>2801971.0</td>\n",
       "      <td>NaN</td>\n",
       "      <td>totalTestsViral</td>\n",
       "      <td>6819049.0</td>\n",
       "      <td>1647.0</td>\n",
       "      <td>31468.0</td>\n",
       "      <td>374.0</td>\n",
       "      <td>NaN</td>\n",
       "      <td>NaN</td>\n",
       "      <td>NaN</td>\n",
       "      <td>9479.0</td>\n",
       "      <td>A</td>\n",
       "      <td>1/27/2021 10:00</td>\n",
       "      <td>2021-01-27T10:00:00Z</td>\n",
       "      <td>01/27 05:00</td>\n",
       "      <td>6996.0</td>\n",
       "      <td>31468.0</td>\n",
       "      <td>2021-01-27T10:00:00Z</td>\n",
       "      <td>6819049.0</td>\n",
       "      <td>421831.0</td>\n",
       "      <td>NaN</td>\n",
       "      <td>346559.0</td>\n",
       "      <td>6821.0</td>\n",
       "      <td>175.0</td>\n",
       "      <td>NaN</td>\n",
       "      <td>3148530.0</td>\n",
       "      <td>NaN</td>\n",
       "      <td>NaN</td>\n",
       "      <td>NaN</td>\n",
       "      <td>186392.0</td>\n",
       "      <td>23333.0</td>\n",
       "      <td>163059.0</td>\n",
       "      <td>NaN</td>\n",
       "      <td>NaN</td>\n",
       "      <td>NaN</td>\n",
       "      <td>NaN</td>\n",
       "      <td>24</td>\n",
       "      <td>1939</td>\n",
       "      <td>8555</td>\n",
       "      <td>3148530</td>\n",
       "      <td>34887</td>\n",
       "      <td>3148530</td>\n",
       "      <td>33</td>\n",
       "      <td>138</td>\n",
       "      <td>8f596f67caba35a458ae9002728a5005e5d3a138</td>\n",
       "      <td>0</td>\n",
       "      <td>0</td>\n",
       "      <td>0</td>\n",
       "      <td>0</td>\n",
       "      <td>0</td>\n",
       "      <td>NaN</td>\n",
       "    </tr>\n",
       "    <tr>\n",
       "      <th>134</th>\n",
       "      <td>20210126</td>\n",
       "      <td>MD</td>\n",
       "      <td>344620.0</td>\n",
       "      <td>NaN</td>\n",
       "      <td>2793416.0</td>\n",
       "      <td>NaN</td>\n",
       "      <td>totalTestsViral</td>\n",
       "      <td>6784162.0</td>\n",
       "      <td>1642.0</td>\n",
       "      <td>31330.0</td>\n",
       "      <td>367.0</td>\n",
       "      <td>NaN</td>\n",
       "      <td>NaN</td>\n",
       "      <td>NaN</td>\n",
       "      <td>9477.0</td>\n",
       "      <td>A</td>\n",
       "      <td>1/26/2021 10:00</td>\n",
       "      <td>2021-01-26T10:00:00Z</td>\n",
       "      <td>01/26 05:00</td>\n",
       "      <td>6963.0</td>\n",
       "      <td>31330.0</td>\n",
       "      <td>2021-01-26T10:00:00Z</td>\n",
       "      <td>6784162.0</td>\n",
       "      <td>419497.0</td>\n",
       "      <td>NaN</td>\n",
       "      <td>344620.0</td>\n",
       "      <td>6788.0</td>\n",
       "      <td>175.0</td>\n",
       "      <td>NaN</td>\n",
       "      <td>3138036.0</td>\n",
       "      <td>NaN</td>\n",
       "      <td>NaN</td>\n",
       "      <td>NaN</td>\n",
       "      <td>183103.0</td>\n",
       "      <td>22101.0</td>\n",
       "      <td>161002.0</td>\n",
       "      <td>NaN</td>\n",
       "      <td>NaN</td>\n",
       "      <td>NaN</td>\n",
       "      <td>NaN</td>\n",
       "      <td>24</td>\n",
       "      <td>1482</td>\n",
       "      <td>6332</td>\n",
       "      <td>3138036</td>\n",
       "      <td>25926</td>\n",
       "      <td>3138036</td>\n",
       "      <td>63</td>\n",
       "      <td>142</td>\n",
       "      <td>eb8d7d931baae7c2766507be331584f395542444</td>\n",
       "      <td>0</td>\n",
       "      <td>0</td>\n",
       "      <td>0</td>\n",
       "      <td>0</td>\n",
       "      <td>0</td>\n",
       "      <td>NaN</td>\n",
       "    </tr>\n",
       "    <tr>\n",
       "      <th>190</th>\n",
       "      <td>20210125</td>\n",
       "      <td>MD</td>\n",
       "      <td>343138.0</td>\n",
       "      <td>NaN</td>\n",
       "      <td>2787084.0</td>\n",
       "      <td>NaN</td>\n",
       "      <td>totalTestsViral</td>\n",
       "      <td>6758236.0</td>\n",
       "      <td>1669.0</td>\n",
       "      <td>31188.0</td>\n",
       "      <td>395.0</td>\n",
       "      <td>NaN</td>\n",
       "      <td>NaN</td>\n",
       "      <td>NaN</td>\n",
       "      <td>9476.0</td>\n",
       "      <td>A</td>\n",
       "      <td>1/25/2021 10:00</td>\n",
       "      <td>2021-01-25T10:00:00Z</td>\n",
       "      <td>01/25 05:00</td>\n",
       "      <td>6900.0</td>\n",
       "      <td>31188.0</td>\n",
       "      <td>2021-01-25T10:00:00Z</td>\n",
       "      <td>6758236.0</td>\n",
       "      <td>417738.0</td>\n",
       "      <td>NaN</td>\n",
       "      <td>343138.0</td>\n",
       "      <td>6726.0</td>\n",
       "      <td>174.0</td>\n",
       "      <td>NaN</td>\n",
       "      <td>3130222.0</td>\n",
       "      <td>NaN</td>\n",
       "      <td>NaN</td>\n",
       "      <td>NaN</td>\n",
       "      <td>183103.0</td>\n",
       "      <td>22101.0</td>\n",
       "      <td>161002.0</td>\n",
       "      <td>NaN</td>\n",
       "      <td>NaN</td>\n",
       "      <td>NaN</td>\n",
       "      <td>NaN</td>\n",
       "      <td>24</td>\n",
       "      <td>1686</td>\n",
       "      <td>7679</td>\n",
       "      <td>3130222</td>\n",
       "      <td>34734</td>\n",
       "      <td>3130222</td>\n",
       "      <td>35</td>\n",
       "      <td>154</td>\n",
       "      <td>044ddf54b4cb506df3589f7823a535da644b54ed</td>\n",
       "      <td>0</td>\n",
       "      <td>0</td>\n",
       "      <td>0</td>\n",
       "      <td>0</td>\n",
       "      <td>0</td>\n",
       "      <td>NaN</td>\n",
       "    </tr>\n",
       "    <tr>\n",
       "      <th>246</th>\n",
       "      <td>20210124</td>\n",
       "      <td>MD</td>\n",
       "      <td>341452.0</td>\n",
       "      <td>NaN</td>\n",
       "      <td>2779405.0</td>\n",
       "      <td>NaN</td>\n",
       "      <td>totalTestsViral</td>\n",
       "      <td>6723502.0</td>\n",
       "      <td>1668.0</td>\n",
       "      <td>31034.0</td>\n",
       "      <td>392.0</td>\n",
       "      <td>NaN</td>\n",
       "      <td>NaN</td>\n",
       "      <td>NaN</td>\n",
       "      <td>9474.0</td>\n",
       "      <td>A</td>\n",
       "      <td>1/24/2021 10:00</td>\n",
       "      <td>2021-01-24T10:00:00Z</td>\n",
       "      <td>01/24 05:00</td>\n",
       "      <td>6865.0</td>\n",
       "      <td>31034.0</td>\n",
       "      <td>2021-01-24T10:00:00Z</td>\n",
       "      <td>6723502.0</td>\n",
       "      <td>415608.0</td>\n",
       "      <td>NaN</td>\n",
       "      <td>341452.0</td>\n",
       "      <td>6690.0</td>\n",
       "      <td>175.0</td>\n",
       "      <td>NaN</td>\n",
       "      <td>3120857.0</td>\n",
       "      <td>NaN</td>\n",
       "      <td>NaN</td>\n",
       "      <td>NaN</td>\n",
       "      <td>183103.0</td>\n",
       "      <td>22101.0</td>\n",
       "      <td>161002.0</td>\n",
       "      <td>NaN</td>\n",
       "      <td>NaN</td>\n",
       "      <td>NaN</td>\n",
       "      <td>NaN</td>\n",
       "      <td>24</td>\n",
       "      <td>2145</td>\n",
       "      <td>7679</td>\n",
       "      <td>3120857</td>\n",
       "      <td>45247</td>\n",
       "      <td>3120857</td>\n",
       "      <td>28</td>\n",
       "      <td>168</td>\n",
       "      <td>f3c2ff99635fd79c0b48f598504dc0df87d43778</td>\n",
       "      <td>0</td>\n",
       "      <td>0</td>\n",
       "      <td>0</td>\n",
       "      <td>0</td>\n",
       "      <td>0</td>\n",
       "      <td>NaN</td>\n",
       "    </tr>\n",
       "    <tr>\n",
       "      <th>...</th>\n",
       "      <td>...</td>\n",
       "      <td>...</td>\n",
       "      <td>...</td>\n",
       "      <td>...</td>\n",
       "      <td>...</td>\n",
       "      <td>...</td>\n",
       "      <td>...</td>\n",
       "      <td>...</td>\n",
       "      <td>...</td>\n",
       "      <td>...</td>\n",
       "      <td>...</td>\n",
       "      <td>...</td>\n",
       "      <td>...</td>\n",
       "      <td>...</td>\n",
       "      <td>...</td>\n",
       "      <td>...</td>\n",
       "      <td>...</td>\n",
       "      <td>...</td>\n",
       "      <td>...</td>\n",
       "      <td>...</td>\n",
       "      <td>...</td>\n",
       "      <td>...</td>\n",
       "      <td>...</td>\n",
       "      <td>...</td>\n",
       "      <td>...</td>\n",
       "      <td>...</td>\n",
       "      <td>...</td>\n",
       "      <td>...</td>\n",
       "      <td>...</td>\n",
       "      <td>...</td>\n",
       "      <td>...</td>\n",
       "      <td>...</td>\n",
       "      <td>...</td>\n",
       "      <td>...</td>\n",
       "      <td>...</td>\n",
       "      <td>...</td>\n",
       "      <td>...</td>\n",
       "      <td>...</td>\n",
       "      <td>...</td>\n",
       "      <td>...</td>\n",
       "      <td>...</td>\n",
       "      <td>...</td>\n",
       "      <td>...</td>\n",
       "      <td>...</td>\n",
       "      <td>...</td>\n",
       "      <td>...</td>\n",
       "      <td>...</td>\n",
       "      <td>...</td>\n",
       "      <td>...</td>\n",
       "      <td>...</td>\n",
       "      <td>...</td>\n",
       "      <td>...</td>\n",
       "      <td>...</td>\n",
       "      <td>...</td>\n",
       "      <td>...</td>\n",
       "    </tr>\n",
       "    <tr>\n",
       "      <th>18190</th>\n",
       "      <td>20200309</td>\n",
       "      <td>MD</td>\n",
       "      <td>5.0</td>\n",
       "      <td>NaN</td>\n",
       "      <td>73.0</td>\n",
       "      <td>NaN</td>\n",
       "      <td>totalTestsViral</td>\n",
       "      <td>NaN</td>\n",
       "      <td>NaN</td>\n",
       "      <td>NaN</td>\n",
       "      <td>NaN</td>\n",
       "      <td>NaN</td>\n",
       "      <td>NaN</td>\n",
       "      <td>NaN</td>\n",
       "      <td>NaN</td>\n",
       "      <td>NaN</td>\n",
       "      <td>NaN</td>\n",
       "      <td>NaN</td>\n",
       "      <td>NaN</td>\n",
       "      <td>NaN</td>\n",
       "      <td>NaN</td>\n",
       "      <td>NaN</td>\n",
       "      <td>NaN</td>\n",
       "      <td>NaN</td>\n",
       "      <td>NaN</td>\n",
       "      <td>5.0</td>\n",
       "      <td>NaN</td>\n",
       "      <td>NaN</td>\n",
       "      <td>NaN</td>\n",
       "      <td>NaN</td>\n",
       "      <td>NaN</td>\n",
       "      <td>NaN</td>\n",
       "      <td>NaN</td>\n",
       "      <td>NaN</td>\n",
       "      <td>NaN</td>\n",
       "      <td>NaN</td>\n",
       "      <td>NaN</td>\n",
       "      <td>NaN</td>\n",
       "      <td>NaN</td>\n",
       "      <td>NaN</td>\n",
       "      <td>24</td>\n",
       "      <td>2</td>\n",
       "      <td>21</td>\n",
       "      <td>78</td>\n",
       "      <td>0</td>\n",
       "      <td>78</td>\n",
       "      <td>0</td>\n",
       "      <td>0</td>\n",
       "      <td>2440ca6317977560a4a6d4028bf31fe8fd2571f9</td>\n",
       "      <td>0</td>\n",
       "      <td>0</td>\n",
       "      <td>0</td>\n",
       "      <td>0</td>\n",
       "      <td>0</td>\n",
       "      <td>NaN</td>\n",
       "    </tr>\n",
       "    <tr>\n",
       "      <th>18241</th>\n",
       "      <td>20200308</td>\n",
       "      <td>MD</td>\n",
       "      <td>3.0</td>\n",
       "      <td>NaN</td>\n",
       "      <td>52.0</td>\n",
       "      <td>NaN</td>\n",
       "      <td>totalTestsViral</td>\n",
       "      <td>NaN</td>\n",
       "      <td>NaN</td>\n",
       "      <td>NaN</td>\n",
       "      <td>NaN</td>\n",
       "      <td>NaN</td>\n",
       "      <td>NaN</td>\n",
       "      <td>NaN</td>\n",
       "      <td>NaN</td>\n",
       "      <td>NaN</td>\n",
       "      <td>NaN</td>\n",
       "      <td>NaN</td>\n",
       "      <td>NaN</td>\n",
       "      <td>NaN</td>\n",
       "      <td>NaN</td>\n",
       "      <td>NaN</td>\n",
       "      <td>NaN</td>\n",
       "      <td>NaN</td>\n",
       "      <td>NaN</td>\n",
       "      <td>3.0</td>\n",
       "      <td>NaN</td>\n",
       "      <td>NaN</td>\n",
       "      <td>NaN</td>\n",
       "      <td>NaN</td>\n",
       "      <td>NaN</td>\n",
       "      <td>NaN</td>\n",
       "      <td>NaN</td>\n",
       "      <td>NaN</td>\n",
       "      <td>NaN</td>\n",
       "      <td>NaN</td>\n",
       "      <td>NaN</td>\n",
       "      <td>NaN</td>\n",
       "      <td>NaN</td>\n",
       "      <td>NaN</td>\n",
       "      <td>24</td>\n",
       "      <td>0</td>\n",
       "      <td>11</td>\n",
       "      <td>55</td>\n",
       "      <td>0</td>\n",
       "      <td>55</td>\n",
       "      <td>0</td>\n",
       "      <td>0</td>\n",
       "      <td>7b991089ef44365c653f8acbd7021ef451020e36</td>\n",
       "      <td>0</td>\n",
       "      <td>0</td>\n",
       "      <td>0</td>\n",
       "      <td>0</td>\n",
       "      <td>0</td>\n",
       "      <td>NaN</td>\n",
       "    </tr>\n",
       "    <tr>\n",
       "      <th>18292</th>\n",
       "      <td>20200307</td>\n",
       "      <td>MD</td>\n",
       "      <td>3.0</td>\n",
       "      <td>NaN</td>\n",
       "      <td>41.0</td>\n",
       "      <td>NaN</td>\n",
       "      <td>totalTestsViral</td>\n",
       "      <td>NaN</td>\n",
       "      <td>NaN</td>\n",
       "      <td>NaN</td>\n",
       "      <td>NaN</td>\n",
       "      <td>NaN</td>\n",
       "      <td>NaN</td>\n",
       "      <td>NaN</td>\n",
       "      <td>NaN</td>\n",
       "      <td>NaN</td>\n",
       "      <td>NaN</td>\n",
       "      <td>NaN</td>\n",
       "      <td>NaN</td>\n",
       "      <td>NaN</td>\n",
       "      <td>NaN</td>\n",
       "      <td>NaN</td>\n",
       "      <td>NaN</td>\n",
       "      <td>NaN</td>\n",
       "      <td>NaN</td>\n",
       "      <td>3.0</td>\n",
       "      <td>NaN</td>\n",
       "      <td>NaN</td>\n",
       "      <td>NaN</td>\n",
       "      <td>NaN</td>\n",
       "      <td>NaN</td>\n",
       "      <td>NaN</td>\n",
       "      <td>NaN</td>\n",
       "      <td>NaN</td>\n",
       "      <td>NaN</td>\n",
       "      <td>NaN</td>\n",
       "      <td>NaN</td>\n",
       "      <td>NaN</td>\n",
       "      <td>NaN</td>\n",
       "      <td>NaN</td>\n",
       "      <td>24</td>\n",
       "      <td>0</td>\n",
       "      <td>15</td>\n",
       "      <td>44</td>\n",
       "      <td>0</td>\n",
       "      <td>44</td>\n",
       "      <td>0</td>\n",
       "      <td>0</td>\n",
       "      <td>35f68a20c2a36c4ad386b3b1f31c9fc971912e83</td>\n",
       "      <td>0</td>\n",
       "      <td>0</td>\n",
       "      <td>0</td>\n",
       "      <td>0</td>\n",
       "      <td>0</td>\n",
       "      <td>NaN</td>\n",
       "    </tr>\n",
       "    <tr>\n",
       "      <th>18339</th>\n",
       "      <td>20200306</td>\n",
       "      <td>MD</td>\n",
       "      <td>3.0</td>\n",
       "      <td>NaN</td>\n",
       "      <td>26.0</td>\n",
       "      <td>12.0</td>\n",
       "      <td>totalTestsViral</td>\n",
       "      <td>NaN</td>\n",
       "      <td>NaN</td>\n",
       "      <td>NaN</td>\n",
       "      <td>NaN</td>\n",
       "      <td>NaN</td>\n",
       "      <td>NaN</td>\n",
       "      <td>NaN</td>\n",
       "      <td>NaN</td>\n",
       "      <td>NaN</td>\n",
       "      <td>NaN</td>\n",
       "      <td>NaN</td>\n",
       "      <td>NaN</td>\n",
       "      <td>NaN</td>\n",
       "      <td>NaN</td>\n",
       "      <td>NaN</td>\n",
       "      <td>NaN</td>\n",
       "      <td>NaN</td>\n",
       "      <td>NaN</td>\n",
       "      <td>3.0</td>\n",
       "      <td>NaN</td>\n",
       "      <td>NaN</td>\n",
       "      <td>NaN</td>\n",
       "      <td>NaN</td>\n",
       "      <td>NaN</td>\n",
       "      <td>NaN</td>\n",
       "      <td>NaN</td>\n",
       "      <td>NaN</td>\n",
       "      <td>NaN</td>\n",
       "      <td>NaN</td>\n",
       "      <td>NaN</td>\n",
       "      <td>NaN</td>\n",
       "      <td>NaN</td>\n",
       "      <td>NaN</td>\n",
       "      <td>24</td>\n",
       "      <td>3</td>\n",
       "      <td>9</td>\n",
       "      <td>41</td>\n",
       "      <td>0</td>\n",
       "      <td>29</td>\n",
       "      <td>0</td>\n",
       "      <td>0</td>\n",
       "      <td>ef5005974414f326294a040fb638e65cf293addf</td>\n",
       "      <td>0</td>\n",
       "      <td>0</td>\n",
       "      <td>0</td>\n",
       "      <td>0</td>\n",
       "      <td>0</td>\n",
       "      <td>NaN</td>\n",
       "    </tr>\n",
       "    <tr>\n",
       "      <th>18372</th>\n",
       "      <td>20200305</td>\n",
       "      <td>MD</td>\n",
       "      <td>0.0</td>\n",
       "      <td>NaN</td>\n",
       "      <td>17.0</td>\n",
       "      <td>14.0</td>\n",
       "      <td>totalTestsViral</td>\n",
       "      <td>NaN</td>\n",
       "      <td>NaN</td>\n",
       "      <td>NaN</td>\n",
       "      <td>NaN</td>\n",
       "      <td>NaN</td>\n",
       "      <td>NaN</td>\n",
       "      <td>NaN</td>\n",
       "      <td>NaN</td>\n",
       "      <td>NaN</td>\n",
       "      <td>NaN</td>\n",
       "      <td>NaN</td>\n",
       "      <td>NaN</td>\n",
       "      <td>NaN</td>\n",
       "      <td>NaN</td>\n",
       "      <td>NaN</td>\n",
       "      <td>NaN</td>\n",
       "      <td>NaN</td>\n",
       "      <td>NaN</td>\n",
       "      <td>0.0</td>\n",
       "      <td>NaN</td>\n",
       "      <td>NaN</td>\n",
       "      <td>NaN</td>\n",
       "      <td>NaN</td>\n",
       "      <td>NaN</td>\n",
       "      <td>NaN</td>\n",
       "      <td>NaN</td>\n",
       "      <td>NaN</td>\n",
       "      <td>NaN</td>\n",
       "      <td>NaN</td>\n",
       "      <td>NaN</td>\n",
       "      <td>NaN</td>\n",
       "      <td>NaN</td>\n",
       "      <td>NaN</td>\n",
       "      <td>24</td>\n",
       "      <td>0</td>\n",
       "      <td>0</td>\n",
       "      <td>31</td>\n",
       "      <td>0</td>\n",
       "      <td>17</td>\n",
       "      <td>0</td>\n",
       "      <td>0</td>\n",
       "      <td>6e4bc0e2b5dd241cf7495b2355a4ab7d6600bece</td>\n",
       "      <td>0</td>\n",
       "      <td>0</td>\n",
       "      <td>0</td>\n",
       "      <td>0</td>\n",
       "      <td>0</td>\n",
       "      <td>NaN</td>\n",
       "    </tr>\n",
       "  </tbody>\n",
       "</table>\n",
       "<p>330 rows × 55 columns</p>\n",
       "</div>"
      ],
      "text/plain": [
       "           date state  positive  probableCases   negative  pending  \\\n",
       "22     20210128    MD  348749.0            NaN  2810526.0      NaN   \n",
       "78     20210127    MD  346559.0            NaN  2801971.0      NaN   \n",
       "134    20210126    MD  344620.0            NaN  2793416.0      NaN   \n",
       "190    20210125    MD  343138.0            NaN  2787084.0      NaN   \n",
       "246    20210124    MD  341452.0            NaN  2779405.0      NaN   \n",
       "...         ...   ...       ...            ...        ...      ...   \n",
       "18190  20200309    MD       5.0            NaN       73.0      NaN   \n",
       "18241  20200308    MD       3.0            NaN       52.0      NaN   \n",
       "18292  20200307    MD       3.0            NaN       41.0      NaN   \n",
       "18339  20200306    MD       3.0            NaN       26.0     12.0   \n",
       "18372  20200305    MD       0.0            NaN       17.0     14.0   \n",
       "\n",
       "      totalTestResultsSource  totalTestResults  hospitalizedCurrently  \\\n",
       "22           totalTestsViral         6865525.0                 1636.0   \n",
       "78           totalTestsViral         6819049.0                 1647.0   \n",
       "134          totalTestsViral         6784162.0                 1642.0   \n",
       "190          totalTestsViral         6758236.0                 1669.0   \n",
       "246          totalTestsViral         6723502.0                 1668.0   \n",
       "...                      ...               ...                    ...   \n",
       "18190        totalTestsViral               NaN                    NaN   \n",
       "18241        totalTestsViral               NaN                    NaN   \n",
       "18292        totalTestsViral               NaN                    NaN   \n",
       "18339        totalTestsViral               NaN                    NaN   \n",
       "18372        totalTestsViral               NaN                    NaN   \n",
       "\n",
       "       hospitalizedCumulative  inIcuCurrently  inIcuCumulative  \\\n",
       "22                    31614.0           376.0              NaN   \n",
       "78                    31468.0           374.0              NaN   \n",
       "134                   31330.0           367.0              NaN   \n",
       "190                   31188.0           395.0              NaN   \n",
       "246                   31034.0           392.0              NaN   \n",
       "...                       ...             ...              ...   \n",
       "18190                     NaN             NaN              NaN   \n",
       "18241                     NaN             NaN              NaN   \n",
       "18292                     NaN             NaN              NaN   \n",
       "18339                     NaN             NaN              NaN   \n",
       "18372                     NaN             NaN              NaN   \n",
       "\n",
       "       onVentilatorCurrently  onVentilatorCumulative  recovered  \\\n",
       "22                       NaN                     NaN     9482.0   \n",
       "78                       NaN                     NaN     9479.0   \n",
       "134                      NaN                     NaN     9477.0   \n",
       "190                      NaN                     NaN     9476.0   \n",
       "246                      NaN                     NaN     9474.0   \n",
       "...                      ...                     ...        ...   \n",
       "18190                    NaN                     NaN        NaN   \n",
       "18241                    NaN                     NaN        NaN   \n",
       "18292                    NaN                     NaN        NaN   \n",
       "18339                    NaN                     NaN        NaN   \n",
       "18372                    NaN                     NaN        NaN   \n",
       "\n",
       "      dataQualityGrade     lastUpdateEt          dateModified  checkTimeEt  \\\n",
       "22                   A  1/28/2021 10:00  2021-01-28T10:00:00Z  01/28 05:00   \n",
       "78                   A  1/27/2021 10:00  2021-01-27T10:00:00Z  01/27 05:00   \n",
       "134                  A  1/26/2021 10:00  2021-01-26T10:00:00Z  01/26 05:00   \n",
       "190                  A  1/25/2021 10:00  2021-01-25T10:00:00Z  01/25 05:00   \n",
       "246                  A  1/24/2021 10:00  2021-01-24T10:00:00Z  01/24 05:00   \n",
       "...                ...              ...                   ...          ...   \n",
       "18190              NaN              NaN                   NaN          NaN   \n",
       "18241              NaN              NaN                   NaN          NaN   \n",
       "18292              NaN              NaN                   NaN          NaN   \n",
       "18339              NaN              NaN                   NaN          NaN   \n",
       "18372              NaN              NaN                   NaN          NaN   \n",
       "\n",
       "        death  hospitalized           dateChecked  totalTestsViral  \\\n",
       "22     7037.0       31614.0  2021-01-28T10:00:00Z        6865525.0   \n",
       "78     6996.0       31468.0  2021-01-27T10:00:00Z        6819049.0   \n",
       "134    6963.0       31330.0  2021-01-26T10:00:00Z        6784162.0   \n",
       "190    6900.0       31188.0  2021-01-25T10:00:00Z        6758236.0   \n",
       "246    6865.0       31034.0  2021-01-24T10:00:00Z        6723502.0   \n",
       "...       ...           ...                   ...              ...   \n",
       "18190     NaN           NaN                   NaN              NaN   \n",
       "18241     NaN           NaN                   NaN              NaN   \n",
       "18292     NaN           NaN                   NaN              NaN   \n",
       "18339     NaN           NaN                   NaN              NaN   \n",
       "18372     NaN           NaN                   NaN              NaN   \n",
       "\n",
       "       positiveTestsViral  negativeTestsViral  positiveCasesViral  \\\n",
       "22               424593.0                 NaN            348749.0   \n",
       "78               421831.0                 NaN            346559.0   \n",
       "134              419497.0                 NaN            344620.0   \n",
       "190              417738.0                 NaN            343138.0   \n",
       "246              415608.0                 NaN            341452.0   \n",
       "...                   ...                 ...                 ...   \n",
       "18190                 NaN                 NaN                 5.0   \n",
       "18241                 NaN                 NaN                 3.0   \n",
       "18292                 NaN                 NaN                 3.0   \n",
       "18339                 NaN                 NaN                 3.0   \n",
       "18372                 NaN                 NaN                 0.0   \n",
       "\n",
       "       deathConfirmed  deathProbable  totalTestEncountersViral  \\\n",
       "22             6861.0          176.0                       NaN   \n",
       "78             6821.0          175.0                       NaN   \n",
       "134            6788.0          175.0                       NaN   \n",
       "190            6726.0          174.0                       NaN   \n",
       "246            6690.0          175.0                       NaN   \n",
       "...               ...            ...                       ...   \n",
       "18190             NaN            NaN                       NaN   \n",
       "18241             NaN            NaN                       NaN   \n",
       "18292             NaN            NaN                       NaN   \n",
       "18339             NaN            NaN                       NaN   \n",
       "18372             NaN            NaN                       NaN   \n",
       "\n",
       "       totalTestsPeopleViral  totalTestsAntibody  positiveTestsAntibody  \\\n",
       "22                 3159275.0                 NaN                    NaN   \n",
       "78                 3148530.0                 NaN                    NaN   \n",
       "134                3138036.0                 NaN                    NaN   \n",
       "190                3130222.0                 NaN                    NaN   \n",
       "246                3120857.0                 NaN                    NaN   \n",
       "...                      ...                 ...                    ...   \n",
       "18190                    NaN                 NaN                    NaN   \n",
       "18241                    NaN                 NaN                    NaN   \n",
       "18292                    NaN                 NaN                    NaN   \n",
       "18339                    NaN                 NaN                    NaN   \n",
       "18372                    NaN                 NaN                    NaN   \n",
       "\n",
       "       negativeTestsAntibody  totalTestsPeopleAntibody  \\\n",
       "22                       NaN                  186392.0   \n",
       "78                       NaN                  186392.0   \n",
       "134                      NaN                  183103.0   \n",
       "190                      NaN                  183103.0   \n",
       "246                      NaN                  183103.0   \n",
       "...                      ...                       ...   \n",
       "18190                    NaN                       NaN   \n",
       "18241                    NaN                       NaN   \n",
       "18292                    NaN                       NaN   \n",
       "18339                    NaN                       NaN   \n",
       "18372                    NaN                       NaN   \n",
       "\n",
       "       positiveTestsPeopleAntibody  negativeTestsPeopleAntibody  \\\n",
       "22                         23333.0                     163059.0   \n",
       "78                         23333.0                     163059.0   \n",
       "134                        22101.0                     161002.0   \n",
       "190                        22101.0                     161002.0   \n",
       "246                        22101.0                     161002.0   \n",
       "...                            ...                          ...   \n",
       "18190                          NaN                          NaN   \n",
       "18241                          NaN                          NaN   \n",
       "18292                          NaN                          NaN   \n",
       "18339                          NaN                          NaN   \n",
       "18372                          NaN                          NaN   \n",
       "\n",
       "       totalTestsPeopleAntigen  positiveTestsPeopleAntigen  totalTestsAntigen  \\\n",
       "22                         NaN                         NaN                NaN   \n",
       "78                         NaN                         NaN                NaN   \n",
       "134                        NaN                         NaN                NaN   \n",
       "190                        NaN                         NaN                NaN   \n",
       "246                        NaN                         NaN                NaN   \n",
       "...                        ...                         ...                ...   \n",
       "18190                      NaN                         NaN                NaN   \n",
       "18241                      NaN                         NaN                NaN   \n",
       "18292                      NaN                         NaN                NaN   \n",
       "18339                      NaN                         NaN                NaN   \n",
       "18372                      NaN                         NaN                NaN   \n",
       "\n",
       "       positiveTestsAntigen  fips  positiveIncrease  negativeIncrease  \\\n",
       "22                      NaN    24              2190              8555   \n",
       "78                      NaN    24              1939              8555   \n",
       "134                     NaN    24              1482              6332   \n",
       "190                     NaN    24              1686              7679   \n",
       "246                     NaN    24              2145              7679   \n",
       "...                     ...   ...               ...               ...   \n",
       "18190                   NaN    24                 2                21   \n",
       "18241                   NaN    24                 0                11   \n",
       "18292                   NaN    24                 0                15   \n",
       "18339                   NaN    24                 3                 9   \n",
       "18372                   NaN    24                 0                 0   \n",
       "\n",
       "         total  totalTestResultsIncrease   posNeg  deathIncrease  \\\n",
       "22     3159275                     46476  3159275             41   \n",
       "78     3148530                     34887  3148530             33   \n",
       "134    3138036                     25926  3138036             63   \n",
       "190    3130222                     34734  3130222             35   \n",
       "246    3120857                     45247  3120857             28   \n",
       "...        ...                       ...      ...            ...   \n",
       "18190       78                         0       78              0   \n",
       "18241       55                         0       55              0   \n",
       "18292       44                         0       44              0   \n",
       "18339       41                         0       29              0   \n",
       "18372       31                         0       17              0   \n",
       "\n",
       "       hospitalizedIncrease                                      hash  \\\n",
       "22                      146  56c272f234cd160cd29afd1c11b467637bfb5906   \n",
       "78                      138  8f596f67caba35a458ae9002728a5005e5d3a138   \n",
       "134                     142  eb8d7d931baae7c2766507be331584f395542444   \n",
       "190                     154  044ddf54b4cb506df3589f7823a535da644b54ed   \n",
       "246                     168  f3c2ff99635fd79c0b48f598504dc0df87d43778   \n",
       "...                     ...                                       ...   \n",
       "18190                     0  2440ca6317977560a4a6d4028bf31fe8fd2571f9   \n",
       "18241                     0  7b991089ef44365c653f8acbd7021ef451020e36   \n",
       "18292                     0  35f68a20c2a36c4ad386b3b1f31c9fc971912e83   \n",
       "18339                     0  ef5005974414f326294a040fb638e65cf293addf   \n",
       "18372                     0  6e4bc0e2b5dd241cf7495b2355a4ab7d6600bece   \n",
       "\n",
       "       commercialScore  negativeRegularScore  negativeScore  positiveScore  \\\n",
       "22                   0                     0              0              0   \n",
       "78                   0                     0              0              0   \n",
       "134                  0                     0              0              0   \n",
       "190                  0                     0              0              0   \n",
       "246                  0                     0              0              0   \n",
       "...                ...                   ...            ...            ...   \n",
       "18190                0                     0              0              0   \n",
       "18241                0                     0              0              0   \n",
       "18292                0                     0              0              0   \n",
       "18339                0                     0              0              0   \n",
       "18372                0                     0              0              0   \n",
       "\n",
       "       score  grade  \n",
       "22         0    NaN  \n",
       "78         0    NaN  \n",
       "134        0    NaN  \n",
       "190        0    NaN  \n",
       "246        0    NaN  \n",
       "...      ...    ...  \n",
       "18190      0    NaN  \n",
       "18241      0    NaN  \n",
       "18292      0    NaN  \n",
       "18339      0    NaN  \n",
       "18372      0    NaN  \n",
       "\n",
       "[330 rows x 55 columns]"
      ]
     },
     "execution_count": 21,
     "metadata": {},
     "output_type": "execute_result"
    }
   ],
   "source": [
    "state_data[ state_data[ 'state' ] == 'MD' ]"
   ]
  },
  {
   "cell_type": "markdown",
   "metadata": {
    "slideshow": {
     "slide_type": "subslide"
    }
   },
   "source": [
    "### ```groupby()``` operation example\n",
    "\n",
    "Sum all daily deaths since the beginning of the pandemic on a state-by-state basis, and sort in descending order"
   ]
  },
  {
   "cell_type": "markdown",
   "metadata": {
    "slideshow": {
     "slide_type": "subslide"
    }
   },
   "source": [
    "### Using ```groupby()```, ```sum()```, and ```sort_values()``` method in a single line of code\n",
    "\n",
    "1. Group the rows by the value in the ```'state'``` column.\n",
    "2. For each batch of rows:\n",
    "    1. Take the values in the ```'deathIncrease'``` column\n",
    "    2. Sum them, returning a new DataFrame that has one number per state.\n",
    "2. Sort the values in descending order"
   ]
  },
  {
   "cell_type": "code",
   "execution_count": 24,
   "metadata": {
    "scrolled": true,
    "slideshow": {
     "slide_type": "-"
    }
   },
   "outputs": [
    {
     "data": {
      "text/plain": [
       "state\n",
       "CA    38961\n",
       "TX    35639\n",
       "NY    34742\n",
       "FL    26456\n",
       "PA    21303\n",
       "NJ    21301\n",
       "IL    21074\n",
       "MI    15402\n",
       "MA    14348\n",
       "GA    13827\n",
       "AZ    12819\n",
       "OH    11006\n",
       "IN     9879\n",
       "TN     9417\n",
       "NC     9046\n",
       "LA     8743\n",
       "AL     7340\n",
       "MD     7037\n",
       "CT     7020\n",
       "SC     6903\n",
       "MO     6725\n",
       "WI     6334\n",
       "VA     6308\n",
       "MN     6140\n",
       "MS     5945\n",
       "CO     5569\n",
       "AR     4784\n",
       "IA     4532\n",
       "WA     4211\n",
       "NV     4181\n",
       "KS     3718\n",
       "KY     3611\n",
       "OK     3423\n",
       "NM     3226\n",
       "RI     2144\n",
       "WV     1983\n",
       "OR     1924\n",
       "NE     1917\n",
       "PR     1801\n",
       "SD     1763\n",
       "ID     1714\n",
       "UT     1620\n",
       "ND     1442\n",
       "MT     1210\n",
       "DE     1075\n",
       "NH     1022\n",
       "DC      902\n",
       "WY      596\n",
       "ME      567\n",
       "HI      406\n",
       "AK      262\n",
       "VT      172\n",
       "GU      129\n",
       "VI       24\n",
       "MP        2\n",
       "AS        0\n",
       "Name: deathIncrease, dtype: int64"
      ]
     },
     "execution_count": 24,
     "metadata": {},
     "output_type": "execute_result"
    }
   ],
   "source": [
    "state_data.groupby( 'state' )[ 'deathIncrease' ].sum().sort_values( ascending=False )"
   ]
  },
  {
   "cell_type": "code",
   "execution_count": 25,
   "metadata": {
    "scrolled": true,
    "slideshow": {
     "slide_type": "subslide"
    }
   },
   "outputs": [
    {
     "data": {
      "text/plain": [
       "date\n",
       "20200113       0\n",
       "20200208       0\n",
       "20200209       0\n",
       "20200210       0\n",
       "20200211       0\n",
       "            ... \n",
       "20210112    4064\n",
       "20210127    4077\n",
       "20210107    4079\n",
       "20210113    4087\n",
       "20210120    4409\n",
       "Name: deathIncrease, Length: 382, dtype: int64"
      ]
     },
     "execution_count": 25,
     "metadata": {},
     "output_type": "execute_result"
    }
   ],
   "source": [
    "state_data.groupby( 'date' )[ 'deathIncrease' ].sum().sort_values( )"
   ]
  },
  {
   "cell_type": "markdown",
   "metadata": {
    "slideshow": {
     "slide_type": "subslide"
    }
   },
   "source": [
    "### CAVIAT: Understanding the data types of the columns is key\n",
    "\n",
    "* string, integer, float, datatime, etc"
   ]
  },
  {
   "cell_type": "code",
   "execution_count": 26,
   "metadata": {
    "slideshow": {
     "slide_type": "-"
    }
   },
   "outputs": [
    {
     "data": {
      "text/plain": [
       "<AxesSubplot:xlabel='date'>"
      ]
     },
     "execution_count": 26,
     "metadata": {},
     "output_type": "execute_result"
    },
    {
     "data": {
      "image/png": "[encoded data removed]",
      "text/plain": [
       "<Figure size 432x288 with 1 Axes>"
      ]
     },
     "metadata": {
      "needs_background": "light"
     },
     "output_type": "display_data"
    }
   ],
   "source": [
    "state_data.groupby( 'date' )[ \"death\" ].sum().plot()"
   ]
  },
  {
   "cell_type": "markdown",
   "metadata": {
    "slideshow": {
     "slide_type": "subslide"
    }
   },
   "source": [
    "### PANDAS is interpreting the date column as an integer"
   ]
  },
  {
   "cell_type": "code",
   "execution_count": 27,
   "metadata": {
    "slideshow": {
     "slide_type": "-"
    }
   },
   "outputs": [
    {
     "data": {
      "text/plain": [
       "0        20210128\n",
       "1        20210128\n",
       "2        20210128\n",
       "3        20210128\n",
       "4        20210128\n",
       "           ...   \n",
       "18637    20200117\n",
       "18638    20200116\n",
       "18639    20200115\n",
       "18640    20200114\n",
       "18641    20200113\n",
       "Name: date, Length: 18642, dtype: int64"
      ]
     },
     "execution_count": 27,
     "metadata": {},
     "output_type": "execute_result"
    }
   ],
   "source": [
    "state_data[ 'date' ]"
   ]
  },
  {
   "cell_type": "markdown",
   "metadata": {
    "slideshow": {
     "slide_type": "subslide"
    }
   },
   "source": [
    "### Use ```pd.to_datetime()``` function to reinterpret dates\n",
    "\n",
    "Remember ```pd``` is a shortcut for ```pandas``` because we ```import pandas as pd```"
   ]
  },
  {
   "cell_type": "code",
   "execution_count": 28,
   "metadata": {
    "slideshow": {
     "slide_type": "-"
    }
   },
   "outputs": [],
   "source": [
    "state_data[ 'date' ] = pd.to_datetime( state_data[ 'date' ], format=\"%Y%m%d\" )"
   ]
  },
  {
   "cell_type": "code",
   "execution_count": 29,
   "metadata": {
    "slideshow": {
     "slide_type": "subslide"
    }
   },
   "outputs": [
    {
     "data": {
      "text/plain": [
       "0       2021-01-28\n",
       "1       2021-01-28\n",
       "2       2021-01-28\n",
       "3       2021-01-28\n",
       "4       2021-01-28\n",
       "           ...    \n",
       "18637   2020-01-17\n",
       "18638   2020-01-16\n",
       "18639   2020-01-15\n",
       "18640   2020-01-14\n",
       "18641   2020-01-13\n",
       "Name: date, Length: 18642, dtype: datetime64[ns]"
      ]
     },
     "execution_count": 29,
     "metadata": {},
     "output_type": "execute_result"
    }
   ],
   "source": [
    "state_data[ 'date' ]"
   ]
  },
  {
   "cell_type": "markdown",
   "metadata": {
    "slideshow": {
     "slide_type": "slide"
    }
   },
   "source": [
    "# Quick (non-interactive) plot #1\n",
    "## Cumulative number of COVID-19 *deaths* in the US"
   ]
  },
  {
   "cell_type": "code",
   "execution_count": 30,
   "metadata": {
    "slideshow": {
     "slide_type": "-"
    }
   },
   "outputs": [
    {
     "data": {
      "text/plain": [
       "<AxesSubplot:xlabel='date'>"
      ]
     },
     "execution_count": 30,
     "metadata": {},
     "output_type": "execute_result"
    },
    {
     "data": {
      "image/png": "[encoded data removed]",
      "text/plain": [
       "<Figure size 432x288 with 1 Axes>"
      ]
     },
     "metadata": {
      "needs_background": "light"
     },
     "output_type": "display_data"
    }
   ],
   "source": [
    "state_data.groupby( 'date' )[ \"death\" ].sum().plot()"
   ]
  },
  {
   "cell_type": "markdown",
   "metadata": {
    "slideshow": {
     "slide_type": "subslide"
    }
   },
   "source": [
    "### In this case, the x and y axes were inferred from the structure of the DataFrame"
   ]
  },
  {
   "cell_type": "code",
   "execution_count": 31,
   "metadata": {
    "slideshow": {
     "slide_type": "-"
    }
   },
   "outputs": [
    {
     "data": {
      "text/plain": [
       "date\n",
       "2020-01-13         0.0\n",
       "2020-01-14         0.0\n",
       "2020-01-15         0.0\n",
       "2020-01-16         0.0\n",
       "2020-01-17         0.0\n",
       "                ...   \n",
       "2021-01-24    410230.0\n",
       "2021-01-25    411823.0\n",
       "2021-01-26    415557.0\n",
       "2021-01-27    419634.0\n",
       "2021-01-28    423645.0\n",
       "Name: death, Length: 382, dtype: float64"
      ]
     },
     "execution_count": 31,
     "metadata": {},
     "output_type": "execute_result"
    }
   ],
   "source": [
    "state_data.groupby( 'date' )[ \"death\" ].sum()"
   ]
  },
  {
   "cell_type": "markdown",
   "metadata": {
    "slideshow": {
     "slide_type": "slide"
    }
   },
   "source": [
    "# Quick (non-interactive) plot #2\n",
    "## Daily US COVID-19 *cases* increase"
   ]
  },
  {
   "cell_type": "code",
   "execution_count": 32,
   "metadata": {
    "slideshow": {
     "slide_type": "-"
    }
   },
   "outputs": [
    {
     "data": {
      "text/plain": [
       "<AxesSubplot:xlabel='date'>"
      ]
     },
     "execution_count": 32,
     "metadata": {},
     "output_type": "execute_result"
    },
    {
     "data": {
      "image/png": "[encoded data removed]",
      "text/plain": [
       "<Figure size 432x288 with 1 Axes>"
      ]
     },
     "metadata": {
      "needs_background": "light"
     },
     "output_type": "display_data"
    }
   ],
   "source": [
    "state_data.groupby( 'date' )[ \"positiveIncrease\" ].sum().plot()"
   ]
  },
  {
   "cell_type": "markdown",
   "metadata": {
    "slideshow": {
     "slide_type": "slide"
    }
   },
   "source": [
    "# Interactive plot #1\n",
    "## Daily US COVID-19 *cases* increase with 7-day rolling average\n",
    "### Strategy:\n",
    "\n",
    "1. Construct a new DataFrame with two columns\n",
    "    1. Raw daily increase\n",
    "    2. Rolling daily increase\n",
    "2. Use the ```plot_bokeh()``` function to generate the interactive plot"
   ]
  },
  {
   "cell_type": "markdown",
   "metadata": {
    "slideshow": {
     "slide_type": "subslide"
    }
   },
   "source": [
    "### Store daily increase in a variable"
   ]
  },
  {
   "cell_type": "code",
   "execution_count": 33,
   "metadata": {
    "slideshow": {
     "slide_type": "-"
    }
   },
   "outputs": [],
   "source": [
    "us_new_cases_daily = state_data.groupby( 'date' )[ \"positiveIncrease\" ].sum()"
   ]
  },
  {
   "cell_type": "code",
   "execution_count": 34,
   "metadata": {
    "slideshow": {
     "slide_type": "-"
    }
   },
   "outputs": [
    {
     "data": {
      "text/plain": [
       "date\n",
       "2020-01-13         0\n",
       "2020-01-14         0\n",
       "2020-01-15         0\n",
       "2020-01-16         0\n",
       "2020-01-17         0\n",
       "               ...  \n",
       "2021-01-24    143691\n",
       "2021-01-25    133067\n",
       "2021-01-26    143745\n",
       "2021-01-27    151675\n",
       "2021-01-28    155333\n",
       "Name: positiveIncrease, Length: 382, dtype: int64"
      ]
     },
     "execution_count": 34,
     "metadata": {},
     "output_type": "execute_result"
    }
   ],
   "source": [
    "us_new_cases_daily"
   ]
  },
  {
   "cell_type": "code",
   "execution_count": 35,
   "metadata": {},
   "outputs": [
    {
     "data": {
      "text/plain": [
       "382"
      ]
     },
     "execution_count": 35,
     "metadata": {},
     "output_type": "execute_result"
    }
   ],
   "source": [
    "len( us_new_cases_daily)"
   ]
  },
  {
   "cell_type": "code",
   "execution_count": 36,
   "metadata": {
    "slideshow": {
     "slide_type": "-"
    }
   },
   "outputs": [],
   "source": [
    "us_new_cases_daily.name = \"Daily increase\""
   ]
  },
  {
   "cell_type": "markdown",
   "metadata": {
    "slideshow": {
     "slide_type": "subslide"
    }
   },
   "source": [
    "### Use the ```rolling()```method to create smooth data series"
   ]
  },
  {
   "cell_type": "code",
   "execution_count": 37,
   "metadata": {
    "slideshow": {
     "slide_type": "-"
    }
   },
   "outputs": [],
   "source": [
    "# can also pass \"center=True\" argument to rolling()\n",
    "us_new_cases_7day_mean = us_new_cases_daily.rolling(7).mean()"
   ]
  },
  {
   "cell_type": "code",
   "execution_count": 38,
   "metadata": {
    "slideshow": {
     "slide_type": "-"
    }
   },
   "outputs": [
    {
     "data": {
      "text/plain": [
       "date\n",
       "2020-01-13              NaN\n",
       "2020-01-14              NaN\n",
       "2020-01-15              NaN\n",
       "2020-01-16              NaN\n",
       "2020-01-17              NaN\n",
       "                  ...      \n",
       "2021-01-24    167485.857143\n",
       "2021-01-25    165035.428571\n",
       "2021-01-26    164992.285714\n",
       "2021-01-27    159985.571429\n",
       "2021-01-28    155885.571429\n",
       "Name: Daily increase, Length: 382, dtype: float64"
      ]
     },
     "execution_count": 38,
     "metadata": {},
     "output_type": "execute_result"
    }
   ],
   "source": [
    "us_new_cases_7day_mean"
   ]
  },
  {
   "cell_type": "markdown",
   "metadata": {
    "slideshow": {
     "slide_type": "subslide"
    }
   },
   "source": [
    "### Round the smoothed data to the nearest person"
   ]
  },
  {
   "cell_type": "code",
   "execution_count": 39,
   "metadata": {
    "slideshow": {
     "slide_type": "-"
    }
   },
   "outputs": [],
   "source": [
    "us_new_cases_7day_mean = us_new_cases_daily.rolling(7).mean().fillna(0).round().astype( int )"
   ]
  },
  {
   "cell_type": "code",
   "execution_count": 40,
   "metadata": {
    "slideshow": {
     "slide_type": "-"
    }
   },
   "outputs": [],
   "source": [
    "us_new_cases_7day_mean.name = '7-day average'"
   ]
  },
  {
   "cell_type": "code",
   "execution_count": 41,
   "metadata": {
    "slideshow": {
     "slide_type": "-"
    }
   },
   "outputs": [
    {
     "data": {
      "text/plain": [
       "date\n",
       "2020-01-13         0\n",
       "2020-01-14         0\n",
       "2020-01-15         0\n",
       "2020-01-16         0\n",
       "2020-01-17         0\n",
       "               ...  \n",
       "2021-01-24    167486\n",
       "2021-01-25    165035\n",
       "2021-01-26    164992\n",
       "2021-01-27    159986\n",
       "2021-01-28    155886\n",
       "Name: 7-day average, Length: 382, dtype: int64"
      ]
     },
     "execution_count": 41,
     "metadata": {},
     "output_type": "execute_result"
    }
   ],
   "source": [
    "us_new_cases_7day_mean"
   ]
  },
  {
   "cell_type": "markdown",
   "metadata": {
    "slideshow": {
     "slide_type": "subslide"
    }
   },
   "source": [
    "### Use ```pandas.concat()``` to bind columns together"
   ]
  },
  {
   "cell_type": "code",
   "execution_count": 42,
   "metadata": {
    "slideshow": {
     "slide_type": "-"
    }
   },
   "outputs": [],
   "source": [
    "new_cases_df = pd.concat( ( us_new_cases_daily, us_new_cases_7day_mean ), axis='columns' )"
   ]
  },
  {
   "cell_type": "markdown",
   "metadata": {
    "slideshow": {
     "slide_type": "slide"
    }
   },
   "source": [
    "# Comparison of quick plot and interactive plot"
   ]
  },
  {
   "cell_type": "code",
   "execution_count": 44,
   "metadata": {},
   "outputs": [
    {
     "data": {
      "text/html": [
       "<div>\n",
       "<style scoped>\n",
       "    .dataframe tbody tr th:only-of-type {\n",
       "        vertical-align: middle;\n",
       "    }\n",
       "\n",
       "    .dataframe tbody tr th {\n",
       "        vertical-align: top;\n",
       "    }\n",
       "\n",
       "    .dataframe thead th {\n",
       "        text-align: right;\n",
       "    }\n",
       "</style>\n",
       "<table border=\"1\" class=\"dataframe\">\n",
       "  <thead>\n",
       "    <tr style=\"text-align: right;\">\n",
       "      <th></th>\n",
       "      <th>Daily increase</th>\n",
       "      <th>7-day average</th>\n",
       "    </tr>\n",
       "    <tr>\n",
       "      <th>date</th>\n",
       "      <th></th>\n",
       "      <th></th>\n",
       "    </tr>\n",
       "  </thead>\n",
       "  <tbody>\n",
       "    <tr>\n",
       "      <th>2020-01-13</th>\n",
       "      <td>0</td>\n",
       "      <td>0</td>\n",
       "    </tr>\n",
       "    <tr>\n",
       "      <th>2020-01-14</th>\n",
       "      <td>0</td>\n",
       "      <td>0</td>\n",
       "    </tr>\n",
       "    <tr>\n",
       "      <th>2020-01-15</th>\n",
       "      <td>0</td>\n",
       "      <td>0</td>\n",
       "    </tr>\n",
       "    <tr>\n",
       "      <th>2020-01-16</th>\n",
       "      <td>0</td>\n",
       "      <td>0</td>\n",
       "    </tr>\n",
       "    <tr>\n",
       "      <th>2020-01-17</th>\n",
       "      <td>0</td>\n",
       "      <td>0</td>\n",
       "    </tr>\n",
       "  </tbody>\n",
       "</table>\n",
       "</div>"
      ],
      "text/plain": [
       "            Daily increase  7-day average\n",
       "date                                     \n",
       "2020-01-13               0              0\n",
       "2020-01-14               0              0\n",
       "2020-01-15               0              0\n",
       "2020-01-16               0              0\n",
       "2020-01-17               0              0"
      ]
     },
     "execution_count": 44,
     "metadata": {},
     "output_type": "execute_result"
    }
   ],
   "source": [
    "new_cases_df.head()"
   ]
  },
  {
   "cell_type": "code",
   "execution_count": 45,
   "metadata": {},
   "outputs": [
    {
     "data": {
      "text/plain": [
       "(382, 2)"
      ]
     },
     "execution_count": 45,
     "metadata": {},
     "output_type": "execute_result"
    }
   ],
   "source": [
    "new_cases_df.shape"
   ]
  },
  {
   "cell_type": "code",
   "execution_count": 43,
   "metadata": {
    "slideshow": {
     "slide_type": "-"
    }
   },
   "outputs": [
    {
     "data": {
      "text/plain": [
       "<AxesSubplot:xlabel='date'>"
      ]
     },
     "execution_count": 43,
     "metadata": {},
     "output_type": "execute_result"
    },
    {
     "data": {
      "image/png": "[encoded data removed]",
      "text/plain": [
       "<Figure size 432x288 with 1 Axes>"
      ]
     },
     "metadata": {
      "needs_background": "light"
     },
     "output_type": "display_data"
    }
   ],
   "source": [
    "new_cases_df.plot()"
   ]
  },
  {
   "cell_type": "code",
   "execution_count": 46,
   "metadata": {
    "slideshow": {
     "slide_type": "slide"
    }
   },
   "outputs": [
    {
     "data": {
      "text/html": [
       "\n",
       "\n",
       "\n",
       "\n",
       "\n",
       "\n",
       "  <div class=\"bk-root\" id=\"e76e3ec5-ffa7-48a8-a6b2-c0b6e7f7b240\" data-root-id=\"1002\"></div>\n"
      ]
     },
     "metadata": {},
     "output_type": "display_data"
    },
    {
     "data": {
      "application/javascript": [
       "(function(root) {\n",
       "  function embed_document(root) {\n",
       "    \n",
       "  var docs_json = {\"57d1a441-8c20-4401-a1d8-6e698585fb8e\":{\"roots\":{\"references\":[{\"attributes\":{\"below\":[{\"id\":\"1013\"}],\"center\":[{\"id\":\"1016\"},{\"id\":\"1020\"},{\"id\":\"1061\"}],\"left\":[{\"id\":\"1017\"}],\"output_backend\":\"webgl\",\"plot_height\":400,\"renderers\":[{\"id\":\"1039\"},{\"id\":\"1069\"}],\"sizing_mode\":\"fixed\",\"title\":{\"id\":\"1003\"},\"toolbar\":{\"id\":\"1028\"},\"x_range\":{\"id\":\"1005\"},\"x_scale\":{\"id\":\"1009\"},\"y_range\":{\"id\":\"1007\"},\"y_scale\":{\"id\":\"1011\"}},\"id\":\"1002\",\"subtype\":\"Figure\",\"type\":\"Plot\"},{\"attributes\":{},\"id\":\"1011\",\"type\":\"LinearScale\"},{\"attributes\":{\"months\":[0,6]},\"id\":\"1059\",\"type\":\"MonthsTicker\"},{\"attributes\":{\"months\":[0,2,4,6,8,10]},\"id\":\"1057\",\"type\":\"MonthsTicker\"},{\"attributes\":{\"axis\":{\"id\":\"1013\"},\"ticker\":null},\"id\":\"1016\",\"type\":\"Grid\"},{\"attributes\":{\"data_source\":{\"id\":\"1065\"},\"glyph\":{\"id\":\"1067\"},\"hover_glyph\":null,\"muted_glyph\":null,\"nonselection_glyph\":{\"id\":\"1068\"},\"selection_glyph\":null,\"view\":{\"id\":\"1070\"}},\"id\":\"1069\",\"type\":\"GlyphRenderer\"},{\"attributes\":{\"label\":{\"value\":\" 7-day average\"},\"renderers\":[{\"id\":\"1069\"}]},\"id\":\"1093\",\"type\":\"LegendItem\"},{\"attributes\":{\"formatter\":{\"id\":\"1043\"},\"ticker\":{\"id\":\"1018\"}},\"id\":\"1017\",\"type\":\"LinearAxis\"},{\"attributes\":{\"months\":[0,4,8]},\"id\":\"1058\",\"type\":\"MonthsTicker\"},{\"attributes\":{\"line_color\":\"#ff7f0e\",\"line_width\":2,\"x\":{\"field\":\"__x__values\"},\"y\":{\"field\":\"7-day average\"}},\"id\":\"1067\",\"type\":\"Line\"},{\"attributes\":{},\"id\":\"1043\",\"type\":\"BasicTickFormatter\"},{\"attributes\":{\"days\":[\"%d %B %Y\"],\"hours\":[\"%H:%M:%S\"],\"milliseconds\":[\"%H:%M:%S.%f\"],\"minutes\":[\"%H:%M:%S\"],\"months\":[\"%d %B %Y\"],\"seconds\":[\"%H:%M:%S\"],\"years\":[\"%d %B %Y\"]},\"id\":\"1096\",\"type\":\"DatetimeTickFormatter\"},{\"attributes\":{\"line_alpha\":0.1,\"line_color\":\"#ff7f0e\",\"line_width\":2,\"x\":{\"field\":\"__x__values\"},\"y\":{\"field\":\"7-day average\"}},\"id\":\"1068\",\"type\":\"Line\"},{\"attributes\":{\"source\":{\"id\":\"1065\"}},\"id\":\"1070\",\"type\":\"CDSView\"},{\"attributes\":{\"line_color\":\"#1f77b4\",\"line_width\":2,\"x\":{\"field\":\"__x__values\"},\"y\":{\"field\":\"Daily increase\"}},\"id\":\"1037\",\"type\":\"Line\"},{\"attributes\":{\"data\":{\"7-day average\":[0,0,0,0,0,0,0,0,0,0,0,0,0,0,0,0,0,0,0,0,0,0,0,0,0,0,0,0,0,0,0,0,0,0,0,0,0,0,0,0,0,0,0,0,1,1,1,2,3,7,13,21,30,48,67,90,125,174,226,314,416,544,703,908,1151,1570,2132,2883,3727,4860,6215,7472,8797,10654,12533,14367,15859,17289,19296,21245,22737,24543,26441,27333,28339,29130,29800,30807,31053,30796,31111,30545,29888,29740,29227,28995,28522,28437,28678,28702,28595,28656,28976,30088,30058,29550,29435,29006,28734,28531,27597,27379,27349,26936,26805,26402,25601,25047,24380,23800,23814,23278,23213,22969,22743,22646,22997,22747,22717,22725,22529,22360,22164,21872,21301,20998,20422,20351,20499,20867,21088,21544,21688,21356,21275,21154,20784,20330,19907,20007,20223,20236,20623,20995,21185,22031,22498,23220,24323,25292,26368,27593,29109,31246,33056,34981,36527,38320,40116,42054,43758,45730,47138,48827,49340,49558,50127,51808,52601,54445,55543,57868,60187,61276,62213,63845,65190,65501,65876,65805,66421,66428,66564,66355,66368,65874,65562,64924,64170,63816,62783,62188,61121,59444,58407,56772,54641,53641,52619,52257,52062,52596,53094,52767,52236,52595,51415,50898,48774,47187,46055,44535,43107,42450,41991,41530,41424,41462,41413,41119,41243,40840,41611,39658,39734,40517,40641,39822,39307,36460,36471,35437,34451,34021,34242,35022,36803,38172,39063,39376,39921,40057,40856,42886,42768,42725,43918,44146,44069,43528,41782,42555,42895,42065,42580,43034,43373,43670,44571,45941,47022,47988,49203,49986,51148,52009,53199,54844,54849,55033,57092,59035,59673,61070,63080,66811,69170,69996,71665,74235,76513,78708,79780,90851,93712,96249,99878,104053,108480,114243,109998,114967,121125,127358,132852,139285,144363,149316,153813,157513,160205,164507,167727,170015,171002,171697,172586,175458,167158,167410,162819,160409,159685,161669,163679,175928,180303,189832,196316,200881,206140,208028,208668,209609,210683,211313,212940,209317,211730,214836,215446,212311,213768,211788,211722,210301,205054,188787,186897,180613,178376,179226,179798,182475,190278,203031,210857,213014,215729,218897,225510,241469,239613,242464,244707,244667,240877,234252,227365,220233,214313,208039,197930,192954,187395,179536,173569,167486,165035,164992,159986,155886],\"Daily increase\":[0,0,0,0,0,0,1,0,1,0,0,0,0,0,0,0,0,0,0,0,0,1,0,0,2,0,0,0,0,0,0,1,1,0,0,0,0,0,0,0,0,1,1,1,2,1,2,3,8,30,42,60,63,129,135,170,276,388,420,683,843,1025,1289,1706,2088,3357,4614,6102,6932,9223,11192,10882,12631,17616,19254,19771,19664,21202,24937,26271,28063,31890,33058,25910,28243,30476,30959,35116,33608,31263,28115,24281,25874,29921,31527,31984,27950,27523,25967,26039,29176,31953,34226,35734,27314,22407,25234,26176,30046,32808,29196,25789,22195,22344,25256,27229,27197,25320,21116,18140,22442,21500,26773,25490,23743,20436,20597,20687,21293,26831,24115,22561,19062,18555,16690,19172,22799,23618,23596,21641,20101,19879,20182,20477,23050,22746,19056,16923,16916,20880,21991,23141,25453,21658,18255,22838,24153,27042,30865,32236,29188,26829,33447,39117,39707,44340,43058,41745,39398,47010,51046,53511,54199,54881,45334,40925,50990,62813,59062,67111,62569,61605,57160,58609,69373,70489,76524,64750,64230,56663,62920,69422,71436,75061,64845,60768,54479,58457,64143,68961,67827,60679,53301,42738,51198,52698,54048,60823,53529,50766,41370,54935,56186,51763,57101,56046,42503,37751,40070,45073,43844,46456,46054,37900,34543,36839,44331,44111,46115,43995,38766,31720,42242,30655,44643,51600,44860,33033,28117,22310,30733,37409,44698,41850,34579,33572,34778,40319,43642,46889,45668,35533,39162,48986,39498,43341,55237,47268,34990,35376,36766,44909,45720,49427,50874,38165,37752,38846,51216,55308,56993,57635,46672,43234,46979,57240,63641,68505,57675,47957,57650,60574,61710,73419,82575,83792,64471,63430,72255,79700,89365,97942,91294,141973,83454,90012,105104,118595,128926,131637,112259,118234,133123,148731,157056,173954,167183,146930,149711,159027,167573,187169,196494,183201,153836,154581,165251,187677,129063,198259,151064,136967,149516,179137,201746,214805,228884,217770,182351,181473,215953,214960,219285,235471,225287,186763,192862,190593,231850,241028,239737,203346,196963,178997,190132,221906,204297,125867,190115,152978,163338,196082,225908,223036,180488,279389,207756,178438,215086,248086,269325,292204,266399,227708,194140,214809,221557,222944,243996,216478,186270,150220,144047,186722,184033,188983,174705,143691,133067,143745,151675,155333],\"__x__values\":{\"__ndarray__\":\"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\",\"dtype\":\"float64\",\"order\":\"little\",\"shape\":[382]},\"__x__values_original\":{\"__ndarray__\":\"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\",\"dtype\":\"float64\",\"order\":\"little\",\"shape\":[382]}},\"selected\":{\"id\":\"1046\"},\"selection_policy\":{\"id\":\"1047\"}},\"id\":\"1035\",\"type\":\"ColumnDataSource\"},{\"attributes\":{},\"id\":\"1021\",\"type\":\"PanTool\"},{\"attributes\":{},\"id\":\"1078\",\"type\":\"Selection\"},{\"attributes\":{},\"id\":\"1018\",\"type\":\"BasicTicker\"},{\"attributes\":{\"bottom_units\":\"screen\",\"fill_alpha\":0.5,\"fill_color\":\"lightgrey\",\"left_units\":\"screen\",\"level\":\"overlay\",\"line_alpha\":1.0,\"line_color\":\"black\",\"line_dash\":[4,4],\"line_width\":2,\"right_units\":\"screen\",\"top_units\":\"screen\"},\"id\":\"1027\",\"type\":\"BoxAnnotation\"},{\"attributes\":{},\"id\":\"1079\",\"type\":\"UnionRenderers\"},{\"attributes\":{\"axis_label\":\"date\",\"formatter\":{\"id\":\"1096\"},\"ticker\":{\"id\":\"1014\"}},\"id\":\"1013\",\"type\":\"DatetimeAxis\"},{\"attributes\":{\"text\":\"\"},\"id\":\"1003\",\"type\":\"Title\"},{\"attributes\":{},\"id\":\"1009\",\"type\":\"LinearScale\"},{\"attributes\":{},\"id\":\"1046\",\"type\":\"Selection\"},{\"attributes\":{},\"id\":\"1005\",\"type\":\"DataRange1d\"},{\"attributes\":{},\"id\":\"1047\",\"type\":\"UnionRenderers\"},{\"attributes\":{\"click_policy\":\"hide\",\"items\":[{\"id\":\"1062\"},{\"id\":\"1093\"}],\"location\":\"top_left\"},\"id\":\"1061\",\"type\":\"Legend\"},{\"attributes\":{},\"id\":\"1007\",\"type\":\"DataRange1d\"},{\"attributes\":{\"label\":{\"value\":\" Daily increase\"},\"renderers\":[{\"id\":\"1039\"}]},\"id\":\"1062\",\"type\":\"LegendItem\"},{\"attributes\":{\"days\":[1,4,7,10,13,16,19,22,25,28]},\"id\":\"1053\",\"type\":\"DaysTicker\"},{\"attributes\":{\"source\":{\"id\":\"1035\"}},\"id\":\"1040\",\"type\":\"CDSView\"},{\"attributes\":{\"line_alpha\":0.1,\"line_color\":\"#1f77b4\",\"line_width\":2,\"x\":{\"field\":\"__x__values\"},\"y\":{\"field\":\"Daily increase\"}},\"id\":\"1038\",\"type\":\"Line\"},{\"attributes\":{\"num_minor_ticks\":5,\"tickers\":[{\"id\":\"1049\"},{\"id\":\"1050\"},{\"id\":\"1051\"},{\"id\":\"1052\"},{\"id\":\"1053\"},{\"id\":\"1054\"},{\"id\":\"1055\"},{\"id\":\"1056\"},{\"id\":\"1057\"},{\"id\":\"1058\"},{\"id\":\"1059\"},{\"id\":\"1060\"}]},\"id\":\"1014\",\"type\":\"DatetimeTicker\"},{\"attributes\":{\"data_source\":{\"id\":\"1035\"},\"glyph\":{\"id\":\"1037\"},\"hover_glyph\":null,\"muted_glyph\":null,\"nonselection_glyph\":{\"id\":\"1038\"},\"selection_glyph\":null,\"view\":{\"id\":\"1040\"}},\"id\":\"1039\",\"type\":\"GlyphRenderer\"},{\"attributes\":{\"mantissas\":[1,2,5],\"max_interval\":500.0,\"num_minor_ticks\":0},\"id\":\"1049\",\"type\":\"AdaptiveTicker\"},{\"attributes\":{},\"id\":\"1060\",\"type\":\"YearsTicker\"},{\"attributes\":{\"active_drag\":\"auto\",\"active_inspect\":\"auto\",\"active_multi\":null,\"active_scroll\":{\"id\":\"1022\"},\"active_tap\":\"auto\",\"tools\":[{\"id\":\"1021\"},{\"id\":\"1022\"},{\"id\":\"1023\"},{\"id\":\"1024\"},{\"id\":\"1025\"},{\"id\":\"1026\"},{\"id\":\"1063\"},{\"id\":\"1094\"}]},\"id\":\"1028\",\"type\":\"Toolbar\"},{\"attributes\":{\"base\":60,\"mantissas\":[1,2,5,10,15,20,30],\"max_interval\":1800000.0,\"min_interval\":1000.0,\"num_minor_ticks\":0},\"id\":\"1050\",\"type\":\"AdaptiveTicker\"},{\"attributes\":{},\"id\":\"1026\",\"type\":\"HelpTool\"},{\"attributes\":{\"callback\":null,\"formatters\":{\"@__x__values_original\":\"datetime\"},\"mode\":\"vline\",\"renderers\":[{\"id\":\"1069\"}],\"tooltips\":[[\"date\",\"@__x__values_original{%F}\"],[\"7-day average\",\"@{7-day average}\"]]},\"id\":\"1094\",\"type\":\"HoverTool\"},{\"attributes\":{\"overlay\":{\"id\":\"1027\"}},\"id\":\"1023\",\"type\":\"BoxZoomTool\"},{\"attributes\":{\"base\":24,\"mantissas\":[1,2,4,6,8,12],\"max_interval\":43200000.0,\"min_interval\":3600000.0,\"num_minor_ticks\":0},\"id\":\"1051\",\"type\":\"AdaptiveTicker\"},{\"attributes\":{},\"id\":\"1024\",\"type\":\"SaveTool\"},{\"attributes\":{\"months\":[0,1,2,3,4,5,6,7,8,9,10,11]},\"id\":\"1056\",\"type\":\"MonthsTicker\"},{\"attributes\":{},\"id\":\"1025\",\"type\":\"ResetTool\"},{\"attributes\":{\"callback\":null,\"formatters\":{\"@__x__values_original\":\"datetime\"},\"mode\":\"vline\",\"renderers\":[{\"id\":\"1039\"}],\"tooltips\":[[\"date\",\"@__x__values_original{%F}\"],[\"Daily increase\",\"@{Daily increase}\"]]},\"id\":\"1063\",\"type\":\"HoverTool\"},{\"attributes\":{\"days\":[1,15]},\"id\":\"1055\",\"type\":\"DaysTicker\"},{\"attributes\":{\"days\":[1,2,3,4,5,6,7,8,9,10,11,12,13,14,15,16,17,18,19,20,21,22,23,24,25,26,27,28,29,30,31]},\"id\":\"1052\",\"type\":\"DaysTicker\"},{\"attributes\":{\"data\":{\"7-day average\":[0,0,0,0,0,0,0,0,0,0,0,0,0,0,0,0,0,0,0,0,0,0,0,0,0,0,0,0,0,0,0,0,0,0,0,0,0,0,0,0,0,0,0,0,1,1,1,2,3,7,13,21,30,48,67,90,125,174,226,314,416,544,703,908,1151,1570,2132,2883,3727,4860,6215,7472,8797,10654,12533,14367,15859,17289,19296,21245,22737,24543,26441,27333,28339,29130,29800,30807,31053,30796,31111,30545,29888,29740,29227,28995,28522,28437,28678,28702,28595,28656,28976,30088,30058,29550,29435,29006,28734,28531,27597,27379,27349,26936,26805,26402,25601,25047,24380,23800,23814,23278,23213,22969,22743,22646,22997,22747,22717,22725,22529,22360,22164,21872,21301,20998,20422,20351,20499,20867,21088,21544,21688,21356,21275,21154,20784,20330,19907,20007,20223,20236,20623,20995,21185,22031,22498,23220,24323,25292,26368,27593,29109,31246,33056,34981,36527,38320,40116,42054,43758,45730,47138,48827,49340,49558,50127,51808,52601,54445,55543,57868,60187,61276,62213,63845,65190,65501,65876,65805,66421,66428,66564,66355,66368,65874,65562,64924,64170,63816,62783,62188,61121,59444,58407,56772,54641,53641,52619,52257,52062,52596,53094,52767,52236,52595,51415,50898,48774,47187,46055,44535,43107,42450,41991,41530,41424,41462,41413,41119,41243,40840,41611,39658,39734,40517,40641,39822,39307,36460,36471,35437,34451,34021,34242,35022,36803,38172,39063,39376,39921,40057,40856,42886,42768,42725,43918,44146,44069,43528,41782,42555,42895,42065,42580,43034,43373,43670,44571,45941,47022,47988,49203,49986,51148,52009,53199,54844,54849,55033,57092,59035,59673,61070,63080,66811,69170,69996,71665,74235,76513,78708,79780,90851,93712,96249,99878,104053,108480,114243,109998,114967,121125,127358,132852,139285,144363,149316,153813,157513,160205,164507,167727,170015,171002,171697,172586,175458,167158,167410,162819,160409,159685,161669,163679,175928,180303,189832,196316,200881,206140,208028,208668,209609,210683,211313,212940,209317,211730,214836,215446,212311,213768,211788,211722,210301,205054,188787,186897,180613,178376,179226,179798,182475,190278,203031,210857,213014,215729,218897,225510,241469,239613,242464,244707,244667,240877,234252,227365,220233,214313,208039,197930,192954,187395,179536,173569,167486,165035,164992,159986,155886],\"Daily increase\":[0,0,0,0,0,0,1,0,1,0,0,0,0,0,0,0,0,0,0,0,0,1,0,0,2,0,0,0,0,0,0,1,1,0,0,0,0,0,0,0,0,1,1,1,2,1,2,3,8,30,42,60,63,129,135,170,276,388,420,683,843,1025,1289,1706,2088,3357,4614,6102,6932,9223,11192,10882,12631,17616,19254,19771,19664,21202,24937,26271,28063,31890,33058,25910,28243,30476,30959,35116,33608,31263,28115,24281,25874,29921,31527,31984,27950,27523,25967,26039,29176,31953,34226,35734,27314,22407,25234,26176,30046,32808,29196,25789,22195,22344,25256,27229,27197,25320,21116,18140,22442,21500,26773,25490,23743,20436,20597,20687,21293,26831,24115,22561,19062,18555,16690,19172,22799,23618,23596,21641,20101,19879,20182,20477,23050,22746,19056,16923,16916,20880,21991,23141,25453,21658,18255,22838,24153,27042,30865,32236,29188,26829,33447,39117,39707,44340,43058,41745,39398,47010,51046,53511,54199,54881,45334,40925,50990,62813,59062,67111,62569,61605,57160,58609,69373,70489,76524,64750,64230,56663,62920,69422,71436,75061,64845,60768,54479,58457,64143,68961,67827,60679,53301,42738,51198,52698,54048,60823,53529,50766,41370,54935,56186,51763,57101,56046,42503,37751,40070,45073,43844,46456,46054,37900,34543,36839,44331,44111,46115,43995,38766,31720,42242,30655,44643,51600,44860,33033,28117,22310,30733,37409,44698,41850,34579,33572,34778,40319,43642,46889,45668,35533,39162,48986,39498,43341,55237,47268,34990,35376,36766,44909,45720,49427,50874,38165,37752,38846,51216,55308,56993,57635,46672,43234,46979,57240,63641,68505,57675,47957,57650,60574,61710,73419,82575,83792,64471,63430,72255,79700,89365,97942,91294,141973,83454,90012,105104,118595,128926,131637,112259,118234,133123,148731,157056,173954,167183,146930,149711,159027,167573,187169,196494,183201,153836,154581,165251,187677,129063,198259,151064,136967,149516,179137,201746,214805,228884,217770,182351,181473,215953,214960,219285,235471,225287,186763,192862,190593,231850,241028,239737,203346,196963,178997,190132,221906,204297,125867,190115,152978,163338,196082,225908,223036,180488,279389,207756,178438,215086,248086,269325,292204,266399,227708,194140,214809,221557,222944,243996,216478,186270,150220,144047,186722,184033,188983,174705,143691,133067,143745,151675,155333],\"__x__values\":{\"__ndarray__\":\"AACAM8P5dkIAAECZFfp2QgAAAP9n+nZCAADAZLr6dkIAAIDKDPt2QgAAQDBf+3ZCAAAAlrH7dkIAAMD7A/x2QgAAgGFW/HZCAABAx6j8dkIAAAAt+/x2QgAAwJJN/XZCAACA+J/9dkIAAEBe8v12QgAAAMRE/nZCAADAKZf+dkIAAICP6f52QgAAQPU7/3ZCAAAAW47/dkIAAMDA4P92QgAAgCYzAHdCAABAjIUAd0IAAADy1wB3QgAAwFcqAXdCAACAvXwBd0IAAEAjzwF3QgAAAIkhAndCAADA7nMCd0IAAIBUxgJ3QgAAQLoYA3dCAAAAIGsDd0IAAMCFvQN3QgAAgOsPBHdCAABAUWIEd0IAAAC3tAR3QgAAwBwHBXdCAACAglkFd0IAAEDoqwV3QgAAAE7+BXdCAADAs1AGd0IAAIAZowZ3QgAAQH/1BndCAAAA5UcHd0IAAMBKmgd3QgAAgLDsB3dCAABAFj8Id0IAAAB8kQh3QgAAwOHjCHdCAACARzYJd0IAAECtiAl3QgAAABPbCXdCAADAeC0Kd0IAAIDefwp3QgAAQETSCndCAAAAqiQLd0IAAMAPdwt3QgAAgHXJC3dCAABA2xsMd0IAAABBbgx3QgAAwKbADHdCAACADBMNd0IAAEByZQ13QgAAANi3DXdCAADAPQoOd0IAAICjXA53QgAAQAmvDndCAAAAbwEPd0IAAMDUUw93QgAAgDqmD3dCAABAoPgPd0IAAAAGSxB3QgAAwGudEHdCAACA0e8Qd0IAAEA3QhF3QgAAAJ2UEXdCAADAAucRd0IAAIBoORJ3QgAAQM6LEndCAAAANN4Sd0IAAMCZMBN3QgAAgP+CE3dCAABAZdUTd0IAAADLJxR3QgAAwDB6FHdCAACAlswUd0IAAED8HhV3QgAAAGJxFXdCAADAx8MVd0IAAIAtFhZ3QgAAQJNoFndCAAAA+boWd0IAAMBeDRd3QgAAgMRfF3dCAABAKrIXd0IAAACQBBh3QgAAwPVWGHdCAACAW6kYd0IAAEDB+xh3QgAAACdOGXdCAADAjKAZd0IAAIDy8hl3QgAAQFhFGndCAAAAvpcad0IAAMAj6hp3QgAAgIk8G3dCAABA744bd0IAAABV4Rt3QgAAwLozHHdCAACAIIYcd0IAAECG2Bx3QgAAAOwqHXdCAADAUX0dd0IAAIC3zx13QgAAQB0iHndCAAAAg3Qed0IAAMDoxh53QgAAgE4ZH3dCAABAtGsfd0IAAAAavh93QgAAwH8QIHdCAACA5WIgd0IAAEBLtSB3QgAAALEHIXdCAADAFlohd0IAAIB8rCF3QgAAQOL+IXdCAAAASFEid0IAAMCtoyJ3QgAAgBP2IndCAABAeUgjd0IAAADfmiN3QgAAwETtI3dCAACAqj8kd0IAAEAQkiR3QgAAAHbkJHdCAADA2zYld0IAAIBBiSV3QgAAQKfbJXdCAAAADS4md0IAAMBygCZ3QgAAgNjSJndCAABAPiUnd0IAAACkdyd3QgAAwAnKJ3dCAACAbxwod0IAAEDVbih3QgAAADvBKHdCAADAoBMpd0IAAIAGZil3QgAAQGy4KXdCAAAA0goqd0IAAMA3XSp3QgAAgJ2vKndCAABAAwIrd0IAAABpVCt3QgAAwM6mK3dCAACANPkrd0IAAECaSyx3QgAAAACeLHdCAADAZfAsd0IAAIDLQi13QgAAQDGVLXdCAAAAl+ctd0IAAMD8OS53QgAAgGKMLndCAABAyN4ud0IAAAAuMS93QgAAwJODL3dCAACA+dUvd0IAAEBfKDB3QgAAAMV6MHdCAADAKs0wd0IAAICQHzF3QgAAQPZxMXdCAAAAXMQxd0IAAMDBFjJ3QgAAgCdpMndCAABAjbsyd0IAAADzDTN3QgAAwFhgM3dCAACAvrIzd0IAAEAkBTR3QgAAAIpXNHdCAADA76k0d0IAAIBV/DR3QgAAQLtONXdCAAAAIaE1d0IAAMCG8zV3QgAAgOxFNndCAABAUpg2d0IAAAC46jZ3QgAAwB09N3dCAACAg483d0IAAEDp4Td3QgAAAE80OHdCAADAtIY4d0IAAIAa2Th3QgAAQIArOXdCAAAA5n05d0IAAMBL0Dl3QgAAgLEiOndCAABAF3U6d0IAAAB9xzp3QgAAwOIZO3dCAACASGw7d0IAAECuvjt3QgAAABQRPHdCAADAeWM8d0IAAIDftTx3QgAAQEUIPXdCAAAAq1o9d0IAAMAQrT13QgAAgHb/PXdCAABA3FE+d0IAAABCpD53QgAAwKf2PndCAACADUk/d0IAAEBzmz93QgAAANntP3dCAADAPkBAd0IAAICkkkB3QgAAQArlQHdCAAAAcDdBd0IAAMDViUF3QgAAgDvcQXdCAABAoS5Cd0IAAAAHgUJ3QgAAwGzTQndCAACA0iVDd0IAAEA4eEN3QgAAAJ7KQ3dCAADAAx1Ed0IAAIBpb0R3QgAAQM/BRHdCAAAANRRFd0IAAMCaZkV3QgAAgAC5RXdCAABAZgtGd0IAAADMXUZ3QgAAwDGwRndCAACAlwJHd0IAAED9VEd3QgAAAGOnR3dCAADAyPlHd0IAAIAuTEh3QgAAQJSeSHdCAAAA+vBId0IAAMBfQ0l3QgAAgMWVSXdCAABAK+hJd0IAAACROkp3QgAAwPaMSndCAACAXN9Kd0IAAEDCMUt3QgAAACiES3dCAADAjdZLd0IAAIDzKEx3QgAAQFl7THdCAAAAv81Md0IAAMAkIE13QgAAgIpyTXdCAABA8MRNd0IAAABWF053QgAAwLtpTndCAACAIbxOd0IAAECHDk93QgAAAO1gT3dCAADAUrNPd0IAAIC4BVB3QgAAQB5YUHdCAAAAhKpQd0IAAMDp/FB3QgAAgE9PUXdCAABAtaFRd0IAAAAb9FF3QgAAwIBGUndCAACA5phSd0IAAEBM61J3QgAAALI9U3dCAADAF5BTd0IAAIB94lN3QgAAQOM0VHdCAAAASYdUd0IAAMCu2VR3QgAAgBQsVXdCAABAen5Vd0IAAADg0FV3QgAAwEUjVndCAACAq3VWd0IAAEARyFZ3QgAAAHcaV3dCAADA3GxXd0IAAIBCv1d3QgAAQKgRWHdCAAAADmRYd0IAAMBztlh3QgAAgNkIWXdCAABAP1tZd0IAAAClrVl3QgAAwAoAWndCAACAcFJad0IAAEDWpFp3QgAAADz3WndCAADAoUlbd0IAAIAHnFt3QgAAQG3uW3dCAAAA00Bcd0IAAMA4k1x3QgAAgJ7lXHdCAABABDhdd0IAAABqil13QgAAwM/cXXdCAACANS9ed0IAAECbgV53QgAAAAHUXndCAADAZiZfd0IAAIDMeF93QgAAQDLLX3dCAAAAmB1gd0IAAMD9b2B3QgAAgGPCYHdCAABAyRRhd0IAAAAvZ2F3QgAAwJS5YXdCAACA+gtid0IAAEBgXmJ3QgAAAMawYndCAADAKwNjd0IAAICRVWN3QgAAQPenY3dCAAAAXfpjd0IAAMDCTGR3QgAAgCifZHdCAABAjvFkd0IAAAD0Q2V3QgAAwFmWZXdCAACAv+hld0IAAEAlO2Z3QgAAAIuNZndCAADA8N9md0IAAIBWMmd3QgAAQLyEZ3dCAAAAItdnd0IAAMCHKWh3QgAAgO17aHdCAABAU85od0IAAAC5IGl3QgAAwB5zaXdCAACAhMVpd0IAAEDqF2p3QgAAAFBqandCAADAtbxqd0IAAIAbD2t3QgAAQIFha3dCAAAA57Nrd0IAAMBMBmx3QgAAgLJYbHdCAABAGKtsd0IAAAB+/Wx3QgAAwONPbXdCAACASaJtd0IAAECv9G13QgAAABVHbndCAADAeplud0IAAIDg6253QgAAQEY+b3dCAAAArJBvd0IAAMAR4293QgAAgHc1cHdCAABA3Ydwd0IAAABD2nB3QgAAwKgscXdCAACADn9xd0IAAEB00XF3QgAAANojcndCAADAP3Zyd0IAAIClyHJ3QgAAQAsbc3dCAAAAcW1zd0IAAMDWv3N3QgAAgDwSdHdCAABAomR0d0I=\",\"dtype\":\"float64\",\"order\":\"little\",\"shape\":[382]},\"__x__values_original\":{\"__ndarray__\":\"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\",\"dtype\":\"float64\",\"order\":\"little\",\"shape\":[382]}},\"selected\":{\"id\":\"1078\"},\"selection_policy\":{\"id\":\"1079\"}},\"id\":\"1065\",\"type\":\"ColumnDataSource\"},{\"attributes\":{\"axis\":{\"id\":\"1017\"},\"dimension\":1,\"ticker\":null},\"id\":\"1020\",\"type\":\"Grid\"},{\"attributes\":{},\"id\":\"1022\",\"type\":\"WheelZoomTool\"},{\"attributes\":{\"days\":[1,8,15,22]},\"id\":\"1054\",\"type\":\"DaysTicker\"}],\"root_ids\":[\"1002\"]},\"title\":\"Bokeh Application\",\"version\":\"2.2.3\"}};\n",
       "  var render_items = [{\"docid\":\"57d1a441-8c20-4401-a1d8-6e698585fb8e\",\"root_ids\":[\"1002\"],\"roots\":{\"1002\":\"e76e3ec5-ffa7-48a8-a6b2-c0b6e7f7b240\"}}];\n",
       "  root.Bokeh.embed.embed_items_notebook(docs_json, render_items);\n",
       "\n",
       "  }\n",
       "  if (root.Bokeh !== undefined) {\n",
       "    embed_document(root);\n",
       "  } else {\n",
       "    var attempts = 0;\n",
       "    var timer = setInterval(function(root) {\n",
       "      if (root.Bokeh !== undefined) {\n",
       "        clearInterval(timer);\n",
       "        embed_document(root);\n",
       "      } else {\n",
       "        attempts++;\n",
       "        if (attempts > 100) {\n",
       "          clearInterval(timer);\n",
       "          console.log(\"Bokeh: ERROR: Unable to run BokehJS code because BokehJS library is missing\");\n",
       "        }\n",
       "      }\n",
       "    }, 10, root)\n",
       "  }\n",
       "})(window);"
      ],
      "application/vnd.bokehjs_exec.v0+json": ""
     },
     "metadata": {
      "application/vnd.bokehjs_exec.v0+json": {
       "id": "1002"
      }
     },
     "output_type": "display_data"
    },
    {
     "data": {
      "text/html": [
       "<div style=\"display: table;\"><div style=\"display: table-row;\"><div style=\"display: table-cell;\"><b title=\"bokeh.plotting.figure.Figure\">Figure</b>(</div><div style=\"display: table-cell;\">id&nbsp;=&nbsp;'1002', <span id=\"1225\" style=\"cursor: pointer;\">&hellip;)</span></div></div><div class=\"1224\" style=\"display: none;\"><div style=\"display: table-cell;\"></div><div style=\"display: table-cell;\">above&nbsp;=&nbsp;[],</div></div><div class=\"1224\" style=\"display: none;\"><div style=\"display: table-cell;\"></div><div style=\"display: table-cell;\">align&nbsp;=&nbsp;'start',</div></div><div class=\"1224\" style=\"display: none;\"><div style=\"display: table-cell;\"></div><div style=\"display: table-cell;\">aspect_ratio&nbsp;=&nbsp;None,</div></div><div class=\"1224\" style=\"display: none;\"><div style=\"display: table-cell;\"></div><div style=\"display: table-cell;\">aspect_scale&nbsp;=&nbsp;1,</div></div><div class=\"1224\" style=\"display: none;\"><div style=\"display: table-cell;\"></div><div style=\"display: table-cell;\">background&nbsp;=&nbsp;None,</div></div><div class=\"1224\" style=\"display: none;\"><div style=\"display: table-cell;\"></div><div style=\"display: table-cell;\">background_fill_alpha&nbsp;=&nbsp;1.0,</div></div><div class=\"1224\" style=\"display: none;\"><div style=\"display: table-cell;\"></div><div style=\"display: table-cell;\">background_fill_color&nbsp;=&nbsp;'#ffffff',</div></div><div class=\"1224\" style=\"display: none;\"><div style=\"display: table-cell;\"></div><div style=\"display: table-cell;\">below&nbsp;=&nbsp;[DatetimeAxis(id='1013', ...)],</div></div><div class=\"1224\" style=\"display: none;\"><div style=\"display: table-cell;\"></div><div style=\"display: table-cell;\">border_fill_alpha&nbsp;=&nbsp;1.0,</div></div><div class=\"1224\" style=\"display: none;\"><div style=\"display: table-cell;\"></div><div style=\"display: table-cell;\">border_fill_color&nbsp;=&nbsp;'#ffffff',</div></div><div class=\"1224\" style=\"display: none;\"><div style=\"display: table-cell;\"></div><div style=\"display: table-cell;\">center&nbsp;=&nbsp;[Grid(id='1016', ...), Grid(id='1020', ...), Legend(id='1061', ...)],</div></div><div class=\"1224\" style=\"display: none;\"><div style=\"display: table-cell;\"></div><div style=\"display: table-cell;\">css_classes&nbsp;=&nbsp;[],</div></div><div class=\"1224\" style=\"display: none;\"><div style=\"display: table-cell;\"></div><div style=\"display: table-cell;\">disabled&nbsp;=&nbsp;False,</div></div><div class=\"1224\" style=\"display: none;\"><div style=\"display: table-cell;\"></div><div style=\"display: table-cell;\">extra_x_ranges&nbsp;=&nbsp;{},</div></div><div class=\"1224\" style=\"display: none;\"><div style=\"display: table-cell;\"></div><div style=\"display: table-cell;\">extra_y_ranges&nbsp;=&nbsp;{},</div></div><div class=\"1224\" style=\"display: none;\"><div style=\"display: table-cell;\"></div><div style=\"display: table-cell;\">frame_height&nbsp;=&nbsp;None,</div></div><div class=\"1224\" style=\"display: none;\"><div style=\"display: table-cell;\"></div><div style=\"display: table-cell;\">frame_width&nbsp;=&nbsp;None,</div></div><div class=\"1224\" style=\"display: none;\"><div style=\"display: table-cell;\"></div><div style=\"display: table-cell;\">height&nbsp;=&nbsp;None,</div></div><div class=\"1224\" style=\"display: none;\"><div style=\"display: table-cell;\"></div><div style=\"display: table-cell;\">height_policy&nbsp;=&nbsp;'auto',</div></div><div class=\"1224\" style=\"display: none;\"><div style=\"display: table-cell;\"></div><div style=\"display: table-cell;\">hidpi&nbsp;=&nbsp;True,</div></div><div class=\"1224\" style=\"display: none;\"><div style=\"display: table-cell;\"></div><div style=\"display: table-cell;\">js_event_callbacks&nbsp;=&nbsp;{},</div></div><div class=\"1224\" style=\"display: none;\"><div style=\"display: table-cell;\"></div><div style=\"display: table-cell;\">js_property_callbacks&nbsp;=&nbsp;{},</div></div><div class=\"1224\" style=\"display: none;\"><div style=\"display: table-cell;\"></div><div style=\"display: table-cell;\">left&nbsp;=&nbsp;[LinearAxis(id='1017', ...)],</div></div><div class=\"1224\" style=\"display: none;\"><div style=\"display: table-cell;\"></div><div style=\"display: table-cell;\">lod_factor&nbsp;=&nbsp;10,</div></div><div class=\"1224\" style=\"display: none;\"><div style=\"display: table-cell;\"></div><div style=\"display: table-cell;\">lod_interval&nbsp;=&nbsp;300,</div></div><div class=\"1224\" style=\"display: none;\"><div style=\"display: table-cell;\"></div><div style=\"display: table-cell;\">lod_threshold&nbsp;=&nbsp;2000,</div></div><div class=\"1224\" style=\"display: none;\"><div style=\"display: table-cell;\"></div><div style=\"display: table-cell;\">lod_timeout&nbsp;=&nbsp;500,</div></div><div class=\"1224\" style=\"display: none;\"><div style=\"display: table-cell;\"></div><div style=\"display: table-cell;\">margin&nbsp;=&nbsp;(0, 0, 0, 0),</div></div><div class=\"1224\" style=\"display: none;\"><div style=\"display: table-cell;\"></div><div style=\"display: table-cell;\">match_aspect&nbsp;=&nbsp;False,</div></div><div class=\"1224\" style=\"display: none;\"><div style=\"display: table-cell;\"></div><div style=\"display: table-cell;\">max_height&nbsp;=&nbsp;None,</div></div><div class=\"1224\" style=\"display: none;\"><div style=\"display: table-cell;\"></div><div style=\"display: table-cell;\">max_width&nbsp;=&nbsp;None,</div></div><div class=\"1224\" style=\"display: none;\"><div style=\"display: table-cell;\"></div><div style=\"display: table-cell;\">min_border&nbsp;=&nbsp;5,</div></div><div class=\"1224\" style=\"display: none;\"><div style=\"display: table-cell;\"></div><div style=\"display: table-cell;\">min_border_bottom&nbsp;=&nbsp;None,</div></div><div class=\"1224\" style=\"display: none;\"><div style=\"display: table-cell;\"></div><div style=\"display: table-cell;\">min_border_left&nbsp;=&nbsp;None,</div></div><div class=\"1224\" style=\"display: none;\"><div style=\"display: table-cell;\"></div><div style=\"display: table-cell;\">min_border_right&nbsp;=&nbsp;None,</div></div><div class=\"1224\" style=\"display: none;\"><div style=\"display: table-cell;\"></div><div style=\"display: table-cell;\">min_border_top&nbsp;=&nbsp;None,</div></div><div class=\"1224\" style=\"display: none;\"><div style=\"display: table-cell;\"></div><div style=\"display: table-cell;\">min_height&nbsp;=&nbsp;None,</div></div><div class=\"1224\" style=\"display: none;\"><div style=\"display: table-cell;\"></div><div style=\"display: table-cell;\">min_width&nbsp;=&nbsp;None,</div></div><div class=\"1224\" style=\"display: none;\"><div style=\"display: table-cell;\"></div><div style=\"display: table-cell;\">name&nbsp;=&nbsp;None,</div></div><div class=\"1224\" style=\"display: none;\"><div style=\"display: table-cell;\"></div><div style=\"display: table-cell;\">outline_line_alpha&nbsp;=&nbsp;1.0,</div></div><div class=\"1224\" style=\"display: none;\"><div style=\"display: table-cell;\"></div><div style=\"display: table-cell;\">outline_line_cap&nbsp;=&nbsp;'butt',</div></div><div class=\"1224\" style=\"display: none;\"><div style=\"display: table-cell;\"></div><div style=\"display: table-cell;\">outline_line_color&nbsp;=&nbsp;'#e5e5e5',</div></div><div class=\"1224\" style=\"display: none;\"><div style=\"display: table-cell;\"></div><div style=\"display: table-cell;\">outline_line_dash&nbsp;=&nbsp;[],</div></div><div class=\"1224\" style=\"display: none;\"><div style=\"display: table-cell;\"></div><div style=\"display: table-cell;\">outline_line_dash_offset&nbsp;=&nbsp;0,</div></div><div class=\"1224\" style=\"display: none;\"><div style=\"display: table-cell;\"></div><div style=\"display: table-cell;\">outline_line_join&nbsp;=&nbsp;'bevel',</div></div><div class=\"1224\" style=\"display: none;\"><div style=\"display: table-cell;\"></div><div style=\"display: table-cell;\">outline_line_width&nbsp;=&nbsp;1,</div></div><div class=\"1224\" style=\"display: none;\"><div style=\"display: table-cell;\"></div><div style=\"display: table-cell;\">output_backend&nbsp;=&nbsp;'webgl',</div></div><div class=\"1224\" style=\"display: none;\"><div style=\"display: table-cell;\"></div><div style=\"display: table-cell;\">plot_height&nbsp;=&nbsp;400,</div></div><div class=\"1224\" style=\"display: none;\"><div style=\"display: table-cell;\"></div><div style=\"display: table-cell;\">plot_width&nbsp;=&nbsp;600,</div></div><div class=\"1224\" style=\"display: none;\"><div style=\"display: table-cell;\"></div><div style=\"display: table-cell;\">renderers&nbsp;=&nbsp;[GlyphRenderer(id='1039', ...), GlyphRenderer(id='1069', ...)],</div></div><div class=\"1224\" style=\"display: none;\"><div style=\"display: table-cell;\"></div><div style=\"display: table-cell;\">reset_policy&nbsp;=&nbsp;'standard',</div></div><div class=\"1224\" style=\"display: none;\"><div style=\"display: table-cell;\"></div><div style=\"display: table-cell;\">right&nbsp;=&nbsp;[],</div></div><div class=\"1224\" style=\"display: none;\"><div style=\"display: table-cell;\"></div><div style=\"display: table-cell;\">sizing_mode&nbsp;=&nbsp;'fixed',</div></div><div class=\"1224\" style=\"display: none;\"><div style=\"display: table-cell;\"></div><div style=\"display: table-cell;\">subscribed_events&nbsp;=&nbsp;[],</div></div><div class=\"1224\" style=\"display: none;\"><div style=\"display: table-cell;\"></div><div style=\"display: table-cell;\">tags&nbsp;=&nbsp;[],</div></div><div class=\"1224\" style=\"display: none;\"><div style=\"display: table-cell;\"></div><div style=\"display: table-cell;\">title&nbsp;=&nbsp;Title(id='1003', ...),</div></div><div class=\"1224\" style=\"display: none;\"><div style=\"display: table-cell;\"></div><div style=\"display: table-cell;\">title_location&nbsp;=&nbsp;'above',</div></div><div class=\"1224\" style=\"display: none;\"><div style=\"display: table-cell;\"></div><div style=\"display: table-cell;\">toolbar&nbsp;=&nbsp;Toolbar(id='1028', ...),</div></div><div class=\"1224\" style=\"display: none;\"><div style=\"display: table-cell;\"></div><div style=\"display: table-cell;\">toolbar_location&nbsp;=&nbsp;'right',</div></div><div class=\"1224\" style=\"display: none;\"><div style=\"display: table-cell;\"></div><div style=\"display: table-cell;\">toolbar_sticky&nbsp;=&nbsp;True,</div></div><div class=\"1224\" style=\"display: none;\"><div style=\"display: table-cell;\"></div><div style=\"display: table-cell;\">visible&nbsp;=&nbsp;True,</div></div><div class=\"1224\" style=\"display: none;\"><div style=\"display: table-cell;\"></div><div style=\"display: table-cell;\">width&nbsp;=&nbsp;None,</div></div><div class=\"1224\" style=\"display: none;\"><div style=\"display: table-cell;\"></div><div style=\"display: table-cell;\">width_policy&nbsp;=&nbsp;'auto',</div></div><div class=\"1224\" style=\"display: none;\"><div style=\"display: table-cell;\"></div><div style=\"display: table-cell;\">x_range&nbsp;=&nbsp;DataRange1d(id='1005', ...),</div></div><div class=\"1224\" style=\"display: none;\"><div style=\"display: table-cell;\"></div><div style=\"display: table-cell;\">x_scale&nbsp;=&nbsp;LinearScale(id='1009', ...),</div></div><div class=\"1224\" style=\"display: none;\"><div style=\"display: table-cell;\"></div><div style=\"display: table-cell;\">y_range&nbsp;=&nbsp;DataRange1d(id='1007', ...),</div></div><div class=\"1224\" style=\"display: none;\"><div style=\"display: table-cell;\"></div><div style=\"display: table-cell;\">y_scale&nbsp;=&nbsp;LinearScale(id='1011', ...))</div></div></div>\n",
       "<script>\n",
       "(function() {\n",
       "  var expanded = false;\n",
       "  var ellipsis = document.getElementById(\"1225\");\n",
       "  ellipsis.addEventListener(\"click\", function() {\n",
       "    var rows = document.getElementsByClassName(\"1224\");\n",
       "    for (var i = 0; i < rows.length; i++) {\n",
       "      var el = rows[i];\n",
       "      el.style.display = expanded ? \"none\" : \"table-row\";\n",
       "    }\n",
       "    ellipsis.innerHTML = expanded ? \"&hellip;)\" : \"&lsaquo;&lsaquo;&lsaquo;\";\n",
       "    expanded = !expanded;\n",
       "  });\n",
       "})();\n",
       "</script>\n"
      ],
      "text/plain": [
       "Figure(id='1002', ...)"
      ]
     },
     "execution_count": 46,
     "metadata": {},
     "output_type": "execute_result"
    }
   ],
   "source": [
    "new_cases_df.plot_bokeh( legend=\"top_left\" )"
   ]
  },
  {
   "cell_type": "markdown",
   "metadata": {
    "slideshow": {
     "slide_type": "slide"
    }
   },
   "source": [
    "# Saving plot to HTML file\n",
    "\n",
    "I have been using a somewhat hacky workaround to save plots. I use the ```return_html=True``` argument to grab the raw html, and writing that directly to a file."
   ]
  },
  {
   "cell_type": "code",
   "execution_count": null,
   "metadata": {
    "slideshow": {
     "slide_type": "subslide"
    }
   },
   "outputs": [],
   "source": [
    "html = new_cases_df.plot_bokeh( legend=\"top_left\", return_html=True )"
   ]
  },
  {
   "cell_type": "code",
   "execution_count": null,
   "metadata": {
    "slideshow": {
     "slide_type": "subslide"
    }
   },
   "outputs": [],
   "source": [
    "with open(\"/Users/colettace/Desktop/CHRIS_BOKEH_PLOT.html\" , \"w\") as f:\n",
    "    f.write( '<!DOCTYPE HTML PUBLIC \"-//W3C//DTD HTML 4.01 Transitional//EN\" \"http://www.w3.org/TR/html4/loose.dtd\">\\n' )\n",
    "    f.write( '<html lang=\"en\">\\n' )\n",
    "    f.write( '  <head>\\n' )\n",
    "    f.write( '    <meta http-equiv=\"content-type\" content=\"text/html; charset=utf-8\">\\n' )\n",
    "    f.write( '    <title>CHRIS\\'S BOKEH PLOT</title>\\n' )\n",
    "    f.write( '  </head>\\n' )\n",
    "    f.write( '  <body>\\n' )\n",
    "    f.write( html )\n",
    "    f.write( '  </body>\\n' )\n",
    "    f.write( '</html>\\n' )"
   ]
  },
  {
   "cell_type": "markdown",
   "metadata": {
    "slideshow": {
     "slide_type": "slide"
    }
   },
   "source": [
    "# Part 2: Maryland county-level chloropleth map"
   ]
  },
  {
   "cell_type": "code",
   "execution_count": null,
   "metadata": {
    "slideshow": {
     "slide_type": "-"
    }
   },
   "outputs": [],
   "source": [
    "us_county_covid_death_url = \"https://raw.githubusercontent.com/CSSEGISandData/COVID-19/master/csse_covid_19_data/csse_covid_19_time_series/time_series_covid19_deaths_US.csv\"\n",
    "us_county_covid_url = \"https://raw.githubusercontent.com/CSSEGISandData/COVID-19/master/csse_covid_19_data/csse_covid_19_time_series/time_series_covid19_confirmed_US.csv\""
   ]
  },
  {
   "cell_type": "code",
   "execution_count": null,
   "metadata": {
    "slideshow": {
     "slide_type": "-"
    }
   },
   "outputs": [],
   "source": [
    "us_county_covid_data = pd.read_csv( us_county_covid_url )"
   ]
  },
  {
   "cell_type": "code",
   "execution_count": null,
   "metadata": {
    "slideshow": {
     "slide_type": "-"
    }
   },
   "outputs": [],
   "source": [
    "type( us_county_covid_data )"
   ]
  },
  {
   "cell_type": "code",
   "execution_count": null,
   "metadata": {
    "slideshow": {
     "slide_type": "-"
    }
   },
   "outputs": [],
   "source": [
    "us_county_covid_data.shape"
   ]
  },
  {
   "cell_type": "code",
   "execution_count": null,
   "metadata": {
    "slideshow": {
     "slide_type": "subslide"
    }
   },
   "outputs": [],
   "source": [
    "us_county_covid_data.head()"
   ]
  },
  {
   "cell_type": "code",
   "execution_count": null,
   "metadata": {
    "slideshow": {
     "slide_type": "subslide"
    }
   },
   "outputs": [],
   "source": [
    "us_county_covid_data.sample(10)"
   ]
  },
  {
   "cell_type": "code",
   "execution_count": null,
   "metadata": {
    "slideshow": {
     "slide_type": "subslide"
    }
   },
   "outputs": [],
   "source": [
    "wanted_rows = us_county_covid_data['Province_State'] == 'Maryland'"
   ]
  },
  {
   "cell_type": "code",
   "execution_count": null,
   "metadata": {
    "slideshow": {
     "slide_type": "-"
    }
   },
   "outputs": [],
   "source": [
    "wanted_rows"
   ]
  },
  {
   "cell_type": "code",
   "execution_count": null,
   "metadata": {
    "slideshow": {
     "slide_type": "-"
    }
   },
   "outputs": [],
   "source": [
    "maryland_county_covid_data = us_county_covid_data[ wanted_rows ].copy()"
   ]
  },
  {
   "cell_type": "code",
   "execution_count": null,
   "metadata": {
    "slideshow": {
     "slide_type": "-"
    }
   },
   "outputs": [],
   "source": [
    "maryland_county_covid_data.shape"
   ]
  },
  {
   "cell_type": "code",
   "execution_count": null,
   "metadata": {
    "scrolled": true,
    "slideshow": {
     "slide_type": "subslide"
    }
   },
   "outputs": [],
   "source": [
    "maryland_county_covid_data"
   ]
  },
  {
   "cell_type": "markdown",
   "metadata": {
    "slideshow": {
     "slide_type": "slide"
    }
   },
   "source": [
    "## Download US geographic boundaries from www.census.gov\n",
    "\n",
    "* [US geographic boundaries download page](https://www.census.gov/geographies/mapping-files/time-series/geo/cartographic-boundary.html)\n",
    "    * Manually download and unzip [1:500,000 scale shapefiles](https://www2.census.gov/geo/tiger/GENZ2019/shp/cb_2019_us_county_500k.zip)\n",
    "    * Use Python to download the file and unzip it programmatically"
   ]
  },
  {
   "cell_type": "code",
   "execution_count": null,
   "metadata": {
    "slideshow": {
     "slide_type": "subslide"
    }
   },
   "outputs": [],
   "source": [
    "url = 'https://www2.census.gov/geo/tiger/GENZ2019/shp/cb_2019_us_county_500k.zip'\n",
    "r = requests.get(url, allow_redirects=True)\n",
    "open('cb_2019_us_county_500k.zip', 'wb').write(r.content)"
   ]
  },
  {
   "cell_type": "code",
   "execution_count": null,
   "metadata": {
    "slideshow": {
     "slide_type": "subslide"
    }
   },
   "outputs": [],
   "source": [
    "from zipfile import ZipFile"
   ]
  },
  {
   "cell_type": "code",
   "execution_count": null,
   "metadata": {
    "slideshow": {
     "slide_type": "fragment"
    }
   },
   "outputs": [],
   "source": [
    "with ZipFile('cb_2019_us_county_500k.zip') as myzip:\n",
    "    myzip.extractall()"
   ]
  },
  {
   "cell_type": "code",
   "execution_count": null,
   "metadata": {
    "slideshow": {
     "slide_type": "slide"
    }
   },
   "outputs": [],
   "source": [
    "us_county_shapes = gpd.read_file( 'cb_2019_us_county_500k.shp' )"
   ]
  },
  {
   "cell_type": "code",
   "execution_count": null,
   "metadata": {
    "slideshow": {
     "slide_type": "-"
    }
   },
   "outputs": [],
   "source": [
    "type( us_county_shapes )"
   ]
  },
  {
   "cell_type": "code",
   "execution_count": null,
   "metadata": {
    "slideshow": {
     "slide_type": "-"
    }
   },
   "outputs": [],
   "source": [
    "us_county_shapes.shape"
   ]
  },
  {
   "cell_type": "code",
   "execution_count": null,
   "metadata": {
    "slideshow": {
     "slide_type": "subslide"
    }
   },
   "outputs": [],
   "source": [
    "us_county_shapes.info()"
   ]
  },
  {
   "cell_type": "code",
   "execution_count": null,
   "metadata": {
    "slideshow": {
     "slide_type": "subslide"
    }
   },
   "outputs": [],
   "source": [
    "us_county_shapes.head()"
   ]
  },
  {
   "cell_type": "markdown",
   "metadata": {
    "slideshow": {
     "slide_type": "slide"
    }
   },
   "source": [
    "# Join the COVID table and the geography table together\n",
    "\n",
    "Create a table join key 'FIPS' [Federal Information Processing Standard state code](https://en.wikipedia.org/wiki/Federal_Information_Processing_Standard_state_code)"
   ]
  },
  {
   "cell_type": "code",
   "execution_count": null,
   "metadata": {
    "slideshow": {
     "slide_type": "subslide"
    }
   },
   "outputs": [],
   "source": [
    "us_county_shapes['FIPS'] = us_county_shapes['STATEFP'] + us_county_shapes['COUNTYFP'] "
   ]
  },
  {
   "cell_type": "code",
   "execution_count": null,
   "metadata": {
    "slideshow": {
     "slide_type": "subslide"
    }
   },
   "outputs": [],
   "source": [
    "us_county_shapes.head()"
   ]
  },
  {
   "cell_type": "markdown",
   "metadata": {
    "slideshow": {
     "slide_type": "subslide"
    }
   },
   "source": [
    "## Make sure the FIPS column has the same data type"
   ]
  },
  {
   "cell_type": "code",
   "execution_count": null,
   "metadata": {
    "slideshow": {
     "slide_type": "-"
    }
   },
   "outputs": [],
   "source": [
    "us_county_shapes['FIPS'].dtype"
   ]
  },
  {
   "cell_type": "code",
   "execution_count": null,
   "metadata": {
    "slideshow": {
     "slide_type": "-"
    }
   },
   "outputs": [],
   "source": [
    "maryland_county_covid_data['FIPS'].dtype"
   ]
  },
  {
   "cell_type": "code",
   "execution_count": null,
   "metadata": {
    "slideshow": {
     "slide_type": "-"
    }
   },
   "outputs": [],
   "source": [
    "us_county_shapes['FIPS'] = us_county_shapes['FIPS'].astype( int )"
   ]
  },
  {
   "cell_type": "code",
   "execution_count": null,
   "metadata": {
    "slideshow": {
     "slide_type": "-"
    }
   },
   "outputs": [],
   "source": [
    "maryland_county_covid_data['FIPS'] = maryland_county_covid_data['FIPS'].astype( int )"
   ]
  },
  {
   "cell_type": "markdown",
   "metadata": {
    "slideshow": {
     "slide_type": "subslide"
    }
   },
   "source": [
    "## Perform table merge\n",
    "\n",
    "* INNER join: resultant output contains only the rows for which the join keys appear in both tables"
   ]
  },
  {
   "cell_type": "code",
   "execution_count": null,
   "metadata": {
    "slideshow": {
     "slide_type": "-"
    }
   },
   "outputs": [],
   "source": [
    "merged_data = us_county_shapes.merge( maryland_county_covid_data, on='FIPS', how='inner' ) "
   ]
  },
  {
   "cell_type": "code",
   "execution_count": null,
   "metadata": {
    "slideshow": {
     "slide_type": "subslide"
    }
   },
   "outputs": [],
   "source": [
    "merged_data"
   ]
  },
  {
   "cell_type": "markdown",
   "metadata": {
    "slideshow": {
     "slide_type": "slide"
    }
   },
   "source": [
    "# Chloropleth Map\n",
    "\n",
    "* Use ```plot_bokeh()```\n",
    "* IMPORTANT:\n",
    "    * Chloropleth maps require the data frame object to be a ```GeoDataFrame```\n",
    "    * A column with label ```'geometry'``` must be in the ```GeoDataFrame```"
   ]
  },
  {
   "cell_type": "code",
   "execution_count": null,
   "metadata": {
    "slideshow": {
     "slide_type": "-"
    }
   },
   "outputs": [],
   "source": [
    "type( merged_data )"
   ]
  },
  {
   "cell_type": "code",
   "execution_count": null,
   "metadata": {
    "slideshow": {
     "slide_type": "-"
    }
   },
   "outputs": [],
   "source": [
    "'geometry' in merged_data.columns"
   ]
  },
  {
   "cell_type": "code",
   "execution_count": null,
   "metadata": {
    "slideshow": {
     "slide_type": "subslide"
    }
   },
   "outputs": [],
   "source": [
    "merged_data.plot_bokeh()"
   ]
  },
  {
   "cell_type": "code",
   "execution_count": null,
   "metadata": {
    "slideshow": {
     "slide_type": "subslide"
    }
   },
   "outputs": [],
   "source": [
    "date_columns = [ _ for _ in merged_data.columns if _.endswith( '/20' ) ]"
   ]
  },
  {
   "cell_type": "code",
   "execution_count": null,
   "metadata": {
    "slideshow": {
     "slide_type": "-"
    }
   },
   "outputs": [],
   "source": [
    "len( date_columns )"
   ]
  },
  {
   "cell_type": "code",
   "execution_count": null,
   "metadata": {
    "slideshow": {
     "slide_type": "-"
    }
   },
   "outputs": [],
   "source": [
    "date_columns[-10:]"
   ]
  },
  {
   "cell_type": "code",
   "execution_count": null,
   "metadata": {
    "slideshow": {
     "slide_type": "slide"
    }
   },
   "outputs": [],
   "source": [
    "merged_data.plot_bokeh(\n",
    "    #figsize=(1600, 900),\n",
    "    #figsize=(600, 400),\n",
    "    slider=date_columns,\n",
    "    slider_name=\"Date\",\n",
    "    hovertool_columns= ['NAME'] + date_columns[-5:] )"
   ]
  },
  {
   "cell_type": "code",
   "execution_count": null,
   "metadata": {},
   "outputs": [],
   "source": [
    "gpd.__version__"
   ]
  },
  {
   "cell_type": "code",
   "execution_count": null,
   "metadata": {},
   "outputs": [],
   "source": []
  }
 ],
 "metadata": {
  "kernelspec": {
   "display_name": "Python 3",
   "language": "python",
   "name": "python3"
  },
  "language_info": {
   "codemirror_mode": {
    "name": "ipython",
    "version": 3
   },
   "file_extension": ".py",
   "mimetype": "text/x-python",
   "name": "python",
   "nbconvert_exporter": "python",
   "pygments_lexer": "ipython3",
   "version": "3.9.1"
  }
 },
 "nbformat": 4,
 "nbformat_minor": 4
}
