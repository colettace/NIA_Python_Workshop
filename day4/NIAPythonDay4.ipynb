{
 "cells": [
  {
   "cell_type": "markdown",
   "metadata": {},
   "source": [
    "# Day 1: IDE, basic data types, operators\n",
    "# Day 2: Slicing, NumPy <code>array</code>\n",
    "# Day 3: Pandas <code>DataFrame</code>\n",
    "# Day 4: Case Study: Microarray Data analysis and Visualization\n",
    "\n",
    "* file: <code>ExampleMicroarrayData.xls</code>\n",
    "* Data: brain region microarray data (measures gene expression levels in a tissue)\n",
    "* Experimental variables = tissue type\n",
    "    * hippocampus & cerebral cortex\n",
    "* Columns: 4 repeats for each tissue type\n",
    "* Rows: 1 row per read; 1 or more rows per gene. Redundant reads need to be merged.\n",
    "\n",
    "## Analysis Method\n",
    "\n",
    "1. Import file\n",
    "2. For a given gene with redundant reads, take maximum value (collapse multiple rows into one row)\n",
    "3. Log transform\n",
    "4. Z-score\n",
    "5. For each comparison, take difference of means of repeats and p-value\n",
    "6. Create ribbon plot for genes with fold change of 1 and p-value < 0.05"
   ]
  },
  {
   "cell_type": "markdown",
   "metadata": {},
   "source": [
    "## Import libraries"
   ]
  },
  {
   "cell_type": "code",
   "execution_count": 1,
   "metadata": {},
   "outputs": [],
   "source": [
    "import pandas as pd\n",
    "import numpy as np"
   ]
  },
  {
   "cell_type": "markdown",
   "metadata": {},
   "source": [
    "## Optional: set Pandas display precision\n",
    "\n",
    "Use <code>TAB</code> key to show you what options are available"
   ]
  },
  {
   "cell_type": "code",
   "execution_count": null,
   "metadata": {},
   "outputs": [],
   "source": [
    "pd.options.display"
   ]
  },
  {
   "cell_type": "code",
   "execution_count": 2,
   "metadata": {},
   "outputs": [],
   "source": [
    "pd.options.display.precision = 3"
   ]
  },
  {
   "cell_type": "markdown",
   "metadata": {},
   "source": [
    "## Read in Excel File"
   ]
  },
  {
   "cell_type": "code",
   "execution_count": 3,
   "metadata": {},
   "outputs": [],
   "source": [
    "microa = pd.read_excel( 'ExampleMicroarrayData.xls')"
   ]
  },
  {
   "cell_type": "markdown",
   "metadata": {},
   "source": [
    "## See what we got"
   ]
  },
  {
   "cell_type": "code",
   "execution_count": 4,
   "metadata": {},
   "outputs": [
    {
     "data": {
      "text/html": [
       "<div>\n",
       "<style scoped>\n",
       "    .dataframe tbody tr th:only-of-type {\n",
       "        vertical-align: middle;\n",
       "    }\n",
       "\n",
       "    .dataframe tbody tr th {\n",
       "        vertical-align: top;\n",
       "    }\n",
       "\n",
       "    .dataframe thead th {\n",
       "        text-align: right;\n",
       "    }\n",
       "</style>\n",
       "<table border=\"1\" class=\"dataframe\">\n",
       "  <thead>\n",
       "    <tr style=\"text-align: right;\">\n",
       "      <th></th>\n",
       "      <th>ArrayID</th>\n",
       "      <th>Symbol</th>\n",
       "      <th>BR1_1</th>\n",
       "      <th>BR1_2</th>\n",
       "      <th>BR1_3</th>\n",
       "      <th>BR1_4</th>\n",
       "      <th>BR2_1</th>\n",
       "      <th>BR2_2</th>\n",
       "      <th>BR2_3</th>\n",
       "      <th>BR2_4</th>\n",
       "    </tr>\n",
       "  </thead>\n",
       "  <tbody>\n",
       "    <tr>\n",
       "      <th>0</th>\n",
       "      <td>1</td>\n",
       "      <td>NA1</td>\n",
       "      <td>24540.450</td>\n",
       "      <td>43972.090</td>\n",
       "      <td>32894.380</td>\n",
       "      <td>39717.850</td>\n",
       "      <td>37762.740</td>\n",
       "      <td>58349.680</td>\n",
       "      <td>20307.620</td>\n",
       "      <td>25211.600</td>\n",
       "    </tr>\n",
       "    <tr>\n",
       "      <th>1</th>\n",
       "      <td>2</td>\n",
       "      <td>NA2</td>\n",
       "      <td>3.384</td>\n",
       "      <td>3.420</td>\n",
       "      <td>3.184</td>\n",
       "      <td>3.504</td>\n",
       "      <td>2.218</td>\n",
       "      <td>2.300</td>\n",
       "      <td>2.404</td>\n",
       "      <td>2.307</td>\n",
       "    </tr>\n",
       "    <tr>\n",
       "      <th>2</th>\n",
       "      <td>3</td>\n",
       "      <td>NA3</td>\n",
       "      <td>3.402</td>\n",
       "      <td>3.452</td>\n",
       "      <td>3.215</td>\n",
       "      <td>3.549</td>\n",
       "      <td>2.244</td>\n",
       "      <td>2.327</td>\n",
       "      <td>2.434</td>\n",
       "      <td>2.334</td>\n",
       "    </tr>\n",
       "    <tr>\n",
       "      <th>3</th>\n",
       "      <td>4</td>\n",
       "      <td>Tbc1d19</td>\n",
       "      <td>497.424</td>\n",
       "      <td>704.163</td>\n",
       "      <td>598.064</td>\n",
       "      <td>770.349</td>\n",
       "      <td>318.999</td>\n",
       "      <td>315.689</td>\n",
       "      <td>329.867</td>\n",
       "      <td>342.941</td>\n",
       "    </tr>\n",
       "    <tr>\n",
       "      <th>4</th>\n",
       "      <td>5</td>\n",
       "      <td>Cfc1</td>\n",
       "      <td>3.436</td>\n",
       "      <td>14.535</td>\n",
       "      <td>3.271</td>\n",
       "      <td>3.640</td>\n",
       "      <td>2.296</td>\n",
       "      <td>2.374</td>\n",
       "      <td>10.220</td>\n",
       "      <td>2.384</td>\n",
       "    </tr>\n",
       "  </tbody>\n",
       "</table>\n",
       "</div>"
      ],
      "text/plain": [
       "   ArrayID   Symbol      BR1_1      BR1_2      BR1_3      BR1_4      BR2_1  \\\n",
       "0        1      NA1  24540.450  43972.090  32894.380  39717.850  37762.740   \n",
       "1        2      NA2      3.384      3.420      3.184      3.504      2.218   \n",
       "2        3      NA3      3.402      3.452      3.215      3.549      2.244   \n",
       "3        4  Tbc1d19    497.424    704.163    598.064    770.349    318.999   \n",
       "4        5     Cfc1      3.436     14.535      3.271      3.640      2.296   \n",
       "\n",
       "       BR2_2      BR2_3      BR2_4  \n",
       "0  58349.680  20307.620  25211.600  \n",
       "1      2.300      2.404      2.307  \n",
       "2      2.327      2.434      2.334  \n",
       "3    315.689    329.867    342.941  \n",
       "4      2.374     10.220      2.384  "
      ]
     },
     "execution_count": 4,
     "metadata": {},
     "output_type": "execute_result"
    }
   ],
   "source": [
    "microa.head()"
   ]
  },
  {
   "cell_type": "code",
   "execution_count": 5,
   "metadata": {},
   "outputs": [
    {
     "data": {
      "text/plain": [
       "(59734, 10)"
      ]
     },
     "execution_count": 5,
     "metadata": {},
     "output_type": "execute_result"
    }
   ],
   "source": [
    "microa.shape"
   ]
  },
  {
   "cell_type": "code",
   "execution_count": 6,
   "metadata": {},
   "outputs": [
    {
     "data": {
      "text/plain": [
       "Index(['ArrayID', 'Symbol', 'BR1_1', 'BR1_2', 'BR1_3', 'BR1_4', 'BR2_1',\n",
       "       'BR2_2', 'BR2_3', 'BR2_4'],\n",
       "      dtype='object')"
      ]
     },
     "execution_count": 6,
     "metadata": {},
     "output_type": "execute_result"
    }
   ],
   "source": [
    "microa.columns"
   ]
  },
  {
   "cell_type": "markdown",
   "metadata": {},
   "source": [
    "## Review: Get basic statistics across all columns using <code>.describe()</code>"
   ]
  },
  {
   "cell_type": "code",
   "execution_count": 7,
   "metadata": {},
   "outputs": [
    {
     "data": {
      "text/html": [
       "<div>\n",
       "<style scoped>\n",
       "    .dataframe tbody tr th:only-of-type {\n",
       "        vertical-align: middle;\n",
       "    }\n",
       "\n",
       "    .dataframe tbody tr th {\n",
       "        vertical-align: top;\n",
       "    }\n",
       "\n",
       "    .dataframe thead th {\n",
       "        text-align: right;\n",
       "    }\n",
       "</style>\n",
       "<table border=\"1\" class=\"dataframe\">\n",
       "  <thead>\n",
       "    <tr style=\"text-align: right;\">\n",
       "      <th></th>\n",
       "      <th>ArrayID</th>\n",
       "      <th>BR1_1</th>\n",
       "      <th>BR1_2</th>\n",
       "      <th>BR1_3</th>\n",
       "      <th>BR1_4</th>\n",
       "      <th>BR2_1</th>\n",
       "      <th>BR2_2</th>\n",
       "      <th>BR2_3</th>\n",
       "      <th>BR2_4</th>\n",
       "    </tr>\n",
       "  </thead>\n",
       "  <tbody>\n",
       "    <tr>\n",
       "      <th>count</th>\n",
       "      <td>59734.000</td>\n",
       "      <td>59734.000</td>\n",
       "      <td>59734.000</td>\n",
       "      <td>59734.000</td>\n",
       "      <td>59734.000</td>\n",
       "      <td>59734.000</td>\n",
       "      <td>59734.000</td>\n",
       "      <td>59734.000</td>\n",
       "      <td>59734.000</td>\n",
       "    </tr>\n",
       "    <tr>\n",
       "      <th>mean</th>\n",
       "      <td>31524.803</td>\n",
       "      <td>3826.969</td>\n",
       "      <td>4417.788</td>\n",
       "      <td>4440.600</td>\n",
       "      <td>5140.971</td>\n",
       "      <td>2811.512</td>\n",
       "      <td>3070.629</td>\n",
       "      <td>3017.429</td>\n",
       "      <td>3422.667</td>\n",
       "    </tr>\n",
       "    <tr>\n",
       "      <th>std</th>\n",
       "      <td>18161.786</td>\n",
       "      <td>12949.801</td>\n",
       "      <td>14653.350</td>\n",
       "      <td>14482.841</td>\n",
       "      <td>16651.936</td>\n",
       "      <td>11257.903</td>\n",
       "      <td>11271.983</td>\n",
       "      <td>11149.905</td>\n",
       "      <td>12554.989</td>\n",
       "    </tr>\n",
       "    <tr>\n",
       "      <th>min</th>\n",
       "      <td>1.000</td>\n",
       "      <td>3.126</td>\n",
       "      <td>2.979</td>\n",
       "      <td>2.860</td>\n",
       "      <td>3.060</td>\n",
       "      <td>2.048</td>\n",
       "      <td>2.024</td>\n",
       "      <td>2.049</td>\n",
       "      <td>2.084</td>\n",
       "    </tr>\n",
       "    <tr>\n",
       "      <th>25%</th>\n",
       "      <td>15839.250</td>\n",
       "      <td>18.760</td>\n",
       "      <td>22.889</td>\n",
       "      <td>21.042</td>\n",
       "      <td>24.194</td>\n",
       "      <td>13.127</td>\n",
       "      <td>13.279</td>\n",
       "      <td>10.264</td>\n",
       "      <td>12.211</td>\n",
       "    </tr>\n",
       "    <tr>\n",
       "      <th>50%</th>\n",
       "      <td>31507.500</td>\n",
       "      <td>292.898</td>\n",
       "      <td>361.491</td>\n",
       "      <td>363.980</td>\n",
       "      <td>418.769</td>\n",
       "      <td>205.459</td>\n",
       "      <td>226.891</td>\n",
       "      <td>187.594</td>\n",
       "      <td>224.595</td>\n",
       "    </tr>\n",
       "    <tr>\n",
       "      <th>75%</th>\n",
       "      <td>47259.750</td>\n",
       "      <td>2143.263</td>\n",
       "      <td>2576.601</td>\n",
       "      <td>2603.771</td>\n",
       "      <td>3029.693</td>\n",
       "      <td>1387.381</td>\n",
       "      <td>1625.061</td>\n",
       "      <td>1499.185</td>\n",
       "      <td>1726.906</td>\n",
       "    </tr>\n",
       "    <tr>\n",
       "      <th>max</th>\n",
       "      <td>62976.000</td>\n",
       "      <td>309771.300</td>\n",
       "      <td>351175.700</td>\n",
       "      <td>340936.200</td>\n",
       "      <td>377660.600</td>\n",
       "      <td>548163.100</td>\n",
       "      <td>327943.800</td>\n",
       "      <td>381527.600</td>\n",
       "      <td>343815.500</td>\n",
       "    </tr>\n",
       "  </tbody>\n",
       "</table>\n",
       "</div>"
      ],
      "text/plain": [
       "         ArrayID       BR1_1       BR1_2       BR1_3       BR1_4       BR2_1  \\\n",
       "count  59734.000   59734.000   59734.000   59734.000   59734.000   59734.000   \n",
       "mean   31524.803    3826.969    4417.788    4440.600    5140.971    2811.512   \n",
       "std    18161.786   12949.801   14653.350   14482.841   16651.936   11257.903   \n",
       "min        1.000       3.126       2.979       2.860       3.060       2.048   \n",
       "25%    15839.250      18.760      22.889      21.042      24.194      13.127   \n",
       "50%    31507.500     292.898     361.491     363.980     418.769     205.459   \n",
       "75%    47259.750    2143.263    2576.601    2603.771    3029.693    1387.381   \n",
       "max    62976.000  309771.300  351175.700  340936.200  377660.600  548163.100   \n",
       "\n",
       "            BR2_2       BR2_3       BR2_4  \n",
       "count   59734.000   59734.000   59734.000  \n",
       "mean     3070.629    3017.429    3422.667  \n",
       "std     11271.983   11149.905   12554.989  \n",
       "min         2.024       2.049       2.084  \n",
       "25%        13.279      10.264      12.211  \n",
       "50%       226.891     187.594     224.595  \n",
       "75%      1625.061    1499.185    1726.906  \n",
       "max    327943.800  381527.600  343815.500  "
      ]
     },
     "execution_count": 7,
     "metadata": {},
     "output_type": "execute_result"
    }
   ],
   "source": [
    "microa.describe()"
   ]
  },
  {
   "cell_type": "markdown",
   "metadata": {},
   "source": [
    "## Review: subselect rows by boolean criterion using brackets <code>[]</code>"
   ]
  },
  {
   "cell_type": "code",
   "execution_count": 8,
   "metadata": {},
   "outputs": [
    {
     "data": {
      "text/html": [
       "<div>\n",
       "<style scoped>\n",
       "    .dataframe tbody tr th:only-of-type {\n",
       "        vertical-align: middle;\n",
       "    }\n",
       "\n",
       "    .dataframe tbody tr th {\n",
       "        vertical-align: top;\n",
       "    }\n",
       "\n",
       "    .dataframe thead th {\n",
       "        text-align: right;\n",
       "    }\n",
       "</style>\n",
       "<table border=\"1\" class=\"dataframe\">\n",
       "  <thead>\n",
       "    <tr style=\"text-align: right;\">\n",
       "      <th></th>\n",
       "      <th>ArrayID</th>\n",
       "      <th>Symbol</th>\n",
       "      <th>BR1_1</th>\n",
       "      <th>BR1_2</th>\n",
       "      <th>BR1_3</th>\n",
       "      <th>BR1_4</th>\n",
       "      <th>BR2_1</th>\n",
       "      <th>BR2_2</th>\n",
       "      <th>BR2_3</th>\n",
       "      <th>BR2_4</th>\n",
       "    </tr>\n",
       "  </thead>\n",
       "  <tbody>\n",
       "    <tr>\n",
       "      <th>3692</th>\n",
       "      <td>3920</td>\n",
       "      <td>Mfsd9</td>\n",
       "      <td>968.993</td>\n",
       "      <td>1010.708</td>\n",
       "      <td>1007.123</td>\n",
       "      <td>1130.436</td>\n",
       "      <td>434.947</td>\n",
       "      <td>589.708</td>\n",
       "      <td>600.502</td>\n",
       "      <td>621.537</td>\n",
       "    </tr>\n",
       "    <tr>\n",
       "      <th>14504</th>\n",
       "      <td>15379</td>\n",
       "      <td>Mfsd9</td>\n",
       "      <td>949.827</td>\n",
       "      <td>1056.157</td>\n",
       "      <td>979.577</td>\n",
       "      <td>1163.150</td>\n",
       "      <td>482.391</td>\n",
       "      <td>543.322</td>\n",
       "      <td>601.314</td>\n",
       "      <td>674.765</td>\n",
       "    </tr>\n",
       "    <tr>\n",
       "      <th>15412</th>\n",
       "      <td>16338</td>\n",
       "      <td>Mfsd9</td>\n",
       "      <td>23.193</td>\n",
       "      <td>18.875</td>\n",
       "      <td>22.034</td>\n",
       "      <td>24.326</td>\n",
       "      <td>8.435</td>\n",
       "      <td>9.239</td>\n",
       "      <td>7.162</td>\n",
       "      <td>9.467</td>\n",
       "    </tr>\n",
       "    <tr>\n",
       "      <th>19317</th>\n",
       "      <td>20435</td>\n",
       "      <td>Mfsd9</td>\n",
       "      <td>891.462</td>\n",
       "      <td>1036.658</td>\n",
       "      <td>991.143</td>\n",
       "      <td>1173.474</td>\n",
       "      <td>452.980</td>\n",
       "      <td>555.692</td>\n",
       "      <td>622.570</td>\n",
       "      <td>606.833</td>\n",
       "    </tr>\n",
       "    <tr>\n",
       "      <th>21174</th>\n",
       "      <td>22376</td>\n",
       "      <td>Mfsd9</td>\n",
       "      <td>920.478</td>\n",
       "      <td>998.698</td>\n",
       "      <td>1052.486</td>\n",
       "      <td>1231.313</td>\n",
       "      <td>434.002</td>\n",
       "      <td>547.448</td>\n",
       "      <td>637.982</td>\n",
       "      <td>625.079</td>\n",
       "    </tr>\n",
       "    <tr>\n",
       "      <th>26077</th>\n",
       "      <td>27531</td>\n",
       "      <td>Mfsd9</td>\n",
       "      <td>18.640</td>\n",
       "      <td>24.579</td>\n",
       "      <td>12.145</td>\n",
       "      <td>28.158</td>\n",
       "      <td>9.539</td>\n",
       "      <td>12.697</td>\n",
       "      <td>8.741</td>\n",
       "      <td>11.155</td>\n",
       "    </tr>\n",
       "    <tr>\n",
       "      <th>32783</th>\n",
       "      <td>34582</td>\n",
       "      <td>Mfsd9</td>\n",
       "      <td>854.077</td>\n",
       "      <td>1062.900</td>\n",
       "      <td>1008.647</td>\n",
       "      <td>1180.013</td>\n",
       "      <td>435.248</td>\n",
       "      <td>577.290</td>\n",
       "      <td>663.561</td>\n",
       "      <td>615.494</td>\n",
       "    </tr>\n",
       "    <tr>\n",
       "      <th>33005</th>\n",
       "      <td>34823</td>\n",
       "      <td>Mfsd9</td>\n",
       "      <td>949.943</td>\n",
       "      <td>985.132</td>\n",
       "      <td>1079.542</td>\n",
       "      <td>1201.548</td>\n",
       "      <td>463.207</td>\n",
       "      <td>530.134</td>\n",
       "      <td>596.087</td>\n",
       "      <td>659.742</td>\n",
       "    </tr>\n",
       "    <tr>\n",
       "      <th>34495</th>\n",
       "      <td>36380</td>\n",
       "      <td>Mfsd9</td>\n",
       "      <td>856.771</td>\n",
       "      <td>1024.499</td>\n",
       "      <td>914.007</td>\n",
       "      <td>1123.651</td>\n",
       "      <td>473.591</td>\n",
       "      <td>585.492</td>\n",
       "      <td>618.376</td>\n",
       "      <td>644.952</td>\n",
       "    </tr>\n",
       "    <tr>\n",
       "      <th>48207</th>\n",
       "      <td>50847</td>\n",
       "      <td>Mfsd9</td>\n",
       "      <td>955.400</td>\n",
       "      <td>1029.965</td>\n",
       "      <td>1039.952</td>\n",
       "      <td>1146.253</td>\n",
       "      <td>471.125</td>\n",
       "      <td>596.579</td>\n",
       "      <td>627.870</td>\n",
       "      <td>621.421</td>\n",
       "    </tr>\n",
       "    <tr>\n",
       "      <th>57835</th>\n",
       "      <td>60983</td>\n",
       "      <td>Mfsd9</td>\n",
       "      <td>915.912</td>\n",
       "      <td>1021.728</td>\n",
       "      <td>947.302</td>\n",
       "      <td>1168.269</td>\n",
       "      <td>421.222</td>\n",
       "      <td>589.248</td>\n",
       "      <td>632.728</td>\n",
       "      <td>660.304</td>\n",
       "    </tr>\n",
       "    <tr>\n",
       "      <th>58099</th>\n",
       "      <td>61263</td>\n",
       "      <td>Mfsd9</td>\n",
       "      <td>1051.273</td>\n",
       "      <td>1004.055</td>\n",
       "      <td>996.786</td>\n",
       "      <td>1133.530</td>\n",
       "      <td>448.804</td>\n",
       "      <td>589.341</td>\n",
       "      <td>651.024</td>\n",
       "      <td>605.704</td>\n",
       "    </tr>\n",
       "  </tbody>\n",
       "</table>\n",
       "</div>"
      ],
      "text/plain": [
       "       ArrayID Symbol     BR1_1     BR1_2     BR1_3     BR1_4    BR2_1  \\\n",
       "3692      3920  Mfsd9   968.993  1010.708  1007.123  1130.436  434.947   \n",
       "14504    15379  Mfsd9   949.827  1056.157   979.577  1163.150  482.391   \n",
       "15412    16338  Mfsd9    23.193    18.875    22.034    24.326    8.435   \n",
       "19317    20435  Mfsd9   891.462  1036.658   991.143  1173.474  452.980   \n",
       "21174    22376  Mfsd9   920.478   998.698  1052.486  1231.313  434.002   \n",
       "26077    27531  Mfsd9    18.640    24.579    12.145    28.158    9.539   \n",
       "32783    34582  Mfsd9   854.077  1062.900  1008.647  1180.013  435.248   \n",
       "33005    34823  Mfsd9   949.943   985.132  1079.542  1201.548  463.207   \n",
       "34495    36380  Mfsd9   856.771  1024.499   914.007  1123.651  473.591   \n",
       "48207    50847  Mfsd9   955.400  1029.965  1039.952  1146.253  471.125   \n",
       "57835    60983  Mfsd9   915.912  1021.728   947.302  1168.269  421.222   \n",
       "58099    61263  Mfsd9  1051.273  1004.055   996.786  1133.530  448.804   \n",
       "\n",
       "         BR2_2    BR2_3    BR2_4  \n",
       "3692   589.708  600.502  621.537  \n",
       "14504  543.322  601.314  674.765  \n",
       "15412    9.239    7.162    9.467  \n",
       "19317  555.692  622.570  606.833  \n",
       "21174  547.448  637.982  625.079  \n",
       "26077   12.697    8.741   11.155  \n",
       "32783  577.290  663.561  615.494  \n",
       "33005  530.134  596.087  659.742  \n",
       "34495  585.492  618.376  644.952  \n",
       "48207  596.579  627.870  621.421  \n",
       "57835  589.248  632.728  660.304  \n",
       "58099  589.341  651.024  605.704  "
      ]
     },
     "execution_count": 8,
     "metadata": {},
     "output_type": "execute_result"
    }
   ],
   "source": [
    "microa[ microa.Symbol == 'Mfsd9' ]"
   ]
  },
  {
   "cell_type": "markdown",
   "metadata": {},
   "source": [
    "## Review: subselect one or more columns using brackets <code>[]</code>"
   ]
  },
  {
   "cell_type": "code",
   "execution_count": null,
   "metadata": {
    "scrolled": true
   },
   "outputs": [],
   "source": [
    "microa[ 'Symbol' ]"
   ]
  },
  {
   "cell_type": "code",
   "execution_count": null,
   "metadata": {},
   "outputs": [],
   "source": [
    "microa[ ['ArrayID', 'Symbol' ] ]"
   ]
  },
  {
   "cell_type": "markdown",
   "metadata": {},
   "source": [
    "## For subselecting rows and columns at the same time, use <code>.loc[]</code> (or<code>.iloc[]</code>)"
   ]
  },
  {
   "cell_type": "code",
   "execution_count": 24,
   "metadata": {},
   "outputs": [
    {
     "data": {
      "text/html": [
       "<div>\n",
       "<style scoped>\n",
       "    .dataframe tbody tr th:only-of-type {\n",
       "        vertical-align: middle;\n",
       "    }\n",
       "\n",
       "    .dataframe tbody tr th {\n",
       "        vertical-align: top;\n",
       "    }\n",
       "\n",
       "    .dataframe thead th {\n",
       "        text-align: right;\n",
       "    }\n",
       "</style>\n",
       "<table border=\"1\" class=\"dataframe\">\n",
       "  <thead>\n",
       "    <tr style=\"text-align: right;\">\n",
       "      <th></th>\n",
       "      <th>BR1_1</th>\n",
       "      <th>BR2_1</th>\n",
       "    </tr>\n",
       "  </thead>\n",
       "  <tbody>\n",
       "    <tr>\n",
       "      <th>3692</th>\n",
       "      <td>968.993</td>\n",
       "      <td>434.947</td>\n",
       "    </tr>\n",
       "    <tr>\n",
       "      <th>14504</th>\n",
       "      <td>949.827</td>\n",
       "      <td>482.391</td>\n",
       "    </tr>\n",
       "    <tr>\n",
       "      <th>15412</th>\n",
       "      <td>23.193</td>\n",
       "      <td>8.435</td>\n",
       "    </tr>\n",
       "    <tr>\n",
       "      <th>19317</th>\n",
       "      <td>891.462</td>\n",
       "      <td>452.980</td>\n",
       "    </tr>\n",
       "    <tr>\n",
       "      <th>21174</th>\n",
       "      <td>920.478</td>\n",
       "      <td>434.002</td>\n",
       "    </tr>\n",
       "    <tr>\n",
       "      <th>26077</th>\n",
       "      <td>18.640</td>\n",
       "      <td>9.539</td>\n",
       "    </tr>\n",
       "    <tr>\n",
       "      <th>32783</th>\n",
       "      <td>854.077</td>\n",
       "      <td>435.248</td>\n",
       "    </tr>\n",
       "    <tr>\n",
       "      <th>33005</th>\n",
       "      <td>949.943</td>\n",
       "      <td>463.207</td>\n",
       "    </tr>\n",
       "    <tr>\n",
       "      <th>34495</th>\n",
       "      <td>856.771</td>\n",
       "      <td>473.591</td>\n",
       "    </tr>\n",
       "    <tr>\n",
       "      <th>48207</th>\n",
       "      <td>955.400</td>\n",
       "      <td>471.125</td>\n",
       "    </tr>\n",
       "    <tr>\n",
       "      <th>57835</th>\n",
       "      <td>915.912</td>\n",
       "      <td>421.222</td>\n",
       "    </tr>\n",
       "    <tr>\n",
       "      <th>58099</th>\n",
       "      <td>1051.273</td>\n",
       "      <td>448.804</td>\n",
       "    </tr>\n",
       "  </tbody>\n",
       "</table>\n",
       "</div>"
      ],
      "text/plain": [
       "          BR1_1    BR2_1\n",
       "3692    968.993  434.947\n",
       "14504   949.827  482.391\n",
       "15412    23.193    8.435\n",
       "19317   891.462  452.980\n",
       "21174   920.478  434.002\n",
       "26077    18.640    9.539\n",
       "32783   854.077  435.248\n",
       "33005   949.943  463.207\n",
       "34495   856.771  473.591\n",
       "48207   955.400  471.125\n",
       "57835   915.912  421.222\n",
       "58099  1051.273  448.804"
      ]
     },
     "execution_count": 24,
     "metadata": {},
     "output_type": "execute_result"
    }
   ],
   "source": [
    "microa.loc[ microa.Symbol == 'Mfsd9', \n",
    "           ['BR1_1', 'BR2_1' ] ]"
   ]
  },
  {
   "cell_type": "markdown",
   "metadata": {},
   "source": [
    "## Note: Difference between <code>.loc[]</code> and <code>.iloc[]</code>\n",
    "\n",
    "* Use <code>.loc[]</code> to slice by row/column *NAMES* or *BOOLEANS*\n",
    "* Use <code>.iloc[]</code> to slice by row/column *INDICES* (Like we used with NumPy)"
   ]
  },
  {
   "cell_type": "code",
   "execution_count": null,
   "metadata": {
    "scrolled": true
   },
   "outputs": [],
   "source": [
    "microa.loc[ :10, -4: ]"
   ]
  },
  {
   "cell_type": "code",
   "execution_count": 26,
   "metadata": {},
   "outputs": [
    {
     "data": {
      "text/html": [
       "<div>\n",
       "<style scoped>\n",
       "    .dataframe tbody tr th:only-of-type {\n",
       "        vertical-align: middle;\n",
       "    }\n",
       "\n",
       "    .dataframe tbody tr th {\n",
       "        vertical-align: top;\n",
       "    }\n",
       "\n",
       "    .dataframe thead th {\n",
       "        text-align: right;\n",
       "    }\n",
       "</style>\n",
       "<table border=\"1\" class=\"dataframe\">\n",
       "  <thead>\n",
       "    <tr style=\"text-align: right;\">\n",
       "      <th></th>\n",
       "      <th>BR2_1</th>\n",
       "      <th>BR2_2</th>\n",
       "      <th>BR2_3</th>\n",
       "      <th>BR2_4</th>\n",
       "    </tr>\n",
       "  </thead>\n",
       "  <tbody>\n",
       "    <tr>\n",
       "      <th>0</th>\n",
       "      <td>37762.740</td>\n",
       "      <td>58349.680</td>\n",
       "      <td>20307.620</td>\n",
       "      <td>25211.600</td>\n",
       "    </tr>\n",
       "    <tr>\n",
       "      <th>1</th>\n",
       "      <td>2.218</td>\n",
       "      <td>2.300</td>\n",
       "      <td>2.404</td>\n",
       "      <td>2.307</td>\n",
       "    </tr>\n",
       "    <tr>\n",
       "      <th>2</th>\n",
       "      <td>2.244</td>\n",
       "      <td>2.327</td>\n",
       "      <td>2.434</td>\n",
       "      <td>2.334</td>\n",
       "    </tr>\n",
       "    <tr>\n",
       "      <th>3</th>\n",
       "      <td>318.999</td>\n",
       "      <td>315.689</td>\n",
       "      <td>329.867</td>\n",
       "      <td>342.941</td>\n",
       "    </tr>\n",
       "    <tr>\n",
       "      <th>4</th>\n",
       "      <td>2.296</td>\n",
       "      <td>2.374</td>\n",
       "      <td>10.220</td>\n",
       "      <td>2.384</td>\n",
       "    </tr>\n",
       "    <tr>\n",
       "      <th>5</th>\n",
       "      <td>60.898</td>\n",
       "      <td>79.251</td>\n",
       "      <td>88.181</td>\n",
       "      <td>83.621</td>\n",
       "    </tr>\n",
       "    <tr>\n",
       "      <th>6</th>\n",
       "      <td>337.046</td>\n",
       "      <td>246.692</td>\n",
       "      <td>264.554</td>\n",
       "      <td>373.699</td>\n",
       "    </tr>\n",
       "    <tr>\n",
       "      <th>7</th>\n",
       "      <td>14415.300</td>\n",
       "      <td>15068.380</td>\n",
       "      <td>15317.930</td>\n",
       "      <td>18569.540</td>\n",
       "    </tr>\n",
       "    <tr>\n",
       "      <th>8</th>\n",
       "      <td>21151.840</td>\n",
       "      <td>23888.320</td>\n",
       "      <td>25168.000</td>\n",
       "      <td>28457.830</td>\n",
       "    </tr>\n",
       "    <tr>\n",
       "      <th>9</th>\n",
       "      <td>266.326</td>\n",
       "      <td>225.108</td>\n",
       "      <td>254.067</td>\n",
       "      <td>244.691</td>\n",
       "    </tr>\n",
       "  </tbody>\n",
       "</table>\n",
       "</div>"
      ],
      "text/plain": [
       "       BR2_1      BR2_2      BR2_3      BR2_4\n",
       "0  37762.740  58349.680  20307.620  25211.600\n",
       "1      2.218      2.300      2.404      2.307\n",
       "2      2.244      2.327      2.434      2.334\n",
       "3    318.999    315.689    329.867    342.941\n",
       "4      2.296      2.374     10.220      2.384\n",
       "5     60.898     79.251     88.181     83.621\n",
       "6    337.046    246.692    264.554    373.699\n",
       "7  14415.300  15068.380  15317.930  18569.540\n",
       "8  21151.840  23888.320  25168.000  28457.830\n",
       "9    266.326    225.108    254.067    244.691"
      ]
     },
     "execution_count": 26,
     "metadata": {},
     "output_type": "execute_result"
    }
   ],
   "source": [
    "microa.iloc[ :10, -4: ]"
   ]
  },
  {
   "cell_type": "markdown",
   "metadata": {},
   "source": [
    "## How many unique gene symbols do we have?"
   ]
  },
  {
   "cell_type": "code",
   "execution_count": 27,
   "metadata": {
    "scrolled": true
   },
   "outputs": [
    {
     "data": {
      "text/plain": [
       "59734"
      ]
     },
     "execution_count": 27,
     "metadata": {},
     "output_type": "execute_result"
    }
   ],
   "source": [
    "len( microa.Symbol )"
   ]
  },
  {
   "cell_type": "code",
   "execution_count": 28,
   "metadata": {},
   "outputs": [
    {
     "data": {
      "text/plain": [
       "array(['NA1', 'NA2', 'NA3', ..., 'NA11372', 'NA11373', 'NA11374'],\n",
       "      dtype=object)"
      ]
     },
     "execution_count": 28,
     "metadata": {},
     "output_type": "execute_result"
    }
   ],
   "source": [
    "microa.Symbol.unique()"
   ]
  },
  {
   "cell_type": "code",
   "execution_count": 29,
   "metadata": {},
   "outputs": [
    {
     "data": {
      "text/plain": [
       "29784"
      ]
     },
     "execution_count": 29,
     "metadata": {},
     "output_type": "execute_result"
    }
   ],
   "source": [
    "len(microa.Symbol.unique())"
   ]
  },
  {
   "cell_type": "code",
   "execution_count": null,
   "metadata": {},
   "outputs": [],
   "source": [
    "microa.Symbol.value_counts()"
   ]
  },
  {
   "cell_type": "code",
   "execution_count": 31,
   "metadata": {},
   "outputs": [
    {
     "data": {
      "text/plain": [
       "1     14855\n",
       "2     11361\n",
       "4      1162\n",
       "10      948\n",
       "3       932\n",
       "12      211\n",
       "11      130\n",
       "5       117\n",
       "6        28\n",
       "13       16\n",
       "20        8\n",
       "7         7\n",
       "14        3\n",
       "9         3\n",
       "8         2\n",
       "16        1\n",
       "Name: Symbol, dtype: int64"
      ]
     },
     "execution_count": 31,
     "metadata": {},
     "output_type": "execute_result"
    }
   ],
   "source": [
    "microa.Symbol.value_counts().value_counts()"
   ]
  },
  {
   "cell_type": "markdown",
   "metadata": {},
   "source": [
    "## Group rows by gene symbol using <code>.groupby()</code>\n",
    "\n",
    "* Pass the function the name of the column containing the values you want to group by"
   ]
  },
  {
   "cell_type": "code",
   "execution_count": 32,
   "metadata": {},
   "outputs": [],
   "source": [
    "grouped = microa.groupby('Symbol')"
   ]
  },
  {
   "cell_type": "code",
   "execution_count": 33,
   "metadata": {},
   "outputs": [
    {
     "data": {
      "text/plain": [
       "pandas.core.groupby.groupby.DataFrameGroupBy"
      ]
     },
     "execution_count": 33,
     "metadata": {},
     "output_type": "execute_result"
    }
   ],
   "source": [
    "type( grouped)"
   ]
  },
  {
   "cell_type": "code",
   "execution_count": null,
   "metadata": {},
   "outputs": [],
   "source": [
    "grouped.mean()"
   ]
  },
  {
   "cell_type": "markdown",
   "metadata": {},
   "source": [
    "### Get a certain group using <code>.get_group()</code>"
   ]
  },
  {
   "cell_type": "code",
   "execution_count": 39,
   "metadata": {},
   "outputs": [
    {
     "data": {
      "text/html": [
       "<div>\n",
       "<style scoped>\n",
       "    .dataframe tbody tr th:only-of-type {\n",
       "        vertical-align: middle;\n",
       "    }\n",
       "\n",
       "    .dataframe tbody tr th {\n",
       "        vertical-align: top;\n",
       "    }\n",
       "\n",
       "    .dataframe thead th {\n",
       "        text-align: right;\n",
       "    }\n",
       "</style>\n",
       "<table border=\"1\" class=\"dataframe\">\n",
       "  <thead>\n",
       "    <tr style=\"text-align: right;\">\n",
       "      <th></th>\n",
       "      <th>ArrayID</th>\n",
       "      <th>BR1_1</th>\n",
       "      <th>BR1_2</th>\n",
       "      <th>BR1_3</th>\n",
       "      <th>BR1_4</th>\n",
       "      <th>BR2_1</th>\n",
       "      <th>BR2_2</th>\n",
       "      <th>BR2_3</th>\n",
       "      <th>BR2_4</th>\n",
       "    </tr>\n",
       "  </thead>\n",
       "  <tbody>\n",
       "    <tr>\n",
       "      <th>3692</th>\n",
       "      <td>3920</td>\n",
       "      <td>968.993</td>\n",
       "      <td>1010.708</td>\n",
       "      <td>1007.123</td>\n",
       "      <td>1130.436</td>\n",
       "      <td>434.947</td>\n",
       "      <td>589.708</td>\n",
       "      <td>600.502</td>\n",
       "      <td>621.537</td>\n",
       "    </tr>\n",
       "    <tr>\n",
       "      <th>14504</th>\n",
       "      <td>15379</td>\n",
       "      <td>949.827</td>\n",
       "      <td>1056.157</td>\n",
       "      <td>979.577</td>\n",
       "      <td>1163.150</td>\n",
       "      <td>482.391</td>\n",
       "      <td>543.322</td>\n",
       "      <td>601.314</td>\n",
       "      <td>674.765</td>\n",
       "    </tr>\n",
       "    <tr>\n",
       "      <th>15412</th>\n",
       "      <td>16338</td>\n",
       "      <td>23.193</td>\n",
       "      <td>18.875</td>\n",
       "      <td>22.034</td>\n",
       "      <td>24.326</td>\n",
       "      <td>8.435</td>\n",
       "      <td>9.239</td>\n",
       "      <td>7.162</td>\n",
       "      <td>9.467</td>\n",
       "    </tr>\n",
       "    <tr>\n",
       "      <th>19317</th>\n",
       "      <td>20435</td>\n",
       "      <td>891.462</td>\n",
       "      <td>1036.658</td>\n",
       "      <td>991.143</td>\n",
       "      <td>1173.474</td>\n",
       "      <td>452.980</td>\n",
       "      <td>555.692</td>\n",
       "      <td>622.570</td>\n",
       "      <td>606.833</td>\n",
       "    </tr>\n",
       "    <tr>\n",
       "      <th>21174</th>\n",
       "      <td>22376</td>\n",
       "      <td>920.478</td>\n",
       "      <td>998.698</td>\n",
       "      <td>1052.486</td>\n",
       "      <td>1231.313</td>\n",
       "      <td>434.002</td>\n",
       "      <td>547.448</td>\n",
       "      <td>637.982</td>\n",
       "      <td>625.079</td>\n",
       "    </tr>\n",
       "    <tr>\n",
       "      <th>26077</th>\n",
       "      <td>27531</td>\n",
       "      <td>18.640</td>\n",
       "      <td>24.579</td>\n",
       "      <td>12.145</td>\n",
       "      <td>28.158</td>\n",
       "      <td>9.539</td>\n",
       "      <td>12.697</td>\n",
       "      <td>8.741</td>\n",
       "      <td>11.155</td>\n",
       "    </tr>\n",
       "    <tr>\n",
       "      <th>32783</th>\n",
       "      <td>34582</td>\n",
       "      <td>854.077</td>\n",
       "      <td>1062.900</td>\n",
       "      <td>1008.647</td>\n",
       "      <td>1180.013</td>\n",
       "      <td>435.248</td>\n",
       "      <td>577.290</td>\n",
       "      <td>663.561</td>\n",
       "      <td>615.494</td>\n",
       "    </tr>\n",
       "    <tr>\n",
       "      <th>33005</th>\n",
       "      <td>34823</td>\n",
       "      <td>949.943</td>\n",
       "      <td>985.132</td>\n",
       "      <td>1079.542</td>\n",
       "      <td>1201.548</td>\n",
       "      <td>463.207</td>\n",
       "      <td>530.134</td>\n",
       "      <td>596.087</td>\n",
       "      <td>659.742</td>\n",
       "    </tr>\n",
       "    <tr>\n",
       "      <th>34495</th>\n",
       "      <td>36380</td>\n",
       "      <td>856.771</td>\n",
       "      <td>1024.499</td>\n",
       "      <td>914.007</td>\n",
       "      <td>1123.651</td>\n",
       "      <td>473.591</td>\n",
       "      <td>585.492</td>\n",
       "      <td>618.376</td>\n",
       "      <td>644.952</td>\n",
       "    </tr>\n",
       "    <tr>\n",
       "      <th>48207</th>\n",
       "      <td>50847</td>\n",
       "      <td>955.400</td>\n",
       "      <td>1029.965</td>\n",
       "      <td>1039.952</td>\n",
       "      <td>1146.253</td>\n",
       "      <td>471.125</td>\n",
       "      <td>596.579</td>\n",
       "      <td>627.870</td>\n",
       "      <td>621.421</td>\n",
       "    </tr>\n",
       "    <tr>\n",
       "      <th>57835</th>\n",
       "      <td>60983</td>\n",
       "      <td>915.912</td>\n",
       "      <td>1021.728</td>\n",
       "      <td>947.302</td>\n",
       "      <td>1168.269</td>\n",
       "      <td>421.222</td>\n",
       "      <td>589.248</td>\n",
       "      <td>632.728</td>\n",
       "      <td>660.304</td>\n",
       "    </tr>\n",
       "    <tr>\n",
       "      <th>58099</th>\n",
       "      <td>61263</td>\n",
       "      <td>1051.273</td>\n",
       "      <td>1004.055</td>\n",
       "      <td>996.786</td>\n",
       "      <td>1133.530</td>\n",
       "      <td>448.804</td>\n",
       "      <td>589.341</td>\n",
       "      <td>651.024</td>\n",
       "      <td>605.704</td>\n",
       "    </tr>\n",
       "  </tbody>\n",
       "</table>\n",
       "</div>"
      ],
      "text/plain": [
       "       ArrayID     BR1_1     BR1_2     BR1_3     BR1_4    BR2_1    BR2_2  \\\n",
       "3692      3920   968.993  1010.708  1007.123  1130.436  434.947  589.708   \n",
       "14504    15379   949.827  1056.157   979.577  1163.150  482.391  543.322   \n",
       "15412    16338    23.193    18.875    22.034    24.326    8.435    9.239   \n",
       "19317    20435   891.462  1036.658   991.143  1173.474  452.980  555.692   \n",
       "21174    22376   920.478   998.698  1052.486  1231.313  434.002  547.448   \n",
       "26077    27531    18.640    24.579    12.145    28.158    9.539   12.697   \n",
       "32783    34582   854.077  1062.900  1008.647  1180.013  435.248  577.290   \n",
       "33005    34823   949.943   985.132  1079.542  1201.548  463.207  530.134   \n",
       "34495    36380   856.771  1024.499   914.007  1123.651  473.591  585.492   \n",
       "48207    50847   955.400  1029.965  1039.952  1146.253  471.125  596.579   \n",
       "57835    60983   915.912  1021.728   947.302  1168.269  421.222  589.248   \n",
       "58099    61263  1051.273  1004.055   996.786  1133.530  448.804  589.341   \n",
       "\n",
       "         BR2_3    BR2_4  \n",
       "3692   600.502  621.537  \n",
       "14504  601.314  674.765  \n",
       "15412    7.162    9.467  \n",
       "19317  622.570  606.833  \n",
       "21174  637.982  625.079  \n",
       "26077    8.741   11.155  \n",
       "32783  663.561  615.494  \n",
       "33005  596.087  659.742  \n",
       "34495  618.376  644.952  \n",
       "48207  627.870  621.421  \n",
       "57835  632.728  660.304  \n",
       "58099  651.024  605.704  "
      ]
     },
     "execution_count": 39,
     "metadata": {},
     "output_type": "execute_result"
    }
   ],
   "source": [
    "grouped.get_group( 'Mfsd9' )"
   ]
  },
  {
   "cell_type": "code",
   "execution_count": 40,
   "metadata": {},
   "outputs": [],
   "source": [
    "max_expression = microa.groupby('Symbol').max()"
   ]
  },
  {
   "cell_type": "code",
   "execution_count": 41,
   "metadata": {},
   "outputs": [
    {
     "data": {
      "text/plain": [
       "(29784, 9)"
      ]
     },
     "execution_count": 41,
     "metadata": {},
     "output_type": "execute_result"
    }
   ],
   "source": [
    "max_expression.shape"
   ]
  },
  {
   "cell_type": "code",
   "execution_count": 44,
   "metadata": {},
   "outputs": [
    {
     "data": {
      "text/html": [
       "<div>\n",
       "<style scoped>\n",
       "    .dataframe tbody tr th:only-of-type {\n",
       "        vertical-align: middle;\n",
       "    }\n",
       "\n",
       "    .dataframe tbody tr th {\n",
       "        vertical-align: top;\n",
       "    }\n",
       "\n",
       "    .dataframe thead th {\n",
       "        text-align: right;\n",
       "    }\n",
       "</style>\n",
       "<table border=\"1\" class=\"dataframe\">\n",
       "  <thead>\n",
       "    <tr style=\"text-align: right;\">\n",
       "      <th></th>\n",
       "      <th>ArrayID</th>\n",
       "      <th>BR1_1</th>\n",
       "      <th>BR1_2</th>\n",
       "      <th>BR1_3</th>\n",
       "      <th>BR1_4</th>\n",
       "      <th>BR2_1</th>\n",
       "      <th>BR2_2</th>\n",
       "      <th>BR2_3</th>\n",
       "      <th>BR2_4</th>\n",
       "    </tr>\n",
       "    <tr>\n",
       "      <th>Symbol</th>\n",
       "      <th></th>\n",
       "      <th></th>\n",
       "      <th></th>\n",
       "      <th></th>\n",
       "      <th></th>\n",
       "      <th></th>\n",
       "      <th></th>\n",
       "      <th></th>\n",
       "      <th></th>\n",
       "    </tr>\n",
       "  </thead>\n",
       "  <tbody>\n",
       "    <tr>\n",
       "      <th>A1bg</th>\n",
       "      <td>47917</td>\n",
       "      <td>6.551</td>\n",
       "      <td>9.730</td>\n",
       "      <td>6.253</td>\n",
       "      <td>13.327</td>\n",
       "      <td>3.550</td>\n",
       "      <td>2.836</td>\n",
       "      <td>4.228</td>\n",
       "      <td>4.405</td>\n",
       "    </tr>\n",
       "    <tr>\n",
       "      <th>A1cf</th>\n",
       "      <td>50995</td>\n",
       "      <td>3.718</td>\n",
       "      <td>3.788</td>\n",
       "      <td>3.795</td>\n",
       "      <td>5.505</td>\n",
       "      <td>2.599</td>\n",
       "      <td>2.552</td>\n",
       "      <td>2.595</td>\n",
       "      <td>2.649</td>\n",
       "    </tr>\n",
       "    <tr>\n",
       "      <th>A1i3</th>\n",
       "      <td>59848</td>\n",
       "      <td>3.740</td>\n",
       "      <td>7.137</td>\n",
       "      <td>3.697</td>\n",
       "      <td>4.011</td>\n",
       "      <td>2.605</td>\n",
       "      <td>2.541</td>\n",
       "      <td>2.601</td>\n",
       "      <td>2.648</td>\n",
       "    </tr>\n",
       "    <tr>\n",
       "      <th>A26c2</th>\n",
       "      <td>52963</td>\n",
       "      <td>3.738</td>\n",
       "      <td>3.796</td>\n",
       "      <td>3.797</td>\n",
       "      <td>11.602</td>\n",
       "      <td>5.992</td>\n",
       "      <td>3.765</td>\n",
       "      <td>2.597</td>\n",
       "      <td>8.467</td>\n",
       "    </tr>\n",
       "    <tr>\n",
       "      <th>A2m</th>\n",
       "      <td>36219</td>\n",
       "      <td>6142.893</td>\n",
       "      <td>5840.628</td>\n",
       "      <td>6192.190</td>\n",
       "      <td>6855.576</td>\n",
       "      <td>533.450</td>\n",
       "      <td>408.658</td>\n",
       "      <td>355.236</td>\n",
       "      <td>371.571</td>\n",
       "    </tr>\n",
       "  </tbody>\n",
       "</table>\n",
       "</div>"
      ],
      "text/plain": [
       "        ArrayID     BR1_1     BR1_2     BR1_3     BR1_4    BR2_1    BR2_2  \\\n",
       "Symbol                                                                      \n",
       "A1bg      47917     6.551     9.730     6.253    13.327    3.550    2.836   \n",
       "A1cf      50995     3.718     3.788     3.795     5.505    2.599    2.552   \n",
       "A1i3      59848     3.740     7.137     3.697     4.011    2.605    2.541   \n",
       "A26c2     52963     3.738     3.796     3.797    11.602    5.992    3.765   \n",
       "A2m       36219  6142.893  5840.628  6192.190  6855.576  533.450  408.658   \n",
       "\n",
       "          BR2_3    BR2_4  \n",
       "Symbol                    \n",
       "A1bg      4.228    4.405  \n",
       "A1cf      2.595    2.649  \n",
       "A1i3      2.601    2.648  \n",
       "A26c2     2.597    8.467  \n",
       "A2m     355.236  371.571  "
      ]
     },
     "execution_count": 44,
     "metadata": {},
     "output_type": "execute_result"
    }
   ],
   "source": [
    "max_expression.head()"
   ]
  },
  {
   "cell_type": "code",
   "execution_count": 43,
   "metadata": {},
   "outputs": [
    {
     "data": {
      "text/plain": [
       "6142.893"
      ]
     },
     "execution_count": 43,
     "metadata": {},
     "output_type": "execute_result"
    }
   ],
   "source": [
    "max_expression.iloc[ 4, 1]"
   ]
  },
  {
   "cell_type": "code",
   "execution_count": null,
   "metadata": {},
   "outputs": [],
   "source": [
    "max_expression.loc[ 'A2m', 'BR1_1']"
   ]
  },
  {
   "cell_type": "markdown",
   "metadata": {},
   "source": [
    "## Combine reads\n",
    "\n",
    "Take maximum expression level for a given gene."
   ]
  },
  {
   "cell_type": "code",
   "execution_count": 45,
   "metadata": {},
   "outputs": [],
   "source": [
    "max_expression = grouped.max()"
   ]
  },
  {
   "cell_type": "code",
   "execution_count": 46,
   "metadata": {},
   "outputs": [
    {
     "data": {
      "text/plain": [
       "(29784, 9)"
      ]
     },
     "execution_count": 46,
     "metadata": {},
     "output_type": "execute_result"
    }
   ],
   "source": [
    "max_expression.shape"
   ]
  },
  {
   "cell_type": "markdown",
   "metadata": {},
   "source": [
    "# Drop the Array ID Column"
   ]
  },
  {
   "cell_type": "code",
   "execution_count": 47,
   "metadata": {},
   "outputs": [
    {
     "data": {
      "text/html": [
       "<div>\n",
       "<style scoped>\n",
       "    .dataframe tbody tr th:only-of-type {\n",
       "        vertical-align: middle;\n",
       "    }\n",
       "\n",
       "    .dataframe tbody tr th {\n",
       "        vertical-align: top;\n",
       "    }\n",
       "\n",
       "    .dataframe thead th {\n",
       "        text-align: right;\n",
       "    }\n",
       "</style>\n",
       "<table border=\"1\" class=\"dataframe\">\n",
       "  <thead>\n",
       "    <tr style=\"text-align: right;\">\n",
       "      <th></th>\n",
       "      <th>ArrayID</th>\n",
       "      <th>BR1_1</th>\n",
       "      <th>BR1_2</th>\n",
       "      <th>BR1_3</th>\n",
       "      <th>BR1_4</th>\n",
       "      <th>BR2_1</th>\n",
       "      <th>BR2_2</th>\n",
       "      <th>BR2_3</th>\n",
       "      <th>BR2_4</th>\n",
       "    </tr>\n",
       "    <tr>\n",
       "      <th>Symbol</th>\n",
       "      <th></th>\n",
       "      <th></th>\n",
       "      <th></th>\n",
       "      <th></th>\n",
       "      <th></th>\n",
       "      <th></th>\n",
       "      <th></th>\n",
       "      <th></th>\n",
       "      <th></th>\n",
       "    </tr>\n",
       "  </thead>\n",
       "  <tbody>\n",
       "    <tr>\n",
       "      <th>A1bg</th>\n",
       "      <td>47917</td>\n",
       "      <td>6.551</td>\n",
       "      <td>9.730</td>\n",
       "      <td>6.253</td>\n",
       "      <td>13.327</td>\n",
       "      <td>3.550</td>\n",
       "      <td>2.836</td>\n",
       "      <td>4.228</td>\n",
       "      <td>4.405</td>\n",
       "    </tr>\n",
       "    <tr>\n",
       "      <th>A1cf</th>\n",
       "      <td>50995</td>\n",
       "      <td>3.718</td>\n",
       "      <td>3.788</td>\n",
       "      <td>3.795</td>\n",
       "      <td>5.505</td>\n",
       "      <td>2.599</td>\n",
       "      <td>2.552</td>\n",
       "      <td>2.595</td>\n",
       "      <td>2.649</td>\n",
       "    </tr>\n",
       "    <tr>\n",
       "      <th>A1i3</th>\n",
       "      <td>59848</td>\n",
       "      <td>3.740</td>\n",
       "      <td>7.137</td>\n",
       "      <td>3.697</td>\n",
       "      <td>4.011</td>\n",
       "      <td>2.605</td>\n",
       "      <td>2.541</td>\n",
       "      <td>2.601</td>\n",
       "      <td>2.648</td>\n",
       "    </tr>\n",
       "    <tr>\n",
       "      <th>A26c2</th>\n",
       "      <td>52963</td>\n",
       "      <td>3.738</td>\n",
       "      <td>3.796</td>\n",
       "      <td>3.797</td>\n",
       "      <td>11.602</td>\n",
       "      <td>5.992</td>\n",
       "      <td>3.765</td>\n",
       "      <td>2.597</td>\n",
       "      <td>8.467</td>\n",
       "    </tr>\n",
       "    <tr>\n",
       "      <th>A2m</th>\n",
       "      <td>36219</td>\n",
       "      <td>6142.893</td>\n",
       "      <td>5840.628</td>\n",
       "      <td>6192.190</td>\n",
       "      <td>6855.576</td>\n",
       "      <td>533.450</td>\n",
       "      <td>408.658</td>\n",
       "      <td>355.236</td>\n",
       "      <td>371.571</td>\n",
       "    </tr>\n",
       "  </tbody>\n",
       "</table>\n",
       "</div>"
      ],
      "text/plain": [
       "        ArrayID     BR1_1     BR1_2     BR1_3     BR1_4    BR2_1    BR2_2  \\\n",
       "Symbol                                                                      \n",
       "A1bg      47917     6.551     9.730     6.253    13.327    3.550    2.836   \n",
       "A1cf      50995     3.718     3.788     3.795     5.505    2.599    2.552   \n",
       "A1i3      59848     3.740     7.137     3.697     4.011    2.605    2.541   \n",
       "A26c2     52963     3.738     3.796     3.797    11.602    5.992    3.765   \n",
       "A2m       36219  6142.893  5840.628  6192.190  6855.576  533.450  408.658   \n",
       "\n",
       "          BR2_3    BR2_4  \n",
       "Symbol                    \n",
       "A1bg      4.228    4.405  \n",
       "A1cf      2.595    2.649  \n",
       "A1i3      2.601    2.648  \n",
       "A26c2     2.597    8.467  \n",
       "A2m     355.236  371.571  "
      ]
     },
     "execution_count": 47,
     "metadata": {},
     "output_type": "execute_result"
    }
   ],
   "source": [
    "max_expression.head()"
   ]
  },
  {
   "cell_type": "code",
   "execution_count": null,
   "metadata": {},
   "outputs": [],
   "source": [
    "max_expression.drop?"
   ]
  },
  {
   "cell_type": "code",
   "execution_count": 48,
   "metadata": {},
   "outputs": [],
   "source": [
    "max_expression.drop( columns='ArrayID', inplace=True )"
   ]
  },
  {
   "cell_type": "code",
   "execution_count": 49,
   "metadata": {},
   "outputs": [
    {
     "data": {
      "text/html": [
       "<div>\n",
       "<style scoped>\n",
       "    .dataframe tbody tr th:only-of-type {\n",
       "        vertical-align: middle;\n",
       "    }\n",
       "\n",
       "    .dataframe tbody tr th {\n",
       "        vertical-align: top;\n",
       "    }\n",
       "\n",
       "    .dataframe thead th {\n",
       "        text-align: right;\n",
       "    }\n",
       "</style>\n",
       "<table border=\"1\" class=\"dataframe\">\n",
       "  <thead>\n",
       "    <tr style=\"text-align: right;\">\n",
       "      <th></th>\n",
       "      <th>BR1_1</th>\n",
       "      <th>BR1_2</th>\n",
       "      <th>BR1_3</th>\n",
       "      <th>BR1_4</th>\n",
       "      <th>BR2_1</th>\n",
       "      <th>BR2_2</th>\n",
       "      <th>BR2_3</th>\n",
       "      <th>BR2_4</th>\n",
       "    </tr>\n",
       "    <tr>\n",
       "      <th>Symbol</th>\n",
       "      <th></th>\n",
       "      <th></th>\n",
       "      <th></th>\n",
       "      <th></th>\n",
       "      <th></th>\n",
       "      <th></th>\n",
       "      <th></th>\n",
       "      <th></th>\n",
       "    </tr>\n",
       "  </thead>\n",
       "  <tbody>\n",
       "    <tr>\n",
       "      <th>A1bg</th>\n",
       "      <td>6.551</td>\n",
       "      <td>9.730</td>\n",
       "      <td>6.253</td>\n",
       "      <td>13.327</td>\n",
       "      <td>3.550</td>\n",
       "      <td>2.836</td>\n",
       "      <td>4.228</td>\n",
       "      <td>4.405</td>\n",
       "    </tr>\n",
       "    <tr>\n",
       "      <th>A1cf</th>\n",
       "      <td>3.718</td>\n",
       "      <td>3.788</td>\n",
       "      <td>3.795</td>\n",
       "      <td>5.505</td>\n",
       "      <td>2.599</td>\n",
       "      <td>2.552</td>\n",
       "      <td>2.595</td>\n",
       "      <td>2.649</td>\n",
       "    </tr>\n",
       "    <tr>\n",
       "      <th>A1i3</th>\n",
       "      <td>3.740</td>\n",
       "      <td>7.137</td>\n",
       "      <td>3.697</td>\n",
       "      <td>4.011</td>\n",
       "      <td>2.605</td>\n",
       "      <td>2.541</td>\n",
       "      <td>2.601</td>\n",
       "      <td>2.648</td>\n",
       "    </tr>\n",
       "    <tr>\n",
       "      <th>A26c2</th>\n",
       "      <td>3.738</td>\n",
       "      <td>3.796</td>\n",
       "      <td>3.797</td>\n",
       "      <td>11.602</td>\n",
       "      <td>5.992</td>\n",
       "      <td>3.765</td>\n",
       "      <td>2.597</td>\n",
       "      <td>8.467</td>\n",
       "    </tr>\n",
       "    <tr>\n",
       "      <th>A2m</th>\n",
       "      <td>6142.893</td>\n",
       "      <td>5840.628</td>\n",
       "      <td>6192.190</td>\n",
       "      <td>6855.576</td>\n",
       "      <td>533.450</td>\n",
       "      <td>408.658</td>\n",
       "      <td>355.236</td>\n",
       "      <td>371.571</td>\n",
       "    </tr>\n",
       "  </tbody>\n",
       "</table>\n",
       "</div>"
      ],
      "text/plain": [
       "           BR1_1     BR1_2     BR1_3     BR1_4    BR2_1    BR2_2    BR2_3  \\\n",
       "Symbol                                                                      \n",
       "A1bg       6.551     9.730     6.253    13.327    3.550    2.836    4.228   \n",
       "A1cf       3.718     3.788     3.795     5.505    2.599    2.552    2.595   \n",
       "A1i3       3.740     7.137     3.697     4.011    2.605    2.541    2.601   \n",
       "A26c2      3.738     3.796     3.797    11.602    5.992    3.765    2.597   \n",
       "A2m     6142.893  5840.628  6192.190  6855.576  533.450  408.658  355.236   \n",
       "\n",
       "          BR2_4  \n",
       "Symbol           \n",
       "A1bg      4.405  \n",
       "A1cf      2.649  \n",
       "A1i3      2.648  \n",
       "A26c2     8.467  \n",
       "A2m     371.571  "
      ]
     },
     "execution_count": 49,
     "metadata": {},
     "output_type": "execute_result"
    }
   ],
   "source": [
    "max_expression.head()"
   ]
  },
  {
   "cell_type": "markdown",
   "metadata": {},
   "source": [
    "## <code>.apply()</code> a log transformation function over all expression values"
   ]
  },
  {
   "cell_type": "code",
   "execution_count": null,
   "metadata": {},
   "outputs": [],
   "source": [
    "np.log2?"
   ]
  },
  {
   "cell_type": "code",
   "execution_count": 51,
   "metadata": {},
   "outputs": [
    {
     "data": {
      "text/plain": [
       "array([0.        , 3.32192809, 6.64385619, 9.96578428])"
      ]
     },
     "execution_count": 51,
     "metadata": {},
     "output_type": "execute_result"
    }
   ],
   "source": [
    "np.log2( [1, 10, 100, 1000] )"
   ]
  },
  {
   "cell_type": "code",
   "execution_count": 52,
   "metadata": {},
   "outputs": [
    {
     "data": {
      "text/plain": [
       "(29784, 8)"
      ]
     },
     "execution_count": 52,
     "metadata": {},
     "output_type": "execute_result"
    }
   ],
   "source": [
    "max_expression.shape"
   ]
  },
  {
   "cell_type": "code",
   "execution_count": 53,
   "metadata": {},
   "outputs": [],
   "source": [
    "log_trans = max_expression.apply( np.log2 )"
   ]
  },
  {
   "cell_type": "code",
   "execution_count": null,
   "metadata": {
    "scrolled": true
   },
   "outputs": [],
   "source": [
    "log_trans"
   ]
  },
  {
   "cell_type": "markdown",
   "metadata": {},
   "source": [
    "## <code>.apply()</code> a Z-score transformation function over all genes"
   ]
  },
  {
   "cell_type": "code",
   "execution_count": 55,
   "metadata": {},
   "outputs": [],
   "source": [
    "from scipy.stats import zscore"
   ]
  },
  {
   "cell_type": "code",
   "execution_count": null,
   "metadata": {},
   "outputs": [],
   "source": [
    "zscore?"
   ]
  },
  {
   "cell_type": "code",
   "execution_count": 57,
   "metadata": {},
   "outputs": [
    {
     "data": {
      "text/plain": [
       "array([-1.5666989 , -1.21854359, -0.87038828, -0.52223297, -0.17407766,\n",
       "        0.17407766,  0.52223297,  0.87038828,  1.21854359,  1.5666989 ])"
      ]
     },
     "execution_count": 57,
     "metadata": {},
     "output_type": "execute_result"
    }
   ],
   "source": [
    "zscore( [ 1,2,3,4,5,6,7,8,9,10] )"
   ]
  },
  {
   "cell_type": "code",
   "execution_count": 58,
   "metadata": {},
   "outputs": [],
   "source": [
    "z_trans = log_trans.apply(zscore)"
   ]
  },
  {
   "cell_type": "code",
   "execution_count": 60,
   "metadata": {},
   "outputs": [
    {
     "data": {
      "text/html": [
       "<div>\n",
       "<style scoped>\n",
       "    .dataframe tbody tr th:only-of-type {\n",
       "        vertical-align: middle;\n",
       "    }\n",
       "\n",
       "    .dataframe tbody tr th {\n",
       "        vertical-align: top;\n",
       "    }\n",
       "\n",
       "    .dataframe thead th {\n",
       "        text-align: right;\n",
       "    }\n",
       "</style>\n",
       "<table border=\"1\" class=\"dataframe\">\n",
       "  <thead>\n",
       "    <tr style=\"text-align: right;\">\n",
       "      <th></th>\n",
       "      <th>BR1_1</th>\n",
       "      <th>BR1_2</th>\n",
       "      <th>BR1_3</th>\n",
       "      <th>BR1_4</th>\n",
       "      <th>BR2_1</th>\n",
       "      <th>BR2_2</th>\n",
       "      <th>BR2_3</th>\n",
       "      <th>BR2_4</th>\n",
       "    </tr>\n",
       "    <tr>\n",
       "      <th>Symbol</th>\n",
       "      <th></th>\n",
       "      <th></th>\n",
       "      <th></th>\n",
       "      <th></th>\n",
       "      <th></th>\n",
       "      <th></th>\n",
       "      <th></th>\n",
       "      <th></th>\n",
       "    </tr>\n",
       "  </thead>\n",
       "  <tbody>\n",
       "    <tr>\n",
       "      <th>A1bg</th>\n",
       "      <td>2.712</td>\n",
       "      <td>3.283</td>\n",
       "      <td>2.644</td>\n",
       "      <td>3.736</td>\n",
       "      <td>1.828</td>\n",
       "      <td>1.504</td>\n",
       "      <td>2.080</td>\n",
       "      <td>2.139</td>\n",
       "    </tr>\n",
       "    <tr>\n",
       "      <th>A1cf</th>\n",
       "      <td>1.895</td>\n",
       "      <td>1.921</td>\n",
       "      <td>1.924</td>\n",
       "      <td>2.461</td>\n",
       "      <td>1.378</td>\n",
       "      <td>1.352</td>\n",
       "      <td>1.376</td>\n",
       "      <td>1.405</td>\n",
       "    </tr>\n",
       "    <tr>\n",
       "      <th>A1i3</th>\n",
       "      <td>1.903</td>\n",
       "      <td>2.835</td>\n",
       "      <td>1.886</td>\n",
       "      <td>2.004</td>\n",
       "      <td>1.381</td>\n",
       "      <td>1.345</td>\n",
       "      <td>1.379</td>\n",
       "      <td>1.405</td>\n",
       "    </tr>\n",
       "    <tr>\n",
       "      <th>A26c2</th>\n",
       "      <td>1.902</td>\n",
       "      <td>1.924</td>\n",
       "      <td>1.925</td>\n",
       "      <td>3.536</td>\n",
       "      <td>2.583</td>\n",
       "      <td>1.913</td>\n",
       "      <td>1.377</td>\n",
       "      <td>3.082</td>\n",
       "    </tr>\n",
       "    <tr>\n",
       "      <th>A2m</th>\n",
       "      <td>12.585</td>\n",
       "      <td>12.512</td>\n",
       "      <td>12.596</td>\n",
       "      <td>12.743</td>\n",
       "      <td>9.059</td>\n",
       "      <td>8.675</td>\n",
       "      <td>8.473</td>\n",
       "      <td>8.537</td>\n",
       "    </tr>\n",
       "  </tbody>\n",
       "</table>\n",
       "</div>"
      ],
      "text/plain": [
       "         BR1_1   BR1_2   BR1_3   BR1_4  BR2_1  BR2_2  BR2_3  BR2_4\n",
       "Symbol                                                            \n",
       "A1bg     2.712   3.283   2.644   3.736  1.828  1.504  2.080  2.139\n",
       "A1cf     1.895   1.921   1.924   2.461  1.378  1.352  1.376  1.405\n",
       "A1i3     1.903   2.835   1.886   2.004  1.381  1.345  1.379  1.405\n",
       "A26c2    1.902   1.924   1.925   3.536  2.583  1.913  1.377  3.082\n",
       "A2m     12.585  12.512  12.596  12.743  9.059  8.675  8.473  8.537"
      ]
     },
     "execution_count": 60,
     "metadata": {},
     "output_type": "execute_result"
    }
   ],
   "source": [
    "log_trans.head()"
   ]
  },
  {
   "cell_type": "code",
   "execution_count": null,
   "metadata": {},
   "outputs": [],
   "source": [
    "log_trans.apply?"
   ]
  },
  {
   "cell_type": "code",
   "execution_count": 61,
   "metadata": {},
   "outputs": [
    {
     "data": {
      "text/plain": [
       "(29784, 8)"
      ]
     },
     "execution_count": 61,
     "metadata": {},
     "output_type": "execute_result"
    }
   ],
   "source": [
    "log_trans.shape"
   ]
  },
  {
   "cell_type": "code",
   "execution_count": 62,
   "metadata": {},
   "outputs": [
    {
     "data": {
      "text/plain": [
       "(29784, 8)"
      ]
     },
     "execution_count": 62,
     "metadata": {},
     "output_type": "execute_result"
    }
   ],
   "source": [
    "z_trans.shape"
   ]
  },
  {
   "cell_type": "code",
   "execution_count": 63,
   "metadata": {},
   "outputs": [
    {
     "data": {
      "text/html": [
       "<div>\n",
       "<style scoped>\n",
       "    .dataframe tbody tr th:only-of-type {\n",
       "        vertical-align: middle;\n",
       "    }\n",
       "\n",
       "    .dataframe tbody tr th {\n",
       "        vertical-align: top;\n",
       "    }\n",
       "\n",
       "    .dataframe thead th {\n",
       "        text-align: right;\n",
       "    }\n",
       "</style>\n",
       "<table border=\"1\" class=\"dataframe\">\n",
       "  <thead>\n",
       "    <tr style=\"text-align: right;\">\n",
       "      <th></th>\n",
       "      <th>BR1_1</th>\n",
       "      <th>BR1_2</th>\n",
       "      <th>BR1_3</th>\n",
       "      <th>BR1_4</th>\n",
       "      <th>BR2_1</th>\n",
       "      <th>BR2_2</th>\n",
       "      <th>BR2_3</th>\n",
       "      <th>BR2_4</th>\n",
       "    </tr>\n",
       "    <tr>\n",
       "      <th>Symbol</th>\n",
       "      <th></th>\n",
       "      <th></th>\n",
       "      <th></th>\n",
       "      <th></th>\n",
       "      <th></th>\n",
       "      <th></th>\n",
       "      <th></th>\n",
       "      <th></th>\n",
       "    </tr>\n",
       "  </thead>\n",
       "  <tbody>\n",
       "    <tr>\n",
       "      <th>A1bg</th>\n",
       "      <td>-1.104</td>\n",
       "      <td>-1.023</td>\n",
       "      <td>-1.147</td>\n",
       "      <td>-0.921</td>\n",
       "      <td>-1.198</td>\n",
       "      <td>-1.271</td>\n",
       "      <td>-1.085</td>\n",
       "      <td>-1.105</td>\n",
       "    </tr>\n",
       "    <tr>\n",
       "      <th>A1cf</th>\n",
       "      <td>-1.301</td>\n",
       "      <td>-1.350</td>\n",
       "      <td>-1.317</td>\n",
       "      <td>-1.219</td>\n",
       "      <td>-1.307</td>\n",
       "      <td>-1.307</td>\n",
       "      <td>-1.250</td>\n",
       "      <td>-1.276</td>\n",
       "    </tr>\n",
       "    <tr>\n",
       "      <th>A1i3</th>\n",
       "      <td>-1.299</td>\n",
       "      <td>-1.131</td>\n",
       "      <td>-1.326</td>\n",
       "      <td>-1.326</td>\n",
       "      <td>-1.306</td>\n",
       "      <td>-1.308</td>\n",
       "      <td>-1.250</td>\n",
       "      <td>-1.276</td>\n",
       "    </tr>\n",
       "    <tr>\n",
       "      <th>A26c2</th>\n",
       "      <td>-1.299</td>\n",
       "      <td>-1.349</td>\n",
       "      <td>-1.317</td>\n",
       "      <td>-0.968</td>\n",
       "      <td>-1.017</td>\n",
       "      <td>-1.174</td>\n",
       "      <td>-1.250</td>\n",
       "      <td>-0.886</td>\n",
       "    </tr>\n",
       "    <tr>\n",
       "      <th>A2m</th>\n",
       "      <td>1.273</td>\n",
       "      <td>1.188</td>\n",
       "      <td>1.203</td>\n",
       "      <td>1.185</td>\n",
       "      <td>0.541</td>\n",
       "      <td>0.422</td>\n",
       "      <td>0.413</td>\n",
       "      <td>0.383</td>\n",
       "    </tr>\n",
       "  </tbody>\n",
       "</table>\n",
       "</div>"
      ],
      "text/plain": [
       "        BR1_1  BR1_2  BR1_3  BR1_4  BR2_1  BR2_2  BR2_3  BR2_4\n",
       "Symbol                                                        \n",
       "A1bg   -1.104 -1.023 -1.147 -0.921 -1.198 -1.271 -1.085 -1.105\n",
       "A1cf   -1.301 -1.350 -1.317 -1.219 -1.307 -1.307 -1.250 -1.276\n",
       "A1i3   -1.299 -1.131 -1.326 -1.326 -1.306 -1.308 -1.250 -1.276\n",
       "A26c2  -1.299 -1.349 -1.317 -0.968 -1.017 -1.174 -1.250 -0.886\n",
       "A2m     1.273  1.188  1.203  1.185  0.541  0.422  0.413  0.383"
      ]
     },
     "execution_count": 63,
     "metadata": {},
     "output_type": "execute_result"
    }
   ],
   "source": [
    "z_trans.head()"
   ]
  },
  {
   "cell_type": "markdown",
   "metadata": {},
   "source": [
    "## Compare: Make a histogram of fold change"
   ]
  },
  {
   "cell_type": "code",
   "execution_count": 64,
   "metadata": {},
   "outputs": [],
   "source": [
    "br1 = z_trans[ ['BR1_1','BR1_2', 'BR1_3', 'BR1_4' ] ]"
   ]
  },
  {
   "cell_type": "code",
   "execution_count": 65,
   "metadata": {},
   "outputs": [
    {
     "data": {
      "text/plain": [
       "(29784, 4)"
      ]
     },
     "execution_count": 65,
     "metadata": {},
     "output_type": "execute_result"
    }
   ],
   "source": [
    "br1.shape"
   ]
  },
  {
   "cell_type": "code",
   "execution_count": 66,
   "metadata": {},
   "outputs": [],
   "source": [
    "br2 = z_trans[ ['BR2_1','BR2_2', 'BR2_3', 'BR2_4' ] ]"
   ]
  },
  {
   "cell_type": "code",
   "execution_count": 67,
   "metadata": {},
   "outputs": [
    {
     "data": {
      "text/plain": [
       "(29784, 4)"
      ]
     },
     "execution_count": 67,
     "metadata": {},
     "output_type": "execute_result"
    }
   ],
   "source": [
    "br2.shape"
   ]
  },
  {
   "cell_type": "code",
   "execution_count": 68,
   "metadata": {},
   "outputs": [],
   "source": [
    "br1_mean = br1.mean(axis=1)\n",
    "br2_mean = br2.mean(axis=1)"
   ]
  },
  {
   "cell_type": "code",
   "execution_count": 69,
   "metadata": {},
   "outputs": [
    {
     "data": {
      "text/plain": [
       "(29784,)"
      ]
     },
     "execution_count": 69,
     "metadata": {},
     "output_type": "execute_result"
    }
   ],
   "source": [
    "br2_mean.shape"
   ]
  },
  {
   "cell_type": "code",
   "execution_count": 70,
   "metadata": {},
   "outputs": [],
   "source": [
    "diff = br2_mean - br1_mean"
   ]
  },
  {
   "cell_type": "code",
   "execution_count": 71,
   "metadata": {},
   "outputs": [
    {
     "data": {
      "text/plain": [
       "(29784,)"
      ]
     },
     "execution_count": 71,
     "metadata": {},
     "output_type": "execute_result"
    }
   ],
   "source": [
    "diff.shape"
   ]
  },
  {
   "cell_type": "code",
   "execution_count": 72,
   "metadata": {},
   "outputs": [],
   "source": [
    "# tell Jupyter Notebook to show the figure after it made it\n",
    "%matplotlib inline"
   ]
  },
  {
   "cell_type": "code",
   "execution_count": 73,
   "metadata": {},
   "outputs": [
    {
     "data": {
      "text/plain": [
       "<matplotlib.axes._subplots.AxesSubplot at 0x112b8fac8>"
      ]
     },
     "execution_count": 73,
     "metadata": {},
     "output_type": "execute_result"
    },
    {
     "data": {
      "image/png": "[encoded data removed]",
      "text/plain": [
       "<Figure size 432x288 with 1 Axes>"
      ]
     },
     "metadata": {},
     "output_type": "display_data"
    }
   ],
   "source": [
    "diff.hist()"
   ]
  },
  {
   "cell_type": "markdown",
   "metadata": {},
   "source": [
    "## Subselect genes based on having fold change > 1"
   ]
  },
  {
   "cell_type": "code",
   "execution_count": null,
   "metadata": {},
   "outputs": [],
   "source": [
    "diff[ diff.abs() > 1 ]"
   ]
  },
  {
   "cell_type": "markdown",
   "metadata": {},
   "source": [
    "## Get gene expression difference and p-value for desired comparisons\n",
    "\n",
    "Use Wilcoxon rank-sum statistic for two samples to test if the reads for a given gene across comparison groups come from different distributions."
   ]
  },
  {
   "cell_type": "code",
   "execution_count": 75,
   "metadata": {},
   "outputs": [],
   "source": [
    "from scipy.stats import ranksums"
   ]
  },
  {
   "cell_type": "code",
   "execution_count": 76,
   "metadata": {},
   "outputs": [
    {
     "data": {
      "text/plain": [
       "RanksumsResult(statistic=-2.3094010767585034, pvalue=0.020921335337794014)"
      ]
     },
     "execution_count": 76,
     "metadata": {},
     "output_type": "execute_result"
    }
   ],
   "source": [
    "ranksums( [1,2,3,4], [5,6,7,8])"
   ]
  },
  {
   "cell_type": "code",
   "execution_count": 77,
   "metadata": {},
   "outputs": [
    {
     "data": {
      "text/plain": [
       "RanksumsResult(statistic=-2.3094010767585034, pvalue=0.020921335337794014)"
      ]
     },
     "execution_count": 77,
     "metadata": {},
     "output_type": "execute_result"
    }
   ],
   "source": [
    "ranksums( [1,2,3,4], [50,60,70,80])"
   ]
  },
  {
   "cell_type": "code",
   "execution_count": 78,
   "metadata": {},
   "outputs": [
    {
     "data": {
      "text/plain": [
       "RanksumsResult(statistic=-2.0207259421636903, pvalue=0.043308142810791955)"
      ]
     },
     "execution_count": 78,
     "metadata": {},
     "output_type": "execute_result"
    }
   ],
   "source": [
    "ranksums( [1,2,3,5], [4,6,7,8])"
   ]
  },
  {
   "cell_type": "markdown",
   "metadata": {},
   "source": [
    "### Go row-by-row doing significance test"
   ]
  },
  {
   "cell_type": "code",
   "execution_count": 79,
   "metadata": {},
   "outputs": [],
   "source": [
    "import time"
   ]
  },
  {
   "cell_type": "code",
   "execution_count": 80,
   "metadata": {},
   "outputs": [],
   "source": [
    "# create an empty list onto which we can append p-values\n",
    "pval_list = []"
   ]
  },
  {
   "cell_type": "code",
   "execution_count": 81,
   "metadata": {},
   "outputs": [
    {
     "name": "stdout",
     "output_type": "stream",
     "text": [
      "This operation took 13.183716058731079 seconds.\n"
     ]
    }
   ],
   "source": [
    "t1 = time.time()\n",
    "\n",
    "# iterate over every gene\n",
    "for gene in br1.index:\n",
    "    \n",
    "    # subselect the expression values for the corresponding gene\n",
    "    vals1 = br1.loc[ gene ]\n",
    "    vals2 = br2.loc[ gene ]\n",
    "    \n",
    "    # Do the statistical test for this gene\n",
    "    statistic, pvalue = ranksums( vals1, vals2 )\n",
    "    \n",
    "    # save the p-value\n",
    "    pval_list.append( pvalue )\n",
    "\n",
    "t2 = time.time()\n",
    "print( \"This operation took\", t2-t1, \"seconds.\")"
   ]
  },
  {
   "cell_type": "code",
   "execution_count": 82,
   "metadata": {},
   "outputs": [
    {
     "data": {
      "text/plain": [
       "29784"
      ]
     },
     "execution_count": 82,
     "metadata": {},
     "output_type": "execute_result"
    }
   ],
   "source": [
    "len(pval_list)"
   ]
  },
  {
   "cell_type": "code",
   "execution_count": 83,
   "metadata": {},
   "outputs": [
    {
     "name": "stderr",
     "output_type": "stream",
     "text": [
      "/usr/local/lib/python3.6/site-packages/ipykernel_launcher.py:3: FutureWarning: Method .as_matrix will be removed in a future version. Use .values instead.\n",
      "  This is separate from the ipykernel package so we can avoid doing imports until\n"
     ]
    },
    {
     "name": "stdout",
     "output_type": "stream",
     "text": [
      "This operation took 4.83489203453064 seconds.\n"
     ]
    }
   ],
   "source": [
    "# One-liner!\n",
    "t1 = time.time()\n",
    "pval_list = [ ranksums(a,b)[1] for a, b in zip( br1.as_matrix(), br2.as_matrix() ) ]\n",
    "t2 = time.time()\n",
    "print( \"This operation took\", t2-t1, \"seconds.\")"
   ]
  },
  {
   "cell_type": "markdown",
   "metadata": {},
   "source": [
    "## Combine fold change and p-value into one DataFrame\n",
    "\n",
    "* Problem 1: the diff object is just one column (a Pandas \"<code>Series</code>\" object), not a full-fledged <code>DataFrame</code>\n",
    "* Problem 2: the p-values are stored in a simple Python <code>list</code>\n",
    "* Solution: use the <code>to_frame()</code> function to turn the <code>Series</code> into a <code>DataFrame</code>, then add the p-values as a new column to that <code>DataFrame</code>."
   ]
  },
  {
   "cell_type": "code",
   "execution_count": 84,
   "metadata": {},
   "outputs": [
    {
     "data": {
      "text/plain": [
       "pandas.core.series.Series"
      ]
     },
     "execution_count": 84,
     "metadata": {},
     "output_type": "execute_result"
    }
   ],
   "source": [
    "type( diff )"
   ]
  },
  {
   "cell_type": "code",
   "execution_count": 85,
   "metadata": {},
   "outputs": [
    {
     "data": {
      "text/plain": [
       "Symbol\n",
       "A1bg    -0.116\n",
       "A1cf     0.012\n",
       "A1i3    -0.015\n",
       "A26c2    0.151\n",
       "A2m     -0.772\n",
       "dtype: float64"
      ]
     },
     "execution_count": 85,
     "metadata": {},
     "output_type": "execute_result"
    }
   ],
   "source": [
    "diff.head()"
   ]
  },
  {
   "cell_type": "code",
   "execution_count": 86,
   "metadata": {},
   "outputs": [],
   "source": [
    "combined = diff.to_frame()"
   ]
  },
  {
   "cell_type": "code",
   "execution_count": 87,
   "metadata": {},
   "outputs": [
    {
     "data": {
      "text/html": [
       "<div>\n",
       "<style scoped>\n",
       "    .dataframe tbody tr th:only-of-type {\n",
       "        vertical-align: middle;\n",
       "    }\n",
       "\n",
       "    .dataframe tbody tr th {\n",
       "        vertical-align: top;\n",
       "    }\n",
       "\n",
       "    .dataframe thead th {\n",
       "        text-align: right;\n",
       "    }\n",
       "</style>\n",
       "<table border=\"1\" class=\"dataframe\">\n",
       "  <thead>\n",
       "    <tr style=\"text-align: right;\">\n",
       "      <th></th>\n",
       "      <th>0</th>\n",
       "    </tr>\n",
       "    <tr>\n",
       "      <th>Symbol</th>\n",
       "      <th></th>\n",
       "    </tr>\n",
       "  </thead>\n",
       "  <tbody>\n",
       "    <tr>\n",
       "      <th>A1bg</th>\n",
       "      <td>-0.116</td>\n",
       "    </tr>\n",
       "    <tr>\n",
       "      <th>A1cf</th>\n",
       "      <td>0.012</td>\n",
       "    </tr>\n",
       "    <tr>\n",
       "      <th>A1i3</th>\n",
       "      <td>-0.015</td>\n",
       "    </tr>\n",
       "    <tr>\n",
       "      <th>A26c2</th>\n",
       "      <td>0.151</td>\n",
       "    </tr>\n",
       "    <tr>\n",
       "      <th>A2m</th>\n",
       "      <td>-0.772</td>\n",
       "    </tr>\n",
       "  </tbody>\n",
       "</table>\n",
       "</div>"
      ],
      "text/plain": [
       "            0\n",
       "Symbol       \n",
       "A1bg   -0.116\n",
       "A1cf    0.012\n",
       "A1i3   -0.015\n",
       "A26c2   0.151\n",
       "A2m    -0.772"
      ]
     },
     "execution_count": 87,
     "metadata": {},
     "output_type": "execute_result"
    }
   ],
   "source": [
    "combined.head()"
   ]
  },
  {
   "cell_type": "code",
   "execution_count": 88,
   "metadata": {},
   "outputs": [],
   "source": [
    "combined = diff.to_frame( name='fold')"
   ]
  },
  {
   "cell_type": "code",
   "execution_count": 89,
   "metadata": {},
   "outputs": [
    {
     "data": {
      "text/html": [
       "<div>\n",
       "<style scoped>\n",
       "    .dataframe tbody tr th:only-of-type {\n",
       "        vertical-align: middle;\n",
       "    }\n",
       "\n",
       "    .dataframe tbody tr th {\n",
       "        vertical-align: top;\n",
       "    }\n",
       "\n",
       "    .dataframe thead th {\n",
       "        text-align: right;\n",
       "    }\n",
       "</style>\n",
       "<table border=\"1\" class=\"dataframe\">\n",
       "  <thead>\n",
       "    <tr style=\"text-align: right;\">\n",
       "      <th></th>\n",
       "      <th>fold</th>\n",
       "    </tr>\n",
       "    <tr>\n",
       "      <th>Symbol</th>\n",
       "      <th></th>\n",
       "    </tr>\n",
       "  </thead>\n",
       "  <tbody>\n",
       "    <tr>\n",
       "      <th>A1bg</th>\n",
       "      <td>-0.116</td>\n",
       "    </tr>\n",
       "    <tr>\n",
       "      <th>A1cf</th>\n",
       "      <td>0.012</td>\n",
       "    </tr>\n",
       "    <tr>\n",
       "      <th>A1i3</th>\n",
       "      <td>-0.015</td>\n",
       "    </tr>\n",
       "    <tr>\n",
       "      <th>A26c2</th>\n",
       "      <td>0.151</td>\n",
       "    </tr>\n",
       "    <tr>\n",
       "      <th>A2m</th>\n",
       "      <td>-0.772</td>\n",
       "    </tr>\n",
       "  </tbody>\n",
       "</table>\n",
       "</div>"
      ],
      "text/plain": [
       "         fold\n",
       "Symbol       \n",
       "A1bg   -0.116\n",
       "A1cf    0.012\n",
       "A1i3   -0.015\n",
       "A26c2   0.151\n",
       "A2m    -0.772"
      ]
     },
     "execution_count": 89,
     "metadata": {},
     "output_type": "execute_result"
    }
   ],
   "source": [
    "combined.head()"
   ]
  },
  {
   "cell_type": "code",
   "execution_count": 90,
   "metadata": {},
   "outputs": [],
   "source": [
    "combined[ 'pvals' ] = pval_list"
   ]
  },
  {
   "cell_type": "code",
   "execution_count": 91,
   "metadata": {},
   "outputs": [
    {
     "data": {
      "text/html": [
       "<div>\n",
       "<style scoped>\n",
       "    .dataframe tbody tr th:only-of-type {\n",
       "        vertical-align: middle;\n",
       "    }\n",
       "\n",
       "    .dataframe tbody tr th {\n",
       "        vertical-align: top;\n",
       "    }\n",
       "\n",
       "    .dataframe thead th {\n",
       "        text-align: right;\n",
       "    }\n",
       "</style>\n",
       "<table border=\"1\" class=\"dataframe\">\n",
       "  <thead>\n",
       "    <tr style=\"text-align: right;\">\n",
       "      <th></th>\n",
       "      <th>fold</th>\n",
       "      <th>pvals</th>\n",
       "    </tr>\n",
       "    <tr>\n",
       "      <th>Symbol</th>\n",
       "      <th></th>\n",
       "      <th></th>\n",
       "    </tr>\n",
       "  </thead>\n",
       "  <tbody>\n",
       "    <tr>\n",
       "      <th>A1bg</th>\n",
       "      <td>-0.116</td>\n",
       "      <td>0.149</td>\n",
       "    </tr>\n",
       "    <tr>\n",
       "      <th>A1cf</th>\n",
       "      <td>0.012</td>\n",
       "      <td>0.564</td>\n",
       "    </tr>\n",
       "    <tr>\n",
       "      <th>A1i3</th>\n",
       "      <td>-0.015</td>\n",
       "      <td>0.564</td>\n",
       "    </tr>\n",
       "    <tr>\n",
       "      <th>A26c2</th>\n",
       "      <td>0.151</td>\n",
       "      <td>0.149</td>\n",
       "    </tr>\n",
       "    <tr>\n",
       "      <th>A2m</th>\n",
       "      <td>-0.772</td>\n",
       "      <td>0.021</td>\n",
       "    </tr>\n",
       "  </tbody>\n",
       "</table>\n",
       "</div>"
      ],
      "text/plain": [
       "         fold  pvals\n",
       "Symbol              \n",
       "A1bg   -0.116  0.149\n",
       "A1cf    0.012  0.564\n",
       "A1i3   -0.015  0.564\n",
       "A26c2   0.151  0.149\n",
       "A2m    -0.772  0.021"
      ]
     },
     "execution_count": 91,
     "metadata": {},
     "output_type": "execute_result"
    }
   ],
   "source": [
    "combined.head()"
   ]
  },
  {
   "cell_type": "code",
   "execution_count": 92,
   "metadata": {},
   "outputs": [
    {
     "data": {
      "text/plain": [
       "(29784, 2)"
      ]
     },
     "execution_count": 92,
     "metadata": {},
     "output_type": "execute_result"
    }
   ],
   "source": [
    "combined.shape"
   ]
  },
  {
   "cell_type": "markdown",
   "metadata": {},
   "source": [
    "## Subselect genes with fold change > 1"
   ]
  },
  {
   "cell_type": "code",
   "execution_count": 93,
   "metadata": {},
   "outputs": [
    {
     "data": {
      "text/html": [
       "<div>\n",
       "<style scoped>\n",
       "    .dataframe tbody tr th:only-of-type {\n",
       "        vertical-align: middle;\n",
       "    }\n",
       "\n",
       "    .dataframe tbody tr th {\n",
       "        vertical-align: top;\n",
       "    }\n",
       "\n",
       "    .dataframe thead th {\n",
       "        text-align: right;\n",
       "    }\n",
       "</style>\n",
       "<table border=\"1\" class=\"dataframe\">\n",
       "  <thead>\n",
       "    <tr style=\"text-align: right;\">\n",
       "      <th></th>\n",
       "      <th>fold</th>\n",
       "      <th>pvals</th>\n",
       "    </tr>\n",
       "    <tr>\n",
       "      <th>Symbol</th>\n",
       "      <th></th>\n",
       "      <th></th>\n",
       "    </tr>\n",
       "  </thead>\n",
       "  <tbody>\n",
       "    <tr>\n",
       "      <th>Adam33</th>\n",
       "      <td>1.231</td>\n",
       "      <td>0.021</td>\n",
       "    </tr>\n",
       "    <tr>\n",
       "      <th>C1ql2</th>\n",
       "      <td>-1.092</td>\n",
       "      <td>0.021</td>\n",
       "    </tr>\n",
       "    <tr>\n",
       "      <th>Cd3e</th>\n",
       "      <td>-1.243</td>\n",
       "      <td>0.021</td>\n",
       "    </tr>\n",
       "    <tr>\n",
       "      <th>Chst9</th>\n",
       "      <td>-1.406</td>\n",
       "      <td>0.021</td>\n",
       "    </tr>\n",
       "    <tr>\n",
       "      <th>Cox6a2</th>\n",
       "      <td>1.153</td>\n",
       "      <td>0.021</td>\n",
       "    </tr>\n",
       "    <tr>\n",
       "      <th>Csap1</th>\n",
       "      <td>-1.359</td>\n",
       "      <td>0.021</td>\n",
       "    </tr>\n",
       "    <tr>\n",
       "      <th>Cxcr1</th>\n",
       "      <td>-1.511</td>\n",
       "      <td>0.021</td>\n",
       "    </tr>\n",
       "    <tr>\n",
       "      <th>Cyp11b1</th>\n",
       "      <td>1.640</td>\n",
       "      <td>0.021</td>\n",
       "    </tr>\n",
       "    <tr>\n",
       "      <th>Dpp4</th>\n",
       "      <td>1.057</td>\n",
       "      <td>0.021</td>\n",
       "    </tr>\n",
       "    <tr>\n",
       "      <th>Fer1l4</th>\n",
       "      <td>1.212</td>\n",
       "      <td>0.021</td>\n",
       "    </tr>\n",
       "    <tr>\n",
       "      <th>Fibcd1</th>\n",
       "      <td>-1.098</td>\n",
       "      <td>0.021</td>\n",
       "    </tr>\n",
       "    <tr>\n",
       "      <th>Frem3</th>\n",
       "      <td>-1.127</td>\n",
       "      <td>0.021</td>\n",
       "    </tr>\n",
       "    <tr>\n",
       "      <th>Gpat2</th>\n",
       "      <td>1.229</td>\n",
       "      <td>0.021</td>\n",
       "    </tr>\n",
       "    <tr>\n",
       "      <th>Htr5b</th>\n",
       "      <td>-1.612</td>\n",
       "      <td>0.021</td>\n",
       "    </tr>\n",
       "    <tr>\n",
       "      <th>Klk8</th>\n",
       "      <td>-1.738</td>\n",
       "      <td>0.021</td>\n",
       "    </tr>\n",
       "    <tr>\n",
       "      <th>LOC688459</th>\n",
       "      <td>-1.045</td>\n",
       "      <td>0.021</td>\n",
       "    </tr>\n",
       "    <tr>\n",
       "      <th>Lhx9</th>\n",
       "      <td>-1.354</td>\n",
       "      <td>0.021</td>\n",
       "    </tr>\n",
       "    <tr>\n",
       "      <th>Lrrc10b</th>\n",
       "      <td>-1.367</td>\n",
       "      <td>0.021</td>\n",
       "    </tr>\n",
       "    <tr>\n",
       "      <th>Meox1</th>\n",
       "      <td>-1.040</td>\n",
       "      <td>0.021</td>\n",
       "    </tr>\n",
       "    <tr>\n",
       "      <th>Meox2</th>\n",
       "      <td>-1.028</td>\n",
       "      <td>0.021</td>\n",
       "    </tr>\n",
       "    <tr>\n",
       "      <th>NA1086</th>\n",
       "      <td>1.151</td>\n",
       "      <td>0.021</td>\n",
       "    </tr>\n",
       "    <tr>\n",
       "      <th>NA1528</th>\n",
       "      <td>1.069</td>\n",
       "      <td>0.083</td>\n",
       "    </tr>\n",
       "    <tr>\n",
       "      <th>NA3871</th>\n",
       "      <td>1.197</td>\n",
       "      <td>0.021</td>\n",
       "    </tr>\n",
       "    <tr>\n",
       "      <th>NA3959</th>\n",
       "      <td>1.206</td>\n",
       "      <td>0.021</td>\n",
       "    </tr>\n",
       "    <tr>\n",
       "      <th>NA4283</th>\n",
       "      <td>1.426</td>\n",
       "      <td>0.021</td>\n",
       "    </tr>\n",
       "    <tr>\n",
       "      <th>NA5561</th>\n",
       "      <td>-1.124</td>\n",
       "      <td>0.021</td>\n",
       "    </tr>\n",
       "    <tr>\n",
       "      <th>Ndst4</th>\n",
       "      <td>-1.346</td>\n",
       "      <td>0.021</td>\n",
       "    </tr>\n",
       "    <tr>\n",
       "      <th>Nhlh1</th>\n",
       "      <td>-1.090</td>\n",
       "      <td>0.021</td>\n",
       "    </tr>\n",
       "    <tr>\n",
       "      <th>Ntf3</th>\n",
       "      <td>-1.082</td>\n",
       "      <td>0.021</td>\n",
       "    </tr>\n",
       "    <tr>\n",
       "      <th>Ntrk1</th>\n",
       "      <td>-1.386</td>\n",
       "      <td>0.021</td>\n",
       "    </tr>\n",
       "    <tr>\n",
       "      <th>Nts</th>\n",
       "      <td>-2.095</td>\n",
       "      <td>0.021</td>\n",
       "    </tr>\n",
       "    <tr>\n",
       "      <th>Ocm2</th>\n",
       "      <td>1.288</td>\n",
       "      <td>0.021</td>\n",
       "    </tr>\n",
       "    <tr>\n",
       "      <th>Olr315</th>\n",
       "      <td>1.008</td>\n",
       "      <td>0.083</td>\n",
       "    </tr>\n",
       "    <tr>\n",
       "      <th>Olr59</th>\n",
       "      <td>1.267</td>\n",
       "      <td>0.021</td>\n",
       "    </tr>\n",
       "    <tr>\n",
       "      <th>Qrfpr</th>\n",
       "      <td>1.016</td>\n",
       "      <td>0.021</td>\n",
       "    </tr>\n",
       "    <tr>\n",
       "      <th>Slc9a4</th>\n",
       "      <td>-1.078</td>\n",
       "      <td>0.021</td>\n",
       "    </tr>\n",
       "    <tr>\n",
       "      <th>Sprr1a</th>\n",
       "      <td>1.146</td>\n",
       "      <td>0.021</td>\n",
       "    </tr>\n",
       "    <tr>\n",
       "      <th>Upb1</th>\n",
       "      <td>-1.026</td>\n",
       "      <td>0.021</td>\n",
       "    </tr>\n",
       "  </tbody>\n",
       "</table>\n",
       "</div>"
      ],
      "text/plain": [
       "            fold  pvals\n",
       "Symbol                 \n",
       "Adam33     1.231  0.021\n",
       "C1ql2     -1.092  0.021\n",
       "Cd3e      -1.243  0.021\n",
       "Chst9     -1.406  0.021\n",
       "Cox6a2     1.153  0.021\n",
       "Csap1     -1.359  0.021\n",
       "Cxcr1     -1.511  0.021\n",
       "Cyp11b1    1.640  0.021\n",
       "Dpp4       1.057  0.021\n",
       "Fer1l4     1.212  0.021\n",
       "Fibcd1    -1.098  0.021\n",
       "Frem3     -1.127  0.021\n",
       "Gpat2      1.229  0.021\n",
       "Htr5b     -1.612  0.021\n",
       "Klk8      -1.738  0.021\n",
       "LOC688459 -1.045  0.021\n",
       "Lhx9      -1.354  0.021\n",
       "Lrrc10b   -1.367  0.021\n",
       "Meox1     -1.040  0.021\n",
       "Meox2     -1.028  0.021\n",
       "NA1086     1.151  0.021\n",
       "NA1528     1.069  0.083\n",
       "NA3871     1.197  0.021\n",
       "NA3959     1.206  0.021\n",
       "NA4283     1.426  0.021\n",
       "NA5561    -1.124  0.021\n",
       "Ndst4     -1.346  0.021\n",
       "Nhlh1     -1.090  0.021\n",
       "Ntf3      -1.082  0.021\n",
       "Ntrk1     -1.386  0.021\n",
       "Nts       -2.095  0.021\n",
       "Ocm2       1.288  0.021\n",
       "Olr315     1.008  0.083\n",
       "Olr59      1.267  0.021\n",
       "Qrfpr      1.016  0.021\n",
       "Slc9a4    -1.078  0.021\n",
       "Sprr1a     1.146  0.021\n",
       "Upb1      -1.026  0.021"
      ]
     },
     "execution_count": 93,
     "metadata": {},
     "output_type": "execute_result"
    }
   ],
   "source": [
    "combined[ combined.fold.abs() > 1 ]"
   ]
  },
  {
   "cell_type": "markdown",
   "metadata": {},
   "source": [
    "## Subselect genes with fold change > 1 AND p-value < 0.05"
   ]
  },
  {
   "cell_type": "code",
   "execution_count": 94,
   "metadata": {},
   "outputs": [
    {
     "data": {
      "text/html": [
       "<div>\n",
       "<style scoped>\n",
       "    .dataframe tbody tr th:only-of-type {\n",
       "        vertical-align: middle;\n",
       "    }\n",
       "\n",
       "    .dataframe tbody tr th {\n",
       "        vertical-align: top;\n",
       "    }\n",
       "\n",
       "    .dataframe thead th {\n",
       "        text-align: right;\n",
       "    }\n",
       "</style>\n",
       "<table border=\"1\" class=\"dataframe\">\n",
       "  <thead>\n",
       "    <tr style=\"text-align: right;\">\n",
       "      <th></th>\n",
       "      <th>fold</th>\n",
       "      <th>pvals</th>\n",
       "    </tr>\n",
       "    <tr>\n",
       "      <th>Symbol</th>\n",
       "      <th></th>\n",
       "      <th></th>\n",
       "    </tr>\n",
       "  </thead>\n",
       "  <tbody>\n",
       "    <tr>\n",
       "      <th>Adam33</th>\n",
       "      <td>1.231</td>\n",
       "      <td>0.021</td>\n",
       "    </tr>\n",
       "    <tr>\n",
       "      <th>C1ql2</th>\n",
       "      <td>-1.092</td>\n",
       "      <td>0.021</td>\n",
       "    </tr>\n",
       "    <tr>\n",
       "      <th>Cd3e</th>\n",
       "      <td>-1.243</td>\n",
       "      <td>0.021</td>\n",
       "    </tr>\n",
       "    <tr>\n",
       "      <th>Chst9</th>\n",
       "      <td>-1.406</td>\n",
       "      <td>0.021</td>\n",
       "    </tr>\n",
       "    <tr>\n",
       "      <th>Cox6a2</th>\n",
       "      <td>1.153</td>\n",
       "      <td>0.021</td>\n",
       "    </tr>\n",
       "    <tr>\n",
       "      <th>Csap1</th>\n",
       "      <td>-1.359</td>\n",
       "      <td>0.021</td>\n",
       "    </tr>\n",
       "    <tr>\n",
       "      <th>Cxcr1</th>\n",
       "      <td>-1.511</td>\n",
       "      <td>0.021</td>\n",
       "    </tr>\n",
       "    <tr>\n",
       "      <th>Cyp11b1</th>\n",
       "      <td>1.640</td>\n",
       "      <td>0.021</td>\n",
       "    </tr>\n",
       "    <tr>\n",
       "      <th>Dpp4</th>\n",
       "      <td>1.057</td>\n",
       "      <td>0.021</td>\n",
       "    </tr>\n",
       "    <tr>\n",
       "      <th>Fer1l4</th>\n",
       "      <td>1.212</td>\n",
       "      <td>0.021</td>\n",
       "    </tr>\n",
       "    <tr>\n",
       "      <th>Fibcd1</th>\n",
       "      <td>-1.098</td>\n",
       "      <td>0.021</td>\n",
       "    </tr>\n",
       "    <tr>\n",
       "      <th>Frem3</th>\n",
       "      <td>-1.127</td>\n",
       "      <td>0.021</td>\n",
       "    </tr>\n",
       "    <tr>\n",
       "      <th>Gpat2</th>\n",
       "      <td>1.229</td>\n",
       "      <td>0.021</td>\n",
       "    </tr>\n",
       "    <tr>\n",
       "      <th>Htr5b</th>\n",
       "      <td>-1.612</td>\n",
       "      <td>0.021</td>\n",
       "    </tr>\n",
       "    <tr>\n",
       "      <th>Klk8</th>\n",
       "      <td>-1.738</td>\n",
       "      <td>0.021</td>\n",
       "    </tr>\n",
       "    <tr>\n",
       "      <th>LOC688459</th>\n",
       "      <td>-1.045</td>\n",
       "      <td>0.021</td>\n",
       "    </tr>\n",
       "    <tr>\n",
       "      <th>Lhx9</th>\n",
       "      <td>-1.354</td>\n",
       "      <td>0.021</td>\n",
       "    </tr>\n",
       "    <tr>\n",
       "      <th>Lrrc10b</th>\n",
       "      <td>-1.367</td>\n",
       "      <td>0.021</td>\n",
       "    </tr>\n",
       "    <tr>\n",
       "      <th>Meox1</th>\n",
       "      <td>-1.040</td>\n",
       "      <td>0.021</td>\n",
       "    </tr>\n",
       "    <tr>\n",
       "      <th>Meox2</th>\n",
       "      <td>-1.028</td>\n",
       "      <td>0.021</td>\n",
       "    </tr>\n",
       "    <tr>\n",
       "      <th>NA1086</th>\n",
       "      <td>1.151</td>\n",
       "      <td>0.021</td>\n",
       "    </tr>\n",
       "    <tr>\n",
       "      <th>NA3871</th>\n",
       "      <td>1.197</td>\n",
       "      <td>0.021</td>\n",
       "    </tr>\n",
       "    <tr>\n",
       "      <th>NA3959</th>\n",
       "      <td>1.206</td>\n",
       "      <td>0.021</td>\n",
       "    </tr>\n",
       "    <tr>\n",
       "      <th>NA4283</th>\n",
       "      <td>1.426</td>\n",
       "      <td>0.021</td>\n",
       "    </tr>\n",
       "    <tr>\n",
       "      <th>NA5561</th>\n",
       "      <td>-1.124</td>\n",
       "      <td>0.021</td>\n",
       "    </tr>\n",
       "    <tr>\n",
       "      <th>Ndst4</th>\n",
       "      <td>-1.346</td>\n",
       "      <td>0.021</td>\n",
       "    </tr>\n",
       "    <tr>\n",
       "      <th>Nhlh1</th>\n",
       "      <td>-1.090</td>\n",
       "      <td>0.021</td>\n",
       "    </tr>\n",
       "    <tr>\n",
       "      <th>Ntf3</th>\n",
       "      <td>-1.082</td>\n",
       "      <td>0.021</td>\n",
       "    </tr>\n",
       "    <tr>\n",
       "      <th>Ntrk1</th>\n",
       "      <td>-1.386</td>\n",
       "      <td>0.021</td>\n",
       "    </tr>\n",
       "    <tr>\n",
       "      <th>Nts</th>\n",
       "      <td>-2.095</td>\n",
       "      <td>0.021</td>\n",
       "    </tr>\n",
       "    <tr>\n",
       "      <th>Ocm2</th>\n",
       "      <td>1.288</td>\n",
       "      <td>0.021</td>\n",
       "    </tr>\n",
       "    <tr>\n",
       "      <th>Olr59</th>\n",
       "      <td>1.267</td>\n",
       "      <td>0.021</td>\n",
       "    </tr>\n",
       "    <tr>\n",
       "      <th>Qrfpr</th>\n",
       "      <td>1.016</td>\n",
       "      <td>0.021</td>\n",
       "    </tr>\n",
       "    <tr>\n",
       "      <th>Slc9a4</th>\n",
       "      <td>-1.078</td>\n",
       "      <td>0.021</td>\n",
       "    </tr>\n",
       "    <tr>\n",
       "      <th>Sprr1a</th>\n",
       "      <td>1.146</td>\n",
       "      <td>0.021</td>\n",
       "    </tr>\n",
       "    <tr>\n",
       "      <th>Upb1</th>\n",
       "      <td>-1.026</td>\n",
       "      <td>0.021</td>\n",
       "    </tr>\n",
       "  </tbody>\n",
       "</table>\n",
       "</div>"
      ],
      "text/plain": [
       "            fold  pvals\n",
       "Symbol                 \n",
       "Adam33     1.231  0.021\n",
       "C1ql2     -1.092  0.021\n",
       "Cd3e      -1.243  0.021\n",
       "Chst9     -1.406  0.021\n",
       "Cox6a2     1.153  0.021\n",
       "Csap1     -1.359  0.021\n",
       "Cxcr1     -1.511  0.021\n",
       "Cyp11b1    1.640  0.021\n",
       "Dpp4       1.057  0.021\n",
       "Fer1l4     1.212  0.021\n",
       "Fibcd1    -1.098  0.021\n",
       "Frem3     -1.127  0.021\n",
       "Gpat2      1.229  0.021\n",
       "Htr5b     -1.612  0.021\n",
       "Klk8      -1.738  0.021\n",
       "LOC688459 -1.045  0.021\n",
       "Lhx9      -1.354  0.021\n",
       "Lrrc10b   -1.367  0.021\n",
       "Meox1     -1.040  0.021\n",
       "Meox2     -1.028  0.021\n",
       "NA1086     1.151  0.021\n",
       "NA3871     1.197  0.021\n",
       "NA3959     1.206  0.021\n",
       "NA4283     1.426  0.021\n",
       "NA5561    -1.124  0.021\n",
       "Ndst4     -1.346  0.021\n",
       "Nhlh1     -1.090  0.021\n",
       "Ntf3      -1.082  0.021\n",
       "Ntrk1     -1.386  0.021\n",
       "Nts       -2.095  0.021\n",
       "Ocm2       1.288  0.021\n",
       "Olr59      1.267  0.021\n",
       "Qrfpr      1.016  0.021\n",
       "Slc9a4    -1.078  0.021\n",
       "Sprr1a     1.146  0.021\n",
       "Upb1      -1.026  0.021"
      ]
     },
     "execution_count": 94,
     "metadata": {},
     "output_type": "execute_result"
    }
   ],
   "source": [
    "combined[ (combined.fold.abs() > 1) & (combined.pvals < 0.05) ]"
   ]
  },
  {
   "cell_type": "code",
   "execution_count": 95,
   "metadata": {},
   "outputs": [],
   "source": [
    "plot_these = combined[ (combined.fold.abs() > 1) & (combined.pvals < 0.05) ]"
   ]
  },
  {
   "cell_type": "code",
   "execution_count": 96,
   "metadata": {},
   "outputs": [
    {
     "data": {
      "text/plain": [
       "36"
      ]
     },
     "execution_count": 96,
     "metadata": {},
     "output_type": "execute_result"
    }
   ],
   "source": [
    "len(plot_these)"
   ]
  },
  {
   "cell_type": "markdown",
   "metadata": {},
   "source": [
    "Turn the row labels into variables in their own right:"
   ]
  },
  {
   "cell_type": "code",
   "execution_count": 97,
   "metadata": {},
   "outputs": [
    {
     "name": "stderr",
     "output_type": "stream",
     "text": [
      "/usr/local/lib/python3.6/site-packages/ipykernel_launcher.py:1: SettingWithCopyWarning: \n",
      "A value is trying to be set on a copy of a slice from a DataFrame.\n",
      "Try using .loc[row_indexer,col_indexer] = value instead\n",
      "\n",
      "See the caveats in the documentation: http://pandas.pydata.org/pandas-docs/stable/indexing.html#indexing-view-versus-copy\n",
      "  \"\"\"Entry point for launching an IPython kernel.\n"
     ]
    }
   ],
   "source": [
    "plot_these['Gene'] = plot_these.index"
   ]
  },
  {
   "cell_type": "code",
   "execution_count": 98,
   "metadata": {},
   "outputs": [
    {
     "name": "stderr",
     "output_type": "stream",
     "text": [
      "/usr/local/lib/python3.6/site-packages/ipykernel_launcher.py:1: SettingWithCopyWarning: \n",
      "A value is trying to be set on a copy of a slice from a DataFrame\n",
      "\n",
      "See the caveats in the documentation: http://pandas.pydata.org/pandas-docs/stable/indexing.html#indexing-view-versus-copy\n",
      "  \"\"\"Entry point for launching an IPython kernel.\n"
     ]
    }
   ],
   "source": [
    "plot_these.sort_values(by='fold', inplace=True)"
   ]
  },
  {
   "cell_type": "markdown",
   "metadata": {},
   "source": [
    "## Generate RibbonPlot"
   ]
  },
  {
   "cell_type": "markdown",
   "metadata": {},
   "source": [
    "### Load some of Python's figure-making libraries:"
   ]
  },
  {
   "cell_type": "code",
   "execution_count": 99,
   "metadata": {},
   "outputs": [],
   "source": [
    "import seaborn as sns\n",
    "import matplotlib.pyplot as plt"
   ]
  },
  {
   "cell_type": "markdown",
   "metadata": {},
   "source": [
    "### Set the style of the figure\n",
    "\n",
    "When using the plotting package seaborn, there are five figure [styles](https://seaborn.pydata.org/tutorial/aesthetics.html) to choose from:\n",
    "1. darkgrid\n",
    "2. whitegrid\n",
    "3. dark\n",
    "4. white\n",
    "5. ticks"
   ]
  },
  {
   "cell_type": "code",
   "execution_count": 100,
   "metadata": {},
   "outputs": [],
   "source": [
    "sns.set( style=\"whitegrid\" )"
   ]
  },
  {
   "cell_type": "markdown",
   "metadata": {},
   "source": [
    "### Making the figure "
   ]
  },
  {
   "cell_type": "code",
   "execution_count": 101,
   "metadata": {},
   "outputs": [
    {
     "data": {
      "text/plain": [
       "Text(0.5,0,'Fold change')"
      ]
     },
     "execution_count": 101,
     "metadata": {},
     "output_type": "execute_result"
    },
    {
     "data": {
      "image/png": "[encoded data removed]",
      "text/plain": [
       "<Figure size 432x720 with 1 Axes>"
      ]
     },
     "metadata": {},
     "output_type": "display_data"
    }
   ],
   "source": [
    "# I want this figure to be 6 inches wide and 10 inches tall\n",
    "fig_dimensions=(6, 10)\n",
    "\n",
    "# Create a blank figure to hang the data off of\n",
    "figure, axes = plt.subplots( figsize=fig_dimensions )\n",
    "\n",
    "# Plot the data onto the figure\n",
    "sns.barplot( data=plot_these, x=\"fold\", y=\"Gene\" )\n",
    "\n",
    "# Assign a title to the figure\n",
    "chart_title = \"\"\"Normalized difference in gene expression\n",
    "Hippocampus vs. Cerebral Cortex\"\"\"\n",
    "axes.set_title( chart_title, size=18 )\n",
    "\n",
    "# Assign a label to the x-axis\n",
    "axes.set_xlabel( \"Fold change\" )"
   ]
  },
  {
   "cell_type": "markdown",
   "metadata": {},
   "source": [
    "### Save the figure as a PDF:"
   ]
  },
  {
   "cell_type": "code",
   "execution_count": null,
   "metadata": {},
   "outputs": [],
   "source": [
    "figure.savefig( \"ribbonplot.pdf\")"
   ]
  }
 ],
 "metadata": {
  "kernelspec": {
   "display_name": "Python 3",
   "language": "python",
   "name": "python3"
  },
  "language_info": {
   "codemirror_mode": {
    "name": "ipython",
    "version": 3
   },
   "file_extension": ".py",
   "mimetype": "text/x-python",
   "name": "python",
   "nbconvert_exporter": "python",
   "pygments_lexer": "ipython3",
   "version": "3.7.2"
  }
 },
 "nbformat": 4,
 "nbformat_minor": 2
}
