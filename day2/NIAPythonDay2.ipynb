{
 "cells": [
  {
   "cell_type": "markdown",
   "metadata": {},
   "source": [
    "# NIA Python Bootcamp Day 1 review\n",
    "\n",
    "1. Python ecosystem of tools\n",
    "2. Jupyter Notebook is code, output and documentation all in one document\n",
    "3. Type code into cells, and to run them you press Shift-Enter\n",
    "4. Different data types for different data\n",
    "4. Tab completion reduces typing, shows you pop-up menu of all the things you can do with that piece of data\n",
    "5. Operators take one or more input values and turn them into other values *based on the input values type*\n",
    "6. Converting data from one type to another using the function syntax, e.g., <code>int()</code>\n",
    "\n",
    "# Day 2: Drilling down into data\n",
    "\n",
    "## Agenda for today\n",
    "\n",
    "1. Exploring data types using the <code>TAB</code> key\n",
    "2. Python syntax for taking slices of iterables\n",
    "1. In-depth: NumPy arrays\n",
    "3. Preview PANDAS DataFrames"
   ]
  },
  {
   "cell_type": "markdown",
   "metadata": {},
   "source": [
    "## Exploring a data type's built-in functionality\n",
    "\n",
    "Here is some nucleotide data. The FASTA header for this file is:\n",
    "\n",
    "```>ENA|AAC37009|AAC37009.1 Escherichia coli RNA helicase-like protein```"
   ]
  },
  {
   "cell_type": "code",
   "execution_count": 1,
   "metadata": {},
   "outputs": [],
   "source": [
    "nt = \"\"\"ATGGCAGATAATCCAGACCCTTCATCGCTCCTGCCGGACGTGTTTTCACCGGCGACCCGC\n",
    "GACTGGTTTCTTCGCGCCTTTAAACAGCCGACCGCTGTCCAGCCGCAAACCTGGCATGTG\n",
    "GCGGCGCGAAGCGAACATGCGCTGGTGATTGCACCGACCGGCTCCGGGAAAACGCTGGCA\n",
    "GCATTTCTCTACGCCCTCGATCGGCTCTTCCGCGAAGGCGGCGAAGATACCCGCGAGGCG\n",
    "CATAAGCGTAAAACCTCACGCATCCTCTATATTTCACCGATAAAAGCCCTGGGCACCGAC\n",
    "GTTCAGCGCAACTTGCAGATCCCGTTGAAGGGTATTGCCGATGAACGGCGGCGGCGCGGC\n",
    "GAAACGGAAGTCAATCTTCGCGTAGGGATCCGTACTGGCGATACGCCTGCACAGGAACGC\n",
    "AGCAAACTCACCCGTAATCCGCCGGATATTCTGATCACCACACCCGAATCACTCTATCTG\n",
    "ATGCTGACCTCCCGCGCGCGCGAAACGCTACGCGGCGTCGAAACGGTAATTATTGATGAA\n",
    "GTCCACGCGGTAGCGGGCAGTAAACGTGGTGCGCATCTGGCGTTAAGTCTGGAGCGGCTC\n",
    "GATGCGCTGCTCCACACCTCAGCACAGCGAATTGGCCTTTCTGCCACTGTGCGCTCAGCC\n",
    "AGCGATGTGGCAGCATTTCTTGGTGGCGATCGCCCGGTTACGGTAGTCAACCCGCCCGCA\n",
    "ATGCGCCATCCGCAGATACGAATTGTCGTACCGGTCGCCAATATGGATGATGTCTCATCG\n",
    "GTCGCCAGCGGCACCGGCGAAGACAGCCATGCCGGCCGGGAAGGCTCCATCTGGCCATAT\n",
    "ATTGAAACGGGTATCCTTGATGAAGTGTTGCGCCATCGCTCGACCATTGTCTTTACTAAT\n",
    "TCGCGGGGGCTGGCGGAAAAACTGACGGCACGATTAAATGAGCTTTACGCCGCACGCTTA\n",
    "CAGCGTTCCCCGTCTATCGCCGTTGATGCGGCCCATTTCGAGTCGACCTCCGGCGCAACC\n",
    "TCTAACCGTGTACAAAGTAGCGACGTTTTTATTGCCCGCTCACACCACGGCTCCGTCTCT\n",
    "AAAGAACAACGAGCAATCACCGAACAGGCGCTGAAATCGGGTGAATTACGCTGCGTGGTC\n",
    "GCAACCTCCAGTCTTGAACTGGGGATTGATATGGGCGCGGTGGATCTGGTGATTCAGGTG\n",
    "GCAACGCCGCTTTCTGTTGCCAGTGGGTTACAACGCATTGGTCGCGCCGGACATCAGGTT\n",
    "GGCGGTGTATCTAAAGGGCTGTTTTTCCCCCGTACCCGGCGTGATTTAGTCGATTCCGCA\n",
    "GTCATTGTAGAGTGTATGTTCGCAGGCAGGCTGGAAAACCTGACACCACCGCATAATCCT\n",
    "CTCGACGTCCTTGCGCAGCAAACCGTTGCCGCCGCGGCGATGGATGCATTACAGGTAGAC\n",
    "GAATGGTACTCCCGCGTACGCCGTGCCGCACCGTGGAAAGATCTGCCAAGACGTGTTTTT\n",
    "GACGCCACGCTGGATATGCTTTCCGGGCGCTATCCCTCTGGCGATTTTTCTGCTTTTCGC\n",
    "CCCAAACTGGTCTGGAACAGGGAGACCGGGATATTGACCGCCCGACCTGGCGCTCAATTG\n",
    "TTGGCGGTTACCAGCGGCGGCACCATTCCGGATCGTGGCATGTATAGCGTGTTATTACCC\n",
    "GAAGGTGAAGAAAAGGCCGGTTCGCGGCGGGTGGGTGAACTGGATGAGGAGATGGTATAT\n",
    "GAGTCGCGGGTGAACGACATTATCACTCTCGGCGCTACCTCATGGCGGATCCAGCAAATC\n",
    "ACCCGCGATCAGGTGATTGTGACTCCTGCTCCGGGTCGTTCTGCCCGGCTCCCCTTCTGG\n",
    "CGTGGTGAAGGTAACGGACGTCCGGCTGAATTAGGCGAGATGATCGGCGATTTTCTTCAT\n",
    "TTGCTGGCGGATGGCGCGTTCTTTTCCGGGACTATTCCCCCGTGGCTGGCAGAAGAAAAT\n",
    "ACGATCGCCAATATTCAGGGGTTGATTGAGGAGCAGCGCAACGCGACGGGCATCGTTCCG\n",
    "GGGAGTCGCCATCTGGTCCTCGAACGGTGCCGTGATGAAATTGGTGACTGGCGTATTATT\n",
    "TTGCACTCTCCCTATGGAAGACGGGTGCATGAACCCTGGGCGGTGGCGATTGCCGGGCGA\n",
    "ATACATGCGCTATGGGGCGCTGACGCGTCGGTGGTCGCCAGTGATGACGGCATTGTTGCA\n",
    "CGTATTCCTGACACCGATGGTAAATTGCCCGATGCCGCGATTTTTTTGTTTGAACCAGAA\n",
    "AAGTTGCTGCAAATTGTCCGCGAGGCGGTAGGCAGCTCGGCACTTTTCGCCGCCCGTTTT\n",
    "CGCGAATGCGCCGCGCGGGCATTATTAATGCCGGGGCGCACTCCGGGCCATCGCACCCCG\n",
    "CTTTGGCAACAACGGCTGCGCGCCAGTCAGTTGCTGGAAATCGCTCAGGGATATCCGGAT\n",
    "TTTCCGGTCATTCTCGAAACCCTACGCGAATGTCTGCAAGATGTTTATGATCTTCCCGCA\n",
    "CTGGAACGTTTGATGCGTCGCCTGAACGGTGGCGAAATTCAAATATCCGATGTAACGACC\n",
    "ACTACGCCCTCGCCTTTCGCCACAAGTTTATTGTTCGGCTATGTCGCGGAATTTATGTAC\n",
    "CAGAGCGACGCCCCGCTGGCAGAGCGCCGGGCATCCGTACTGTCGCTGGACAGCGAGTTA\n",
    "CTGCGCAATCTACTCGGACAGGTCGATCCGGGGGAATTACTCGACCCGCAGGTCATTCGC\n",
    "CAGGTGGAAGAAGAGTTGCAACGACTGGCTCCTGGCAGAAGAGCGAAAGGTGAAGAAGGA\n",
    "TTGTTCGACCTGCTGCGCGAACTGGGGCCAATGACCGTTGAAGACCTGGCGCAACGGCAT\n",
    "ACAGGCAGCAGTGAAGAGGTTGCGTCGTATCTGGAAAATCTTCTTGCAGTAAAACGAATC\n",
    "TTCCCAGCGATGATTAGCGGACAGGAGCGTCTTGCCTGTATGGATGATGCCGCCAGGCTG\n",
    "CGTGATGCCCTCGGCGTACGACTACCAGAGTCATTGCCAGAGATTTATTTACATAGAGTC\n",
    "AGTTACCCGCTTCGCGACCTCTTTCTGCGCTATCTCCGGGCTCATGCTCTGGTCACGGCT\n",
    "GAACAACTGGCTCATGAGTTTAGTCTCGGTATTGCCATTGTCGAAGAGCAGCTTCAGCAA\n",
    "CTGCGTGAACAGGGTCTGGTGATGAATCTGCAACAAGACATCTGGGTGAGCGATGAAGTA\n",
    "TTTCGTCGTCTGCGTTTGCGCTCGCTGCAAGCCGCCAGAGAAGCGACGCGTCCCGTTGCA\n",
    "GCCACGACCTATGCGCGATTGCTGCTGGAACGTCAGGGCGTATTACCCGCCACCGATGGT\n",
    "AGCCCGGCGCTCTTTGCCTCAACATCGCCAGGCGTTTATGAGGGCGTAGATGGCGTGATG\n",
    "CGGGTGATCGAACAGCTTGCCGGAGTCGGTTTACCCGCCTCACTCTGGGAAAGCCAGATC\n",
    "CTGCCTGCCCGCGTACGCGACTATTCGTCAGAAATGCTCGATGAATTACTGGCAACCGGT\n",
    "GCGGTTATCTGGTCGGGGCAAAAAAAACTGGGTGAAGATGACGGCCTGGTGGCACTGCAT\n",
    "CTACAGGAATATGCTGCAGAATCGTTCACTCCCGCCGAAGCGGATCAGGCGAATCGTTCG\n",
    "GCGCTGCAACAAGCGATAGTCGCTGTTCTGGCTGACGGAGGAGCCTGGTTTGCACAACAA\n",
    "ATCAGCCAACGGATACGCGACAAAATCGGCGAATCGGTTGATCTCTCTGCCCTGCAAGAG\n",
    "GCGTTATGGGCGCTGGTCTGGCAAGGCGTCATCACCAGCGACATTTGGGCACCGTTACGC\n",
    "GCCCTCACCCGCAGCAGTTCCAACGCACGCACCTCAACTCGCCGCAGTCACCGGGCTCGT\n",
    "CGTGGACGTCCTGTCTATGCGCAACCCGTCTCGCCGCGGGTATCTTACAACACACCAAAT\n",
    "CTGGCTGGACGCTGGTCGTTATTGCAGGTGGAGCCACTAAACGATACCGAAAGGATGCTG\n",
    "GCGCTGGCGGAAAATATGCTCGACCGCTACGGCATCATCAGTCGTCAGGCGGTGATAGCC\n",
    "GAAAATATCCCTGGCGGGTTTCCATCGATGCAAACGCTTTGTCGAAGTATGGAAGACTCC\n",
    "GGGCGAATTATGCGAGGTCGTTTTGTAGAAGGTCTGGGTGGCGCGCAATTCGCTGAACGT\n",
    "CTGACTATTGACCGATTGCGCGATCTGGCGACACAAGCCACGCAAACGCGCCACTATACA\n",
    "CCAGTGGCGCTCTCTGCCAACGATCCGGCTAATGTGTGGGGAAATCTTCTGCCCTGGCCT\n",
    "GCACATCCGGCAACGCTGGTTCCAACGCGTCGGGCGGGTGCGCTGGTGGTCGTTTCTGGC\n",
    "GGCAAATTGTTACTCTATCTGGCGCAAGGTGGCAAAAAAATGCTGGTCTGGCAGGAAAAA\n",
    "GAGGAATTACTCGCCCCAGAGGTTTTCCACGCGCTGACTACCGCACTGCGTCGCGAACCA\n",
    "CGGCTGCGCTTTACGCTAACAGAAGTGAATGATCTACCGGTCCGGCAAACGCCGATGTTT\n",
    "ACGCTGCTGCGTGAGGCGGGATTTTCAAGTTCGCCACAAGGGCTGGATTGGGGATAG\n",
    "\"\"\""
   ]
  },
  {
   "cell_type": "code",
   "execution_count": 2,
   "metadata": {},
   "outputs": [
    {
     "data": {
      "text/plain": [
       "4694"
      ]
     },
     "execution_count": 2,
     "metadata": {},
     "output_type": "execute_result"
    }
   ],
   "source": [
    "len( nt )"
   ]
  },
  {
   "cell_type": "markdown",
   "metadata": {},
   "source": [
    "[Entry in NCBI Protein database](https://www.ncbi.nlm.nih.gov/protein/AAC37009) says protein is 1,538 amino acids long (4,614 nucleotides)"
   ]
  },
  {
   "cell_type": "code",
   "execution_count": 3,
   "metadata": {},
   "outputs": [
    {
     "data": {
      "text/plain": [
       "1564.6666666666667"
      ]
     },
     "execution_count": 3,
     "metadata": {},
     "output_type": "execute_result"
    }
   ],
   "source": [
    "len( nt ) / 3"
   ]
  },
  {
   "cell_type": "markdown",
   "metadata": {},
   "source": [
    "Why? Answer: [Escape Characters](https://en.wikipedia.org/wiki/Escape_character)"
   ]
  },
  {
   "cell_type": "code",
   "execution_count": 4,
   "metadata": {},
   "outputs": [
    {
     "data": {
      "text/plain": [
       "'ATGGCAGATAATCCAGACCCTTCATCGCTCCTGCCGGACGTGTTTTCACCGGCGACCCGC\\nGACTGGTTTCTTCGCGCCTTTAAACAGCCGACCGCTGTCCAGCCGCAAACCTGGCATGTG\\nGCGGCGCGAAGCGAACATGCGCTGGTGATTGCACCGACCGGCTCCGGGAAAACGCTGGCA\\nGCATTTCTCTACGCCCTCGATCGGCTCTTCCGCGAAGGCGGCGAAGATACCCGCGAGGCG\\nCATAAGCGTAAAACCTCACGCATCCTCTATATTTCACCGATAAAAGCCCTGGGCACCGAC\\nGTTCAGCGCAACTTGCAGATCCCGTTGAAGGGTATTGCCGATGAACGGCGGCGGCGCGGC\\nGAAACGGAAGTCAATCTTCGCGTAGGGATCCGTACTGGCGATACGCCTGCACAGGAACGC\\nAGCAAACTCACCCGTAATCCGCCGGATATTCTGATCACCACACCCGAATCACTCTATCTG\\nATGCTGACCTCCCGCGCGCGCGAAACGCTACGCGGCGTCGAAACGGTAATTATTGATGAA\\nGTCCACGCGGTAGCGGGCAGTAAACGTGGTGCGCATCTGGCGTTAAGTCTGGAGCGGCTC\\nGATGCGCTGCTCCACACCTCAGCACAGCGAATTGGCCTTTCTGCCACTGTGCGCTCAGCC\\nAGCGATGTGGCAGCATTTCTTGGTGGCGATCGCCCGGTTACGGTAGTCAACCCGCCCGCA\\nATGCGCCATCCGCAGATACGAATTGTCGTACCGGTCGCCAATATGGATGATGTCTCATCG\\nGTCGCCAGCGGCACCGGCGAAGACAGCCATGCCGGCCGGGAAGGCTCCATCTGGCCATAT\\nATTGAAACGGGTATCCTTGATGAAGTGTTGCGCCATCGCTCGACCATTGTCTTTACTAAT\\nTCGCGGGGGCTGGCGGAAAAACTGACGGCACGATTAAATGAGCTTTACGCCGCACGCTTA\\nCAGCGTTCCCCGTCTATCGCCGTTGATGCGGCCCATTTCGAGTCGACCTCCGGCGCAACC\\nTCTAACCGTGTACAAAGTAGCGACGTTTTTATTGCCCGCTCACACCACGGCTCCGTCTCT\\nAAAGAACAACGAGCAATCACCGAACAGGCGCTGAAATCGGGTGAATTACGCTGCGTGGTC\\nGCAACCTCCAGTCTTGAACTGGGGATTGATATGGGCGCGGTGGATCTGGTGATTCAGGTG\\nGCAACGCCGCTTTCTGTTGCCAGTGGGTTACAACGCATTGGTCGCGCCGGACATCAGGTT\\nGGCGGTGTATCTAAAGGGCTGTTTTTCCCCCGTACCCGGCGTGATTTAGTCGATTCCGCA\\nGTCATTGTAGAGTGTATGTTCGCAGGCAGGCTGGAAAACCTGACACCACCGCATAATCCT\\nCTCGACGTCCTTGCGCAGCAAACCGTTGCCGCCGCGGCGATGGATGCATTACAGGTAGAC\\nGAATGGTACTCCCGCGTACGCCGTGCCGCACCGTGGAAAGATCTGCCAAGACGTGTTTTT\\nGACGCCACGCTGGATATGCTTTCCGGGCGCTATCCCTCTGGCGATTTTTCTGCTTTTCGC\\nCCCAAACTGGTCTGGAACAGGGAGACCGGGATATTGACCGCCCGACCTGGCGCTCAATTG\\nTTGGCGGTTACCAGCGGCGGCACCATTCCGGATCGTGGCATGTATAGCGTGTTATTACCC\\nGAAGGTGAAGAAAAGGCCGGTTCGCGGCGGGTGGGTGAACTGGATGAGGAGATGGTATAT\\nGAGTCGCGGGTGAACGACATTATCACTCTCGGCGCTACCTCATGGCGGATCCAGCAAATC\\nACCCGCGATCAGGTGATTGTGACTCCTGCTCCGGGTCGTTCTGCCCGGCTCCCCTTCTGG\\nCGTGGTGAAGGTAACGGACGTCCGGCTGAATTAGGCGAGATGATCGGCGATTTTCTTCAT\\nTTGCTGGCGGATGGCGCGTTCTTTTCCGGGACTATTCCCCCGTGGCTGGCAGAAGAAAAT\\nACGATCGCCAATATTCAGGGGTTGATTGAGGAGCAGCGCAACGCGACGGGCATCGTTCCG\\nGGGAGTCGCCATCTGGTCCTCGAACGGTGCCGTGATGAAATTGGTGACTGGCGTATTATT\\nTTGCACTCTCCCTATGGAAGACGGGTGCATGAACCCTGGGCGGTGGCGATTGCCGGGCGA\\nATACATGCGCTATGGGGCGCTGACGCGTCGGTGGTCGCCAGTGATGACGGCATTGTTGCA\\nCGTATTCCTGACACCGATGGTAAATTGCCCGATGCCGCGATTTTTTTGTTTGAACCAGAA\\nAAGTTGCTGCAAATTGTCCGCGAGGCGGTAGGCAGCTCGGCACTTTTCGCCGCCCGTTTT\\nCGCGAATGCGCCGCGCGGGCATTATTAATGCCGGGGCGCACTCCGGGCCATCGCACCCCG\\nCTTTGGCAACAACGGCTGCGCGCCAGTCAGTTGCTGGAAATCGCTCAGGGATATCCGGAT\\nTTTCCGGTCATTCTCGAAACCCTACGCGAATGTCTGCAAGATGTTTATGATCTTCCCGCA\\nCTGGAACGTTTGATGCGTCGCCTGAACGGTGGCGAAATTCAAATATCCGATGTAACGACC\\nACTACGCCCTCGCCTTTCGCCACAAGTTTATTGTTCGGCTATGTCGCGGAATTTATGTAC\\nCAGAGCGACGCCCCGCTGGCAGAGCGCCGGGCATCCGTACTGTCGCTGGACAGCGAGTTA\\nCTGCGCAATCTACTCGGACAGGTCGATCCGGGGGAATTACTCGACCCGCAGGTCATTCGC\\nCAGGTGGAAGAAGAGTTGCAACGACTGGCTCCTGGCAGAAGAGCGAAAGGTGAAGAAGGA\\nTTGTTCGACCTGCTGCGCGAACTGGGGCCAATGACCGTTGAAGACCTGGCGCAACGGCAT\\nACAGGCAGCAGTGAAGAGGTTGCGTCGTATCTGGAAAATCTTCTTGCAGTAAAACGAATC\\nTTCCCAGCGATGATTAGCGGACAGGAGCGTCTTGCCTGTATGGATGATGCCGCCAGGCTG\\nCGTGATGCCCTCGGCGTACGACTACCAGAGTCATTGCCAGAGATTTATTTACATAGAGTC\\nAGTTACCCGCTTCGCGACCTCTTTCTGCGCTATCTCCGGGCTCATGCTCTGGTCACGGCT\\nGAACAACTGGCTCATGAGTTTAGTCTCGGTATTGCCATTGTCGAAGAGCAGCTTCAGCAA\\nCTGCGTGAACAGGGTCTGGTGATGAATCTGCAACAAGACATCTGGGTGAGCGATGAAGTA\\nTTTCGTCGTCTGCGTTTGCGCTCGCTGCAAGCCGCCAGAGAAGCGACGCGTCCCGTTGCA\\nGCCACGACCTATGCGCGATTGCTGCTGGAACGTCAGGGCGTATTACCCGCCACCGATGGT\\nAGCCCGGCGCTCTTTGCCTCAACATCGCCAGGCGTTTATGAGGGCGTAGATGGCGTGATG\\nCGGGTGATCGAACAGCTTGCCGGAGTCGGTTTACCCGCCTCACTCTGGGAAAGCCAGATC\\nCTGCCTGCCCGCGTACGCGACTATTCGTCAGAAATGCTCGATGAATTACTGGCAACCGGT\\nGCGGTTATCTGGTCGGGGCAAAAAAAACTGGGTGAAGATGACGGCCTGGTGGCACTGCAT\\nCTACAGGAATATGCTGCAGAATCGTTCACTCCCGCCGAAGCGGATCAGGCGAATCGTTCG\\nGCGCTGCAACAAGCGATAGTCGCTGTTCTGGCTGACGGAGGAGCCTGGTTTGCACAACAA\\nATCAGCCAACGGATACGCGACAAAATCGGCGAATCGGTTGATCTCTCTGCCCTGCAAGAG\\nGCGTTATGGGCGCTGGTCTGGCAAGGCGTCATCACCAGCGACATTTGGGCACCGTTACGC\\nGCCCTCACCCGCAGCAGTTCCAACGCACGCACCTCAACTCGCCGCAGTCACCGGGCTCGT\\nCGTGGACGTCCTGTCTATGCGCAACCCGTCTCGCCGCGGGTATCTTACAACACACCAAAT\\nCTGGCTGGACGCTGGTCGTTATTGCAGGTGGAGCCACTAAACGATACCGAAAGGATGCTG\\nGCGCTGGCGGAAAATATGCTCGACCGCTACGGCATCATCAGTCGTCAGGCGGTGATAGCC\\nGAAAATATCCCTGGCGGGTTTCCATCGATGCAAACGCTTTGTCGAAGTATGGAAGACTCC\\nGGGCGAATTATGCGAGGTCGTTTTGTAGAAGGTCTGGGTGGCGCGCAATTCGCTGAACGT\\nCTGACTATTGACCGATTGCGCGATCTGGCGACACAAGCCACGCAAACGCGCCACTATACA\\nCCAGTGGCGCTCTCTGCCAACGATCCGGCTAATGTGTGGGGAAATCTTCTGCCCTGGCCT\\nGCACATCCGGCAACGCTGGTTCCAACGCGTCGGGCGGGTGCGCTGGTGGTCGTTTCTGGC\\nGGCAAATTGTTACTCTATCTGGCGCAAGGTGGCAAAAAAATGCTGGTCTGGCAGGAAAAA\\nGAGGAATTACTCGCCCCAGAGGTTTTCCACGCGCTGACTACCGCACTGCGTCGCGAACCA\\nCGGCTGCGCTTTACGCTAACAGAAGTGAATGATCTACCGGTCCGGCAAACGCCGATGTTT\\nACGCTGCTGCGTGAGGCGGGATTTTCAAGTTCGCCACAAGGGCTGGATTGGGGATAG\\n'"
      ]
     },
     "execution_count": 4,
     "metadata": {},
     "output_type": "execute_result"
    }
   ],
   "source": [
    "nt"
   ]
  },
  {
   "cell_type": "code",
   "execution_count": 5,
   "metadata": {},
   "outputs": [
    {
     "name": "stdout",
     "output_type": "stream",
     "text": [
      "ATGGCAGATAATCCAGACCCTTCATCGCTCCTGCCGGACGTGTTTTCACCGGCGACCCGC\n",
      "GACTGGTTTCTTCGCGCCTTTAAACAGCCGACCGCTGTCCAGCCGCAAACCTGGCATGTG\n",
      "GCGGCGCGAAGCGAACATGCGCTGGTGATTGCACCGACCGGCTCCGGGAAAACGCTGGCA\n",
      "GCATTTCTCTACGCCCTCGATCGGCTCTTCCGCGAAGGCGGCGAAGATACCCGCGAGGCG\n",
      "CATAAGCGTAAAACCTCACGCATCCTCTATATTTCACCGATAAAAGCCCTGGGCACCGAC\n",
      "GTTCAGCGCAACTTGCAGATCCCGTTGAAGGGTATTGCCGATGAACGGCGGCGGCGCGGC\n",
      "GAAACGGAAGTCAATCTTCGCGTAGGGATCCGTACTGGCGATACGCCTGCACAGGAACGC\n",
      "AGCAAACTCACCCGTAATCCGCCGGATATTCTGATCACCACACCCGAATCACTCTATCTG\n",
      "ATGCTGACCTCCCGCGCGCGCGAAACGCTACGCGGCGTCGAAACGGTAATTATTGATGAA\n",
      "GTCCACGCGGTAGCGGGCAGTAAACGTGGTGCGCATCTGGCGTTAAGTCTGGAGCGGCTC\n",
      "GATGCGCTGCTCCACACCTCAGCACAGCGAATTGGCCTTTCTGCCACTGTGCGCTCAGCC\n",
      "AGCGATGTGGCAGCATTTCTTGGTGGCGATCGCCCGGTTACGGTAGTCAACCCGCCCGCA\n",
      "ATGCGCCATCCGCAGATACGAATTGTCGTACCGGTCGCCAATATGGATGATGTCTCATCG\n",
      "GTCGCCAGCGGCACCGGCGAAGACAGCCATGCCGGCCGGGAAGGCTCCATCTGGCCATAT\n",
      "ATTGAAACGGGTATCCTTGATGAAGTGTTGCGCCATCGCTCGACCATTGTCTTTACTAAT\n",
      "TCGCGGGGGCTGGCGGAAAAACTGACGGCACGATTAAATGAGCTTTACGCCGCACGCTTA\n",
      "CAGCGTTCCCCGTCTATCGCCGTTGATGCGGCCCATTTCGAGTCGACCTCCGGCGCAACC\n",
      "TCTAACCGTGTACAAAGTAGCGACGTTTTTATTGCCCGCTCACACCACGGCTCCGTCTCT\n",
      "AAAGAACAACGAGCAATCACCGAACAGGCGCTGAAATCGGGTGAATTACGCTGCGTGGTC\n",
      "GCAACCTCCAGTCTTGAACTGGGGATTGATATGGGCGCGGTGGATCTGGTGATTCAGGTG\n",
      "GCAACGCCGCTTTCTGTTGCCAGTGGGTTACAACGCATTGGTCGCGCCGGACATCAGGTT\n",
      "GGCGGTGTATCTAAAGGGCTGTTTTTCCCCCGTACCCGGCGTGATTTAGTCGATTCCGCA\n",
      "GTCATTGTAGAGTGTATGTTCGCAGGCAGGCTGGAAAACCTGACACCACCGCATAATCCT\n",
      "CTCGACGTCCTTGCGCAGCAAACCGTTGCCGCCGCGGCGATGGATGCATTACAGGTAGAC\n",
      "GAATGGTACTCCCGCGTACGCCGTGCCGCACCGTGGAAAGATCTGCCAAGACGTGTTTTT\n",
      "GACGCCACGCTGGATATGCTTTCCGGGCGCTATCCCTCTGGCGATTTTTCTGCTTTTCGC\n",
      "CCCAAACTGGTCTGGAACAGGGAGACCGGGATATTGACCGCCCGACCTGGCGCTCAATTG\n",
      "TTGGCGGTTACCAGCGGCGGCACCATTCCGGATCGTGGCATGTATAGCGTGTTATTACCC\n",
      "GAAGGTGAAGAAAAGGCCGGTTCGCGGCGGGTGGGTGAACTGGATGAGGAGATGGTATAT\n",
      "GAGTCGCGGGTGAACGACATTATCACTCTCGGCGCTACCTCATGGCGGATCCAGCAAATC\n",
      "ACCCGCGATCAGGTGATTGTGACTCCTGCTCCGGGTCGTTCTGCCCGGCTCCCCTTCTGG\n",
      "CGTGGTGAAGGTAACGGACGTCCGGCTGAATTAGGCGAGATGATCGGCGATTTTCTTCAT\n",
      "TTGCTGGCGGATGGCGCGTTCTTTTCCGGGACTATTCCCCCGTGGCTGGCAGAAGAAAAT\n",
      "ACGATCGCCAATATTCAGGGGTTGATTGAGGAGCAGCGCAACGCGACGGGCATCGTTCCG\n",
      "GGGAGTCGCCATCTGGTCCTCGAACGGTGCCGTGATGAAATTGGTGACTGGCGTATTATT\n",
      "TTGCACTCTCCCTATGGAAGACGGGTGCATGAACCCTGGGCGGTGGCGATTGCCGGGCGA\n",
      "ATACATGCGCTATGGGGCGCTGACGCGTCGGTGGTCGCCAGTGATGACGGCATTGTTGCA\n",
      "CGTATTCCTGACACCGATGGTAAATTGCCCGATGCCGCGATTTTTTTGTTTGAACCAGAA\n",
      "AAGTTGCTGCAAATTGTCCGCGAGGCGGTAGGCAGCTCGGCACTTTTCGCCGCCCGTTTT\n",
      "CGCGAATGCGCCGCGCGGGCATTATTAATGCCGGGGCGCACTCCGGGCCATCGCACCCCG\n",
      "CTTTGGCAACAACGGCTGCGCGCCAGTCAGTTGCTGGAAATCGCTCAGGGATATCCGGAT\n",
      "TTTCCGGTCATTCTCGAAACCCTACGCGAATGTCTGCAAGATGTTTATGATCTTCCCGCA\n",
      "CTGGAACGTTTGATGCGTCGCCTGAACGGTGGCGAAATTCAAATATCCGATGTAACGACC\n",
      "ACTACGCCCTCGCCTTTCGCCACAAGTTTATTGTTCGGCTATGTCGCGGAATTTATGTAC\n",
      "CAGAGCGACGCCCCGCTGGCAGAGCGCCGGGCATCCGTACTGTCGCTGGACAGCGAGTTA\n",
      "CTGCGCAATCTACTCGGACAGGTCGATCCGGGGGAATTACTCGACCCGCAGGTCATTCGC\n",
      "CAGGTGGAAGAAGAGTTGCAACGACTGGCTCCTGGCAGAAGAGCGAAAGGTGAAGAAGGA\n",
      "TTGTTCGACCTGCTGCGCGAACTGGGGCCAATGACCGTTGAAGACCTGGCGCAACGGCAT\n",
      "ACAGGCAGCAGTGAAGAGGTTGCGTCGTATCTGGAAAATCTTCTTGCAGTAAAACGAATC\n",
      "TTCCCAGCGATGATTAGCGGACAGGAGCGTCTTGCCTGTATGGATGATGCCGCCAGGCTG\n",
      "CGTGATGCCCTCGGCGTACGACTACCAGAGTCATTGCCAGAGATTTATTTACATAGAGTC\n",
      "AGTTACCCGCTTCGCGACCTCTTTCTGCGCTATCTCCGGGCTCATGCTCTGGTCACGGCT\n",
      "GAACAACTGGCTCATGAGTTTAGTCTCGGTATTGCCATTGTCGAAGAGCAGCTTCAGCAA\n",
      "CTGCGTGAACAGGGTCTGGTGATGAATCTGCAACAAGACATCTGGGTGAGCGATGAAGTA\n",
      "TTTCGTCGTCTGCGTTTGCGCTCGCTGCAAGCCGCCAGAGAAGCGACGCGTCCCGTTGCA\n",
      "GCCACGACCTATGCGCGATTGCTGCTGGAACGTCAGGGCGTATTACCCGCCACCGATGGT\n",
      "AGCCCGGCGCTCTTTGCCTCAACATCGCCAGGCGTTTATGAGGGCGTAGATGGCGTGATG\n",
      "CGGGTGATCGAACAGCTTGCCGGAGTCGGTTTACCCGCCTCACTCTGGGAAAGCCAGATC\n",
      "CTGCCTGCCCGCGTACGCGACTATTCGTCAGAAATGCTCGATGAATTACTGGCAACCGGT\n",
      "GCGGTTATCTGGTCGGGGCAAAAAAAACTGGGTGAAGATGACGGCCTGGTGGCACTGCAT\n",
      "CTACAGGAATATGCTGCAGAATCGTTCACTCCCGCCGAAGCGGATCAGGCGAATCGTTCG\n",
      "GCGCTGCAACAAGCGATAGTCGCTGTTCTGGCTGACGGAGGAGCCTGGTTTGCACAACAA\n",
      "ATCAGCCAACGGATACGCGACAAAATCGGCGAATCGGTTGATCTCTCTGCCCTGCAAGAG\n",
      "GCGTTATGGGCGCTGGTCTGGCAAGGCGTCATCACCAGCGACATTTGGGCACCGTTACGC\n",
      "GCCCTCACCCGCAGCAGTTCCAACGCACGCACCTCAACTCGCCGCAGTCACCGGGCTCGT\n",
      "CGTGGACGTCCTGTCTATGCGCAACCCGTCTCGCCGCGGGTATCTTACAACACACCAAAT\n",
      "CTGGCTGGACGCTGGTCGTTATTGCAGGTGGAGCCACTAAACGATACCGAAAGGATGCTG\n",
      "GCGCTGGCGGAAAATATGCTCGACCGCTACGGCATCATCAGTCGTCAGGCGGTGATAGCC\n",
      "GAAAATATCCCTGGCGGGTTTCCATCGATGCAAACGCTTTGTCGAAGTATGGAAGACTCC\n",
      "GGGCGAATTATGCGAGGTCGTTTTGTAGAAGGTCTGGGTGGCGCGCAATTCGCTGAACGT\n",
      "CTGACTATTGACCGATTGCGCGATCTGGCGACACAAGCCACGCAAACGCGCCACTATACA\n",
      "CCAGTGGCGCTCTCTGCCAACGATCCGGCTAATGTGTGGGGAAATCTTCTGCCCTGGCCT\n",
      "GCACATCCGGCAACGCTGGTTCCAACGCGTCGGGCGGGTGCGCTGGTGGTCGTTTCTGGC\n",
      "GGCAAATTGTTACTCTATCTGGCGCAAGGTGGCAAAAAAATGCTGGTCTGGCAGGAAAAA\n",
      "GAGGAATTACTCGCCCCAGAGGTTTTCCACGCGCTGACTACCGCACTGCGTCGCGAACCA\n",
      "CGGCTGCGCTTTACGCTAACAGAAGTGAATGATCTACCGGTCCGGCAAACGCCGATGTTT\n",
      "ACGCTGCTGCGTGAGGCGGGATTTTCAAGTTCGCCACAAGGGCTGGATTGGGGATAG\n",
      "\n"
     ]
    }
   ],
   "source": [
    "print( nt )"
   ]
  },
  {
   "cell_type": "code",
   "execution_count": 6,
   "metadata": {},
   "outputs": [
    {
     "data": {
      "text/plain": [
       "str"
      ]
     },
     "execution_count": 6,
     "metadata": {},
     "output_type": "execute_result"
    }
   ],
   "source": [
    "type( nt )"
   ]
  },
  {
   "cell_type": "code",
   "execution_count": 7,
   "metadata": {},
   "outputs": [
    {
     "data": {
      "text/plain": [
       "\u001b[0;31mSignature:\u001b[0m \u001b[0mnt\u001b[0m\u001b[0;34m.\u001b[0m\u001b[0mreplace\u001b[0m\u001b[0;34m(\u001b[0m\u001b[0mold\u001b[0m\u001b[0;34m,\u001b[0m \u001b[0mnew\u001b[0m\u001b[0;34m,\u001b[0m \u001b[0mcount\u001b[0m\u001b[0;34m=\u001b[0m\u001b[0;34m-\u001b[0m\u001b[0;36m1\u001b[0m\u001b[0;34m,\u001b[0m \u001b[0;34m/\u001b[0m\u001b[0;34m)\u001b[0m\u001b[0;34m\u001b[0m\u001b[0;34m\u001b[0m\u001b[0m\n",
       "\u001b[0;31mDocstring:\u001b[0m\n",
       "Return a copy with all occurrences of substring old replaced by new.\n",
       "\n",
       "  count\n",
       "    Maximum number of occurrences to replace.\n",
       "    -1 (the default value) means replace all occurrences.\n",
       "\n",
       "If the optional argument count is given, only the first count occurrences are\n",
       "replaced.\n",
       "\u001b[0;31mType:\u001b[0m      builtin_function_or_method\n"
      ]
     },
     "metadata": {},
     "output_type": "display_data"
    }
   ],
   "source": [
    "nt.replace?"
   ]
  },
  {
   "cell_type": "code",
   "execution_count": 8,
   "metadata": {},
   "outputs": [
    {
     "data": {
      "text/plain": [
       "4694"
      ]
     },
     "execution_count": 8,
     "metadata": {},
     "output_type": "execute_result"
    }
   ],
   "source": [
    "len( nt )"
   ]
  },
  {
   "cell_type": "code",
   "execution_count": 9,
   "metadata": {},
   "outputs": [],
   "source": [
    "nt = nt.replace( \"\\n\", \"\")"
   ]
  },
  {
   "cell_type": "code",
   "execution_count": 10,
   "metadata": {},
   "outputs": [
    {
     "data": {
      "text/plain": [
       "4617"
      ]
     },
     "execution_count": 10,
     "metadata": {},
     "output_type": "execute_result"
    }
   ],
   "source": [
    "len( nt )"
   ]
  },
  {
   "cell_type": "code",
   "execution_count": 11,
   "metadata": {},
   "outputs": [
    {
     "data": {
      "text/plain": [
       "1539.0"
      ]
     },
     "execution_count": 11,
     "metadata": {},
     "output_type": "execute_result"
    }
   ],
   "source": [
    "len( nt ) / 3"
   ]
  },
  {
   "cell_type": "markdown",
   "metadata": {},
   "source": [
    "### What type of data does the name <code>nt</code> point to?"
   ]
  },
  {
   "cell_type": "code",
   "execution_count": 12,
   "metadata": {},
   "outputs": [
    {
     "data": {
      "text/plain": [
       "str"
      ]
     },
     "execution_count": 12,
     "metadata": {},
     "output_type": "execute_result"
    }
   ],
   "source": [
    "type( nt )"
   ]
  },
  {
   "cell_type": "markdown",
   "metadata": {},
   "source": [
    "### How many nucleotides in this gene? Use <code>len()</code>"
   ]
  },
  {
   "cell_type": "code",
   "execution_count": 13,
   "metadata": {},
   "outputs": [
    {
     "data": {
      "text/plain": [
       "4617"
      ]
     },
     "execution_count": 13,
     "metadata": {},
     "output_type": "execute_result"
    }
   ],
   "source": [
    "len(nt)"
   ]
  },
  {
   "cell_type": "markdown",
   "metadata": {},
   "source": [
    "### How many amino acids in this gene?"
   ]
  },
  {
   "cell_type": "code",
   "execution_count": 14,
   "metadata": {},
   "outputs": [
    {
     "data": {
      "text/plain": [
       "1539.0"
      ]
     },
     "execution_count": 14,
     "metadata": {},
     "output_type": "execute_result"
    }
   ],
   "source": [
    "len(nt)/3"
   ]
  },
  {
   "cell_type": "markdown",
   "metadata": {},
   "source": [
    "### Use the tab key to see what else you can do with this string\n",
    "\n",
    "* The pop-up menu with show a list of *attributes* associated with that value.\n",
    "* Attributes is the technical term for all the functions and metadata that is attached to a value.\n",
    "* Use the question mark if you want to learn more about an attribute and what it does"
   ]
  },
  {
   "cell_type": "code",
   "execution_count": null,
   "metadata": {},
   "outputs": [],
   "source": [
    "nt."
   ]
  },
  {
   "cell_type": "markdown",
   "metadata": {},
   "source": [
    "### Use the <code>.count()</code> function that's built into most iterables to measure GC content %"
   ]
  },
  {
   "cell_type": "code",
   "execution_count": 15,
   "metadata": {},
   "outputs": [
    {
     "data": {
      "text/plain": [
       "10"
      ]
     },
     "execution_count": 15,
     "metadata": {},
     "output_type": "execute_result"
    }
   ],
   "source": [
    "\"GGGGGGGGGG\".count('G')"
   ]
  },
  {
   "cell_type": "code",
   "execution_count": 16,
   "metadata": {},
   "outputs": [
    {
     "data": {
      "text/plain": [
       "5"
      ]
     },
     "execution_count": 16,
     "metadata": {},
     "output_type": "execute_result"
    }
   ],
   "source": [
    "\"GCGCGCGCGC\".count('G')"
   ]
  },
  {
   "cell_type": "code",
   "execution_count": 27,
   "metadata": {},
   "outputs": [
    {
     "data": {
      "text/plain": [
       "5"
      ]
     },
     "execution_count": 27,
     "metadata": {},
     "output_type": "execute_result"
    }
   ],
   "source": [
    "\"GCGCGCGCGC\".count('GC')"
   ]
  },
  {
   "cell_type": "code",
   "execution_count": 18,
   "metadata": {},
   "outputs": [
    {
     "data": {
      "text/plain": [
       "2"
      ]
     },
     "execution_count": 18,
     "metadata": {},
     "output_type": "execute_result"
    }
   ],
   "source": [
    "\"GGGGG\".count('GG')"
   ]
  },
  {
   "cell_type": "code",
   "execution_count": 19,
   "metadata": {},
   "outputs": [
    {
     "data": {
      "text/plain": [
       "\u001b[0;31mDocstring:\u001b[0m\n",
       "S.count(sub[, start[, end]]) -> int\n",
       "\n",
       "Return the number of non-overlapping occurrences of substring sub in\n",
       "string S[start:end].  Optional arguments start and end are\n",
       "interpreted as in slice notation.\n",
       "\u001b[0;31mType:\u001b[0m      builtin_function_or_method\n"
      ]
     },
     "metadata": {},
     "output_type": "display_data"
    }
   ],
   "source": [
    "nt.count?"
   ]
  },
  {
   "cell_type": "code",
   "execution_count": 25,
   "metadata": {},
   "outputs": [
    {
     "data": {
      "text/plain": [
       "'asdk'"
      ]
     },
     "execution_count": 25,
     "metadata": {},
     "output_type": "execute_result"
    }
   ],
   "source": [
    "\"asdkhadskfh\"[0:4]"
   ]
  },
  {
   "cell_type": "code",
   "execution_count": 34,
   "metadata": {},
   "outputs": [],
   "source": [
    "my_overlapping_count = 0\n",
    "for i in range( len( nt ) ):\n",
    "    if nt[ i : i+2 ] == 'GG':\n",
    "        my_overlapping_count += 1"
   ]
  },
  {
   "cell_type": "code",
   "execution_count": 35,
   "metadata": {},
   "outputs": [
    {
     "data": {
      "text/plain": [
       "354"
      ]
     },
     "execution_count": 35,
     "metadata": {},
     "output_type": "execute_result"
    }
   ],
   "source": [
    "my_overlapping_count"
   ]
  },
  {
   "cell_type": "code",
   "execution_count": 36,
   "metadata": {},
   "outputs": [
    {
     "data": {
      "text/plain": [
       "295"
      ]
     },
     "execution_count": 36,
     "metadata": {},
     "output_type": "execute_result"
    }
   ],
   "source": [
    "nt.count( \"GG\" )"
   ]
  },
  {
   "cell_type": "code",
   "execution_count": 21,
   "metadata": {},
   "outputs": [
    {
     "data": {
      "text/plain": [
       "0.5689841888672298"
      ]
     },
     "execution_count": 21,
     "metadata": {},
     "output_type": "execute_result"
    }
   ],
   "source": [
    "(nt.count('G') + nt.count('C')) / len(nt)"
   ]
  },
  {
   "cell_type": "markdown",
   "metadata": {},
   "source": [
    "## Slicing Iterables\n",
    "\n",
    "You can use the slice notation on lists, strings and more."
   ]
  },
  {
   "cell_type": "code",
   "execution_count": null,
   "metadata": {},
   "outputs": [],
   "source": [
    "alphabet_str = \"ABCDEFGHIJKLMNOPQRSTUVWXYZ\""
   ]
  },
  {
   "cell_type": "code",
   "execution_count": null,
   "metadata": {},
   "outputs": [],
   "source": [
    "alphabet_str"
   ]
  },
  {
   "cell_type": "markdown",
   "metadata": {},
   "source": [
    "### Subsets: slicing iterables into smaller ones\n",
    "\n",
    "Return a substring using a brackets separated by a colon."
   ]
  },
  {
   "cell_type": "code",
   "execution_count": null,
   "metadata": {},
   "outputs": [],
   "source": [
    "len(alphabet_str)"
   ]
  },
  {
   "cell_type": "markdown",
   "metadata": {},
   "source": [
    "### Slicing an iterable doesn't change the original iterable\n",
    "\n",
    "Just because you just returned a substring from a string doesn't mean you changed the original string. Python created a new string and returned that"
   ]
  },
  {
   "cell_type": "code",
   "execution_count": null,
   "metadata": {},
   "outputs": [],
   "source": [
    "len(alphabet_str)"
   ]
  },
  {
   "cell_type": "code",
   "execution_count": null,
   "metadata": {},
   "outputs": [],
   "source": [
    "alphabet_str[0:10]"
   ]
  },
  {
   "cell_type": "code",
   "execution_count": null,
   "metadata": {},
   "outputs": [],
   "source": [
    "len(alphabet_str)"
   ]
  },
  {
   "cell_type": "markdown",
   "metadata": {},
   "source": [
    "### Slicing syntax\n",
    "\n",
    "<code>[ begin index : end index : step ]</code>\n",
    "\n",
    "* ***NOTE PYTHON SLICING CONVENTION:***  Iterable indices start from 0!!!!\n",
    "* ***NOTE ANOTHER PYTHON SLICING CONVENTION:*** The begin index is inclusive, the end index is exclusive!!!!!"
   ]
  },
  {
   "cell_type": "code",
   "execution_count": null,
   "metadata": {},
   "outputs": [],
   "source": [
    "alphabet_str[0]"
   ]
  },
  {
   "cell_type": "code",
   "execution_count": null,
   "metadata": {},
   "outputs": [],
   "source": [
    "alphabet_str[25]"
   ]
  },
  {
   "cell_type": "code",
   "execution_count": null,
   "metadata": {},
   "outputs": [],
   "source": [
    "alphabet_str[26]"
   ]
  },
  {
   "cell_type": "code",
   "execution_count": null,
   "metadata": {},
   "outputs": [],
   "source": [
    "alphabet_str[0:3]"
   ]
  },
  {
   "cell_type": "code",
   "execution_count": null,
   "metadata": {},
   "outputs": [],
   "source": [
    "alphabet_str"
   ]
  },
  {
   "cell_type": "markdown",
   "metadata": {},
   "source": [
    "The following translates to: \"give me the slice from the 0th index inclusive, to the 26th index exclusive (i.e. the 25th index)"
   ]
  },
  {
   "cell_type": "code",
   "execution_count": null,
   "metadata": {},
   "outputs": [],
   "source": [
    "alphabet_str[26]"
   ]
  },
  {
   "cell_type": "code",
   "execution_count": null,
   "metadata": {},
   "outputs": [],
   "source": [
    "# This gives the whole alphabet:\n",
    "alphabet_str[0:26]"
   ]
  },
  {
   "cell_type": "code",
   "execution_count": null,
   "metadata": {},
   "outputs": [],
   "source": [
    "# This one leaves off the letter at the 25th index, which counting from 0 is Z:\n",
    "alphabet_str[0:25]"
   ]
  },
  {
   "cell_type": "code",
   "execution_count": null,
   "metadata": {},
   "outputs": [],
   "source": [
    "alphabet_str[::2] # take every 3rd letter"
   ]
  },
  {
   "cell_type": "code",
   "execution_count": null,
   "metadata": {},
   "outputs": [],
   "source": [
    "alphabet_str[1:17:2] # take every 3rd letter"
   ]
  },
  {
   "cell_type": "code",
   "execution_count": null,
   "metadata": {},
   "outputs": [],
   "source": [
    "alphabet_str[1:26:3]"
   ]
  },
  {
   "cell_type": "markdown",
   "metadata": {},
   "source": [
    "# Exercise: Iterating over all the \"codons\" in the alphabet.\n",
    "\n",
    "Fill in the code to achieve the following output.\n",
    "```\n",
    "ABC\n",
    "DEF\n",
    "GHI\n",
    "JKL\n",
    "MNO\n",
    "PQR\n",
    "STU\n",
    "VWX\n",
    "YZ\n",
    "```\n",
    "\n",
    "Pseudocode:\n",
    "* Initialize a positional variable that keeps track of where you are in the string\n",
    "* ```while``` the current position is less than the full length of the string\n",
    "    * Slice the full string into a substring beginning at the current position and ending three letters later\n",
    "    * Print out the substring\n",
    "    * Increment the positional variable by 3"
   ]
  },
  {
   "cell_type": "code",
   "execution_count": null,
   "metadata": {},
   "outputs": [],
   "source": [
    "# Fill in your code here:\n",
    "\n",
    "\n",
    "\n"
   ]
  },
  {
   "cell_type": "markdown",
   "metadata": {},
   "source": [
    "### Slice from the beginning to the middle somewhere\n",
    "\n",
    "Leave out the start index and Python assumes you want a slice starting from the beginning."
   ]
  },
  {
   "cell_type": "code",
   "execution_count": null,
   "metadata": {},
   "outputs": [],
   "source": [
    "alphabet_str[ :8]"
   ]
  },
  {
   "cell_type": "markdown",
   "metadata": {},
   "source": [
    "### Slice from the middle somewhere to the end\n",
    "\n",
    "Leave out the end index and Python assumes you want a slice that goes straight to the end."
   ]
  },
  {
   "cell_type": "code",
   "execution_count": null,
   "metadata": {},
   "outputs": [],
   "source": [
    "alphabet_str[20:]"
   ]
  },
  {
   "cell_type": "markdown",
   "metadata": {},
   "source": [
    "### Negative slice indices mean count from the end\n",
    "\n",
    "If i is negative, index is relative to end of string:"
   ]
  },
  {
   "cell_type": "code",
   "execution_count": null,
   "metadata": {},
   "outputs": [],
   "source": [
    "alphabet_str[-25:]"
   ]
  },
  {
   "cell_type": "code",
   "execution_count": null,
   "metadata": {},
   "outputs": [],
   "source": [
    "alphabet_str[1:]"
   ]
  },
  {
   "cell_type": "code",
   "execution_count": null,
   "metadata": {},
   "outputs": [],
   "source": [
    "alphabet_str[::-1]"
   ]
  },
  {
   "cell_type": "markdown",
   "metadata": {},
   "source": [
    "### Reverse a the order of an iterable using the step parameter\n",
    "\n",
    "Reverse a string by using a negative step value"
   ]
  },
  {
   "cell_type": "code",
   "execution_count": null,
   "metadata": {},
   "outputs": [],
   "source": [
    "\"a man, a plan, a canal, panama\"[::-1]"
   ]
  },
  {
   "cell_type": "code",
   "execution_count": null,
   "metadata": {},
   "outputs": [],
   "source": [
    "test = \"a man, a plan, a canal, panama\""
   ]
  },
  {
   "cell_type": "code",
   "execution_count": null,
   "metadata": {},
   "outputs": [],
   "source": [
    "test"
   ]
  },
  {
   "cell_type": "markdown",
   "metadata": {},
   "source": [
    "### Star operator for lists\n",
    "\n",
    "* For lists, the * repeats the list, not element-wise multiply"
   ]
  },
  {
   "cell_type": "code",
   "execution_count": null,
   "metadata": {},
   "outputs": [],
   "source": [
    "numbers = [ 1,2,3,4,5 ]"
   ]
  },
  {
   "cell_type": "code",
   "execution_count": null,
   "metadata": {},
   "outputs": [],
   "source": [
    "numbers"
   ]
  },
  {
   "cell_type": "code",
   "execution_count": null,
   "metadata": {},
   "outputs": [],
   "source": [
    "numbers * 2"
   ]
  },
  {
   "cell_type": "code",
   "execution_count": null,
   "metadata": {},
   "outputs": [],
   "source": [
    "# Element-wise using plain vanilla python\n",
    "# using a \"list comprehension\"\n",
    "[ num * 2 for num in numbers ]"
   ]
  },
  {
   "cell_type": "markdown",
   "metadata": {},
   "source": [
    "## NumPy arrays\n",
    "\n",
    "* Use for 1-D, 2-D, n-D data\n",
    "* Use if you have data all of the same type (ints, floats, bools)"
   ]
  },
  {
   "cell_type": "code",
   "execution_count": null,
   "metadata": {},
   "outputs": [],
   "source": [
    "# import the package and give it a nickname \"np\" for short\n",
    "import numpy as np"
   ]
  },
  {
   "cell_type": "markdown",
   "metadata": {},
   "source": [
    "### Make a 1-D NumPy array from a <code>list</code>"
   ]
  },
  {
   "cell_type": "code",
   "execution_count": null,
   "metadata": {},
   "outputs": [],
   "source": [
    "a_list = [1,2,3,4,5,6,7,8,9,10]"
   ]
  },
  {
   "cell_type": "code",
   "execution_count": null,
   "metadata": {},
   "outputs": [],
   "source": [
    "a_list"
   ]
  },
  {
   "cell_type": "code",
   "execution_count": null,
   "metadata": {},
   "outputs": [],
   "source": [
    "type( a_list)"
   ]
  },
  {
   "cell_type": "code",
   "execution_count": null,
   "metadata": {},
   "outputs": [],
   "source": [
    "an_array = np.array( a_list )"
   ]
  },
  {
   "cell_type": "code",
   "execution_count": null,
   "metadata": {},
   "outputs": [],
   "source": [
    "an_array"
   ]
  },
  {
   "cell_type": "code",
   "execution_count": null,
   "metadata": {},
   "outputs": [],
   "source": [
    "type( an_array)"
   ]
  },
  {
   "cell_type": "markdown",
   "metadata": {},
   "source": [
    "### Get the length of the NumPy array"
   ]
  },
  {
   "cell_type": "code",
   "execution_count": null,
   "metadata": {},
   "outputs": [],
   "source": [
    "len( an_array )"
   ]
  },
  {
   "cell_type": "markdown",
   "metadata": {},
   "source": [
    "### Slice 1-D NumPy Arrays the same way you slice built-in Python iterables"
   ]
  },
  {
   "cell_type": "code",
   "execution_count": null,
   "metadata": {},
   "outputs": [],
   "source": [
    "an_array[ 5:]"
   ]
  },
  {
   "cell_type": "markdown",
   "metadata": {},
   "source": [
    "### NumPy arrays have many basic statistics and functions built-in\n",
    "\n",
    "Use the <code>.TAB</code> trick to get the pop-up menu to see your options, and use the question mark to see each attribute's documentation."
   ]
  },
  {
   "cell_type": "code",
   "execution_count": null,
   "metadata": {},
   "outputs": [],
   "source": [
    "an_array.max()"
   ]
  },
  {
   "cell_type": "code",
   "execution_count": null,
   "metadata": {},
   "outputs": [],
   "source": [
    "an_array.mean()"
   ]
  },
  {
   "cell_type": "code",
   "execution_count": null,
   "metadata": {},
   "outputs": [],
   "source": [
    "an_array.min()"
   ]
  },
  {
   "cell_type": "markdown",
   "metadata": {},
   "source": [
    "### Use index notation to change values in an array"
   ]
  },
  {
   "cell_type": "code",
   "execution_count": null,
   "metadata": {},
   "outputs": [],
   "source": [
    "the_slice = an_array[ 4:7 ]"
   ]
  },
  {
   "cell_type": "code",
   "execution_count": null,
   "metadata": {},
   "outputs": [],
   "source": [
    "the_slice"
   ]
  },
  {
   "cell_type": "code",
   "execution_count": null,
   "metadata": {},
   "outputs": [],
   "source": [
    "an_array"
   ]
  },
  {
   "cell_type": "code",
   "execution_count": null,
   "metadata": {},
   "outputs": [],
   "source": [
    "an_array[4] = 42"
   ]
  },
  {
   "cell_type": "code",
   "execution_count": null,
   "metadata": {},
   "outputs": [],
   "source": [
    "an_array"
   ]
  },
  {
   "cell_type": "markdown",
   "metadata": {},
   "source": [
    "### Matrix math: Multiply/divide by a constant"
   ]
  },
  {
   "cell_type": "code",
   "execution_count": null,
   "metadata": {},
   "outputs": [],
   "source": [
    "an_array * 10"
   ]
  },
  {
   "cell_type": "code",
   "execution_count": null,
   "metadata": {},
   "outputs": [],
   "source": [
    "an_array"
   ]
  },
  {
   "cell_type": "code",
   "execution_count": null,
   "metadata": {},
   "outputs": [],
   "source": [
    "an_array = an_array * 10"
   ]
  },
  {
   "cell_type": "code",
   "execution_count": null,
   "metadata": {},
   "outputs": [],
   "source": [
    "an_array *= 10"
   ]
  },
  {
   "cell_type": "markdown",
   "metadata": {},
   "source": [
    "### Matrix math: add/subtract constant"
   ]
  },
  {
   "cell_type": "code",
   "execution_count": null,
   "metadata": {},
   "outputs": [],
   "source": [
    "an_array"
   ]
  },
  {
   "cell_type": "code",
   "execution_count": null,
   "metadata": {},
   "outputs": [],
   "source": [
    "an_array - 1"
   ]
  },
  {
   "cell_type": "markdown",
   "metadata": {},
   "source": [
    "### Matrix math: Z-Score normalization\n",
    "\n",
    "1. Subtract the mean value (scalar) from all values\n",
    "2. Divide all_values by the standard deviation (scalar)"
   ]
  },
  {
   "cell_type": "code",
   "execution_count": null,
   "metadata": {},
   "outputs": [],
   "source": [
    "# start with a fresh dataset\n",
    "a_list = [1,2,3,4,5,6,7,8,9,10]\n",
    "an_array = np.array( a_list )"
   ]
  },
  {
   "cell_type": "code",
   "execution_count": null,
   "metadata": {},
   "outputs": [],
   "source": [
    "an_array.mean()"
   ]
  },
  {
   "cell_type": "code",
   "execution_count": null,
   "metadata": {},
   "outputs": [],
   "source": [
    "an_array.std()"
   ]
  },
  {
   "cell_type": "code",
   "execution_count": null,
   "metadata": {},
   "outputs": [],
   "source": [
    "an_array - an_array.mean() / an_array.std()"
   ]
  },
  {
   "cell_type": "markdown",
   "metadata": {},
   "source": [
    "### Subselect based on a boolean criterion\n",
    "\n",
    "#### Give me all values that are greater than a certain value"
   ]
  },
  {
   "cell_type": "code",
   "execution_count": null,
   "metadata": {},
   "outputs": [],
   "source": [
    "an_array"
   ]
  },
  {
   "cell_type": "code",
   "execution_count": null,
   "metadata": {},
   "outputs": [],
   "source": [
    "an_array > 5"
   ]
  },
  {
   "cell_type": "code",
   "execution_count": null,
   "metadata": {},
   "outputs": [],
   "source": [
    "an_array[ an_array > 5]"
   ]
  },
  {
   "cell_type": "markdown",
   "metadata": {},
   "source": [
    "#### Give me all even numbers in this array, using the Modulus division operator %"
   ]
  },
  {
   "cell_type": "code",
   "execution_count": null,
   "metadata": {},
   "outputs": [],
   "source": [
    "an_array % 2"
   ]
  },
  {
   "cell_type": "code",
   "execution_count": null,
   "metadata": {},
   "outputs": [],
   "source": [
    "an_array % 2 == 0"
   ]
  },
  {
   "cell_type": "code",
   "execution_count": null,
   "metadata": {},
   "outputs": [],
   "source": [
    "an_array[ an_array % 2 == 0 ]"
   ]
  },
  {
   "cell_type": "markdown",
   "metadata": {},
   "source": [
    "## 2-D NumPy Arrays"
   ]
  },
  {
   "cell_type": "markdown",
   "metadata": {},
   "source": [
    "### Use NumPy's <code>arange()</code> function to quickly generate a list of counting numbers"
   ]
  },
  {
   "cell_type": "code",
   "execution_count": null,
   "metadata": {},
   "outputs": [],
   "source": [
    "new_array = np.arange(120)"
   ]
  },
  {
   "cell_type": "code",
   "execution_count": null,
   "metadata": {},
   "outputs": [],
   "source": [
    "new_array"
   ]
  },
  {
   "cell_type": "code",
   "execution_count": null,
   "metadata": {},
   "outputs": [],
   "source": [
    "len(new_array)"
   ]
  },
  {
   "cell_type": "code",
   "execution_count": null,
   "metadata": {},
   "outputs": [],
   "source": [
    "new_array.shape"
   ]
  },
  {
   "cell_type": "code",
   "execution_count": null,
   "metadata": {},
   "outputs": [],
   "source": [
    "new_array.mean()"
   ]
  },
  {
   "cell_type": "markdown",
   "metadata": {},
   "source": [
    "### Use the <code>.reshape()</code> function to convert a 1-D array into 2-D\n",
    "\n",
    "* Use (num_rows, num_cols) notation"
   ]
  },
  {
   "cell_type": "code",
   "execution_count": null,
   "metadata": {},
   "outputs": [],
   "source": [
    "new_array = new_array.reshape( (20, 6) )"
   ]
  },
  {
   "cell_type": "code",
   "execution_count": null,
   "metadata": {},
   "outputs": [],
   "source": [
    "new_array"
   ]
  },
  {
   "cell_type": "code",
   "execution_count": null,
   "metadata": {},
   "outputs": [],
   "source": [
    "new_array.shape"
   ]
  },
  {
   "cell_type": "markdown",
   "metadata": {},
   "source": [
    "### Get the mean for the whole matrix"
   ]
  },
  {
   "cell_type": "code",
   "execution_count": null,
   "metadata": {},
   "outputs": [],
   "source": [
    "new_array.mean()"
   ]
  },
  {
   "cell_type": "markdown",
   "metadata": {},
   "source": [
    "### Get the column wise mean"
   ]
  },
  {
   "cell_type": "code",
   "execution_count": null,
   "metadata": {},
   "outputs": [],
   "source": [
    "new_array.mean( axis=0 )"
   ]
  },
  {
   "cell_type": "markdown",
   "metadata": {},
   "source": [
    "### Get the row-wise mean"
   ]
  },
  {
   "cell_type": "code",
   "execution_count": null,
   "metadata": {},
   "outputs": [],
   "source": [
    "new_array.mean( axis=1 )"
   ]
  },
  {
   "cell_type": "markdown",
   "metadata": {},
   "source": [
    "### Transpose the array using the <code>.T</code> attribute"
   ]
  },
  {
   "cell_type": "code",
   "execution_count": null,
   "metadata": {},
   "outputs": [],
   "source": [
    "new_array.T"
   ]
  },
  {
   "cell_type": "code",
   "execution_count": null,
   "metadata": {},
   "outputs": [],
   "source": [
    "new_array.T.shape"
   ]
  },
  {
   "cell_type": "markdown",
   "metadata": {},
   "source": [
    "### Zscore standardize by columns"
   ]
  },
  {
   "cell_type": "code",
   "execution_count": null,
   "metadata": {},
   "outputs": [],
   "source": [
    "# Use numpy's set_printoptions to change display precision\n",
    "np.set_printoptions( precision = 2)"
   ]
  },
  {
   "cell_type": "code",
   "execution_count": null,
   "metadata": {},
   "outputs": [],
   "source": [
    "(new_array - new_array.mean(axis=0)) / new_array.std(axis=0)"
   ]
  },
  {
   "cell_type": "markdown",
   "metadata": {},
   "source": [
    "## Subselecting a 2-D array using slicing\n",
    "\n",
    "* The syntax for slicing on a 2-D NumPy array is similar to 1-D, except you use a comma.\n",
    "* Rows, then columns"
   ]
  },
  {
   "cell_type": "code",
   "execution_count": null,
   "metadata": {},
   "outputs": [],
   "source": [
    "new_array = np.arange(25).reshape( (5, 5) )"
   ]
  },
  {
   "cell_type": "code",
   "execution_count": null,
   "metadata": {},
   "outputs": [],
   "source": [
    "new_array"
   ]
  },
  {
   "cell_type": "code",
   "execution_count": null,
   "metadata": {},
   "outputs": [],
   "source": [
    "new_array[0,0]"
   ]
  },
  {
   "cell_type": "code",
   "execution_count": null,
   "metadata": {},
   "outputs": [],
   "source": [
    "new_array[3,3]"
   ]
  },
  {
   "cell_type": "code",
   "execution_count": null,
   "metadata": {},
   "outputs": [],
   "source": [
    "new_array[ 2:4, 2:4 ]"
   ]
  },
  {
   "cell_type": "markdown",
   "metadata": {},
   "source": [
    "### Use the colon : to indicate all rows or all columns"
   ]
  },
  {
   "cell_type": "code",
   "execution_count": null,
   "metadata": {},
   "outputs": [],
   "source": [
    "new_array[:, 2:4 ]"
   ]
  },
  {
   "cell_type": "markdown",
   "metadata": {},
   "source": [
    "## Example Image data as a 3-D NumPy array"
   ]
  },
  {
   "cell_type": "code",
   "execution_count": null,
   "metadata": {},
   "outputs": [],
   "source": [
    "# Use the Python package matplotlib to render images and output them directly to Jupyter Notebook\n",
    "%matplotlib inline\n",
    "import matplotlib.pyplot as plt"
   ]
  },
  {
   "cell_type": "code",
   "execution_count": null,
   "metadata": {},
   "outputs": [],
   "source": [
    "from skimage.data import astronaut"
   ]
  },
  {
   "cell_type": "code",
   "execution_count": null,
   "metadata": {},
   "outputs": [],
   "source": [
    "image_data = astronaut()"
   ]
  },
  {
   "cell_type": "markdown",
   "metadata": {},
   "source": [
    "### An RGB image has three color channels corresponding to Red Green and Blue"
   ]
  },
  {
   "cell_type": "code",
   "execution_count": null,
   "metadata": {},
   "outputs": [],
   "source": [
    "image_data.shape"
   ]
  },
  {
   "cell_type": "markdown",
   "metadata": {},
   "source": [
    "### Using matplotlib's <code>imshow()</code> function to see an image"
   ]
  },
  {
   "cell_type": "code",
   "execution_count": null,
   "metadata": {},
   "outputs": [],
   "source": [
    "plt.imshow( image_data )"
   ]
  },
  {
   "cell_type": "code",
   "execution_count": null,
   "metadata": {},
   "outputs": [],
   "source": [
    "image_data.max()"
   ]
  },
  {
   "cell_type": "code",
   "execution_count": null,
   "metadata": {},
   "outputs": [],
   "source": [
    "np.arange( 100 )"
   ]
  },
  {
   "cell_type": "code",
   "execution_count": null,
   "metadata": {},
   "outputs": [],
   "source": [
    "np.arange( 100 ).reshape( (10,10) )"
   ]
  },
  {
   "cell_type": "code",
   "execution_count": null,
   "metadata": {},
   "outputs": [],
   "source": [
    "test_img = np.arange( 100 ).reshape( (10,10) )\n",
    "plt.imshow( test_img )\n",
    "plt.colorbar()"
   ]
  },
  {
   "cell_type": "markdown",
   "metadata": {},
   "source": [
    "### Subselect part of the image to show using slicing"
   ]
  },
  {
   "cell_type": "code",
   "execution_count": null,
   "metadata": {},
   "outputs": [],
   "source": [
    "image_data[ :100, :100, :]"
   ]
  },
  {
   "cell_type": "code",
   "execution_count": null,
   "metadata": {},
   "outputs": [],
   "source": [
    "plt.imshow( image_data[ :100, :100, 0] )\n",
    "plt.colorbar()"
   ]
  },
  {
   "cell_type": "markdown",
   "metadata": {},
   "source": [
    "### Zero out part of the blue channel"
   ]
  },
  {
   "cell_type": "code",
   "execution_count": null,
   "metadata": {},
   "outputs": [],
   "source": [
    "image_data[ :100, :100, 2] = 0"
   ]
  },
  {
   "cell_type": "code",
   "execution_count": null,
   "metadata": {},
   "outputs": [],
   "source": [
    "plt.imshow( image_data )"
   ]
  },
  {
   "cell_type": "markdown",
   "metadata": {},
   "source": [
    "## PANDAS DataFrame\n",
    "\n",
    "* Emulate R's <code>data.frame</code> structure.\n",
    "* Basically a NumPy matrix with\n",
    "    * Row and column names\n",
    "    * Can have columns of different types\n",
    "    * Handles missing data better"
   ]
  },
  {
   "cell_type": "code",
   "execution_count": null,
   "metadata": {},
   "outputs": [],
   "source": [
    "import pandas as pd"
   ]
  },
  {
   "cell_type": "code",
   "execution_count": null,
   "metadata": {},
   "outputs": [],
   "source": [
    "titanic_data_url  = \"https://gist.githubusercontent.com/michhar/2dfd2de0d4f8727f873422c5d959fff5/raw/fa71405126017e6a37bea592440b4bee94bf7b9e/titanic.csv\""
   ]
  },
  {
   "cell_type": "code",
   "execution_count": null,
   "metadata": {},
   "outputs": [],
   "source": [
    "titanic = pd.read_csv( titanic_data_url )"
   ]
  },
  {
   "cell_type": "code",
   "execution_count": null,
   "metadata": {},
   "outputs": [],
   "source": [
    "titanic.head()"
   ]
  },
  {
   "cell_type": "code",
   "execution_count": null,
   "metadata": {},
   "outputs": [],
   "source": [
    "len( titanic )"
   ]
  },
  {
   "cell_type": "markdown",
   "metadata": {},
   "source": [
    "### Change the number of rows Pandas will display using the <code>set_option()</code> function\n",
    "\n",
    "Use the word <code>None</code> if you want to display all of them."
   ]
  },
  {
   "cell_type": "code",
   "execution_count": null,
   "metadata": {},
   "outputs": [],
   "source": [
    "pd.set_option( 'display.max_rows', None )"
   ]
  }
 ],
 "metadata": {
  "kernelspec": {
   "display_name": "Python 3",
   "language": "python",
   "name": "python3"
  },
  "language_info": {
   "codemirror_mode": {
    "name": "ipython",
    "version": 3
   },
   "file_extension": ".py",
   "mimetype": "text/x-python",
   "name": "python",
   "nbconvert_exporter": "python",
   "pygments_lexer": "ipython3",
   "version": "3.9.1"
  }
 },
 "nbformat": 4,
 "nbformat_minor": 4
}
