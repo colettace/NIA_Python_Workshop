{
 "cells": [
  {
   "cell_type": "code",
   "execution_count": 1,
   "metadata": {},
   "outputs": [],
   "source": [
    "import pandas as pd"
   ]
  },
  {
   "cell_type": "code",
   "execution_count": 2,
   "metadata": {},
   "outputs": [],
   "source": [
    "data = pd.read_csv( '../participants_1616789798.csv')"
   ]
  },
  {
   "cell_type": "code",
   "execution_count": 6,
   "metadata": {},
   "outputs": [
    {
     "data": {
      "text/plain": [
       "array(['Supriyo De', 'Chris Coletta', 'fanauh2o', 'chux2', 'wichmannet',\n",
       "       'Fiona Qian', 'Xixia Chu (chux2)', 'Jia-Hua Qu',\n",
       "       'Romaniya Voloshchuk', 'vieiraligoteic2', 'qin', 'Xixia Chu',\n",
       "       'Kayla Moorman', 'Sonia Cortassa', 'liyaz', 'Kyle Cochran',\n",
       "       'Liz Calzada', 'Victor Omoniyi', 'Brandon Decker', 'Ahsan Habib',\n",
       "       'Richard Spencer', 'Qiong Meng', 'jaybisen', 'elehrman', 'Mantosh',\n",
       "       'Tomasz Kulikowicz (Tom)', 'Nirad Banskota', 'Erik Kometti',\n",
       "       'Botong Shen', 'Nick Miller', 'Lirong Peng', 'Natasha Pacheco',\n",
       "       'lindakrasniewski', 'donaldla', 'James Occean', 'Eric Shiroma',\n",
       "       'eizydore', 'Dushani Palliyaguru# Ph.D.', 'Eric Tang', 'Sunny',\n",
       "       'wechternj', 'Maryam', 'Elango', 'Joy Mohanty', 'lin wang',\n",
       "       'Eric Shiroma (he/they)', 'mallas2', 'Chongkui Sun',\n",
       "       'Elisabeth Buvarp', 'juhaszo', 'Clara', 'Papiya Chakraborty',\n",
       "       'Toufiq', 'Gabriel Lam', 'sunl', 'Fei', 'elliot', 'Noah Wechter',\n",
       "       'doyleme'], dtype=object)"
      ]
     },
     "execution_count": 6,
     "metadata": {},
     "output_type": "execute_result"
    }
   ],
   "source": [
    "data['Name (Original Name)'].unique()"
   ]
  },
  {
   "cell_type": "code",
   "execution_count": null,
   "metadata": {},
   "outputs": [],
   "source": []
  }
 ],
 "metadata": {
  "kernelspec": {
   "display_name": "Python 3",
   "language": "python",
   "name": "python3"
  },
  "language_info": {
   "codemirror_mode": {
    "name": "ipython",
    "version": 3
   },
   "file_extension": ".py",
   "mimetype": "text/x-python",
   "name": "python",
   "nbconvert_exporter": "python",
   "pygments_lexer": "ipython3",
   "version": "3.9.1"
  }
 },
 "nbformat": 4,
 "nbformat_minor": 4
}
