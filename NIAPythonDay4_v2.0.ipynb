{
 "cells": [
  {
   "cell_type": "markdown",
   "metadata": {},
   "source": [
    "\n",
    "1. [sdfgf](https://catalog.data.gov/dataset/vsrr-state-and-national-provisional-counts-for-live-births-deaths-and-infant-deaths) VSRR - State and National Provisional Counts for Live Births, Deaths, and Infant Deaths\n",
    "2. https://data.cdc.gov/api/views/hc4f-j6nb/rows.csv - 93 rows 14 columns\n",
    "3. https://www.mdch.state.mi.us/osr/Provisional/MonthlyDeaths.csv\n",
    "\n",
    "https://covidtracking.com/data/api"
   ]
  },
  {
   "cell_type": "code",
   "execution_count": 1,
   "metadata": {},
   "outputs": [],
   "source": [
    "import pandas as pd"
   ]
  },
  {
   "cell_type": "code",
   "execution_count": 5,
   "metadata": {},
   "outputs": [],
   "source": [
    "data = pd.read_csv( \"https://api.covidtracking.com/v1/states/daily.csv\")"
   ]
  },
  {
   "cell_type": "code",
   "execution_count": 6,
   "metadata": {},
   "outputs": [
    {
     "name": "stdout",
     "output_type": "stream",
     "text": [
      "<class 'pandas.core.frame.DataFrame'>\n",
      "RangeIndex: 18418 entries, 0 to 18417\n",
      "Data columns (total 55 columns):\n",
      " #   Column                       Non-Null Count  Dtype  \n",
      "---  ------                       --------------  -----  \n",
      " 0   date                         18418 non-null  int64  \n",
      " 1   state                        18418 non-null  object \n",
      " 2   positive                     18232 non-null  float64\n",
      " 3   probableCases                7890 non-null   float64\n",
      " 4   negative                     17971 non-null  float64\n",
      " 5   pending                      1929 non-null   float64\n",
      " 6   totalTestResultsSource       18418 non-null  object \n",
      " 7   totalTestResults             18316 non-null  float64\n",
      " 8   hospitalizedCurrently        15112 non-null  float64\n",
      " 9   hospitalizedCumulative       11295 non-null  float64\n",
      " 10  inIcuCurrently               9770 non-null   float64\n",
      " 11  inIcuCumulative              3288 non-null   float64\n",
      " 12  onVentilatorCurrently        7778 non-null   float64\n",
      " 13  onVentilatorCumulative       1125 non-null   float64\n",
      " 14  recovered                    13156 non-null  float64\n",
      " 15  dataQualityGrade             17103 non-null  object \n",
      " 16  lastUpdateEt                 17854 non-null  object \n",
      " 17  dateModified                 17854 non-null  object \n",
      " 18  checkTimeEt                  17854 non-null  object \n",
      " 19  death                        17550 non-null  float64\n",
      " 20  hospitalized                 11295 non-null  float64\n",
      " 21  dateChecked                  17854 non-null  object \n",
      " 22  totalTestsViral              12258 non-null  float64\n",
      " 23  positiveTestsViral           7022 non-null   float64\n",
      " 24  negativeTestsViral           4189 non-null   float64\n",
      " 25  positiveCasesViral           13359 non-null  float64\n",
      " 26  deathConfirmed               8208 non-null   float64\n",
      " 27  deathProbable                6439 non-null   float64\n",
      " 28  totalTestEncountersViral     4315 non-null   float64\n",
      " 29  totalTestsPeopleViral        8095 non-null   float64\n",
      " 30  totalTestsAntibody           4094 non-null   float64\n",
      " 31  positiveTestsAntibody        3132 non-null   float64\n",
      " 32  negativeTestsAntibody        1289 non-null   float64\n",
      " 33  totalTestsPeopleAntibody     1601 non-null   float64\n",
      " 34  positiveTestsPeopleAntibody  926 non-null    float64\n",
      " 35  negativeTestsPeopleAntibody  846 non-null    float64\n",
      " 36  totalTestsPeopleAntigen      789 non-null    float64\n",
      " 37  positiveTestsPeopleAntigen   590 non-null    float64\n",
      " 38  totalTestsAntigen            2564 non-null   float64\n",
      " 39  positiveTestsAntigen         1614 non-null   float64\n",
      " 40  fips                         18418 non-null  int64  \n",
      " 41  positiveIncrease             18418 non-null  int64  \n",
      " 42  negativeIncrease             18418 non-null  int64  \n",
      " 43  total                        18418 non-null  int64  \n",
      " 44  totalTestResultsIncrease     18418 non-null  int64  \n",
      " 45  posNeg                       18418 non-null  int64  \n",
      " 46  deathIncrease                18418 non-null  int64  \n",
      " 47  hospitalizedIncrease         18418 non-null  int64  \n",
      " 48  hash                         18418 non-null  object \n",
      " 49  commercialScore              18418 non-null  int64  \n",
      " 50  negativeRegularScore         18418 non-null  int64  \n",
      " 51  negativeScore                18418 non-null  int64  \n",
      " 52  positiveScore                18418 non-null  int64  \n",
      " 53  score                        18418 non-null  int64  \n",
      " 54  grade                        0 non-null      float64\n",
      "dtypes: float64(33), int64(14), object(8)\n",
      "memory usage: 7.7+ MB\n"
     ]
    }
   ],
   "source": [
    "data.info()"
   ]
  },
  {
   "cell_type": "code",
   "execution_count": 7,
   "metadata": {},
   "outputs": [
    {
     "data": {
      "text/plain": [
       "18418"
      ]
     },
     "execution_count": 7,
     "metadata": {},
     "output_type": "execute_result"
    }
   ],
   "source": [
    "len( data )"
   ]
  },
  {
   "cell_type": "code",
   "execution_count": 8,
   "metadata": {},
   "outputs": [
    {
     "data": {
      "text/html": [
       "<div>\n",
       "<style scoped>\n",
       "    .dataframe tbody tr th:only-of-type {\n",
       "        vertical-align: middle;\n",
       "    }\n",
       "\n",
       "    .dataframe tbody tr th {\n",
       "        vertical-align: top;\n",
       "    }\n",
       "\n",
       "    .dataframe thead th {\n",
       "        text-align: right;\n",
       "    }\n",
       "</style>\n",
       "<table border=\"1\" class=\"dataframe\">\n",
       "  <thead>\n",
       "    <tr style=\"text-align: right;\">\n",
       "      <th></th>\n",
       "      <th>date</th>\n",
       "      <th>state</th>\n",
       "      <th>positive</th>\n",
       "      <th>probableCases</th>\n",
       "      <th>negative</th>\n",
       "      <th>pending</th>\n",
       "      <th>totalTestResultsSource</th>\n",
       "      <th>totalTestResults</th>\n",
       "      <th>hospitalizedCurrently</th>\n",
       "      <th>hospitalizedCumulative</th>\n",
       "      <th>...</th>\n",
       "      <th>posNeg</th>\n",
       "      <th>deathIncrease</th>\n",
       "      <th>hospitalizedIncrease</th>\n",
       "      <th>hash</th>\n",
       "      <th>commercialScore</th>\n",
       "      <th>negativeRegularScore</th>\n",
       "      <th>negativeScore</th>\n",
       "      <th>positiveScore</th>\n",
       "      <th>score</th>\n",
       "      <th>grade</th>\n",
       "    </tr>\n",
       "  </thead>\n",
       "  <tbody>\n",
       "    <tr>\n",
       "      <th>0</th>\n",
       "      <td>20210124</td>\n",
       "      <td>AK</td>\n",
       "      <td>51610.0</td>\n",
       "      <td>NaN</td>\n",
       "      <td>1401860.0</td>\n",
       "      <td>NaN</td>\n",
       "      <td>totalTestsViral</td>\n",
       "      <td>1453470.0</td>\n",
       "      <td>57.0</td>\n",
       "      <td>1185.0</td>\n",
       "      <td>...</td>\n",
       "      <td>1453470</td>\n",
       "      <td>0</td>\n",
       "      <td>1</td>\n",
       "      <td>657bf064457b28ae60abcd8b2ac6ccf4b4c11643</td>\n",
       "      <td>0</td>\n",
       "      <td>0</td>\n",
       "      <td>0</td>\n",
       "      <td>0</td>\n",
       "      <td>0</td>\n",
       "      <td>NaN</td>\n",
       "    </tr>\n",
       "    <tr>\n",
       "      <th>1</th>\n",
       "      <td>20210124</td>\n",
       "      <td>AL</td>\n",
       "      <td>441170.0</td>\n",
       "      <td>91709.0</td>\n",
       "      <td>1737094.0</td>\n",
       "      <td>NaN</td>\n",
       "      <td>totalTestsPeopleViral</td>\n",
       "      <td>2086555.0</td>\n",
       "      <td>2254.0</td>\n",
       "      <td>40514.0</td>\n",
       "      <td>...</td>\n",
       "      <td>2178264</td>\n",
       "      <td>3</td>\n",
       "      <td>0</td>\n",
       "      <td>a5886e16177a22e9e711e0d36eafcaecba90307d</td>\n",
       "      <td>0</td>\n",
       "      <td>0</td>\n",
       "      <td>0</td>\n",
       "      <td>0</td>\n",
       "      <td>0</td>\n",
       "      <td>NaN</td>\n",
       "    </tr>\n",
       "    <tr>\n",
       "      <th>2</th>\n",
       "      <td>20210124</td>\n",
       "      <td>AR</td>\n",
       "      <td>284066.0</td>\n",
       "      <td>56238.0</td>\n",
       "      <td>2119560.0</td>\n",
       "      <td>NaN</td>\n",
       "      <td>totalTestsViral</td>\n",
       "      <td>2347388.0</td>\n",
       "      <td>1080.0</td>\n",
       "      <td>13267.0</td>\n",
       "      <td>...</td>\n",
       "      <td>2403626</td>\n",
       "      <td>43</td>\n",
       "      <td>17</td>\n",
       "      <td>dcd628b60b2155bbe3365ea432671d94b2e69596</td>\n",
       "      <td>0</td>\n",
       "      <td>0</td>\n",
       "      <td>0</td>\n",
       "      <td>0</td>\n",
       "      <td>0</td>\n",
       "      <td>NaN</td>\n",
       "    </tr>\n",
       "    <tr>\n",
       "      <th>3</th>\n",
       "      <td>20210124</td>\n",
       "      <td>AS</td>\n",
       "      <td>0.0</td>\n",
       "      <td>NaN</td>\n",
       "      <td>2140.0</td>\n",
       "      <td>NaN</td>\n",
       "      <td>totalTestsViral</td>\n",
       "      <td>2140.0</td>\n",
       "      <td>NaN</td>\n",
       "      <td>NaN</td>\n",
       "      <td>...</td>\n",
       "      <td>2140</td>\n",
       "      <td>0</td>\n",
       "      <td>0</td>\n",
       "      <td>3c81ee980bf91ef3fe383f82e1094d0d8fc76e2c</td>\n",
       "      <td>0</td>\n",
       "      <td>0</td>\n",
       "      <td>0</td>\n",
       "      <td>0</td>\n",
       "      <td>0</td>\n",
       "      <td>NaN</td>\n",
       "    </tr>\n",
       "    <tr>\n",
       "      <th>4</th>\n",
       "      <td>20210124</td>\n",
       "      <td>AZ</td>\n",
       "      <td>722574.0</td>\n",
       "      <td>44099.0</td>\n",
       "      <td>2671771.0</td>\n",
       "      <td>NaN</td>\n",
       "      <td>totalTestsViral</td>\n",
       "      <td>6385219.0</td>\n",
       "      <td>4320.0</td>\n",
       "      <td>50264.0</td>\n",
       "      <td>...</td>\n",
       "      <td>3394345</td>\n",
       "      <td>68</td>\n",
       "      <td>301</td>\n",
       "      <td>2453c8080bd6d93c891880b4084cd6e120bbad71</td>\n",
       "      <td>0</td>\n",
       "      <td>0</td>\n",
       "      <td>0</td>\n",
       "      <td>0</td>\n",
       "      <td>0</td>\n",
       "      <td>NaN</td>\n",
       "    </tr>\n",
       "  </tbody>\n",
       "</table>\n",
       "<p>5 rows × 55 columns</p>\n",
       "</div>"
      ],
      "text/plain": [
       "       date state  positive  probableCases   negative  pending  \\\n",
       "0  20210124    AK   51610.0            NaN  1401860.0      NaN   \n",
       "1  20210124    AL  441170.0        91709.0  1737094.0      NaN   \n",
       "2  20210124    AR  284066.0        56238.0  2119560.0      NaN   \n",
       "3  20210124    AS       0.0            NaN     2140.0      NaN   \n",
       "4  20210124    AZ  722574.0        44099.0  2671771.0      NaN   \n",
       "\n",
       "  totalTestResultsSource  totalTestResults  hospitalizedCurrently  \\\n",
       "0        totalTestsViral         1453470.0                   57.0   \n",
       "1  totalTestsPeopleViral         2086555.0                 2254.0   \n",
       "2        totalTestsViral         2347388.0                 1080.0   \n",
       "3        totalTestsViral            2140.0                    NaN   \n",
       "4        totalTestsViral         6385219.0                 4320.0   \n",
       "\n",
       "   hospitalizedCumulative  ...   posNeg  deathIncrease  hospitalizedIncrease  \\\n",
       "0                  1185.0  ...  1453470              0                     1   \n",
       "1                 40514.0  ...  2178264              3                     0   \n",
       "2                 13267.0  ...  2403626             43                    17   \n",
       "3                     NaN  ...     2140              0                     0   \n",
       "4                 50264.0  ...  3394345             68                   301   \n",
       "\n",
       "                                       hash  commercialScore  \\\n",
       "0  657bf064457b28ae60abcd8b2ac6ccf4b4c11643                0   \n",
       "1  a5886e16177a22e9e711e0d36eafcaecba90307d                0   \n",
       "2  dcd628b60b2155bbe3365ea432671d94b2e69596                0   \n",
       "3  3c81ee980bf91ef3fe383f82e1094d0d8fc76e2c                0   \n",
       "4  2453c8080bd6d93c891880b4084cd6e120bbad71                0   \n",
       "\n",
       "  negativeRegularScore negativeScore positiveScore score  grade  \n",
       "0                    0             0             0     0    NaN  \n",
       "1                    0             0             0     0    NaN  \n",
       "2                    0             0             0     0    NaN  \n",
       "3                    0             0             0     0    NaN  \n",
       "4                    0             0             0     0    NaN  \n",
       "\n",
       "[5 rows x 55 columns]"
      ]
     },
     "execution_count": 8,
     "metadata": {},
     "output_type": "execute_result"
    }
   ],
   "source": [
    "data.head()"
   ]
  },
  {
   "cell_type": "code",
   "execution_count": 9,
   "metadata": {},
   "outputs": [],
   "source": [
    "provis_data = pd.read_csv( \"https://data.cdc.gov/api/views/hmz2-vwda/rows.csv\" )"
   ]
  },
  {
   "cell_type": "code",
   "execution_count": 10,
   "metadata": {},
   "outputs": [
    {
     "data": {
      "text/html": [
       "<div>\n",
       "<style scoped>\n",
       "    .dataframe tbody tr th:only-of-type {\n",
       "        vertical-align: middle;\n",
       "    }\n",
       "\n",
       "    .dataframe tbody tr th {\n",
       "        vertical-align: top;\n",
       "    }\n",
       "\n",
       "    .dataframe thead th {\n",
       "        text-align: right;\n",
       "    }\n",
       "</style>\n",
       "<table border=\"1\" class=\"dataframe\">\n",
       "  <thead>\n",
       "    <tr style=\"text-align: right;\">\n",
       "      <th></th>\n",
       "      <th>State</th>\n",
       "      <th>Year</th>\n",
       "      <th>Month</th>\n",
       "      <th>Period</th>\n",
       "      <th>Indicator</th>\n",
       "      <th>Data Value</th>\n",
       "    </tr>\n",
       "  </thead>\n",
       "  <tbody>\n",
       "    <tr>\n",
       "      <th>0</th>\n",
       "      <td>UNITED STATES</td>\n",
       "      <td>2019</td>\n",
       "      <td>January</td>\n",
       "      <td>Monthly</td>\n",
       "      <td>Number of Live Births</td>\n",
       "      <td>311000</td>\n",
       "    </tr>\n",
       "    <tr>\n",
       "      <th>1</th>\n",
       "      <td>UNITED STATES</td>\n",
       "      <td>2019</td>\n",
       "      <td>February</td>\n",
       "      <td>Monthly</td>\n",
       "      <td>Number of Live Births</td>\n",
       "      <td>280000</td>\n",
       "    </tr>\n",
       "    <tr>\n",
       "      <th>2</th>\n",
       "      <td>UNITED STATES</td>\n",
       "      <td>2019</td>\n",
       "      <td>March</td>\n",
       "      <td>Monthly</td>\n",
       "      <td>Number of Live Births</td>\n",
       "      <td>304000</td>\n",
       "    </tr>\n",
       "    <tr>\n",
       "      <th>3</th>\n",
       "      <td>UNITED STATES</td>\n",
       "      <td>2019</td>\n",
       "      <td>April</td>\n",
       "      <td>Monthly</td>\n",
       "      <td>Number of Live Births</td>\n",
       "      <td>299000</td>\n",
       "    </tr>\n",
       "    <tr>\n",
       "      <th>4</th>\n",
       "      <td>UNITED STATES</td>\n",
       "      <td>2019</td>\n",
       "      <td>May</td>\n",
       "      <td>Monthly</td>\n",
       "      <td>Number of Live Births</td>\n",
       "      <td>316000</td>\n",
       "    </tr>\n",
       "    <tr>\n",
       "      <th>...</th>\n",
       "      <td>...</td>\n",
       "      <td>...</td>\n",
       "      <td>...</td>\n",
       "      <td>...</td>\n",
       "      <td>...</td>\n",
       "      <td>...</td>\n",
       "    </tr>\n",
       "    <tr>\n",
       "      <th>1975</th>\n",
       "      <td>WASHINGTON</td>\n",
       "      <td>2020</td>\n",
       "      <td>June</td>\n",
       "      <td>Monthly</td>\n",
       "      <td>Number of Live Births</td>\n",
       "      <td>7117</td>\n",
       "    </tr>\n",
       "    <tr>\n",
       "      <th>1976</th>\n",
       "      <td>WEST VIRGINIA</td>\n",
       "      <td>2020</td>\n",
       "      <td>June</td>\n",
       "      <td>Monthly</td>\n",
       "      <td>Number of Live Births</td>\n",
       "      <td>1449</td>\n",
       "    </tr>\n",
       "    <tr>\n",
       "      <th>1977</th>\n",
       "      <td>WISCONSIN</td>\n",
       "      <td>2020</td>\n",
       "      <td>June</td>\n",
       "      <td>Monthly</td>\n",
       "      <td>Number of Live Births</td>\n",
       "      <td>5249</td>\n",
       "    </tr>\n",
       "    <tr>\n",
       "      <th>1978</th>\n",
       "      <td>WYOMING</td>\n",
       "      <td>2020</td>\n",
       "      <td>June</td>\n",
       "      <td>Monthly</td>\n",
       "      <td>Number of Live Births</td>\n",
       "      <td>526</td>\n",
       "    </tr>\n",
       "    <tr>\n",
       "      <th>1979</th>\n",
       "      <td>PUERTO RICO</td>\n",
       "      <td>2020</td>\n",
       "      <td>June</td>\n",
       "      <td>Monthly</td>\n",
       "      <td>Number of Live Births</td>\n",
       "      <td>1327</td>\n",
       "    </tr>\n",
       "  </tbody>\n",
       "</table>\n",
       "<p>1980 rows × 6 columns</p>\n",
       "</div>"
      ],
      "text/plain": [
       "              State  Year     Month   Period              Indicator  \\\n",
       "0     UNITED STATES  2019   January  Monthly  Number of Live Births   \n",
       "1     UNITED STATES  2019  February  Monthly  Number of Live Births   \n",
       "2     UNITED STATES  2019     March  Monthly  Number of Live Births   \n",
       "3     UNITED STATES  2019     April  Monthly  Number of Live Births   \n",
       "4     UNITED STATES  2019       May  Monthly  Number of Live Births   \n",
       "...             ...   ...       ...      ...                    ...   \n",
       "1975     WASHINGTON  2020      June  Monthly  Number of Live Births   \n",
       "1976  WEST VIRGINIA  2020      June  Monthly  Number of Live Births   \n",
       "1977      WISCONSIN  2020      June  Monthly  Number of Live Births   \n",
       "1978        WYOMING  2020      June  Monthly  Number of Live Births   \n",
       "1979    PUERTO RICO  2020      June  Monthly  Number of Live Births   \n",
       "\n",
       "      Data Value  \n",
       "0         311000  \n",
       "1         280000  \n",
       "2         304000  \n",
       "3         299000  \n",
       "4         316000  \n",
       "...          ...  \n",
       "1975        7117  \n",
       "1976        1449  \n",
       "1977        5249  \n",
       "1978         526  \n",
       "1979        1327  \n",
       "\n",
       "[1980 rows x 6 columns]"
      ]
     },
     "execution_count": 10,
     "metadata": {},
     "output_type": "execute_result"
    }
   ],
   "source": [
    "provis_data"
   ]
  },
  {
   "cell_type": "code",
   "execution_count": 28,
   "metadata": {},
   "outputs": [
    {
     "name": "stdout",
     "output_type": "stream",
     "text": [
      "<class 'pandas.core.frame.DataFrame'>\n",
      "RangeIndex: 1980 entries, 0 to 1979\n",
      "Data columns (total 6 columns):\n",
      " #   Column      Non-Null Count  Dtype \n",
      "---  ------      --------------  ----- \n",
      " 0   State       1980 non-null   object\n",
      " 1   Year        1980 non-null   int64 \n",
      " 2   Month       1980 non-null   object\n",
      " 3   Period      1980 non-null   object\n",
      " 4   Indicator   1980 non-null   object\n",
      " 5   Data Value  1980 non-null   int64 \n",
      "dtypes: int64(2), object(4)\n",
      "memory usage: 92.9+ KB\n"
     ]
    }
   ],
   "source": [
    "provis_data.info()"
   ]
  },
  {
   "cell_type": "code",
   "execution_count": 27,
   "metadata": {},
   "outputs": [
    {
     "data": {
      "text/html": [
       "<div>\n",
       "<style scoped>\n",
       "    .dataframe tbody tr th:only-of-type {\n",
       "        vertical-align: middle;\n",
       "    }\n",
       "\n",
       "    .dataframe tbody tr th {\n",
       "        vertical-align: top;\n",
       "    }\n",
       "\n",
       "    .dataframe thead th {\n",
       "        text-align: right;\n",
       "    }\n",
       "</style>\n",
       "<table border=\"1\" class=\"dataframe\">\n",
       "  <thead>\n",
       "    <tr style=\"text-align: right;\">\n",
       "      <th></th>\n",
       "      <th>Year</th>\n",
       "      <th>Data Value</th>\n",
       "    </tr>\n",
       "  </thead>\n",
       "  <tbody>\n",
       "    <tr>\n",
       "      <th>count</th>\n",
       "      <td>1980.000000</td>\n",
       "      <td>1.980000e+03</td>\n",
       "    </tr>\n",
       "    <tr>\n",
       "      <th>mean</th>\n",
       "      <td>2019.333333</td>\n",
       "      <td>7.049803e+04</td>\n",
       "    </tr>\n",
       "    <tr>\n",
       "      <th>std</th>\n",
       "      <td>0.471524</td>\n",
       "      <td>4.463652e+05</td>\n",
       "    </tr>\n",
       "    <tr>\n",
       "      <th>min</th>\n",
       "      <td>2019.000000</td>\n",
       "      <td>3.370000e+02</td>\n",
       "    </tr>\n",
       "    <tr>\n",
       "      <th>25%</th>\n",
       "      <td>2019.000000</td>\n",
       "      <td>1.554750e+03</td>\n",
       "    </tr>\n",
       "    <tr>\n",
       "      <th>50%</th>\n",
       "      <td>2019.000000</td>\n",
       "      <td>4.042000e+03</td>\n",
       "    </tr>\n",
       "    <tr>\n",
       "      <th>75%</th>\n",
       "      <td>2020.000000</td>\n",
       "      <td>7.114750e+03</td>\n",
       "    </tr>\n",
       "    <tr>\n",
       "      <th>max</th>\n",
       "      <td>2020.000000</td>\n",
       "      <td>3.786000e+06</td>\n",
       "    </tr>\n",
       "  </tbody>\n",
       "</table>\n",
       "</div>"
      ],
      "text/plain": [
       "              Year    Data Value\n",
       "count  1980.000000  1.980000e+03\n",
       "mean   2019.333333  7.049803e+04\n",
       "std       0.471524  4.463652e+05\n",
       "min    2019.000000  3.370000e+02\n",
       "25%    2019.000000  1.554750e+03\n",
       "50%    2019.000000  4.042000e+03\n",
       "75%    2020.000000  7.114750e+03\n",
       "max    2020.000000  3.786000e+06"
      ]
     },
     "execution_count": 27,
     "metadata": {},
     "output_type": "execute_result"
    }
   ],
   "source": [
    "provis_data.describe()"
   ]
  },
  {
   "cell_type": "code",
   "execution_count": null,
   "metadata": {},
   "outputs": [],
   "source": []
  },
  {
   "cell_type": "code",
   "execution_count": 11,
   "metadata": {},
   "outputs": [
    {
     "data": {
      "text/plain": [
       "0       UNITED STATES\n",
       "1       UNITED STATES\n",
       "2       UNITED STATES\n",
       "3       UNITED STATES\n",
       "4       UNITED STATES\n",
       "            ...      \n",
       "1975       WASHINGTON\n",
       "1976    WEST VIRGINIA\n",
       "1977        WISCONSIN\n",
       "1978          WYOMING\n",
       "1979      PUERTO RICO\n",
       "Name: State, Length: 1980, dtype: object"
      ]
     },
     "execution_count": 11,
     "metadata": {},
     "output_type": "execute_result"
    }
   ],
   "source": [
    "provis_data[\"State\"]"
   ]
  },
  {
   "cell_type": "code",
   "execution_count": 12,
   "metadata": {},
   "outputs": [],
   "source": [
    "from datetime import datetime"
   ]
  },
  {
   "cell_type": "markdown",
   "metadata": {},
   "source": [
    "* [strptime format codes](https://docs.python.org/3/library/datetime.html#strftime-and-strptime-format-codes)"
   ]
  },
  {
   "cell_type": "code",
   "execution_count": 29,
   "metadata": {},
   "outputs": [],
   "source": [
    "provis_data['Date'] = provis_data[ 'Year' ].astype( str ) + \" \" + provis_data[ 'Month' ]"
   ]
  },
  {
   "cell_type": "code",
   "execution_count": 30,
   "metadata": {},
   "outputs": [
    {
     "data": {
      "text/plain": [
       "0        2019 January\n",
       "1       2019 February\n",
       "2          2019 March\n",
       "3          2019 April\n",
       "4            2019 May\n",
       "            ...      \n",
       "1975        2020 June\n",
       "1976        2020 June\n",
       "1977        2020 June\n",
       "1978        2020 June\n",
       "1979        2020 June\n",
       "Name: Date, Length: 1980, dtype: object"
      ]
     },
     "execution_count": 30,
     "metadata": {},
     "output_type": "execute_result"
    }
   ],
   "source": [
    "provis_data['Date']"
   ]
  },
  {
   "cell_type": "code",
   "execution_count": 32,
   "metadata": {},
   "outputs": [],
   "source": [
    "provis_data['Date'] = pd.to_datetime( provis_data['Date'], format=\"%Y %B\" )"
   ]
  },
  {
   "cell_type": "code",
   "execution_count": 35,
   "metadata": {},
   "outputs": [
    {
     "name": "stdout",
     "output_type": "stream",
     "text": [
      "<class 'pandas.core.frame.DataFrame'>\n",
      "RangeIndex: 1980 entries, 0 to 1979\n",
      "Data columns (total 7 columns):\n",
      " #   Column      Non-Null Count  Dtype         \n",
      "---  ------      --------------  -----         \n",
      " 0   State       1980 non-null   object        \n",
      " 1   Year        1980 non-null   int64         \n",
      " 2   Month       1980 non-null   object        \n",
      " 3   Period      1980 non-null   object        \n",
      " 4   Indicator   1980 non-null   object        \n",
      " 5   Data Value  1980 non-null   int64         \n",
      " 6   Date        1980 non-null   datetime64[ns]\n",
      "dtypes: datetime64[ns](1), int64(2), object(4)\n",
      "memory usage: 108.4+ KB\n"
     ]
    }
   ],
   "source": [
    "provis_data.info()"
   ]
  },
  {
   "cell_type": "markdown",
   "metadata": {},
   "source": [
    "# Using dt Accessor "
   ]
  },
  {
   "cell_type": "code",
   "execution_count": 51,
   "metadata": {},
   "outputs": [
    {
     "data": {
      "text/plain": [
       "<pandas.core.indexes.accessors.DatetimeProperties object at 0x10db963a0>"
      ]
     },
     "execution_count": 51,
     "metadata": {},
     "output_type": "execute_result"
    }
   ],
   "source": [
    "provis_data['Date'].dt"
   ]
  },
  {
   "cell_type": "code",
   "execution_count": 38,
   "metadata": {},
   "outputs": [],
   "source": [
    "maryland_data = provis_data[ provis_data[ 'State' ] == 'MARYLAND' ]"
   ]
  },
  {
   "cell_type": "code",
   "execution_count": 39,
   "metadata": {},
   "outputs": [],
   "source": [
    "maryland_deaths = maryland_data[ maryland_data[ 'Indicator' ] == 'Number of Deaths' ]"
   ]
  },
  {
   "cell_type": "code",
   "execution_count": 40,
   "metadata": {},
   "outputs": [
    {
     "data": {
      "text/html": [
       "<div>\n",
       "<style scoped>\n",
       "    .dataframe tbody tr th:only-of-type {\n",
       "        vertical-align: middle;\n",
       "    }\n",
       "\n",
       "    .dataframe tbody tr th {\n",
       "        vertical-align: top;\n",
       "    }\n",
       "\n",
       "    .dataframe thead th {\n",
       "        text-align: right;\n",
       "    }\n",
       "</style>\n",
       "<table border=\"1\" class=\"dataframe\">\n",
       "  <thead>\n",
       "    <tr style=\"text-align: right;\">\n",
       "      <th></th>\n",
       "      <th>State</th>\n",
       "      <th>Year</th>\n",
       "      <th>Month</th>\n",
       "      <th>Period</th>\n",
       "      <th>Indicator</th>\n",
       "      <th>Data Value</th>\n",
       "      <th>Date</th>\n",
       "    </tr>\n",
       "  </thead>\n",
       "  <tbody>\n",
       "    <tr>\n",
       "      <th>128</th>\n",
       "      <td>MARYLAND</td>\n",
       "      <td>2019</td>\n",
       "      <td>January</td>\n",
       "      <td>Monthly</td>\n",
       "      <td>Number of Deaths</td>\n",
       "      <td>4573</td>\n",
       "      <td>2019-01-01</td>\n",
       "    </tr>\n",
       "    <tr>\n",
       "      <th>180</th>\n",
       "      <td>MARYLAND</td>\n",
       "      <td>2019</td>\n",
       "      <td>February</td>\n",
       "      <td>Monthly</td>\n",
       "      <td>Number of Deaths</td>\n",
       "      <td>4068</td>\n",
       "      <td>2019-02-01</td>\n",
       "    </tr>\n",
       "    <tr>\n",
       "      <th>232</th>\n",
       "      <td>MARYLAND</td>\n",
       "      <td>2019</td>\n",
       "      <td>March</td>\n",
       "      <td>Monthly</td>\n",
       "      <td>Number of Deaths</td>\n",
       "      <td>4636</td>\n",
       "      <td>2019-03-01</td>\n",
       "    </tr>\n",
       "    <tr>\n",
       "      <th>284</th>\n",
       "      <td>MARYLAND</td>\n",
       "      <td>2019</td>\n",
       "      <td>April</td>\n",
       "      <td>Monthly</td>\n",
       "      <td>Number of Deaths</td>\n",
       "      <td>4241</td>\n",
       "      <td>2019-04-01</td>\n",
       "    </tr>\n",
       "    <tr>\n",
       "      <th>336</th>\n",
       "      <td>MARYLAND</td>\n",
       "      <td>2019</td>\n",
       "      <td>May</td>\n",
       "      <td>Monthly</td>\n",
       "      <td>Number of Deaths</td>\n",
       "      <td>4138</td>\n",
       "      <td>2019-05-01</td>\n",
       "    </tr>\n",
       "    <tr>\n",
       "      <th>388</th>\n",
       "      <td>MARYLAND</td>\n",
       "      <td>2019</td>\n",
       "      <td>June</td>\n",
       "      <td>Monthly</td>\n",
       "      <td>Number of Deaths</td>\n",
       "      <td>3992</td>\n",
       "      <td>2019-06-01</td>\n",
       "    </tr>\n",
       "    <tr>\n",
       "      <th>440</th>\n",
       "      <td>MARYLAND</td>\n",
       "      <td>2019</td>\n",
       "      <td>July</td>\n",
       "      <td>Monthly</td>\n",
       "      <td>Number of Deaths</td>\n",
       "      <td>4047</td>\n",
       "      <td>2019-07-01</td>\n",
       "    </tr>\n",
       "    <tr>\n",
       "      <th>492</th>\n",
       "      <td>MARYLAND</td>\n",
       "      <td>2019</td>\n",
       "      <td>August</td>\n",
       "      <td>Monthly</td>\n",
       "      <td>Number of Deaths</td>\n",
       "      <td>4040</td>\n",
       "      <td>2019-08-01</td>\n",
       "    </tr>\n",
       "    <tr>\n",
       "      <th>544</th>\n",
       "      <td>MARYLAND</td>\n",
       "      <td>2019</td>\n",
       "      <td>September</td>\n",
       "      <td>Monthly</td>\n",
       "      <td>Number of Deaths</td>\n",
       "      <td>3878</td>\n",
       "      <td>2019-09-01</td>\n",
       "    </tr>\n",
       "    <tr>\n",
       "      <th>596</th>\n",
       "      <td>MARYLAND</td>\n",
       "      <td>2019</td>\n",
       "      <td>October</td>\n",
       "      <td>Monthly</td>\n",
       "      <td>Number of Deaths</td>\n",
       "      <td>4274</td>\n",
       "      <td>2019-10-01</td>\n",
       "    </tr>\n",
       "    <tr>\n",
       "      <th>648</th>\n",
       "      <td>MARYLAND</td>\n",
       "      <td>2019</td>\n",
       "      <td>November</td>\n",
       "      <td>Monthly</td>\n",
       "      <td>Number of Deaths</td>\n",
       "      <td>4366</td>\n",
       "      <td>2019-11-01</td>\n",
       "    </tr>\n",
       "    <tr>\n",
       "      <th>700</th>\n",
       "      <td>MARYLAND</td>\n",
       "      <td>2019</td>\n",
       "      <td>December</td>\n",
       "      <td>Monthly</td>\n",
       "      <td>Number of Deaths</td>\n",
       "      <td>4474</td>\n",
       "      <td>2019-12-01</td>\n",
       "    </tr>\n",
       "    <tr>\n",
       "      <th>752</th>\n",
       "      <td>MARYLAND</td>\n",
       "      <td>2020</td>\n",
       "      <td>January</td>\n",
       "      <td>Monthly</td>\n",
       "      <td>Number of Deaths</td>\n",
       "      <td>4531</td>\n",
       "      <td>2020-01-01</td>\n",
       "    </tr>\n",
       "    <tr>\n",
       "      <th>804</th>\n",
       "      <td>MARYLAND</td>\n",
       "      <td>2020</td>\n",
       "      <td>February</td>\n",
       "      <td>Monthly</td>\n",
       "      <td>Number of Deaths</td>\n",
       "      <td>4238</td>\n",
       "      <td>2020-02-01</td>\n",
       "    </tr>\n",
       "    <tr>\n",
       "      <th>856</th>\n",
       "      <td>MARYLAND</td>\n",
       "      <td>2020</td>\n",
       "      <td>March</td>\n",
       "      <td>Monthly</td>\n",
       "      <td>Number of Deaths</td>\n",
       "      <td>4725</td>\n",
       "      <td>2020-03-01</td>\n",
       "    </tr>\n",
       "    <tr>\n",
       "      <th>908</th>\n",
       "      <td>MARYLAND</td>\n",
       "      <td>2020</td>\n",
       "      <td>April</td>\n",
       "      <td>Monthly</td>\n",
       "      <td>Number of Deaths</td>\n",
       "      <td>6073</td>\n",
       "      <td>2020-04-01</td>\n",
       "    </tr>\n",
       "    <tr>\n",
       "      <th>960</th>\n",
       "      <td>MARYLAND</td>\n",
       "      <td>2020</td>\n",
       "      <td>May</td>\n",
       "      <td>Monthly</td>\n",
       "      <td>Number of Deaths</td>\n",
       "      <td>6102</td>\n",
       "      <td>2020-05-01</td>\n",
       "    </tr>\n",
       "    <tr>\n",
       "      <th>1012</th>\n",
       "      <td>MARYLAND</td>\n",
       "      <td>2020</td>\n",
       "      <td>June</td>\n",
       "      <td>Monthly</td>\n",
       "      <td>Number of Deaths</td>\n",
       "      <td>4709</td>\n",
       "      <td>2020-06-01</td>\n",
       "    </tr>\n",
       "  </tbody>\n",
       "</table>\n",
       "</div>"
      ],
      "text/plain": [
       "         State  Year      Month   Period         Indicator  Data Value  \\\n",
       "128   MARYLAND  2019    January  Monthly  Number of Deaths        4573   \n",
       "180   MARYLAND  2019   February  Monthly  Number of Deaths        4068   \n",
       "232   MARYLAND  2019      March  Monthly  Number of Deaths        4636   \n",
       "284   MARYLAND  2019      April  Monthly  Number of Deaths        4241   \n",
       "336   MARYLAND  2019        May  Monthly  Number of Deaths        4138   \n",
       "388   MARYLAND  2019       June  Monthly  Number of Deaths        3992   \n",
       "440   MARYLAND  2019       July  Monthly  Number of Deaths        4047   \n",
       "492   MARYLAND  2019     August  Monthly  Number of Deaths        4040   \n",
       "544   MARYLAND  2019  September  Monthly  Number of Deaths        3878   \n",
       "596   MARYLAND  2019    October  Monthly  Number of Deaths        4274   \n",
       "648   MARYLAND  2019   November  Monthly  Number of Deaths        4366   \n",
       "700   MARYLAND  2019   December  Monthly  Number of Deaths        4474   \n",
       "752   MARYLAND  2020    January  Monthly  Number of Deaths        4531   \n",
       "804   MARYLAND  2020   February  Monthly  Number of Deaths        4238   \n",
       "856   MARYLAND  2020      March  Monthly  Number of Deaths        4725   \n",
       "908   MARYLAND  2020      April  Monthly  Number of Deaths        6073   \n",
       "960   MARYLAND  2020        May  Monthly  Number of Deaths        6102   \n",
       "1012  MARYLAND  2020       June  Monthly  Number of Deaths        4709   \n",
       "\n",
       "           Date  \n",
       "128  2019-01-01  \n",
       "180  2019-02-01  \n",
       "232  2019-03-01  \n",
       "284  2019-04-01  \n",
       "336  2019-05-01  \n",
       "388  2019-06-01  \n",
       "440  2019-07-01  \n",
       "492  2019-08-01  \n",
       "544  2019-09-01  \n",
       "596  2019-10-01  \n",
       "648  2019-11-01  \n",
       "700  2019-12-01  \n",
       "752  2020-01-01  \n",
       "804  2020-02-01  \n",
       "856  2020-03-01  \n",
       "908  2020-04-01  \n",
       "960  2020-05-01  \n",
       "1012 2020-06-01  "
      ]
     },
     "execution_count": 40,
     "metadata": {},
     "output_type": "execute_result"
    }
   ],
   "source": [
    "maryland_deaths"
   ]
  },
  {
   "cell_type": "code",
   "execution_count": 41,
   "metadata": {},
   "outputs": [
    {
     "data": {
      "text/plain": [
       "<AxesSubplot:xlabel='Date'>"
      ]
     },
     "execution_count": 41,
     "metadata": {},
     "output_type": "execute_result"
    },
    {
     "data": {
      "image/png": "[encoded data removed]",
      "text/plain": [
       "<Figure size 432x288 with 1 Axes>"
      ]
     },
     "metadata": {
      "needs_background": "light"
     },
     "output_type": "display_data"
    }
   ],
   "source": [
    "maryland_deaths.plot( x='Date', y=\"Data Value\" )"
   ]
  },
  {
   "cell_type": "code",
   "execution_count": 54,
   "metadata": {},
   "outputs": [],
   "source": [
    "import seaborn as sns"
   ]
  },
  {
   "cell_type": "code",
   "execution_count": 55,
   "metadata": {},
   "outputs": [
    {
     "data": {
      "text/plain": [
       "<AxesSubplot:xlabel='Month', ylabel='Data Value'>"
      ]
     },
     "execution_count": 55,
     "metadata": {},
     "output_type": "execute_result"
    },
    {
     "data": {
      "image/png": "[encoded data removed]",
      "text/plain": [
       "<Figure size 432x288 with 1 Axes>"
      ]
     },
     "metadata": {
      "needs_background": "light"
     },
     "output_type": "display_data"
    }
   ],
   "source": [
    "sns.lineplot( x='Month', y='Data Value', hue='Year', data=maryland_deaths)"
   ]
  },
  {
   "cell_type": "code",
   "execution_count": 50,
   "metadata": {},
   "outputs": [
    {
     "data": {
      "text/plain": [
       "<AxesSubplot:xlabel='Date'>"
      ]
     },
     "execution_count": 50,
     "metadata": {},
     "output_type": "execute_result"
    },
    {
     "data": {
      "image/png": "[encoded data removed]",
      "text/plain": [
       "<Figure size 1050x600 with 1 Axes>"
      ]
     },
     "metadata": {
      "needs_background": "light"
     },
     "output_type": "display_data"
    }
   ],
   "source": [
    "fig, ax = plt.subplots( figsize=(7,4), dpi=150 )\n",
    "maryland_deaths_2019.plot( x='Date', y=\"Data Value\", ax=ax)\n",
    "maryland_deaths_2020.plot( x='Date', y=\"Data Value\", ax=ax)"
   ]
  },
  {
   "cell_type": "code",
   "execution_count": 7,
   "metadata": {},
   "outputs": [
    {
     "data": {
      "text/plain": [
       "ALABAMA                  36\n",
       "ALASKA                   36\n",
       "ARIZONA                  36\n",
       "ARKANSAS                 36\n",
       "CALIFORNIA               36\n",
       "COLORADO                 36\n",
       "CONNECTICUT              36\n",
       "DELAWARE                 36\n",
       "DISTRICT OF COLUMBIA     36\n",
       "FLORIDA                  36\n",
       "GEORGIA                  36\n",
       "HAWAII                   36\n",
       "IDAHO                    36\n",
       "ILLINOIS                 36\n",
       "INDIANA                  36\n",
       "IOWA                     36\n",
       "KANSAS                   36\n",
       "KENTUCKY                 36\n",
       "LOUISIANA                36\n",
       "MAINE                    36\n",
       "MARYLAND                 36\n",
       "MASSACHUSETTS            36\n",
       "MICHIGAN                 36\n",
       "MINNESOTA                36\n",
       "MISSISSIPPI              36\n",
       "MISSOURI                 36\n",
       "MONTANA                  36\n",
       "NEBRASKA                 36\n",
       "NEVADA                   36\n",
       "NEW HAMPSHIRE            36\n",
       "NEW JERSEY               36\n",
       "NEW MEXICO               36\n",
       "NEW YORK                 36\n",
       "NORTH CAROLINA           36\n",
       "NORTH DAKOTA             36\n",
       "OHIO                     36\n",
       "OKLAHOMA                 36\n",
       "OREGON                   36\n",
       "PENNSYLVANIA             36\n",
       "PUERTO RICO              36\n",
       "RHODE ISLAND             36\n",
       "SOUTH CAROLINA           36\n",
       "SOUTH DAKOTA             36\n",
       "TENNESSEE                36\n",
       "TEXAS                    36\n",
       "UNITED STATES           108\n",
       "UTAH                     36\n",
       "VERMONT                  36\n",
       "VIRGINIA                 36\n",
       "WASHINGTON               36\n",
       "WEST VIRGINIA            36\n",
       "WISCONSIN                36\n",
       "WYOMING                  36\n",
       "Name: State, dtype: int64"
      ]
     },
     "execution_count": 7,
     "metadata": {},
     "output_type": "execute_result"
    }
   ],
   "source": [
    "provis_data['State'].value_counts().sort_index()"
   ]
  },
  {
   "cell_type": "code",
   "execution_count": 5,
   "metadata": {},
   "outputs": [
    {
     "data": {
      "text/plain": [
       "Monthly            1926\n",
       "12 Month-ending      54\n",
       "Name: Period, dtype: int64"
      ]
     },
     "execution_count": 5,
     "metadata": {},
     "output_type": "execute_result"
    }
   ],
   "source": [
    "provis_data['Period'].value_counts()"
   ]
  },
  {
   "cell_type": "code",
   "execution_count": 6,
   "metadata": {},
   "outputs": [
    {
     "data": {
      "text/plain": [
       "Number of Live Births      972\n",
       "Number of Deaths           972\n",
       "Number of Infant Deaths     36\n",
       "Name: Indicator, dtype: int64"
      ]
     },
     "execution_count": 6,
     "metadata": {},
     "output_type": "execute_result"
    }
   ],
   "source": [
    "provis_data['Indicator'].value_counts()"
   ]
  },
  {
   "cell_type": "code",
   "execution_count": null,
   "metadata": {},
   "outputs": [],
   "source": [
    "len( provis_data['State'].unique() )"
   ]
  }
 ],
 "metadata": {
  "kernelspec": {
   "display_name": "Python 3",
   "language": "python",
   "name": "python3"
  },
  "language_info": {
   "codemirror_mode": {
    "name": "ipython",
    "version": 3
   },
   "file_extension": ".py",
   "mimetype": "text/x-python",
   "name": "python",
   "nbconvert_exporter": "python",
   "pygments_lexer": "ipython3",
   "version": "3.9.1"
  }
 },
 "nbformat": 4,
 "nbformat_minor": 4
}
