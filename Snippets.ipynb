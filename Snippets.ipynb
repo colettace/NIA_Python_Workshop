{
 "cells": [
  {
   "cell_type": "markdown",
   "metadata": {},
   "source": [
    "# Bringing it all together\n",
    "\n",
    "In Python the default functionality of the ```print()``` function is to automatically append a newline ```\\n``` to anything printed."
   ]
  },
  {
   "cell_type": "code",
   "execution_count": 63,
   "metadata": {},
   "outputs": [
    {
     "name": "stdout",
     "output_type": "stream",
     "text": [
      "A\n",
      "B\n",
      "C\n",
      "D\n",
      "E\n",
      "F\n",
      "G\n",
      "H\n",
      "I\n",
      "J\n",
      "K\n",
      "L\n",
      "M\n",
      "N\n",
      "O\n",
      "P\n",
      "Q\n",
      "R\n",
      "S\n",
      "T\n",
      "U\n",
      "V\n",
      "W\n",
      "X\n",
      "Y\n",
      "Z\n"
     ]
    }
   ],
   "source": [
    "for letter in alphabet_str:\n",
    "    print( letter )"
   ]
  },
  {
   "cell_type": "markdown",
   "metadata": {},
   "source": [
    " You can change this behavior by passing an ```end``` argument to the function. For example, to print out a string named ```message``` you would use ```print( message, end=\"\" )```"
   ]
  },
  {
   "cell_type": "code",
   "execution_count": 64,
   "metadata": {},
   "outputs": [
    {
     "name": "stdout",
     "output_type": "stream",
     "text": [
      "ABCDEFGHIJKLMNOPQRSTUVWXYZ"
     ]
    }
   ],
   "source": [
    "for letter in alphabet_str:\n",
    "    print( letter, end=\"\" )"
   ]
  },
  {
   "cell_type": "markdown",
   "metadata": {},
   "source": [
    "In Jupyter, you can check the realtime documentation for the ```print()``` function using the ```?``` question mark"
   ]
  },
  {
   "cell_type": "code",
   "execution_count": 66,
   "metadata": {},
   "outputs": [
    {
     "data": {
      "text/plain": [
       "\u001b[0;31mDocstring:\u001b[0m\n",
       "print(value, ..., sep=' ', end='\\n', file=sys.stdout, flush=False)\n",
       "\n",
       "Prints the values to a stream, or to sys.stdout by default.\n",
       "Optional keyword arguments:\n",
       "file:  a file-like object (stream); defaults to the current sys.stdout.\n",
       "sep:   string inserted between values, default a space.\n",
       "end:   string appended after the last value, default a newline.\n",
       "flush: whether to forcibly flush the stream.\n",
       "\u001b[0;31mType:\u001b[0m      builtin_function_or_method\n"
      ]
     },
     "metadata": {},
     "output_type": "display_data"
    }
   ],
   "source": [
    "print?"
   ]
  },
  {
   "cell_type": "markdown",
   "metadata": {},
   "source": [
    "## Difficulty: easy - No string slicing necessary"
   ]
  },
  {
   "cell_type": "code",
   "execution_count": 41,
   "metadata": {},
   "outputs": [
    {
     "name": "stdout",
     "output_type": "stream",
     "text": [
      "ABC\n",
      "DEF\n",
      "GHI\n",
      "JKL\n",
      "MNO\n",
      "PQR\n",
      "STU\n",
      "VWX\n",
      "YZ"
     ]
    }
   ],
   "source": [
    "# Initialize a position variable that keeps track of\n",
    "# which column you're on:\n",
    "column = 1\n",
    "\n",
    "# For each letter in the alphabet string:\n",
    "for letter in alphabet_str:\n",
    "    if column < 3:\n",
    "        # If we are here, we are in the first or second column.\n",
    "\n",
    "        # Print out the letter WITHOUT a newline\n",
    "        your code here\n",
    "        \n",
    "        # Increment the column position variable\n",
    "        your code here\n",
    "    else:\n",
    "        # If we are here, we are in the last column.\n",
    "        \n",
    "        # Print out the letter normally\n",
    "        your code here\n",
    "        \n",
    "        # Reset the column position variable back to the first column\n",
    "        your code here"
   ]
  }
 ],
 "metadata": {
  "kernelspec": {
   "display_name": "Python 3",
   "language": "python",
   "name": "python3"
  },
  "language_info": {
   "codemirror_mode": {
    "name": "ipython",
    "version": 3
   },
   "file_extension": ".py",
   "mimetype": "text/x-python",
   "name": "python",
   "nbconvert_exporter": "python",
   "pygments_lexer": "ipython3",
   "version": "3.9.1"
  }
 },
 "nbformat": 4,
 "nbformat_minor": 4
}
